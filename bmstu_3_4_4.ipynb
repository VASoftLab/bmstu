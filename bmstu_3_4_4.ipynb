{
 "cells": [
  {
   "cell_type": "markdown",
   "id": "0c5379ec",
   "metadata": {},
   "source": [
    "### Использование библиоткеи NumPy - Часть IV\n",
    "https://www.youtube.com/watch?v=WDe8puOOz4w"
   ]
  },
  {
   "cell_type": "code",
   "execution_count": 1,
   "id": "4066cfd0",
   "metadata": {},
   "outputs": [],
   "source": [
    "import numpy as np"
   ]
  },
  {
   "cell_type": "code",
   "execution_count": 2,
   "id": "1a55280c",
   "metadata": {},
   "outputs": [
    {
     "data": {
      "text/plain": [
       "array([[0., 0.],\n",
       "       [0., 0.],\n",
       "       [0., 0.]])"
      ]
     },
     "execution_count": 2,
     "metadata": {},
     "output_type": "execute_result"
    }
   ],
   "source": [
    "a = np.zeros(shape=(3,2))\n",
    "a"
   ]
  },
  {
   "cell_type": "code",
   "execution_count": 3,
   "id": "9db6ef9a",
   "metadata": {},
   "outputs": [
    {
     "data": {
      "text/plain": [
       "array([[0., 0.],\n",
       "       [0., 0.],\n",
       "       [0., 0.]])"
      ]
     },
     "execution_count": 3,
     "metadata": {},
     "output_type": "execute_result"
    }
   ],
   "source": [
    "b = np.zeros_like(a) # Полная копия объекта и данных\n",
    "a[0][1]=-0.1\n",
    "b"
   ]
  },
  {
   "cell_type": "code",
   "execution_count": 4,
   "id": "5c2c9b92",
   "metadata": {},
   "outputs": [
    {
     "data": {
      "text/plain": [
       "array([[1., 1.],\n",
       "       [1., 1.],\n",
       "       [1., 1.]])"
      ]
     },
     "execution_count": 4,
     "metadata": {},
     "output_type": "execute_result"
    }
   ],
   "source": [
    "e = np.ones(shape=(3,2))\n",
    "e"
   ]
  },
  {
   "cell_type": "code",
   "execution_count": 5,
   "id": "5c03d70a",
   "metadata": {},
   "outputs": [
    {
     "data": {
      "text/plain": [
       "array([[1., 0., 0.],\n",
       "       [0., 1., 0.],\n",
       "       [0., 0., 1.]])"
      ]
     },
     "execution_count": 5,
     "metadata": {},
     "output_type": "execute_result"
    }
   ],
   "source": [
    "e = np.eye(3)\n",
    "e"
   ]
  },
  {
   "cell_type": "code",
   "execution_count": 7,
   "id": "1a11de27",
   "metadata": {},
   "outputs": [
    {
     "data": {
      "text/plain": [
       "array([1, 2, 3, 4, 5, 6, 7, 8, 9])"
      ]
     },
     "execution_count": 7,
     "metadata": {},
     "output_type": "execute_result"
    }
   ],
   "source": [
    "ar_1 = np.arange(1, 10)\n",
    "ar_1"
   ]
  },
  {
   "cell_type": "code",
   "execution_count": 8,
   "id": "9edff2de",
   "metadata": {},
   "outputs": [
    {
     "data": {
      "text/plain": [
       "array([1. , 1.5, 2. , 2.5, 3. , 3.5, 4. , 4.5, 5. , 5.5, 6. , 6.5, 7. ,\n",
       "       7.5, 8. , 8.5, 9. , 9.5])"
      ]
     },
     "execution_count": 8,
     "metadata": {},
     "output_type": "execute_result"
    }
   ],
   "source": [
    "ar_2 = np.arange(1, 10, 0.5) # Последняя точка не входи\n",
    "ar_2"
   ]
  },
  {
   "cell_type": "code",
   "execution_count": 9,
   "id": "6d90a938",
   "metadata": {},
   "outputs": [
    {
     "data": {
      "text/plain": [
       "array([0.  , 0.25, 0.5 , 0.75, 1.  ])"
      ]
     },
     "execution_count": 9,
     "metadata": {},
     "output_type": "execute_result"
    }
   ],
   "source": [
    "# Последняя точка входит !!!\n",
    "ar_3 = np.linspace(0, 1, 5, endpoint=True)\n",
    "ar_3"
   ]
  },
  {
   "cell_type": "code",
   "execution_count": 11,
   "id": "b60806f4",
   "metadata": {},
   "outputs": [
    {
     "data": {
      "text/plain": [
       "array([80, 41, 61, 31, 93, 71, 19])"
      ]
     },
     "execution_count": 11,
     "metadata": {},
     "output_type": "execute_result"
    }
   ],
   "source": [
    "# 7 случайных чисел от 0 до 111\n",
    "r = np.random.randint(0, 111, size=(7,))\n",
    "r"
   ]
  },
  {
   "cell_type": "code",
   "execution_count": 12,
   "id": "1c1ae3f9",
   "metadata": {},
   "outputs": [],
   "source": [
    "# Сравнение элементов с заданной точностью\n",
    "a = np.random.random(size=(2,5))\n",
    "b = a + np.random.random(size=(2,5)) * 1e-6"
   ]
  },
  {
   "cell_type": "code",
   "execution_count": 14,
   "id": "76e7babd",
   "metadata": {},
   "outputs": [
    {
     "data": {
      "text/plain": [
       "array([[ True, False,  True,  True,  True],\n",
       "       [ True,  True,  True,  True,  True]])"
      ]
     },
     "execution_count": 14,
     "metadata": {},
     "output_type": "execute_result"
    }
   ],
   "source": [
    "# Поэлементное сравнение\n",
    "# rtol, atol - относительная и абсолютная погрешности\n",
    "np.isclose(a, b, rtol=1e-05, atol=1e-08, equal_nan=False)"
   ]
  },
  {
   "cell_type": "code",
   "execution_count": 15,
   "id": "91d5c148",
   "metadata": {},
   "outputs": [
    {
     "data": {
      "text/plain": [
       "False"
      ]
     },
     "execution_count": 15,
     "metadata": {},
     "output_type": "execute_result"
    }
   ],
   "source": [
    "# Условие должно выполняться для всех элементов\n",
    "np.allclose(a, b, rtol=1e-05, atol=1e-08, equal_nan=False)"
   ]
  },
  {
   "cell_type": "code",
   "execution_count": 16,
   "id": "b065f956",
   "metadata": {},
   "outputs": [
    {
     "data": {
      "text/plain": [
       "array([-0.43950792,  0.61798406])"
      ]
     },
     "execution_count": 16,
     "metadata": {},
     "output_type": "execute_result"
    }
   ],
   "source": [
    "# Найти решение задачи регрессии\n",
    "X = np.array([[3, 4], [2, 7], [1, 5]])\n",
    "y = np.array([1, 4, 2])\n",
    "E = np.eye(2)\n",
    "lam = 0.01\n",
    "w = np.linalg.inv(X.T @ X + lam * E) @ X.T @ y\n",
    "w"
   ]
  },
  {
   "cell_type": "code",
   "execution_count": 17,
   "id": "470fde1c",
   "metadata": {},
   "outputs": [
    {
     "data": {
      "text/plain": [
       "array([[5, 7, 5, 9, 8, 6, 1, 2, 7, 8],\n",
       "       [6, 9, 2, 7, 6, 0, 3, 9, 2, 4],\n",
       "       [9, 1, 8, 3, 5, 2, 1, 0, 5, 6]])"
      ]
     },
     "execution_count": 17,
     "metadata": {},
     "output_type": "execute_result"
    }
   ],
   "source": [
    "np.random.seed(2048)\n",
    "a = np.random.choice(10, size=(3, 10))\n",
    "a"
   ]
  },
  {
   "cell_type": "code",
   "execution_count": 18,
   "id": "68d29716",
   "metadata": {},
   "outputs": [
    {
     "data": {
      "text/plain": [
       "array([0, 0, 1, 1, 1, 2, 2, 2, 2, 3, 3, 4, 5, 5, 5, 5, 6, 6, 6, 6, 7, 7,\n",
       "       7, 8, 8, 8, 9, 9, 9, 9])"
      ]
     },
     "execution_count": 18,
     "metadata": {},
     "output_type": "execute_result"
    }
   ],
   "source": [
    "np.sort(a.ravel()) # ravel - преобразует массив в строку"
   ]
  },
  {
   "cell_type": "code",
   "execution_count": null,
   "id": "065ab14a",
   "metadata": {},
   "outputs": [],
   "source": []
  },
  {
   "cell_type": "code",
   "execution_count": null,
   "id": "a5aca646",
   "metadata": {},
   "outputs": [],
   "source": []
  }
 ],
 "metadata": {
  "kernelspec": {
   "display_name": "Python 3 (ipykernel)",
   "language": "python",
   "name": "python3"
  },
  "language_info": {
   "codemirror_mode": {
    "name": "ipython",
    "version": 3
   },
   "file_extension": ".py",
   "mimetype": "text/x-python",
   "name": "python",
   "nbconvert_exporter": "python",
   "pygments_lexer": "ipython3",
   "version": "3.9.12"
  }
 },
 "nbformat": 4,
 "nbformat_minor": 5
}
