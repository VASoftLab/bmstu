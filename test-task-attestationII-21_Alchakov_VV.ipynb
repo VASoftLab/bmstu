{
 "cells": [
  {
   "cell_type": "markdown",
   "metadata": {},
   "source": [
    "## Тестовое задание для прохождения промежуточной аттестации\n",
    "Разработать и обучить нейронную сеть на TensorFlow для решения задачи классификации рукописных цифр. Набор данных: MNIST, источник: <i>from keras.datasets import mnist</i>\n",
    "<br><br>\n",
    "В нейронной сети должно быть 3 Dense-слоя: два скрытых слоя, состоящих из 128 нейронов каждый, и выходной слой. Активационные функции на скрытых слоях <b>relu</b>, на выходном - <b>softmax</b>.\n",
    "<br><br>\n",
    "В качестве ответа необходимо указать количество оптимизируемых параметров (Trainable params) в виде целого числа\n",
    "и прикрепить к ответу подробное решение с кодом в виде файла или архива с файлами.\n",
    "<br>\n",
    "<br><b>Выполнил:</b> <i>Альчаков В.В. гр. AD11872/3<i>"
   ]
  },
  {
   "cell_type": "code",
   "execution_count": 1,
   "metadata": {},
   "outputs": [],
   "source": [
    "# Импорт необходимых библиотек\n",
    "import tensorflow as tensorflow\n",
    "import numpy as np\n",
    "from tensorflow.keras.models import Sequential \n",
    "from tensorflow.keras.layers import Conv2D, MaxPooling2D, Dense, Flatten\n",
    "from tensorflow.keras.utils import to_categorical"
   ]
  },
  {
   "cell_type": "markdown",
   "metadata": {},
   "source": [
    "### Загрузка, нормализация и корректировка данных"
   ]
  },
  {
   "cell_type": "code",
   "execution_count": 2,
   "metadata": {},
   "outputs": [],
   "source": [
    "# Загрузка тестового датасета\n",
    "(train_images, train_labels), (test_images, test_labels) = tensorflow.keras.datasets.mnist.load_data()"
   ]
  },
  {
   "cell_type": "code",
   "execution_count": 3,
   "metadata": {},
   "outputs": [],
   "source": [
    "# Нормализация данных\n",
    "train_images = (train_images / 255) - 0.5\n",
    "test_images = (test_images / 255) - 0.5"
   ]
  },
  {
   "cell_type": "code",
   "execution_count": 4,
   "metadata": {},
   "outputs": [],
   "source": [
    "# Корректировка размерности\n",
    "train_images = np.expand_dims(train_images, axis = 3)\n",
    "test_images = np.expand_dims(test_images, axis = 3)"
   ]
  },
  {
   "cell_type": "markdown",
   "metadata": {},
   "source": [
    "### Задаем структуру нейронной сети"
   ]
  },
  {
   "cell_type": "code",
   "execution_count": 5,
   "metadata": {},
   "outputs": [],
   "source": [
    "# Определяем структуру нейронной сети\n",
    "# Слои:\n",
    "# 1 - Dense 128 - relu\n",
    "# 2 - Dense 128 - relu\n",
    "# 3 - Dense 10 - softmax - выходной слой 10 классифицируемых признаков от 0 до 9\n",
    "\n",
    "model = tensorflow.keras.Sequential([\n",
    "    tensorflow.keras.layers.Flatten(input_shape = (28, 28)),\n",
    "    tensorflow.keras.layers.Dense(128, activation = 'relu'),\n",
    "    tensorflow.keras.layers.Dense(128, activation = 'relu'),\n",
    "    tensorflow.keras.layers.Dense(10, activation = 'softmax')\n",
    "])"
   ]
  },
  {
   "cell_type": "markdown",
   "metadata": {},
   "source": [
    "### Собираем и обучаем модель"
   ]
  },
  {
   "cell_type": "code",
   "execution_count": 6,
   "metadata": {},
   "outputs": [
    {
     "name": "stdout",
     "output_type": "stream",
     "text": [
      "Epoch 1/7\n",
      "1875/1875 [==============================] - 3s 1ms/step - loss: 0.3107 - accuracy: 0.9048 - val_loss: 0.1557 - val_accuracy: 0.9512\n",
      "Epoch 2/7\n",
      "1875/1875 [==============================] - 2s 1ms/step - loss: 0.1505 - accuracy: 0.9528 - val_loss: 0.1367 - val_accuracy: 0.9579\n",
      "Epoch 3/7\n",
      "1875/1875 [==============================] - 2s 1ms/step - loss: 0.1158 - accuracy: 0.9643 - val_loss: 0.1139 - val_accuracy: 0.9635\n",
      "Epoch 4/7\n",
      "1875/1875 [==============================] - 2s 1ms/step - loss: 0.0983 - accuracy: 0.9691 - val_loss: 0.1123 - val_accuracy: 0.9658\n",
      "Epoch 5/7\n",
      "1875/1875 [==============================] - 3s 1ms/step - loss: 0.0832 - accuracy: 0.9741 - val_loss: 0.1120 - val_accuracy: 0.9655\n",
      "Epoch 6/7\n",
      "1875/1875 [==============================] - 2s 1ms/step - loss: 0.0724 - accuracy: 0.9768 - val_loss: 0.0911 - val_accuracy: 0.9717\n",
      "Epoch 7/7\n",
      "1875/1875 [==============================] - 2s 1ms/step - loss: 0.0639 - accuracy: 0.9794 - val_loss: 0.0958 - val_accuracy: 0.9715\n"
     ]
    }
   ],
   "source": [
    "# Сборка модели\n",
    "model.compile('adam', loss = 'categorical_crossentropy', metrics = ['accuracy'])\n",
    "# Обучение модели на обучающей выборке (7 эпох)\n",
    "model_history = model.fit(train_images, to_categorical(train_labels), epochs = 7, validation_data = (test_images, to_categorical(test_labels)))"
   ]
  },
  {
   "cell_type": "code",
   "execution_count": 7,
   "metadata": {},
   "outputs": [
    {
     "name": "stdout",
     "output_type": "stream",
     "text": [
      "Точность на тестовых данных (accuracy) = 0.9794\n",
      "Точность на проверочной выборке (val_accuracy) = 0.9717\n"
     ]
    }
   ],
   "source": [
    "# Информация о точности полученной модели\n",
    "accuracy = np.max(model_history.history['accuracy'])\n",
    "val_accuracy = np.max(model_history.history['val_accuracy'])\n",
    "print(f'Точность на тестовых данных (accuracy) = {accuracy:.4}')\n",
    "print(f'Точность на проверочной выборке (val_accuracy) = {val_accuracy:.4}')"
   ]
  },
  {
   "cell_type": "markdown",
   "metadata": {},
   "source": [
    "### Информация о полученной модели"
   ]
  },
  {
   "cell_type": "code",
   "execution_count": 8,
   "metadata": {},
   "outputs": [
    {
     "name": "stdout",
     "output_type": "stream",
     "text": [
      "Model: \"sequential\"\n",
      "_________________________________________________________________\n",
      " Layer (type)                Output Shape              Param #   \n",
      "=================================================================\n",
      " flatten (Flatten)           (None, 784)               0         \n",
      "                                                                 \n",
      " dense (Dense)               (None, 128)               100480    \n",
      "                                                                 \n",
      " dense_1 (Dense)             (None, 128)               16512     \n",
      "                                                                 \n",
      " dense_2 (Dense)             (None, 10)                1290      \n",
      "                                                                 \n",
      "=================================================================\n",
      "Total params: 118,282\n",
      "Trainable params: 118,282\n",
      "Non-trainable params: 0\n",
      "_________________________________________________________________\n"
     ]
    }
   ],
   "source": [
    "model.summary()"
   ]
  },
  {
   "cell_type": "code",
   "execution_count": 9,
   "metadata": {},
   "outputs": [
    {
     "name": "stdout",
     "output_type": "stream",
     "text": [
      "Количество оптимизируемых параметров (Trainable params): 118282\n"
     ]
    }
   ],
   "source": [
    "trainable_count = np.sum([tensorflow.keras.backend.count_params(w) for w in model.trainable_weights])\n",
    "print(f'Количество оптимизируемых параметров (Trainable params): {trainable_count}')"
   ]
  },
  {
   "cell_type": "code",
   "execution_count": 10,
   "metadata": {},
   "outputs": [
    {
     "name": "stdout",
     "output_type": "stream",
     "text": [
      "1/1 [==============================] - 0s 51ms/step\n"
     ]
    }
   ],
   "source": [
    "# Предсказание для выборки из трех элементов\n",
    "predictions = model.predict(test_images[:3])"
   ]
  },
  {
   "cell_type": "code",
   "execution_count": 11,
   "metadata": {},
   "outputs": [
    {
     "name": "stdout",
     "output_type": "stream",
     "text": [
      "[7 2 1]\n"
     ]
    }
   ],
   "source": [
    "# Результат работы классификатора - первые три картинки рукописного текста сопоставлены числам 7 2 1\n",
    "print(np.argmax(predictions, axis = 1))"
   ]
  },
  {
   "cell_type": "code",
   "execution_count": 12,
   "metadata": {},
   "outputs": [
    {
     "name": "stdout",
     "output_type": "stream",
     "text": [
      "[7 2 1]\n"
     ]
    }
   ],
   "source": [
    "# Тестовая выборка (истинные значения) - первые три картинки рукописного текста соответвтсуют числам 7 2 1\n",
    "print(test_labels[:3])"
   ]
  },
  {
   "cell_type": "code",
   "execution_count": 13,
   "metadata": {},
   "outputs": [
    {
     "name": "stdout",
     "output_type": "stream",
     "text": [
      "[ True  True  True]\n"
     ]
    }
   ],
   "source": [
    "result = np.argmax(predictions, axis = 1) == test_labels[:3]\n",
    "print(result)\n",
    "# Все три предсказания классификатора полностью совпали с значениями тестовой выборки"
   ]
  }
 ],
 "metadata": {
  "kernelspec": {
   "display_name": "Python 3 (ipykernel)",
   "language": "python",
   "name": "python3"
  },
  "language_info": {
   "codemirror_mode": {
    "name": "ipython",
    "version": 3
   },
   "file_extension": ".py",
   "mimetype": "text/x-python",
   "name": "python",
   "nbconvert_exporter": "python",
   "pygments_lexer": "ipython3",
   "version": "3.9.12"
  }
 },
 "nbformat": 4,
 "nbformat_minor": 4
}
