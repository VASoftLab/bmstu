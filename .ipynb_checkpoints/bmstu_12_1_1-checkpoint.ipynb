{
 "cells": [
  {
   "cell_type": "markdown",
   "id": "538b94ea",
   "metadata": {},
   "source": [
    "### Построение архитектуры нейронной сети для задач бинарной классификации"
   ]
  },
  {
   "cell_type": "code",
   "execution_count": 1,
   "id": "1f168a6b",
   "metadata": {},
   "outputs": [],
   "source": [
    "import pandas as pd\n",
    "import numpy as np\n",
    "import scipy\n",
    "\n",
    "from sklearn.model_selection import train_test_split\n",
    "from sklearn.preprocessing import LabelEncoder\n",
    "from sklearn.metrics import accuracy_score\n",
    "\n",
    "from tensorflow.keras import Sequential\n",
    "from tensorflow.keras.layers import Dense\n",
    "\n",
    "from matplotlib import pyplot\n",
    "%matplotlib inline\n",
    "\n",
    "from sklearn.model_selection import StratifiedKFold"
   ]
  },
  {
   "cell_type": "code",
   "execution_count": 2,
   "id": "d3982c12",
   "metadata": {},
   "outputs": [
    {
     "data": {
      "text/html": [
       "<div>\n",
       "<style scoped>\n",
       "    .dataframe tbody tr th:only-of-type {\n",
       "        vertical-align: middle;\n",
       "    }\n",
       "\n",
       "    .dataframe tbody tr th {\n",
       "        vertical-align: top;\n",
       "    }\n",
       "\n",
       "    .dataframe thead th {\n",
       "        text-align: right;\n",
       "    }\n",
       "</style>\n",
       "<table border=\"1\" class=\"dataframe\">\n",
       "  <thead>\n",
       "    <tr style=\"text-align: right;\">\n",
       "      <th></th>\n",
       "      <th>0</th>\n",
       "      <th>1</th>\n",
       "      <th>2</th>\n",
       "      <th>3</th>\n",
       "      <th>4</th>\n",
       "    </tr>\n",
       "  </thead>\n",
       "  <tbody>\n",
       "    <tr>\n",
       "      <th>0</th>\n",
       "      <td>3.62160</td>\n",
       "      <td>8.6661</td>\n",
       "      <td>-2.8073</td>\n",
       "      <td>-0.44699</td>\n",
       "      <td>0</td>\n",
       "    </tr>\n",
       "    <tr>\n",
       "      <th>1</th>\n",
       "      <td>4.54590</td>\n",
       "      <td>8.1674</td>\n",
       "      <td>-2.4586</td>\n",
       "      <td>-1.46210</td>\n",
       "      <td>0</td>\n",
       "    </tr>\n",
       "    <tr>\n",
       "      <th>2</th>\n",
       "      <td>3.86600</td>\n",
       "      <td>-2.6383</td>\n",
       "      <td>1.9242</td>\n",
       "      <td>0.10645</td>\n",
       "      <td>0</td>\n",
       "    </tr>\n",
       "    <tr>\n",
       "      <th>3</th>\n",
       "      <td>3.45660</td>\n",
       "      <td>9.5228</td>\n",
       "      <td>-4.0112</td>\n",
       "      <td>-3.59440</td>\n",
       "      <td>0</td>\n",
       "    </tr>\n",
       "    <tr>\n",
       "      <th>4</th>\n",
       "      <td>0.32924</td>\n",
       "      <td>-4.4552</td>\n",
       "      <td>4.5718</td>\n",
       "      <td>-0.98880</td>\n",
       "      <td>0</td>\n",
       "    </tr>\n",
       "  </tbody>\n",
       "</table>\n",
       "</div>"
      ],
      "text/plain": [
       "         0       1       2        3  4\n",
       "0  3.62160  8.6661 -2.8073 -0.44699  0\n",
       "1  4.54590  8.1674 -2.4586 -1.46210  0\n",
       "2  3.86600 -2.6383  1.9242  0.10645  0\n",
       "3  3.45660  9.5228 -4.0112 -3.59440  0\n",
       "4  0.32924 -4.4552  4.5718 -0.98880  0"
      ]
     },
     "execution_count": 2,
     "metadata": {},
     "output_type": "execute_result"
    }
   ],
   "source": [
    "# Загрузка данных\n",
    "path = 'https://raw.githubusercontent.com/jbrownlee/datasets/master/banknote_authentication.csv'\n",
    "df = pd.read_csv(path, header = None)\n",
    "df.head()\n",
    "# variance\n",
    "# skewness\n",
    "# curtosis\n",
    "# entropy\n",
    "# class - целевая колонка"
   ]
  },
  {
   "cell_type": "code",
   "execution_count": 3,
   "id": "27eb3c3b",
   "metadata": {},
   "outputs": [
    {
     "data": {
      "text/html": [
       "<div>\n",
       "<style scoped>\n",
       "    .dataframe tbody tr th:only-of-type {\n",
       "        vertical-align: middle;\n",
       "    }\n",
       "\n",
       "    .dataframe tbody tr th {\n",
       "        vertical-align: top;\n",
       "    }\n",
       "\n",
       "    .dataframe thead th {\n",
       "        text-align: right;\n",
       "    }\n",
       "</style>\n",
       "<table border=\"1\" class=\"dataframe\">\n",
       "  <thead>\n",
       "    <tr style=\"text-align: right;\">\n",
       "      <th></th>\n",
       "      <th>0</th>\n",
       "      <th>1</th>\n",
       "      <th>2</th>\n",
       "      <th>3</th>\n",
       "      <th>4</th>\n",
       "    </tr>\n",
       "  </thead>\n",
       "  <tbody>\n",
       "    <tr>\n",
       "      <th>count</th>\n",
       "      <td>1372.000000</td>\n",
       "      <td>1372.000000</td>\n",
       "      <td>1372.000000</td>\n",
       "      <td>1372.000000</td>\n",
       "      <td>1372.000000</td>\n",
       "    </tr>\n",
       "    <tr>\n",
       "      <th>mean</th>\n",
       "      <td>0.433735</td>\n",
       "      <td>1.922353</td>\n",
       "      <td>1.397627</td>\n",
       "      <td>-1.191657</td>\n",
       "      <td>0.444606</td>\n",
       "    </tr>\n",
       "    <tr>\n",
       "      <th>std</th>\n",
       "      <td>2.842763</td>\n",
       "      <td>5.869047</td>\n",
       "      <td>4.310030</td>\n",
       "      <td>2.101013</td>\n",
       "      <td>0.497103</td>\n",
       "    </tr>\n",
       "    <tr>\n",
       "      <th>min</th>\n",
       "      <td>-7.042100</td>\n",
       "      <td>-13.773100</td>\n",
       "      <td>-5.286100</td>\n",
       "      <td>-8.548200</td>\n",
       "      <td>0.000000</td>\n",
       "    </tr>\n",
       "    <tr>\n",
       "      <th>25%</th>\n",
       "      <td>-1.773000</td>\n",
       "      <td>-1.708200</td>\n",
       "      <td>-1.574975</td>\n",
       "      <td>-2.413450</td>\n",
       "      <td>0.000000</td>\n",
       "    </tr>\n",
       "    <tr>\n",
       "      <th>50%</th>\n",
       "      <td>0.496180</td>\n",
       "      <td>2.319650</td>\n",
       "      <td>0.616630</td>\n",
       "      <td>-0.586650</td>\n",
       "      <td>0.000000</td>\n",
       "    </tr>\n",
       "    <tr>\n",
       "      <th>75%</th>\n",
       "      <td>2.821475</td>\n",
       "      <td>6.814625</td>\n",
       "      <td>3.179250</td>\n",
       "      <td>0.394810</td>\n",
       "      <td>1.000000</td>\n",
       "    </tr>\n",
       "    <tr>\n",
       "      <th>max</th>\n",
       "      <td>6.824800</td>\n",
       "      <td>12.951600</td>\n",
       "      <td>17.927400</td>\n",
       "      <td>2.449500</td>\n",
       "      <td>1.000000</td>\n",
       "    </tr>\n",
       "  </tbody>\n",
       "</table>\n",
       "</div>"
      ],
      "text/plain": [
       "                 0            1            2            3            4\n",
       "count  1372.000000  1372.000000  1372.000000  1372.000000  1372.000000\n",
       "mean      0.433735     1.922353     1.397627    -1.191657     0.444606\n",
       "std       2.842763     5.869047     4.310030     2.101013     0.497103\n",
       "min      -7.042100   -13.773100    -5.286100    -8.548200     0.000000\n",
       "25%      -1.773000    -1.708200    -1.574975    -2.413450     0.000000\n",
       "50%       0.496180     2.319650     0.616630    -0.586650     0.000000\n",
       "75%       2.821475     6.814625     3.179250     0.394810     1.000000\n",
       "max       6.824800    12.951600    17.927400     2.449500     1.000000"
      ]
     },
     "execution_count": 3,
     "metadata": {},
     "output_type": "execute_result"
    }
   ],
   "source": [
    "# Описательная статистика\n",
    "df.describe()"
   ]
  },
  {
   "cell_type": "code",
   "execution_count": 4,
   "id": "eed87424",
   "metadata": {},
   "outputs": [
    {
     "data": {
      "text/html": [
       "<div>\n",
       "<style scoped>\n",
       "    .dataframe tbody tr th:only-of-type {\n",
       "        vertical-align: middle;\n",
       "    }\n",
       "\n",
       "    .dataframe tbody tr th {\n",
       "        vertical-align: top;\n",
       "    }\n",
       "\n",
       "    .dataframe thead th {\n",
       "        text-align: right;\n",
       "    }\n",
       "</style>\n",
       "<table border=\"1\" class=\"dataframe\">\n",
       "  <thead>\n",
       "    <tr style=\"text-align: right;\">\n",
       "      <th></th>\n",
       "      <th>0</th>\n",
       "      <th>1</th>\n",
       "      <th>2</th>\n",
       "      <th>3</th>\n",
       "      <th>4</th>\n",
       "    </tr>\n",
       "  </thead>\n",
       "  <tbody>\n",
       "    <tr>\n",
       "      <th>0</th>\n",
       "      <td>1.000000</td>\n",
       "      <td>0.264026</td>\n",
       "      <td>-0.380850</td>\n",
       "      <td>0.276817</td>\n",
       "      <td>-0.724843</td>\n",
       "    </tr>\n",
       "    <tr>\n",
       "      <th>1</th>\n",
       "      <td>0.264026</td>\n",
       "      <td>1.000000</td>\n",
       "      <td>-0.786895</td>\n",
       "      <td>-0.526321</td>\n",
       "      <td>-0.444688</td>\n",
       "    </tr>\n",
       "    <tr>\n",
       "      <th>2</th>\n",
       "      <td>-0.380850</td>\n",
       "      <td>-0.786895</td>\n",
       "      <td>1.000000</td>\n",
       "      <td>0.318841</td>\n",
       "      <td>0.155883</td>\n",
       "    </tr>\n",
       "    <tr>\n",
       "      <th>3</th>\n",
       "      <td>0.276817</td>\n",
       "      <td>-0.526321</td>\n",
       "      <td>0.318841</td>\n",
       "      <td>1.000000</td>\n",
       "      <td>-0.023424</td>\n",
       "    </tr>\n",
       "    <tr>\n",
       "      <th>4</th>\n",
       "      <td>-0.724843</td>\n",
       "      <td>-0.444688</td>\n",
       "      <td>0.155883</td>\n",
       "      <td>-0.023424</td>\n",
       "      <td>1.000000</td>\n",
       "    </tr>\n",
       "  </tbody>\n",
       "</table>\n",
       "</div>"
      ],
      "text/plain": [
       "          0         1         2         3         4\n",
       "0  1.000000  0.264026 -0.380850  0.276817 -0.724843\n",
       "1  0.264026  1.000000 -0.786895 -0.526321 -0.444688\n",
       "2 -0.380850 -0.786895  1.000000  0.318841  0.155883\n",
       "3  0.276817 -0.526321  0.318841  1.000000 -0.023424\n",
       "4 -0.724843 -0.444688  0.155883 -0.023424  1.000000"
      ]
     },
     "execution_count": 4,
     "metadata": {},
     "output_type": "execute_result"
    }
   ],
   "source": [
    "# Проверяем корреляцию\n",
    "df.corr()"
   ]
  },
  {
   "cell_type": "code",
   "execution_count": 5,
   "id": "7f8fad01",
   "metadata": {},
   "outputs": [
    {
     "name": "stdout",
     "output_type": "stream",
     "text": [
      "<class 'pandas.core.frame.DataFrame'>\n",
      "RangeIndex: 1372 entries, 0 to 1371\n",
      "Data columns (total 5 columns):\n",
      " #   Column  Non-Null Count  Dtype  \n",
      "---  ------  --------------  -----  \n",
      " 0   0       1372 non-null   float64\n",
      " 1   1       1372 non-null   float64\n",
      " 2   2       1372 non-null   float64\n",
      " 3   3       1372 non-null   float64\n",
      " 4   4       1372 non-null   int64  \n",
      "dtypes: float64(4), int64(1)\n",
      "memory usage: 53.7 KB\n"
     ]
    }
   ],
   "source": [
    "# Общая информация по датасету\n",
    "df.info()"
   ]
  },
  {
   "cell_type": "code",
   "execution_count": 6,
   "id": "a77c3903",
   "metadata": {},
   "outputs": [
    {
     "data": {
      "text/plain": [
       " 0.5706    5\n",
       " 0.5195    4\n",
       " 0.3292    4\n",
       " 0.3798    4\n",
       "-2.6479    3\n",
       "          ..\n",
       " 0.1848    1\n",
       " 4.5707    1\n",
       " 2.9742    1\n",
       " 1.1472    1\n",
       "-2.5419    1\n",
       "Name: 0, Length: 1338, dtype: int64"
      ]
     },
     "execution_count": 6,
     "metadata": {},
     "output_type": "execute_result"
    }
   ],
   "source": [
    "# Распределение данных (большое кол-во уникальных значений т.к. данные нормализованны)\n",
    "df[0].value_counts()"
   ]
  },
  {
   "cell_type": "code",
   "execution_count": 7,
   "id": "76a1ff22",
   "metadata": {},
   "outputs": [
    {
     "data": {
      "text/plain": [
       "0    762\n",
       "1    610\n",
       "Name: 4, dtype: int64"
      ]
     },
     "execution_count": 7,
     "metadata": {},
     "output_type": "execute_result"
    }
   ],
   "source": [
    "# Датасет сбалансирован\n",
    "df[4].value_counts()"
   ]
  },
  {
   "cell_type": "code",
   "execution_count": 8,
   "id": "5c262b17",
   "metadata": {},
   "outputs": [],
   "source": [
    "# Разбиваем датасет на фичи и целевое значение\n",
    "X, y = df.values[:, :-1], df.values[:, -1]\n",
    "# Приводим X к типу float32\n",
    "X = X.astype('float32')"
   ]
  },
  {
   "cell_type": "code",
   "execution_count": 9,
   "id": "519ea44e",
   "metadata": {},
   "outputs": [
    {
     "data": {
      "text/plain": [
       "array([ 4.5459,  8.1674, -2.4586, -1.4621], dtype=float32)"
      ]
     },
     "execution_count": 9,
     "metadata": {},
     "output_type": "execute_result"
    }
   ],
   "source": [
    "X[1]"
   ]
  },
  {
   "cell_type": "code",
   "execution_count": 10,
   "id": "1f00babe",
   "metadata": {},
   "outputs": [
    {
     "data": {
      "text/plain": [
       "0.0"
      ]
     },
     "execution_count": 10,
     "metadata": {},
     "output_type": "execute_result"
    }
   ],
   "source": [
    "y[1]"
   ]
  },
  {
   "cell_type": "code",
   "execution_count": 11,
   "id": "97fb0998",
   "metadata": {},
   "outputs": [],
   "source": [
    "# Создаем LabelEncoder\n",
    "y = LabelEncoder().fit_transform(y)"
   ]
  },
  {
   "cell_type": "code",
   "execution_count": 12,
   "id": "e8918873",
   "metadata": {},
   "outputs": [
    {
     "data": {
      "text/plain": [
       "array([0, 0, 0, ..., 1, 1, 1], dtype=int64)"
      ]
     },
     "execution_count": 12,
     "metadata": {},
     "output_type": "execute_result"
    }
   ],
   "source": [
    "y"
   ]
  },
  {
   "cell_type": "code",
   "execution_count": 13,
   "id": "61249755",
   "metadata": {},
   "outputs": [],
   "source": [
    "# Создаем тестовую и обучающую выборки (и перемешиваем датасет)\n",
    "X_train, X_test, y_train, y_test = train_test_split(X, y, test_size = 0.25, shuffle = True)"
   ]
  },
  {
   "cell_type": "code",
   "execution_count": 14,
   "id": "3e75eb51",
   "metadata": {},
   "outputs": [
    {
     "name": "stdout",
     "output_type": "stream",
     "text": [
      "(1029, 4)\n",
      "(343, 4)\n",
      "(1029,)\n",
      "(343,)\n"
     ]
    }
   ],
   "source": [
    "# Проверка размерностей после разбиения\n",
    "print(X_train.shape)\n",
    "print(X_test.shape)\n",
    "print(y_train.shape)\n",
    "print(y_test.shape)"
   ]
  },
  {
   "cell_type": "markdown",
   "id": "58bb117a",
   "metadata": {},
   "source": [
    "### Создаем нейронную сеть"
   ]
  },
  {
   "cell_type": "code",
   "execution_count": 15,
   "id": "52b02a76",
   "metadata": {},
   "outputs": [],
   "source": [
    "n_features = X.shape[1] # Размерность X\n",
    "# Создаем модель\n",
    "model = Sequential()\n",
    "\n",
    "model.add(Dense(20, activation = 'relu', input_shape = (n_features, )))\n",
    "model.add(Dense(10, activation = 'relu'))\n",
    "model.add(Dense(1, activation = 'sigmoid'))"
   ]
  },
  {
   "cell_type": "code",
   "execution_count": 16,
   "id": "00845d5e",
   "metadata": {},
   "outputs": [],
   "source": [
    "# Компилируем модель\n",
    "model.compile(optimizer = 'adam', loss = 'binary_crossentropy')"
   ]
  },
  {
   "cell_type": "code",
   "execution_count": 17,
   "id": "e0f3f4a4",
   "metadata": {},
   "outputs": [
    {
     "name": "stdout",
     "output_type": "stream",
     "text": [
      "Epoch 1/20\n",
      "33/33 [==============================] - 1s 5ms/step - loss: 0.4891 - val_loss: 0.3557\n",
      "Epoch 2/20\n",
      "33/33 [==============================] - 0s 2ms/step - loss: 0.2983 - val_loss: 0.2376\n",
      "Epoch 3/20\n",
      "33/33 [==============================] - 0s 1ms/step - loss: 0.2128 - val_loss: 0.1683\n",
      "Epoch 4/20\n",
      "33/33 [==============================] - 0s 2ms/step - loss: 0.1553 - val_loss: 0.1219\n",
      "Epoch 5/20\n",
      "33/33 [==============================] - 0s 1ms/step - loss: 0.1157 - val_loss: 0.0896\n",
      "Epoch 6/20\n",
      "33/33 [==============================] - 0s 2ms/step - loss: 0.0872 - val_loss: 0.0660\n",
      "Epoch 7/20\n",
      "33/33 [==============================] - 0s 2ms/step - loss: 0.0671 - val_loss: 0.0505\n",
      "Epoch 8/20\n",
      "33/33 [==============================] - 0s 2ms/step - loss: 0.0527 - val_loss: 0.0398\n",
      "Epoch 9/20\n",
      "33/33 [==============================] - 0s 1ms/step - loss: 0.0428 - val_loss: 0.0314\n",
      "Epoch 10/20\n",
      "33/33 [==============================] - 0s 1ms/step - loss: 0.0348 - val_loss: 0.0251\n",
      "Epoch 11/20\n",
      "33/33 [==============================] - 0s 1ms/step - loss: 0.0286 - val_loss: 0.0205\n",
      "Epoch 12/20\n",
      "33/33 [==============================] - 0s 2ms/step - loss: 0.0236 - val_loss: 0.0168\n",
      "Epoch 13/20\n",
      "33/33 [==============================] - 0s 1ms/step - loss: 0.0202 - val_loss: 0.0140\n",
      "Epoch 14/20\n",
      "33/33 [==============================] - 0s 1ms/step - loss: 0.0172 - val_loss: 0.0123\n",
      "Epoch 15/20\n",
      "33/33 [==============================] - 0s 1ms/step - loss: 0.0147 - val_loss: 0.0107\n",
      "Epoch 16/20\n",
      "33/33 [==============================] - 0s 1ms/step - loss: 0.0131 - val_loss: 0.0095\n",
      "Epoch 17/20\n",
      "33/33 [==============================] - 0s 2ms/step - loss: 0.0111 - val_loss: 0.0083\n",
      "Epoch 18/20\n",
      "33/33 [==============================] - 0s 1ms/step - loss: 0.0098 - val_loss: 0.0074\n",
      "Epoch 19/20\n",
      "33/33 [==============================] - 0s 2ms/step - loss: 0.0087 - val_loss: 0.0067\n",
      "Epoch 20/20\n",
      "33/33 [==============================] - 0s 1ms/step - loss: 0.0078 - val_loss: 0.0060\n"
     ]
    }
   ],
   "source": [
    "# Обучение модели\n",
    "# bacth_size - размер данных, которые мы подаем для обучения\n",
    "# verbose - позволяет визуализировать процесс обучения\n",
    "history = model.fit(X_train, y_train,\n",
    "                    epochs = 20, batch_size = 32,\n",
    "                    verbose = 1, validation_data = (X_test, y_test))"
   ]
  },
  {
   "cell_type": "code",
   "execution_count": 18,
   "id": "a065e26d",
   "metadata": {},
   "outputs": [
    {
     "name": "stdout",
     "output_type": "stream",
     "text": [
      "11/11 [==============================] - 0s 798us/step\n",
      "11/11 [==============================] - 0s 698us/step\n",
      "Accuracy: 1.0\n"
     ]
    }
   ],
   "source": [
    "# Визуализация процесса обучения\n",
    "yhat = model.predict(X_test)\n",
    "\n",
    "# model.predict_classes() is deprecated and will be removed after 2021-01-01.\n",
    "# Please use instead:\n",
    "\n",
    "# np.argmax(model.predict(x), axis=-1),\n",
    "# if your model does multi-class classification\n",
    "# (e.g. if it uses a softmax last-layer activation).\n",
    "\n",
    "# (model.predict(x) > 0.5).astype(\"int32\"),\n",
    "# if your model does binary classification\n",
    "# (e.g. if it uses a sigmoid last-layer activation).\n",
    "\n",
    "yhat_classes = (model.predict(X_test) > 0.5).astype(\"int32\")\n",
    "\n",
    "# Валидация прогноза\n",
    "score = accuracy_score(y_test, yhat_classes)\n",
    "print(f'Accuracy: {score}')"
   ]
  },
  {
   "cell_type": "code",
   "execution_count": 19,
   "id": "7b18da3d",
   "metadata": {},
   "outputs": [
    {
     "data": {
      "image/png": "[encoded data removed]",
      "text/plain": [
       "<Figure size 432x288 with 1 Axes>"
      ]
     },
     "metadata": {
      "needs_background": "light"
     },
     "output_type": "display_data"
    }
   ],
   "source": [
    "pyplot.title('Обучение')\n",
    "pyplot.xlabel('epoch')\n",
    "pyplot.ylabel('Cross_entrophy')\n",
    "pyplot.plot(history.history['loss'], label = 'train')\n",
    "pyplot.plot(history.history['val_loss'], label = 'val')\n",
    "pyplot.legend()\n",
    "pyplot.show()"
   ]
  },
  {
   "cell_type": "code",
   "execution_count": 20,
   "id": "3d9eba8b",
   "metadata": {},
   "outputs": [
    {
     "name": "stdout",
     "output_type": "stream",
     "text": [
      "Epoch 1/20\n",
      "39/39 [==============================] - 1s 4ms/step - loss: 0.5605 - val_loss: 0.3984\n",
      "Epoch 2/20\n",
      "39/39 [==============================] - 0s 1ms/step - loss: 0.3077 - val_loss: 0.2790\n",
      "Epoch 3/20\n",
      "39/39 [==============================] - 0s 1ms/step - loss: 0.2137 - val_loss: 0.2109\n",
      "Epoch 4/20\n",
      "39/39 [==============================] - 0s 2ms/step - loss: 0.1522 - val_loss: 0.1612\n",
      "Epoch 5/20\n",
      "39/39 [==============================] - 0s 1ms/step - loss: 0.1100 - val_loss: 0.1286\n",
      "Epoch 6/20\n",
      "39/39 [==============================] - 0s 1ms/step - loss: 0.0813 - val_loss: 0.1006\n",
      "Epoch 7/20\n",
      "39/39 [==============================] - 0s 1ms/step - loss: 0.0616 - val_loss: 0.0817\n",
      "Epoch 8/20\n",
      "39/39 [==============================] - 0s 1ms/step - loss: 0.0477 - val_loss: 0.0639\n",
      "Epoch 9/20\n",
      "39/39 [==============================] - 0s 1ms/step - loss: 0.0374 - val_loss: 0.0497\n",
      "Epoch 10/20\n",
      "39/39 [==============================] - 0s 1ms/step - loss: 0.0301 - val_loss: 0.0388\n",
      "Epoch 11/20\n",
      "39/39 [==============================] - 0s 1ms/step - loss: 0.0246 - val_loss: 0.0316\n",
      "Epoch 12/20\n",
      "39/39 [==============================] - 0s 1ms/step - loss: 0.0205 - val_loss: 0.0263\n",
      "Epoch 13/20\n",
      "39/39 [==============================] - 0s 1ms/step - loss: 0.0172 - val_loss: 0.0222\n",
      "Epoch 14/20\n",
      "39/39 [==============================] - 0s 1ms/step - loss: 0.0148 - val_loss: 0.0196\n",
      "Epoch 15/20\n",
      "39/39 [==============================] - 0s 1ms/step - loss: 0.0127 - val_loss: 0.0153\n",
      "Epoch 16/20\n",
      "39/39 [==============================] - 0s 1ms/step - loss: 0.0110 - val_loss: 0.0137\n",
      "Epoch 17/20\n",
      "39/39 [==============================] - 0s 1ms/step - loss: 0.0097 - val_loss: 0.0121\n",
      "Epoch 18/20\n",
      "39/39 [==============================] - 0s 1ms/step - loss: 0.0085 - val_loss: 0.0111\n",
      "Epoch 19/20\n",
      "39/39 [==============================] - 0s 1ms/step - loss: 0.0076 - val_loss: 0.0092\n",
      "Epoch 20/20\n",
      "39/39 [==============================] - 0s 1ms/step - loss: 0.0067 - val_loss: 0.0085\n",
      "5/5 [==============================] - 0s 997us/step\n"
     ]
    },
    {
     "data": {
      "image/png": "[encoded data removed]",
      "text/plain": [
       "<Figure size 432x288 with 1 Axes>"
      ]
     },
     "metadata": {
      "needs_background": "light"
     },
     "output_type": "display_data"
    },
    {
     "name": "stdout",
     "output_type": "stream",
     "text": [
      "Accuracy: 1.0\n",
      "Epoch 1/20\n",
      "39/39 [==============================] - 1s 4ms/step - loss: 0.8703 - val_loss: 0.6470\n",
      "Epoch 2/20\n",
      "39/39 [==============================] - 0s 1ms/step - loss: 0.5425 - val_loss: 0.3979\n",
      "Epoch 3/20\n",
      "39/39 [==============================] - 0s 1ms/step - loss: 0.3670 - val_loss: 0.2697\n",
      "Epoch 4/20\n",
      "39/39 [==============================] - 0s 1ms/step - loss: 0.2608 - val_loss: 0.1782\n",
      "Epoch 5/20\n",
      "39/39 [==============================] - 0s 1ms/step - loss: 0.1766 - val_loss: 0.1094\n",
      "Epoch 6/20\n",
      "39/39 [==============================] - 0s 1ms/step - loss: 0.1119 - val_loss: 0.0700\n",
      "Epoch 7/20\n",
      "39/39 [==============================] - 0s 1ms/step - loss: 0.0783 - val_loss: 0.0495\n",
      "Epoch 8/20\n",
      "39/39 [==============================] - 0s 1ms/step - loss: 0.0578 - val_loss: 0.0370\n",
      "Epoch 9/20\n",
      "39/39 [==============================] - 0s 1ms/step - loss: 0.0446 - val_loss: 0.0283\n",
      "Epoch 10/20\n",
      "39/39 [==============================] - 0s 1ms/step - loss: 0.0355 - val_loss: 0.0225\n",
      "Epoch 11/20\n",
      "39/39 [==============================] - 0s 1ms/step - loss: 0.0289 - val_loss: 0.0191\n",
      "Epoch 12/20\n",
      "39/39 [==============================] - 0s 1ms/step - loss: 0.0242 - val_loss: 0.0150\n",
      "Epoch 13/20\n",
      "39/39 [==============================] - 0s 1ms/step - loss: 0.0204 - val_loss: 0.0131\n",
      "Epoch 14/20\n",
      "39/39 [==============================] - 0s 1ms/step - loss: 0.0174 - val_loss: 0.0109\n",
      "Epoch 15/20\n",
      "39/39 [==============================] - 0s 2ms/step - loss: 0.0152 - val_loss: 0.0092\n",
      "Epoch 16/20\n",
      "39/39 [==============================] - 0s 1ms/step - loss: 0.0132 - val_loss: 0.0080\n",
      "Epoch 17/20\n",
      "39/39 [==============================] - 0s 1ms/step - loss: 0.0116 - val_loss: 0.0069\n",
      "Epoch 18/20\n",
      "39/39 [==============================] - 0s 1ms/step - loss: 0.0101 - val_loss: 0.0059\n",
      "Epoch 19/20\n",
      "39/39 [==============================] - 0s 1ms/step - loss: 0.0084 - val_loss: 0.0050\n",
      "Epoch 20/20\n",
      "39/39 [==============================] - 0s 1ms/step - loss: 0.0074 - val_loss: 0.0044\n",
      "5/5 [==============================] - 0s 820us/step\n"
     ]
    },
    {
     "data": {
      "image/png": "[encoded data removed]",
      "text/plain": [
       "<Figure size 432x288 with 1 Axes>"
      ]
     },
     "metadata": {
      "needs_background": "light"
     },
     "output_type": "display_data"
    },
    {
     "name": "stdout",
     "output_type": "stream",
     "text": [
      "Accuracy: 1.0\n",
      "Epoch 1/20\n",
      "39/39 [==============================] - 1s 4ms/step - loss: 0.7199 - val_loss: 0.5926\n",
      "Epoch 2/20\n",
      "39/39 [==============================] - 0s 1ms/step - loss: 0.5024 - val_loss: 0.4491\n",
      "Epoch 3/20\n",
      "39/39 [==============================] - 0s 1ms/step - loss: 0.3464 - val_loss: 0.3111\n",
      "Epoch 4/20\n",
      "39/39 [==============================] - 0s 1ms/step - loss: 0.2098 - val_loss: 0.2099\n",
      "Epoch 5/20\n",
      "39/39 [==============================] - 0s 1ms/step - loss: 0.1242 - val_loss: 0.1431\n",
      "Epoch 6/20\n",
      "39/39 [==============================] - 0s 1ms/step - loss: 0.0790 - val_loss: 0.1037\n",
      "Epoch 7/20\n",
      "39/39 [==============================] - 0s 1ms/step - loss: 0.0545 - val_loss: 0.0813\n",
      "Epoch 8/20\n",
      "39/39 [==============================] - 0s 1ms/step - loss: 0.0404 - val_loss: 0.0645\n",
      "Epoch 9/20\n",
      "39/39 [==============================] - 0s 1ms/step - loss: 0.0307 - val_loss: 0.0524\n",
      "Epoch 10/20\n",
      "39/39 [==============================] - 0s 1ms/step - loss: 0.0245 - val_loss: 0.0438\n",
      "Epoch 11/20\n",
      "39/39 [==============================] - 0s 1ms/step - loss: 0.0200 - val_loss: 0.0367\n",
      "Epoch 12/20\n",
      "39/39 [==============================] - 0s 1ms/step - loss: 0.0167 - val_loss: 0.0317\n",
      "Epoch 13/20\n",
      "39/39 [==============================] - 0s 1ms/step - loss: 0.0142 - val_loss: 0.0278\n",
      "Epoch 14/20\n",
      "39/39 [==============================] - 0s 1ms/step - loss: 0.0124 - val_loss: 0.0239\n",
      "Epoch 15/20\n",
      "39/39 [==============================] - 0s 1ms/step - loss: 0.0107 - val_loss: 0.0215\n",
      "Epoch 16/20\n",
      "39/39 [==============================] - 0s 1ms/step - loss: 0.0093 - val_loss: 0.0193\n",
      "Epoch 17/20\n",
      "39/39 [==============================] - 0s 1ms/step - loss: 0.0083 - val_loss: 0.0174\n",
      "Epoch 18/20\n",
      "39/39 [==============================] - 0s 1ms/step - loss: 0.0075 - val_loss: 0.0158\n",
      "Epoch 19/20\n",
      "39/39 [==============================] - 0s 1ms/step - loss: 0.0067 - val_loss: 0.0144\n",
      "Epoch 20/20\n",
      "39/39 [==============================] - 0s 1ms/step - loss: 0.0060 - val_loss: 0.0131\n",
      "5/5 [==============================] - 0s 749us/step\n"
     ]
    },
    {
     "data": {
      "image/png": "[encoded data removed]",
      "text/plain": [
       "<Figure size 432x288 with 1 Axes>"
      ]
     },
     "metadata": {
      "needs_background": "light"
     },
     "output_type": "display_data"
    },
    {
     "name": "stdout",
     "output_type": "stream",
     "text": [
      "Accuracy: 1.0\n",
      "Epoch 1/20\n",
      "39/39 [==============================] - 0s 4ms/step - loss: 0.5469 - val_loss: 0.4044\n",
      "Epoch 2/20\n",
      "39/39 [==============================] - 0s 1ms/step - loss: 0.3464 - val_loss: 0.2632\n",
      "Epoch 3/20\n",
      "39/39 [==============================] - 0s 1ms/step - loss: 0.2280 - val_loss: 0.1692\n",
      "Epoch 4/20\n",
      "39/39 [==============================] - 0s 1ms/step - loss: 0.1412 - val_loss: 0.0997\n",
      "Epoch 5/20\n",
      "39/39 [==============================] - 0s 1ms/step - loss: 0.0894 - val_loss: 0.0666\n",
      "Epoch 6/20\n",
      "39/39 [==============================] - 0s 1ms/step - loss: 0.0640 - val_loss: 0.0491\n",
      "Epoch 7/20\n",
      "39/39 [==============================] - 0s 1ms/step - loss: 0.0484 - val_loss: 0.0371\n",
      "Epoch 8/20\n",
      "39/39 [==============================] - 0s 1ms/step - loss: 0.0383 - val_loss: 0.0288\n",
      "Epoch 9/20\n",
      "39/39 [==============================] - 0s 1ms/step - loss: 0.0310 - val_loss: 0.0232\n",
      "Epoch 10/20\n",
      "39/39 [==============================] - 0s 2ms/step - loss: 0.0254 - val_loss: 0.0188\n",
      "Epoch 11/20\n",
      "39/39 [==============================] - 0s 1ms/step - loss: 0.0210 - val_loss: 0.0149\n",
      "Epoch 12/20\n",
      "39/39 [==============================] - 0s 2ms/step - loss: 0.0169 - val_loss: 0.0125\n",
      "Epoch 13/20\n",
      "39/39 [==============================] - 0s 1ms/step - loss: 0.0143 - val_loss: 0.0109\n",
      "Epoch 14/20\n",
      "39/39 [==============================] - 0s 1ms/step - loss: 0.0125 - val_loss: 0.0092\n",
      "Epoch 15/20\n",
      "39/39 [==============================] - 0s 2ms/step - loss: 0.0109 - val_loss: 0.0082\n",
      "Epoch 16/20\n",
      "39/39 [==============================] - 0s 1ms/step - loss: 0.0095 - val_loss: 0.0072\n",
      "Epoch 17/20\n",
      "39/39 [==============================] - 0s 1ms/step - loss: 0.0083 - val_loss: 0.0063\n",
      "Epoch 18/20\n",
      "39/39 [==============================] - 0s 1ms/step - loss: 0.0074 - val_loss: 0.0055\n",
      "Epoch 19/20\n",
      "39/39 [==============================] - 0s 1ms/step - loss: 0.0066 - val_loss: 0.0049\n",
      "Epoch 20/20\n",
      "39/39 [==============================] - 0s 1ms/step - loss: 0.0058 - val_loss: 0.0044\n",
      "5/5 [==============================] - 0s 998us/step\n"
     ]
    },
    {
     "data": {
      "image/png": "[encoded data removed]",
      "text/plain": [
       "<Figure size 432x288 with 1 Axes>"
      ]
     },
     "metadata": {
      "needs_background": "light"
     },
     "output_type": "display_data"
    },
    {
     "name": "stdout",
     "output_type": "stream",
     "text": [
      "Accuracy: 1.0\n",
      "Epoch 1/20\n",
      "39/39 [==============================] - 1s 4ms/step - loss: 1.5409 - val_loss: 1.0529\n",
      "Epoch 2/20\n",
      "39/39 [==============================] - 0s 1ms/step - loss: 0.8133 - val_loss: 0.6253\n",
      "Epoch 3/20\n",
      "39/39 [==============================] - 0s 1ms/step - loss: 0.5143 - val_loss: 0.4300\n",
      "Epoch 4/20\n",
      "39/39 [==============================] - 0s 1ms/step - loss: 0.3607 - val_loss: 0.3179\n",
      "Epoch 5/20\n",
      "39/39 [==============================] - 0s 1ms/step - loss: 0.2481 - val_loss: 0.2182\n",
      "Epoch 6/20\n",
      "39/39 [==============================] - 0s 1ms/step - loss: 0.1565 - val_loss: 0.1519\n",
      "Epoch 7/20\n",
      "39/39 [==============================] - 0s 1ms/step - loss: 0.1061 - val_loss: 0.1152\n",
      "Epoch 8/20\n",
      "39/39 [==============================] - 0s 1ms/step - loss: 0.0773 - val_loss: 0.0923\n",
      "Epoch 9/20\n",
      "39/39 [==============================] - 0s 1ms/step - loss: 0.0593 - val_loss: 0.0760\n",
      "Epoch 10/20\n",
      "39/39 [==============================] - 0s 1ms/step - loss: 0.0472 - val_loss: 0.0656\n",
      "Epoch 11/20\n",
      "39/39 [==============================] - 0s 1ms/step - loss: 0.0387 - val_loss: 0.0571\n",
      "Epoch 12/20\n",
      "39/39 [==============================] - 0s 1ms/step - loss: 0.0325 - val_loss: 0.0487\n",
      "Epoch 13/20\n",
      "39/39 [==============================] - 0s 1ms/step - loss: 0.0275 - val_loss: 0.0421\n",
      "Epoch 14/20\n",
      "39/39 [==============================] - 0s 1ms/step - loss: 0.0235 - val_loss: 0.0385\n",
      "Epoch 15/20\n",
      "39/39 [==============================] - 0s 1ms/step - loss: 0.0205 - val_loss: 0.0350\n",
      "Epoch 16/20\n",
      "39/39 [==============================] - 0s 1ms/step - loss: 0.0179 - val_loss: 0.0316\n",
      "Epoch 17/20\n",
      "39/39 [==============================] - 0s 1ms/step - loss: 0.0157 - val_loss: 0.0295\n",
      "Epoch 18/20\n",
      "39/39 [==============================] - 0s 1ms/step - loss: 0.0139 - val_loss: 0.0266\n",
      "Epoch 19/20\n",
      "39/39 [==============================] - 0s 1ms/step - loss: 0.0123 - val_loss: 0.0249\n",
      "Epoch 20/20\n",
      "39/39 [==============================] - 0s 1ms/step - loss: 0.0110 - val_loss: 0.0241\n",
      "5/5 [==============================] - 0s 755us/step\n"
     ]
    },
    {
     "data": {
      "image/png": "[encoded data removed]",
      "text/plain": [
       "<Figure size 432x288 with 1 Axes>"
      ]
     },
     "metadata": {
      "needs_background": "light"
     },
     "output_type": "display_data"
    },
    {
     "name": "stdout",
     "output_type": "stream",
     "text": [
      "Accuracy: 0.9927007299270073\n",
      "Epoch 1/20\n",
      "39/39 [==============================] - 1s 7ms/step - loss: 0.7349 - val_loss: 0.4929\n",
      "Epoch 2/20\n",
      "39/39 [==============================] - 0s 1ms/step - loss: 0.3896 - val_loss: 0.3314\n",
      "Epoch 3/20\n",
      "39/39 [==============================] - 0s 1ms/step - loss: 0.2712 - val_loss: 0.2440\n",
      "Epoch 4/20\n",
      "39/39 [==============================] - 0s 1ms/step - loss: 0.1948 - val_loss: 0.1791\n",
      "Epoch 5/20\n",
      "39/39 [==============================] - 0s 1ms/step - loss: 0.1347 - val_loss: 0.1260\n",
      "Epoch 6/20\n",
      "39/39 [==============================] - 0s 1ms/step - loss: 0.0928 - val_loss: 0.0927\n",
      "Epoch 7/20\n",
      "39/39 [==============================] - 0s 1ms/step - loss: 0.0671 - val_loss: 0.0709\n",
      "Epoch 8/20\n",
      "39/39 [==============================] - 0s 1ms/step - loss: 0.0509 - val_loss: 0.0579\n",
      "Epoch 9/20\n",
      "39/39 [==============================] - 0s 1ms/step - loss: 0.0393 - val_loss: 0.0441\n",
      "Epoch 10/20\n",
      "39/39 [==============================] - 0s 1ms/step - loss: 0.0304 - val_loss: 0.0360\n",
      "Epoch 11/20\n",
      "39/39 [==============================] - 0s 1ms/step - loss: 0.0246 - val_loss: 0.0305\n",
      "Epoch 12/20\n",
      "39/39 [==============================] - 0s 1ms/step - loss: 0.0205 - val_loss: 0.0265\n",
      "Epoch 13/20\n",
      "39/39 [==============================] - 0s 1ms/step - loss: 0.0173 - val_loss: 0.0231\n",
      "Epoch 14/20\n",
      "39/39 [==============================] - 0s 1ms/step - loss: 0.0147 - val_loss: 0.0199\n",
      "Epoch 15/20\n",
      "39/39 [==============================] - 0s 1ms/step - loss: 0.0126 - val_loss: 0.0173\n",
      "Epoch 16/20\n",
      "39/39 [==============================] - 0s 1ms/step - loss: 0.0111 - val_loss: 0.0154\n",
      "Epoch 17/20\n",
      "39/39 [==============================] - 0s 1ms/step - loss: 0.0097 - val_loss: 0.0135\n",
      "Epoch 18/20\n",
      "39/39 [==============================] - 0s 1ms/step - loss: 0.0084 - val_loss: 0.0118\n",
      "Epoch 19/20\n",
      "39/39 [==============================] - 0s 1ms/step - loss: 0.0074 - val_loss: 0.0107\n",
      "Epoch 20/20\n",
      "39/39 [==============================] - 0s 1ms/step - loss: 0.0066 - val_loss: 0.0095\n",
      "5/5 [==============================] - 0s 619us/step\n"
     ]
    },
    {
     "data": {
      "image/png": "[encoded data removed]",
      "text/plain": [
       "<Figure size 432x288 with 1 Axes>"
      ]
     },
     "metadata": {
      "needs_background": "light"
     },
     "output_type": "display_data"
    },
    {
     "name": "stdout",
     "output_type": "stream",
     "text": [
      "Accuracy: 1.0\n",
      "Epoch 1/20\n",
      "39/39 [==============================] - 0s 4ms/step - loss: 0.5392 - val_loss: 0.3906\n",
      "Epoch 2/20\n",
      "39/39 [==============================] - 0s 1ms/step - loss: 0.3370 - val_loss: 0.2048\n",
      "Epoch 3/20\n",
      "39/39 [==============================] - 0s 1ms/step - loss: 0.1902 - val_loss: 0.1006\n",
      "Epoch 4/20\n",
      "39/39 [==============================] - 0s 1ms/step - loss: 0.1099 - val_loss: 0.0565\n",
      "Epoch 5/20\n",
      "39/39 [==============================] - 0s 1ms/step - loss: 0.0734 - val_loss: 0.0383\n",
      "Epoch 6/20\n",
      "39/39 [==============================] - 0s 1ms/step - loss: 0.0538 - val_loss: 0.0264\n",
      "Epoch 7/20\n",
      "39/39 [==============================] - 0s 1ms/step - loss: 0.0410 - val_loss: 0.0192\n",
      "Epoch 8/20\n",
      "39/39 [==============================] - 0s 1ms/step - loss: 0.0327 - val_loss: 0.0153\n",
      "Epoch 9/20\n",
      "39/39 [==============================] - 0s 1ms/step - loss: 0.0267 - val_loss: 0.0116\n",
      "Epoch 10/20\n",
      "39/39 [==============================] - 0s 1ms/step - loss: 0.0219 - val_loss: 0.0094\n",
      "Epoch 11/20\n",
      "39/39 [==============================] - 0s 1ms/step - loss: 0.0183 - val_loss: 0.0078\n",
      "Epoch 12/20\n",
      "39/39 [==============================] - 0s 1ms/step - loss: 0.0156 - val_loss: 0.0065\n",
      "Epoch 13/20\n",
      "39/39 [==============================] - 0s 1ms/step - loss: 0.0134 - val_loss: 0.0056\n",
      "Epoch 14/20\n",
      "39/39 [==============================] - 0s 1ms/step - loss: 0.0114 - val_loss: 0.0048\n",
      "Epoch 15/20\n",
      "39/39 [==============================] - 0s 1ms/step - loss: 0.0099 - val_loss: 0.0042\n",
      "Epoch 16/20\n",
      "39/39 [==============================] - 0s 2ms/step - loss: 0.0086 - val_loss: 0.0037\n",
      "Epoch 17/20\n",
      "39/39 [==============================] - 0s 1ms/step - loss: 0.0076 - val_loss: 0.0033\n",
      "Epoch 18/20\n",
      "39/39 [==============================] - 0s 1ms/step - loss: 0.0067 - val_loss: 0.0029\n",
      "Epoch 19/20\n",
      "39/39 [==============================] - 0s 1ms/step - loss: 0.0060 - val_loss: 0.0026\n",
      "Epoch 20/20\n",
      "39/39 [==============================] - 0s 1ms/step - loss: 0.0054 - val_loss: 0.0024\n",
      "5/5 [==============================] - 0s 997us/step\n"
     ]
    },
    {
     "data": {
      "image/png": "[encoded data removed]",
      "text/plain": [
       "<Figure size 432x288 with 1 Axes>"
      ]
     },
     "metadata": {
      "needs_background": "light"
     },
     "output_type": "display_data"
    },
    {
     "name": "stdout",
     "output_type": "stream",
     "text": [
      "Accuracy: 1.0\n",
      "Epoch 1/20\n",
      "39/39 [==============================] - 1s 4ms/step - loss: 0.5645 - val_loss: 0.3316\n",
      "Epoch 2/20\n",
      "39/39 [==============================] - 0s 1ms/step - loss: 0.2760 - val_loss: 0.1781\n",
      "Epoch 3/20\n",
      "39/39 [==============================] - 0s 1ms/step - loss: 0.1722 - val_loss: 0.1044\n",
      "Epoch 4/20\n",
      "39/39 [==============================] - 0s 1ms/step - loss: 0.1171 - val_loss: 0.0651\n",
      "Epoch 5/20\n",
      "39/39 [==============================] - 0s 1ms/step - loss: 0.0837 - val_loss: 0.0431\n",
      "Epoch 6/20\n",
      "39/39 [==============================] - 0s 1ms/step - loss: 0.0619 - val_loss: 0.0306\n",
      "Epoch 7/20\n",
      "39/39 [==============================] - 0s 1ms/step - loss: 0.0485 - val_loss: 0.0228\n",
      "Epoch 8/20\n",
      "39/39 [==============================] - 0s 1ms/step - loss: 0.0395 - val_loss: 0.0176\n",
      "Epoch 9/20\n",
      "39/39 [==============================] - 0s 1ms/step - loss: 0.0324 - val_loss: 0.0140\n",
      "Epoch 10/20\n",
      "39/39 [==============================] - 0s 1ms/step - loss: 0.0270 - val_loss: 0.0110\n",
      "Epoch 11/20\n",
      "39/39 [==============================] - 0s 1ms/step - loss: 0.0226 - val_loss: 0.0089\n",
      "Epoch 12/20\n",
      "39/39 [==============================] - 0s 1ms/step - loss: 0.0190 - val_loss: 0.0070\n",
      "Epoch 13/20\n",
      "39/39 [==============================] - 0s 1ms/step - loss: 0.0157 - val_loss: 0.0060\n",
      "Epoch 14/20\n",
      "39/39 [==============================] - 0s 1ms/step - loss: 0.0137 - val_loss: 0.0050\n",
      "Epoch 15/20\n",
      "39/39 [==============================] - 0s 1ms/step - loss: 0.0118 - val_loss: 0.0043\n",
      "Epoch 16/20\n",
      "39/39 [==============================] - 0s 1ms/step - loss: 0.0103 - val_loss: 0.0038\n",
      "Epoch 17/20\n",
      "39/39 [==============================] - 0s 1ms/step - loss: 0.0092 - val_loss: 0.0033\n",
      "Epoch 18/20\n",
      "39/39 [==============================] - 0s 1ms/step - loss: 0.0082 - val_loss: 0.0029\n",
      "Epoch 19/20\n",
      "39/39 [==============================] - 0s 1ms/step - loss: 0.0074 - val_loss: 0.0027\n",
      "Epoch 20/20\n",
      "39/39 [==============================] - 0s 1ms/step - loss: 0.0066 - val_loss: 0.0024\n",
      "5/5 [==============================] - 0s 850us/step\n"
     ]
    },
    {
     "data": {
      "image/png": "[encoded data removed]",
      "text/plain": [
       "<Figure size 432x288 with 1 Axes>"
      ]
     },
     "metadata": {
      "needs_background": "light"
     },
     "output_type": "display_data"
    },
    {
     "name": "stdout",
     "output_type": "stream",
     "text": [
      "Accuracy: 1.0\n",
      "Epoch 1/20\n",
      "39/39 [==============================] - 0s 4ms/step - loss: 0.4766 - val_loss: 0.3574\n",
      "Epoch 2/20\n",
      "39/39 [==============================] - 0s 1ms/step - loss: 0.2865 - val_loss: 0.2170\n",
      "Epoch 3/20\n",
      "39/39 [==============================] - 0s 1ms/step - loss: 0.1907 - val_loss: 0.1335\n",
      "Epoch 4/20\n",
      "39/39 [==============================] - 0s 1ms/step - loss: 0.1287 - val_loss: 0.0873\n",
      "Epoch 5/20\n",
      "39/39 [==============================] - 0s 1ms/step - loss: 0.0893 - val_loss: 0.0578\n",
      "Epoch 6/20\n",
      "39/39 [==============================] - 0s 1ms/step - loss: 0.0625 - val_loss: 0.0394\n",
      "Epoch 7/20\n",
      "39/39 [==============================] - 0s 1ms/step - loss: 0.0447 - val_loss: 0.0276\n",
      "Epoch 8/20\n",
      "39/39 [==============================] - 0s 1ms/step - loss: 0.0330 - val_loss: 0.0204\n",
      "Epoch 9/20\n",
      "39/39 [==============================] - 0s 1ms/step - loss: 0.0257 - val_loss: 0.0168\n",
      "Epoch 10/20\n",
      "39/39 [==============================] - 0s 1ms/step - loss: 0.0205 - val_loss: 0.0127\n",
      "Epoch 11/20\n",
      "39/39 [==============================] - 0s 1ms/step - loss: 0.0167 - val_loss: 0.0106\n",
      "Epoch 12/20\n",
      "39/39 [==============================] - 0s 1ms/step - loss: 0.0139 - val_loss: 0.0091\n",
      "Epoch 13/20\n",
      "39/39 [==============================] - 0s 1ms/step - loss: 0.0120 - val_loss: 0.0070\n",
      "Epoch 14/20\n",
      "39/39 [==============================] - 0s 1ms/step - loss: 0.0101 - val_loss: 0.0064\n",
      "Epoch 15/20\n",
      "39/39 [==============================] - 0s 1ms/step - loss: 0.0088 - val_loss: 0.0056\n",
      "Epoch 16/20\n",
      "39/39 [==============================] - 0s 1ms/step - loss: 0.0077 - val_loss: 0.0049\n",
      "Epoch 17/20\n",
      "39/39 [==============================] - 0s 1ms/step - loss: 0.0068 - val_loss: 0.0042\n",
      "Epoch 18/20\n",
      "39/39 [==============================] - 0s 1ms/step - loss: 0.0060 - val_loss: 0.0040\n",
      "Epoch 19/20\n",
      "39/39 [==============================] - 0s 1ms/step - loss: 0.0054 - val_loss: 0.0035\n",
      "Epoch 20/20\n",
      "39/39 [==============================] - 0s 1ms/step - loss: 0.0049 - val_loss: 0.0031\n",
      "5/5 [==============================] - 0s 749us/step\n"
     ]
    },
    {
     "data": {
      "image/png": "[encoded data removed]",
      "text/plain": [
       "<Figure size 432x288 with 1 Axes>"
      ]
     },
     "metadata": {
      "needs_background": "light"
     },
     "output_type": "display_data"
    },
    {
     "name": "stdout",
     "output_type": "stream",
     "text": [
      "Accuracy: 1.0\n",
      "Epoch 1/20\n",
      "39/39 [==============================] - 1s 4ms/step - loss: 1.0567 - val_loss: 0.5167\n",
      "Epoch 2/20\n",
      "39/39 [==============================] - 0s 1ms/step - loss: 0.3594 - val_loss: 0.3074\n",
      "Epoch 3/20\n",
      "39/39 [==============================] - 0s 1ms/step - loss: 0.2240 - val_loss: 0.2090\n",
      "Epoch 4/20\n",
      "39/39 [==============================] - 0s 1ms/step - loss: 0.1518 - val_loss: 0.1538\n",
      "Epoch 5/20\n",
      "39/39 [==============================] - 0s 1ms/step - loss: 0.1143 - val_loss: 0.1226\n",
      "Epoch 6/20\n",
      "39/39 [==============================] - 0s 1ms/step - loss: 0.0893 - val_loss: 0.0989\n",
      "Epoch 7/20\n",
      "39/39 [==============================] - 0s 1ms/step - loss: 0.0711 - val_loss: 0.0808\n",
      "Epoch 8/20\n",
      "39/39 [==============================] - 0s 1ms/step - loss: 0.0573 - val_loss: 0.0678\n",
      "Epoch 9/20\n",
      "39/39 [==============================] - 0s 1ms/step - loss: 0.0469 - val_loss: 0.0563\n",
      "Epoch 10/20\n",
      "39/39 [==============================] - 0s 1ms/step - loss: 0.0388 - val_loss: 0.0479\n",
      "Epoch 11/20\n",
      "39/39 [==============================] - 0s 1ms/step - loss: 0.0324 - val_loss: 0.0408\n",
      "Epoch 12/20\n",
      "39/39 [==============================] - 0s 1ms/step - loss: 0.0273 - val_loss: 0.0354\n",
      "Epoch 13/20\n",
      "39/39 [==============================] - 0s 1ms/step - loss: 0.0234 - val_loss: 0.0309\n",
      "Epoch 14/20\n",
      "39/39 [==============================] - 0s 1ms/step - loss: 0.0204 - val_loss: 0.0271\n",
      "Epoch 15/20\n",
      "39/39 [==============================] - 0s 1ms/step - loss: 0.0178 - val_loss: 0.0239\n",
      "Epoch 16/20\n",
      "39/39 [==============================] - 0s 1ms/step - loss: 0.0156 - val_loss: 0.0218\n",
      "Epoch 17/20\n",
      "39/39 [==============================] - 0s 1ms/step - loss: 0.0138 - val_loss: 0.0197\n",
      "Epoch 18/20\n",
      "39/39 [==============================] - 0s 1ms/step - loss: 0.0124 - val_loss: 0.0174\n",
      "Epoch 19/20\n",
      "39/39 [==============================] - 0s 1ms/step - loss: 0.0110 - val_loss: 0.0162\n",
      "Epoch 20/20\n",
      "39/39 [==============================] - 0s 1ms/step - loss: 0.0099 - val_loss: 0.0146\n",
      "5/5 [==============================] - 0s 748us/step\n"
     ]
    },
    {
     "data": {
      "image/png": "[encoded data removed]",
      "text/plain": [
       "<Figure size 432x288 with 1 Axes>"
      ]
     },
     "metadata": {
      "needs_background": "light"
     },
     "output_type": "display_data"
    },
    {
     "name": "stdout",
     "output_type": "stream",
     "text": [
      "Accuracy: 1.0\n"
     ]
    }
   ],
   "source": [
    "# Выполним кросс-валидация (ранее был тест по отложенной выборке)\n",
    "n_features = X.shape[1] # Размерность X\n",
    "kfold = StratifiedKFold(10)\n",
    "scores = []\n",
    "\n",
    "for train_ix, test_ix in kfold.split(X, y):\n",
    "    X_train, X_test, y_train, y_test = X[train_ix], X[test_ix], y[train_ix], y[test_ix]\n",
    "    # Создаем модель\n",
    "    model = Sequential()\n",
    "    model.add(Dense(20, activation = 'relu', input_shape = (n_features, )))\n",
    "    model.add(Dense(10, activation = 'relu'))\n",
    "    model.add(Dense(1, activation = 'sigmoid'))\n",
    "    model.compile(optimizer = 'adam', loss = 'binary_crossentropy')\n",
    "    history = model.fit(X_train, y_train,\n",
    "                    epochs = 20, batch_size = 32,\n",
    "                    verbose = 1, validation_data = (X_test, y_test))\n",
    "    yhat_classes = (model.predict(X_test) > 0.5).astype(\"int32\")\n",
    "    pyplot.title('Обучение')\n",
    "    pyplot.xlabel('epoch')\n",
    "    pyplot.ylabel('Cross_entrophy')\n",
    "    pyplot.plot(history.history['loss'], label = 'train')\n",
    "    pyplot.plot(history.history['val_loss'], label = 'val')\n",
    "    pyplot.legend()\n",
    "    pyplot.show()\n",
    "    # Валидация прогноза\n",
    "    score = accuracy_score(y_test, yhat_classes)\n",
    "    print(f'Accuracy: {score}')\n",
    "    scores.append(score)    "
   ]
  },
  {
   "cell_type": "code",
   "execution_count": 21,
   "id": "e325c04a",
   "metadata": {},
   "outputs": [
    {
     "name": "stdout",
     "output_type": "stream",
     "text": [
      "Средняя точность при кроссвалидации: 0.9992700729927007\n"
     ]
    }
   ],
   "source": [
    "print(f'Средняя точность при кроссвалидации: {np.mean(scores)}')"
   ]
  }
 ],
 "metadata": {
  "kernelspec": {
   "display_name": "Python 3 (ipykernel)",
   "language": "python",
   "name": "python3"
  },
  "language_info": {
   "codemirror_mode": {
    "name": "ipython",
    "version": 3
   },
   "file_extension": ".py",
   "mimetype": "text/x-python",
   "name": "python",
   "nbconvert_exporter": "python",
   "pygments_lexer": "ipython3",
   "version": "3.9.12"
  }
 },
 "nbformat": 4,
 "nbformat_minor": 5
}
