{
 "cells": [
  {
   "cell_type": "markdown",
   "id": "8c93a89b",
   "metadata": {},
   "source": [
    "### Парсинг данных с помощью Beautiful Soup\n",
    "__План работ:__\n",
    "<ol>\n",
    "    <li>Импорт библиотек</li>\n",
    "    <li>Список адресов для парсинга</li>\n",
    "    <li>Парсинг и пополнение списков</li>\n",
    "    <li>Сохранение в csv</li>\n",
    "</ol>"
   ]
  },
  {
   "cell_type": "code",
   "execution_count": 1,
   "id": "f3af1346",
   "metadata": {},
   "outputs": [],
   "source": [
    "import requests\n",
    "from bs4 import BeautifulSoup\n",
    "import numpy as np\n",
    "import pandas as pd"
   ]
  },
  {
   "cell_type": "code",
   "execution_count": 2,
   "id": "56ee517e",
   "metadata": {},
   "outputs": [
    {
     "name": "stdout",
     "output_type": "stream",
     "text": [
      "Общее кол-во сгенерированных URL: 10\n"
     ]
    }
   ],
   "source": [
    "# Задаем базовую ссылку\n",
    "url = \"https://habr.com/ru\"\n",
    "first_page = 692500\n",
    "last_page = 692510\n",
    "\n",
    "# Функция генерации адресов\n",
    "def get_urls():\n",
    "    list_url = [];\n",
    "    for uID in range(first_page, last_page):\n",
    "        page_url = \"{}/post/{}\".format(url, uID)\n",
    "        list_url.append(page_url)\n",
    "    return list_url\n",
    "\n",
    "print(f\"Общее кол-во сгенерированных URL: {len(get_urls())}\")"
   ]
  },
  {
   "cell_type": "code",
   "execution_count": 3,
   "id": "64bcede3",
   "metadata": {},
   "outputs": [],
   "source": [
    "titl_list = [] # Заголовки\n",
    "auth_list = [] # Авторы\n",
    "urls_list = [] # OK URL"
   ]
  },
  {
   "cell_type": "code",
   "execution_count": 4,
   "id": "6efdb43b",
   "metadata": {},
   "outputs": [
    {
     "name": "stdout",
     "output_type": "stream",
     "text": [
      "https://habr.com/ru/post/692500 - OK\n",
      "https://habr.com/ru/post/692502 - OK\n",
      "https://habr.com/ru/post/692504 - OK\n",
      "https://habr.com/ru/post/692506 - OK\n",
      "Успешно получено 4 из 10 URL\n"
     ]
    }
   ],
   "source": [
    "def get_data():\n",
    "    urls_list.clear()\n",
    "    for at_url in get_urls():\n",
    "        at_data = requests.get(at_url)\n",
    "        if at_data.status_code == 200:\n",
    "            urls_list.append(at_url)\n",
    "            print(f\"{at_url} - OK\")\n",
    "\n",
    "get_data()\n",
    "print(f\"Успешно получено {len(urls_list)} из {len(get_urls())} URL\")"
   ]
  },
  {
   "cell_type": "code",
   "execution_count": 5,
   "id": "8646151f",
   "metadata": {},
   "outputs": [
    {
     "name": "stdout",
     "output_type": "stream",
     "text": [
      "https://habr.com/ru/post/692500 - От канадского телекома до WikiLeaks: путь Ассанжа\n",
      "https://habr.com/ru/post/692502 - Голосовой ассистент «Алиса» научилась узнавать всех членов семьи\n",
      "https://habr.com/ru/post/692504 - Создаем Telegram бот с регистрацией пользователей из таблицы в Airtable + Python\n",
      "https://habr.com/ru/post/692506 - Знакомство вслепую: Bumble заимствовал идею у «Теда Лассо»\n"
     ]
    }
   ],
   "source": [
    "def parse_data(urls_list):    \n",
    "    for at_url in urls_list:\n",
    "        at_data = requests.get(at_url)\n",
    "        if at_data.status_code == 200:            \n",
    "            soup_data = BeautifulSoup(at_data.text, \"html5lib\")            \n",
    "            # Парсим заголовки\n",
    "            titles = soup_data.findAll(\"h1\", class_ = \"tm-article-snippet__title tm-article-snippet__title_h1\")\n",
    "            for title_ind in range(len(titles)):\n",
    "                if titles[title_ind].find(\"span\") is not None:\n",
    "                    titl_list.append(titles[title_ind].text)\n",
    "                    print(f\"{at_url} - {titles[title_ind].text.strip()}\")\n",
    "                else:\n",
    "                    print(f\"{at_url} - Заголовок не найден\")\n",
    "            # Парсим авторов\n",
    "            authors = soup_data.findAll(\"span\", class_ = \"tm-user-info__user\")\n",
    "            for author_ind in range(len(authors)):\n",
    "                if authors[author_ind].find(\"a\", class_ = \"tm-user-info__username\") is not None:\n",
    "                    auth_list.append(authors[author_ind].text.strip())\n",
    "            \n",
    "parse_data(urls_list)"
   ]
  },
  {
   "cell_type": "code",
   "execution_count": 6,
   "id": "33748f2e",
   "metadata": {},
   "outputs": [
    {
     "name": "stdout",
     "output_type": "stream",
     "text": [
      "Список авторов:\n",
      "\"Travis_Macrif\"\n",
      "\"denis-19\"\n",
      "\"TAU15\"\n",
      "\"Markaty\"\n"
     ]
    }
   ],
   "source": [
    "print (\"Список авторов:\")\n",
    "for author in auth_list:\n",
    "    print(f\"\\\"{author}\\\"\")"
   ]
  },
  {
   "cell_type": "code",
   "execution_count": 7,
   "id": "fd0db389",
   "metadata": {},
   "outputs": [
    {
     "data": {
      "text/html": [
       "<div>\n",
       "<style scoped>\n",
       "    .dataframe tbody tr th:only-of-type {\n",
       "        vertical-align: middle;\n",
       "    }\n",
       "\n",
       "    .dataframe tbody tr th {\n",
       "        vertical-align: top;\n",
       "    }\n",
       "\n",
       "    .dataframe thead th {\n",
       "        text-align: right;\n",
       "    }\n",
       "</style>\n",
       "<table border=\"1\" class=\"dataframe\">\n",
       "  <thead>\n",
       "    <tr style=\"text-align: right;\">\n",
       "      <th></th>\n",
       "      <th>author</th>\n",
       "      <th>title</th>\n",
       "      <th>url</th>\n",
       "    </tr>\n",
       "  </thead>\n",
       "  <tbody>\n",
       "    <tr>\n",
       "      <th>0</th>\n",
       "      <td>Travis_Macrif</td>\n",
       "      <td>От канадского телекома до WikiLeaks: путь Ассанжа</td>\n",
       "      <td>https://habr.com/ru/post/692500</td>\n",
       "    </tr>\n",
       "    <tr>\n",
       "      <th>1</th>\n",
       "      <td>denis-19</td>\n",
       "      <td>Голосовой ассистент «Алиса» научилась узнавать...</td>\n",
       "      <td>https://habr.com/ru/post/692502</td>\n",
       "    </tr>\n",
       "    <tr>\n",
       "      <th>2</th>\n",
       "      <td>TAU15</td>\n",
       "      <td>Создаем Telegram бот с регистрацией пользовате...</td>\n",
       "      <td>https://habr.com/ru/post/692504</td>\n",
       "    </tr>\n",
       "    <tr>\n",
       "      <th>3</th>\n",
       "      <td>Markaty</td>\n",
       "      <td>Знакомство вслепую: Bumble заимствовал идею у ...</td>\n",
       "      <td>https://habr.com/ru/post/692506</td>\n",
       "    </tr>\n",
       "  </tbody>\n",
       "</table>\n",
       "</div>"
      ],
      "text/plain": [
       "          author                                              title  \\\n",
       "0  Travis_Macrif  От канадского телекома до WikiLeaks: путь Ассанжа   \n",
       "1       denis-19  Голосовой ассистент «Алиса» научилась узнавать...   \n",
       "2          TAU15  Создаем Telegram бот с регистрацией пользовате...   \n",
       "3        Markaty  Знакомство вслепую: Bumble заимствовал идею у ...   \n",
       "\n",
       "                               url  \n",
       "0  https://habr.com/ru/post/692500  \n",
       "1  https://habr.com/ru/post/692502  \n",
       "2  https://habr.com/ru/post/692504  \n",
       "3  https://habr.com/ru/post/692506  "
      ]
     },
     "execution_count": 7,
     "metadata": {},
     "output_type": "execute_result"
    }
   ],
   "source": [
    "# Создаем датаферйм из данных\n",
    "data_dict = {\"author\": auth_list, \"title\": titl_list, \"url\": urls_list}\n",
    "df = pd.DataFrame.from_dict(data_dict, orient = \"index\")\n",
    "df = df.transpose() # Индексы должны оказаться вверху\n",
    "df.head()"
   ]
  },
  {
   "cell_type": "code",
   "execution_count": 8,
   "id": "2de17316",
   "metadata": {},
   "outputs": [],
   "source": [
    "# Сохраняем в файл\n",
    "df.to_csv(\"habr.csv\", sep = \",\", index = False)"
   ]
  },
  {
   "cell_type": "code",
   "execution_count": null,
   "id": "6428a7cc",
   "metadata": {},
   "outputs": [],
   "source": []
  }
 ],
 "metadata": {
  "kernelspec": {
   "display_name": "Python 3 (ipykernel)",
   "language": "python",
   "name": "python3"
  },
  "language_info": {
   "codemirror_mode": {
    "name": "ipython",
    "version": 3
   },
   "file_extension": ".py",
   "mimetype": "text/x-python",
   "name": "python",
   "nbconvert_exporter": "python",
   "pygments_lexer": "ipython3",
   "version": "3.9.12"
  }
 },
 "nbformat": 4,
 "nbformat_minor": 5
}
