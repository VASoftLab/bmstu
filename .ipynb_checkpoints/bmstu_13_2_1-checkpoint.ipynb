{
 "cells": [
  {
   "cell_type": "code",
   "execution_count": 1,
   "id": "c62f412c",
   "metadata": {},
   "outputs": [],
   "source": [
    "import pandas as pd\n",
    "import numpy as np\n",
    "import os, time, psutil, math\n",
    "import shutil\n",
    "import matplotlib.pyplot as plt\n",
    "from matplotlib import image\n",
    "%matplotlib inline"
   ]
  },
  {
   "cell_type": "code",
   "execution_count": 2,
   "id": "ccc5e93c",
   "metadata": {},
   "outputs": [],
   "source": [
    "from tensorflow.keras.applications import vgg19\n",
    "from tensorflow.keras.preprocessing.image import load_img, img_to_array\n",
    "from tensorflow.keras.applications.imagenet_utils import decode_predictions\n",
    "from tensorflow.keras.preprocessing import image as image_k\n",
    "import pickle\n",
    "from sklearn.preprocessing import StandardScaler\n",
    "from tensorflow.keras.models import model_from_json\n",
    "from tensorflow.keras import regularizers, optimizers"
   ]
  },
  {
   "cell_type": "code",
   "execution_count": 3,
   "id": "6889dadd",
   "metadata": {},
   "outputs": [
    {
     "name": "stdout",
     "output_type": "stream",
     "text": [
      "Downloading data from https://storage.googleapis.com/tensorflow/keras-applications/vgg19/vgg19_weights_tf_dim_ordering_tf_kernels.h5\n",
      "574710816/574710816 [==============================] - 134s 0us/step\n"
     ]
    }
   ],
   "source": [
    "# Загрузка модели\n",
    "model = vgg19.VGG19(weights = 'imagenet')"
   ]
  },
  {
   "cell_type": "code",
   "execution_count": 4,
   "id": "71c6e468",
   "metadata": {},
   "outputs": [
    {
     "name": "stdout",
     "output_type": "stream",
     "text": [
      "Модель сохранена\n"
     ]
    }
   ],
   "source": [
    "# Сохранение локального файла модели VGG19\n",
    "model_json = model.to_json()\n",
    "with open('vgg19.json', 'w') as json_file:\n",
    "    json_file.write(model_json)\n",
    "    \n",
    "    \n",
    "model.save_weights('vgg19.h5')\n",
    "print('Модель сохранена')"
   ]
  },
  {
   "cell_type": "code",
   "execution_count": 10,
   "id": "0ca13fee",
   "metadata": {},
   "outputs": [],
   "source": [
    "# Загрузка данных с картинками и создание массива данных\n",
    "directory = 'D:\\\\SourceCode\\\\jupyter-notebook\\\\bmstu\\\\images\\\\'\n",
    "n_max = 4 # кол-во файлов\n",
    "n_size = 224 # размерность картинки\n",
    "x_all = np.zeros((n_max, n_size, 3), dtype = 'int16')"
   ]
  },
  {
   "cell_type": "code",
   "execution_count": 11,
   "id": "19862532",
   "metadata": {},
   "outputs": [
    {
     "ename": "FileNotFoundError",
     "evalue": "[Errno 2] No such file or directory: 'D:\\\\SourceCode\\\\jupyter-notebook\\\\bmstu\\\\images\\\\000001.jpg'",
     "output_type": "error",
     "traceback": [
      "\u001b[1;31m---------------------------------------------------------------------------\u001b[0m",
      "\u001b[1;31mFileNotFoundError\u001b[0m                         Traceback (most recent call last)",
      "Input \u001b[1;32mIn [11]\u001b[0m, in \u001b[0;36m<cell line: 1>\u001b[1;34m()\u001b[0m\n\u001b[0;32m      3\u001b[0m \u001b[38;5;28;01mwhile\u001b[39;00m \u001b[38;5;28mlen\u001b[39m(numi) \u001b[38;5;241m!=\u001b[39m \u001b[38;5;241m6\u001b[39m:\n\u001b[0;32m      4\u001b[0m     numi \u001b[38;5;241m=\u001b[39m \u001b[38;5;124m'\u001b[39m\u001b[38;5;124m0\u001b[39m\u001b[38;5;124m'\u001b[39m \u001b[38;5;241m+\u001b[39m numi\n\u001b[1;32m----> 6\u001b[0m b \u001b[38;5;241m=\u001b[39m np\u001b[38;5;241m.\u001b[39mexpand_dims(image_k\u001b[38;5;241m.\u001b[39mimg_to_array(\u001b[43mimage_k\u001b[49m\u001b[38;5;241;43m.\u001b[39;49m\u001b[43mload_img\u001b[49m\u001b[43m(\u001b[49m\u001b[43mdirectory\u001b[49m\u001b[43m \u001b[49m\u001b[38;5;241;43m+\u001b[39;49m\u001b[43m \u001b[49m\u001b[43mnumi\u001b[49m\u001b[43m \u001b[49m\u001b[38;5;241;43m+\u001b[39;49m\u001b[43m \u001b[49m\u001b[38;5;124;43m'\u001b[39;49m\u001b[38;5;124;43m.jpg\u001b[39;49m\u001b[38;5;124;43m'\u001b[39;49m\u001b[43m,\u001b[49m\n\u001b[0;32m      7\u001b[0m \u001b[43m                                                        \u001b[49m\u001b[43mtarget_size\u001b[49m\u001b[43m \u001b[49m\u001b[38;5;241;43m=\u001b[39;49m\u001b[43m \u001b[49m\u001b[43m(\u001b[49m\u001b[43mn_size\u001b[49m\u001b[43m,\u001b[49m\u001b[43m \u001b[49m\u001b[43mn_size\u001b[49m\u001b[43m)\u001b[49m\u001b[43m)\u001b[49m), axis \u001b[38;5;241m=\u001b[39m \u001b[38;5;241m0\u001b[39m)\u001b[38;5;241m.\u001b[39mreshape([n_size, n_size, \u001b[38;5;241m3\u001b[39m])\n\u001b[0;32m      8\u001b[0m x_all[n\u001b[38;5;241m-\u001b[39m\u001b[38;5;241m1\u001b[39m] \u001b[38;5;241m=\u001b[39m b\n\u001b[0;32m      9\u001b[0m \u001b[38;5;28mprint\u001b[39m(\u001b[38;5;124mf\u001b[39m\u001b[38;5;124m'\u001b[39m\u001b[38;5;124mЗагружено картинок \u001b[39m\u001b[38;5;132;01m{\u001b[39;00m\u001b[38;5;28mlen\u001b[39m(x_all)\u001b[38;5;132;01m}\u001b[39;00m\u001b[38;5;124m'\u001b[39m)\n",
      "File \u001b[1;32m~\\anaconda3\\lib\\site-packages\\keras\\utils\\image_utils.py:422\u001b[0m, in \u001b[0;36mload_img\u001b[1;34m(path, grayscale, color_mode, target_size, interpolation, keep_aspect_ratio)\u001b[0m\n\u001b[0;32m    420\u001b[0m     \u001b[38;5;28;01mif\u001b[39;00m \u001b[38;5;28misinstance\u001b[39m(path, pathlib\u001b[38;5;241m.\u001b[39mPath):\n\u001b[0;32m    421\u001b[0m         path \u001b[38;5;241m=\u001b[39m \u001b[38;5;28mstr\u001b[39m(path\u001b[38;5;241m.\u001b[39mresolve())\n\u001b[1;32m--> 422\u001b[0m     \u001b[38;5;28;01mwith\u001b[39;00m \u001b[38;5;28;43mopen\u001b[39;49m\u001b[43m(\u001b[49m\u001b[43mpath\u001b[49m\u001b[43m,\u001b[49m\u001b[43m \u001b[49m\u001b[38;5;124;43m\"\u001b[39;49m\u001b[38;5;124;43mrb\u001b[39;49m\u001b[38;5;124;43m\"\u001b[39;49m\u001b[43m)\u001b[49m \u001b[38;5;28;01mas\u001b[39;00m f:\n\u001b[0;32m    423\u001b[0m         img \u001b[38;5;241m=\u001b[39m pil_image\u001b[38;5;241m.\u001b[39mopen(io\u001b[38;5;241m.\u001b[39mBytesIO(f\u001b[38;5;241m.\u001b[39mread()))\n\u001b[0;32m    424\u001b[0m \u001b[38;5;28;01melse\u001b[39;00m:\n",
      "\u001b[1;31mFileNotFoundError\u001b[0m: [Errno 2] No such file or directory: 'D:\\\\SourceCode\\\\jupyter-notebook\\\\bmstu\\\\images\\\\000001.jpg'"
     ]
    }
   ],
   "source": [
    "for n in range(1, n_max + 1):\n",
    "    numi = str(n)\n",
    "    while len(numi) != 6:\n",
    "        numi = '0' + numi\n",
    "        \n",
    "    b = np.expand_dims(image_k.img_to_array(image_k.load_img(directory + numi + '.jpg',\n",
    "                                                            target_size = (n_size, n_size))), axis = 0).reshape([n_size, n_size, 3])\n",
    "    x_all[n-1] = b\n",
    "    print(f'Загружено картинок {len(x_all)}')"
   ]
  },
  {
   "cell_type": "code",
   "execution_count": 12,
   "id": "aafd9e1c",
   "metadata": {},
   "outputs": [
    {
     "ename": "FileNotFoundError",
     "evalue": "[Errno 2] No such file or directory: '/content/vgg19.json'",
     "output_type": "error",
     "traceback": [
      "\u001b[1;31m---------------------------------------------------------------------------\u001b[0m",
      "\u001b[1;31mFileNotFoundError\u001b[0m                         Traceback (most recent call last)",
      "Input \u001b[1;32mIn [12]\u001b[0m, in \u001b[0;36m<cell line: 2>\u001b[1;34m()\u001b[0m\n\u001b[0;32m      1\u001b[0m \u001b[38;5;66;03m# Обращение к модели\u001b[39;00m\n\u001b[1;32m----> 2\u001b[0m json_file \u001b[38;5;241m=\u001b[39m \u001b[38;5;28;43mopen\u001b[39;49m\u001b[43m(\u001b[49m\u001b[38;5;124;43m'\u001b[39;49m\u001b[38;5;124;43m/content/vgg19.json\u001b[39;49m\u001b[38;5;124;43m'\u001b[39;49m\u001b[43m,\u001b[49m\u001b[43m \u001b[49m\u001b[38;5;124;43m'\u001b[39;49m\u001b[38;5;124;43mr\u001b[39;49m\u001b[38;5;124;43m'\u001b[39;49m\u001b[43m)\u001b[49m\n\u001b[0;32m      3\u001b[0m loaded_model_json \u001b[38;5;241m=\u001b[39m json_file\u001b[38;5;241m.\u001b[39mread()\n\u001b[0;32m      4\u001b[0m json_file\u001b[38;5;241m.\u001b[39mclose()\n",
      "\u001b[1;31mFileNotFoundError\u001b[0m: [Errno 2] No such file or directory: '/content/vgg19.json'"
     ]
    }
   ],
   "source": [
    "# Обращение к модели\n",
    "json_file = open('/content/vgg19.json', 'r')\n",
    "loaded_model_json = json_file.read()\n",
    "json_file.close()\n",
    "\n",
    "# Подгружаем веса\n",
    "loaded_model = model_from_json(loaded_model_json)\n",
    "loaded_model.load_weights('/content/vgg19.h5'\n",
    "                         )\n",
    "print('Модель загружена')\n",
    "x_all_preprocessed = []\n",
    "for i in x_all:\n",
    "    i = i.reshape([-1, 224, 224, 3])\n",
    "    x_all_preprocessed.append(i)\n",
    "    \n",
    "    \n",
    "# Подача данных в модель\n",
    "prediction_list = []\n",
    "# Распознование\n",
    "for i in range(0, len(x_all_preprocessed)):\n",
    "    # Прогноз\n",
    "    prediction = loaded_model.predict(x_all_preprocessed[i]).reshape([-1,224,224,3])\n",
    "    prediction_list.append(prediction)\n",
    "    \n",
    "    \n",
    "    \n",
    "labels_decoded = []\n",
    "for i in range(0, len(x_all_preprocessed)):\n",
    "    # Создаем метки\n",
    "    label = decode_predictions(prediction_list[i], top = 5)[0]\n",
    "    labels_enconded.append([(t[1], t[2].item()) for t in label])"
   ]
  },
  {
   "cell_type": "code",
   "execution_count": null,
   "id": "7c07d2ed",
   "metadata": {},
   "outputs": [],
   "source": [
    "# Вывод финального результата\n",
    "for i in range(0, len(x_all_preprocessed)):\n",
    "    # Изображения\n",
    "    plt.imshow(np.uint8(x_all[i]))\n",
    "    plt.show()\n",
    "    print(f'Вероятность принадлежности: {labels_decoded[i]}')"
   ]
  }
 ],
 "metadata": {
  "kernelspec": {
   "display_name": "Python 3 (ipykernel)",
   "language": "python",
   "name": "python3"
  },
  "language_info": {
   "codemirror_mode": {
    "name": "ipython",
    "version": 3
   },
   "file_extension": ".py",
   "mimetype": "text/x-python",
   "name": "python",
   "nbconvert_exporter": "python",
   "pygments_lexer": "ipython3",
   "version": "3.9.12"
  }
 },
 "nbformat": 4,
 "nbformat_minor": 5
}
