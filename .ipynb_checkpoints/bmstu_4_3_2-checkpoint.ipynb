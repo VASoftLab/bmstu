{
 "cells": [
  {
   "cell_type": "markdown",
   "id": "24cdbdfd",
   "metadata": {},
   "source": [
    "### Ленивые вычисления"
   ]
  },
  {
   "cell_type": "code",
   "execution_count": 1,
   "id": "3090cf12",
   "metadata": {},
   "outputs": [
    {
     "name": "stdout",
     "output_type": "stream",
     "text": [
      "[1, 2, 3, 4, 5, 6]\n"
     ]
    }
   ],
   "source": [
    "# Создаем обычный список\n",
    "lst = [1,2,3,4,5,6]\n",
    "print(lst)"
   ]
  },
  {
   "cell_type": "code",
   "execution_count": 3,
   "id": "5e3246c4",
   "metadata": {},
   "outputs": [
    {
     "name": "stdout",
     "output_type": "stream",
     "text": [
      "[0, 1, 2, 3, 4, 5, 6]\n"
     ]
    }
   ],
   "source": [
    "# Через цикл\n",
    "lst = []\n",
    "for i in range(7):\n",
    "    lst.append(i)\n",
    "print(lst)"
   ]
  },
  {
   "cell_type": "code",
   "execution_count": 4,
   "id": "8a2438f0",
   "metadata": {},
   "outputs": [
    {
     "name": "stdout",
     "output_type": "stream",
     "text": [
      "[0, 1, 2, 3, 4, 5, 6]\n"
     ]
    }
   ],
   "source": [
    "lst = [i for i in range(7)]\n",
    "print(lst)"
   ]
  },
  {
   "cell_type": "code",
   "execution_count": 5,
   "id": "e002a44c",
   "metadata": {},
   "outputs": [
    {
     "name": "stdout",
     "output_type": "stream",
     "text": [
      "<generator object <genexpr> at 0x000001EBECECA4A0>\n"
     ]
    }
   ],
   "source": [
    "# Генераторное выражение для генерации списка\n",
    "lst = (i for i in range(7))\n",
    "print(lst)"
   ]
  },
  {
   "cell_type": "code",
   "execution_count": 6,
   "id": "9370f7ba",
   "metadata": {},
   "outputs": [
    {
     "name": "stdout",
     "output_type": "stream",
     "text": [
      "0\n",
      "1\n"
     ]
    }
   ],
   "source": [
    "print(next(lst))\n",
    "print(next(lst))"
   ]
  },
  {
   "cell_type": "code",
   "execution_count": 7,
   "id": "2c7c08cd",
   "metadata": {},
   "outputs": [
    {
     "name": "stdout",
     "output_type": "stream",
     "text": [
      "2\n"
     ]
    }
   ],
   "source": [
    "print(next(lst))"
   ]
  },
  {
   "cell_type": "code",
   "execution_count": 8,
   "id": "7ae48280",
   "metadata": {},
   "outputs": [
    {
     "name": "stdout",
     "output_type": "stream",
     "text": [
      "3\n",
      "4\n",
      "5\n",
      "6\n"
     ]
    },
    {
     "ename": "StopIteration",
     "evalue": "",
     "output_type": "error",
     "traceback": [
      "\u001b[1;31m---------------------------------------------------------------------------\u001b[0m",
      "\u001b[1;31mStopIteration\u001b[0m                             Traceback (most recent call last)",
      "Input \u001b[1;32mIn [8]\u001b[0m, in \u001b[0;36m<cell line: 6>\u001b[1;34m()\u001b[0m\n\u001b[0;32m      4\u001b[0m \u001b[38;5;28mprint\u001b[39m(\u001b[38;5;28mnext\u001b[39m(lst))\n\u001b[0;32m      5\u001b[0m \u001b[38;5;28mprint\u001b[39m(\u001b[38;5;28mnext\u001b[39m(lst))\n\u001b[1;32m----> 6\u001b[0m \u001b[38;5;28mprint\u001b[39m(\u001b[38;5;28;43mnext\u001b[39;49m\u001b[43m(\u001b[49m\u001b[43mlst\u001b[49m\u001b[43m)\u001b[49m)\n",
      "\u001b[1;31mStopIteration\u001b[0m: "
     ]
    }
   ],
   "source": [
    "# При достижении конца, возникнет исключение\n",
    "print(next(lst))\n",
    "print(next(lst))\n",
    "print(next(lst))\n",
    "print(next(lst))\n",
    "print(next(lst))"
   ]
  },
  {
   "cell_type": "code",
   "execution_count": 9,
   "id": "4c8fdfea",
   "metadata": {},
   "outputs": [
    {
     "name": "stdout",
     "output_type": "stream",
     "text": [
      "184 8856\n"
     ]
    }
   ],
   "source": [
    "import sys\n",
    "lst1 = [i for i in range(10)]\n",
    "lst2 = [i for i in range(1000)]\n",
    "print(sys.getsizeof(lst1), sys.getsizeof(lst2))"
   ]
  },
  {
   "cell_type": "code",
   "execution_count": 10,
   "id": "cc2c99d7",
   "metadata": {},
   "outputs": [
    {
     "name": "stdout",
     "output_type": "stream",
     "text": [
      "112 112\n"
     ]
    }
   ],
   "source": [
    "# При использовании генераторных выражение размер не отличается\n",
    "lst1 = (i for i in range(10))\n",
    "lst2 = (i for i in range(1000))\n",
    "print(sys.getsizeof(lst1), sys.getsizeof(lst2))"
   ]
  },
  {
   "cell_type": "code",
   "execution_count": null,
   "id": "9c8ae48c",
   "metadata": {},
   "outputs": [],
   "source": []
  }
 ],
 "metadata": {
  "kernelspec": {
   "display_name": "Python 3 (ipykernel)",
   "language": "python",
   "name": "python3"
  },
  "language_info": {
   "codemirror_mode": {
    "name": "ipython",
    "version": 3
   },
   "file_extension": ".py",
   "mimetype": "text/x-python",
   "name": "python",
   "nbconvert_exporter": "python",
   "pygments_lexer": "ipython3",
   "version": "3.9.12"
  }
 },
 "nbformat": 4,
 "nbformat_minor": 5
}
