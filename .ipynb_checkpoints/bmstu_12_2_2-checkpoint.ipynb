{
 "cells": [
  {
   "cell_type": "markdown",
   "id": "f3b7fa4a",
   "metadata": {},
   "source": [
    "### Решение регрессионной задачи с помоощью нейронной сети"
   ]
  },
  {
   "cell_type": "code",
   "execution_count": 1,
   "id": "efd1062a",
   "metadata": {},
   "outputs": [],
   "source": [
    "import matplotlib.pyplot as plt\n",
    "%matplotlib inline\n",
    "\n",
    "import numpy as np\n",
    "import pandas as pd\n",
    "\n",
    "np.set_printoptions(precision = 3, suppress = True)"
   ]
  },
  {
   "cell_type": "code",
   "execution_count": 2,
   "id": "ac9123a6",
   "metadata": {},
   "outputs": [
    {
     "name": "stdout",
     "output_type": "stream",
     "text": [
      "2.10.0\n"
     ]
    }
   ],
   "source": [
    "import tensorflow as tf\n",
    "from tensorflow import keras\n",
    "from tensorflow.keras import layers\n",
    "print(tf.__version__)"
   ]
  },
  {
   "cell_type": "markdown",
   "id": "4a686f00",
   "metadata": {},
   "source": [
    "#### Создание моделей для прогнозирования топливной экономичности автомобилей"
   ]
  },
  {
   "cell_type": "code",
   "execution_count": 3,
   "id": "a5f5a8f5",
   "metadata": {},
   "outputs": [],
   "source": [
    "url = 'http://archive.ics.uci.edu/ml/machine-learning-databases/auto-mpg/auto-mpg.data'\n",
    "column_names = ['MPG', 'Cylinders', 'Displacement', 'Horsepower', 'Weight',\n",
    "                'Acceleration', 'Model Year', 'Origin']\n",
    "raw_dataset = pd.read_csv(url, names = column_names, na_values = '?',\n",
    "                          comment = '\\t', sep = ' ', skipinitialspace = True)"
   ]
  },
  {
   "cell_type": "code",
   "execution_count": 4,
   "id": "091c849f",
   "metadata": {},
   "outputs": [
    {
     "data": {
      "text/html": [
       "<div>\n",
       "<style scoped>\n",
       "    .dataframe tbody tr th:only-of-type {\n",
       "        vertical-align: middle;\n",
       "    }\n",
       "\n",
       "    .dataframe tbody tr th {\n",
       "        vertical-align: top;\n",
       "    }\n",
       "\n",
       "    .dataframe thead th {\n",
       "        text-align: right;\n",
       "    }\n",
       "</style>\n",
       "<table border=\"1\" class=\"dataframe\">\n",
       "  <thead>\n",
       "    <tr style=\"text-align: right;\">\n",
       "      <th></th>\n",
       "      <th>MPG</th>\n",
       "      <th>Cylinders</th>\n",
       "      <th>Displacement</th>\n",
       "      <th>Horsepower</th>\n",
       "      <th>Weight</th>\n",
       "      <th>Acceleration</th>\n",
       "      <th>Model Year</th>\n",
       "      <th>Origin</th>\n",
       "    </tr>\n",
       "  </thead>\n",
       "  <tbody>\n",
       "    <tr>\n",
       "      <th>0</th>\n",
       "      <td>18.0</td>\n",
       "      <td>8</td>\n",
       "      <td>307.0</td>\n",
       "      <td>130.0</td>\n",
       "      <td>3504.0</td>\n",
       "      <td>12.0</td>\n",
       "      <td>70</td>\n",
       "      <td>1</td>\n",
       "    </tr>\n",
       "    <tr>\n",
       "      <th>1</th>\n",
       "      <td>15.0</td>\n",
       "      <td>8</td>\n",
       "      <td>350.0</td>\n",
       "      <td>165.0</td>\n",
       "      <td>3693.0</td>\n",
       "      <td>11.5</td>\n",
       "      <td>70</td>\n",
       "      <td>1</td>\n",
       "    </tr>\n",
       "    <tr>\n",
       "      <th>2</th>\n",
       "      <td>18.0</td>\n",
       "      <td>8</td>\n",
       "      <td>318.0</td>\n",
       "      <td>150.0</td>\n",
       "      <td>3436.0</td>\n",
       "      <td>11.0</td>\n",
       "      <td>70</td>\n",
       "      <td>1</td>\n",
       "    </tr>\n",
       "    <tr>\n",
       "      <th>3</th>\n",
       "      <td>16.0</td>\n",
       "      <td>8</td>\n",
       "      <td>304.0</td>\n",
       "      <td>150.0</td>\n",
       "      <td>3433.0</td>\n",
       "      <td>12.0</td>\n",
       "      <td>70</td>\n",
       "      <td>1</td>\n",
       "    </tr>\n",
       "    <tr>\n",
       "      <th>4</th>\n",
       "      <td>17.0</td>\n",
       "      <td>8</td>\n",
       "      <td>302.0</td>\n",
       "      <td>140.0</td>\n",
       "      <td>3449.0</td>\n",
       "      <td>10.5</td>\n",
       "      <td>70</td>\n",
       "      <td>1</td>\n",
       "    </tr>\n",
       "  </tbody>\n",
       "</table>\n",
       "</div>"
      ],
      "text/plain": [
       "    MPG  Cylinders  Displacement  Horsepower  Weight  Acceleration  \\\n",
       "0  18.0          8         307.0       130.0  3504.0          12.0   \n",
       "1  15.0          8         350.0       165.0  3693.0          11.5   \n",
       "2  18.0          8         318.0       150.0  3436.0          11.0   \n",
       "3  16.0          8         304.0       150.0  3433.0          12.0   \n",
       "4  17.0          8         302.0       140.0  3449.0          10.5   \n",
       "\n",
       "   Model Year  Origin  \n",
       "0          70       1  \n",
       "1          70       1  \n",
       "2          70       1  \n",
       "3          70       1  \n",
       "4          70       1  "
      ]
     },
     "execution_count": 4,
     "metadata": {},
     "output_type": "execute_result"
    }
   ],
   "source": [
    "raw_dataset.head()"
   ]
  },
  {
   "cell_type": "code",
   "execution_count": 5,
   "id": "517ee8bd",
   "metadata": {},
   "outputs": [
    {
     "data": {
      "text/html": [
       "<div>\n",
       "<style scoped>\n",
       "    .dataframe tbody tr th:only-of-type {\n",
       "        vertical-align: middle;\n",
       "    }\n",
       "\n",
       "    .dataframe tbody tr th {\n",
       "        vertical-align: top;\n",
       "    }\n",
       "\n",
       "    .dataframe thead th {\n",
       "        text-align: right;\n",
       "    }\n",
       "</style>\n",
       "<table border=\"1\" class=\"dataframe\">\n",
       "  <thead>\n",
       "    <tr style=\"text-align: right;\">\n",
       "      <th></th>\n",
       "      <th>MPG</th>\n",
       "      <th>Cylinders</th>\n",
       "      <th>Displacement</th>\n",
       "      <th>Horsepower</th>\n",
       "      <th>Weight</th>\n",
       "      <th>Acceleration</th>\n",
       "      <th>Model Year</th>\n",
       "      <th>Origin</th>\n",
       "    </tr>\n",
       "  </thead>\n",
       "  <tbody>\n",
       "    <tr>\n",
       "      <th>0</th>\n",
       "      <td>18.0</td>\n",
       "      <td>8</td>\n",
       "      <td>307.0</td>\n",
       "      <td>130.0</td>\n",
       "      <td>3504.0</td>\n",
       "      <td>12.0</td>\n",
       "      <td>70</td>\n",
       "      <td>1</td>\n",
       "    </tr>\n",
       "    <tr>\n",
       "      <th>1</th>\n",
       "      <td>15.0</td>\n",
       "      <td>8</td>\n",
       "      <td>350.0</td>\n",
       "      <td>165.0</td>\n",
       "      <td>3693.0</td>\n",
       "      <td>11.5</td>\n",
       "      <td>70</td>\n",
       "      <td>1</td>\n",
       "    </tr>\n",
       "    <tr>\n",
       "      <th>2</th>\n",
       "      <td>18.0</td>\n",
       "      <td>8</td>\n",
       "      <td>318.0</td>\n",
       "      <td>150.0</td>\n",
       "      <td>3436.0</td>\n",
       "      <td>11.0</td>\n",
       "      <td>70</td>\n",
       "      <td>1</td>\n",
       "    </tr>\n",
       "    <tr>\n",
       "      <th>3</th>\n",
       "      <td>16.0</td>\n",
       "      <td>8</td>\n",
       "      <td>304.0</td>\n",
       "      <td>150.0</td>\n",
       "      <td>3433.0</td>\n",
       "      <td>12.0</td>\n",
       "      <td>70</td>\n",
       "      <td>1</td>\n",
       "    </tr>\n",
       "    <tr>\n",
       "      <th>4</th>\n",
       "      <td>17.0</td>\n",
       "      <td>8</td>\n",
       "      <td>302.0</td>\n",
       "      <td>140.0</td>\n",
       "      <td>3449.0</td>\n",
       "      <td>10.5</td>\n",
       "      <td>70</td>\n",
       "      <td>1</td>\n",
       "    </tr>\n",
       "  </tbody>\n",
       "</table>\n",
       "</div>"
      ],
      "text/plain": [
       "    MPG  Cylinders  Displacement  Horsepower  Weight  Acceleration  \\\n",
       "0  18.0          8         307.0       130.0  3504.0          12.0   \n",
       "1  15.0          8         350.0       165.0  3693.0          11.5   \n",
       "2  18.0          8         318.0       150.0  3436.0          11.0   \n",
       "3  16.0          8         304.0       150.0  3433.0          12.0   \n",
       "4  17.0          8         302.0       140.0  3449.0          10.5   \n",
       "\n",
       "   Model Year  Origin  \n",
       "0          70       1  \n",
       "1          70       1  \n",
       "2          70       1  \n",
       "3          70       1  \n",
       "4          70       1  "
      ]
     },
     "execution_count": 5,
     "metadata": {},
     "output_type": "execute_result"
    }
   ],
   "source": [
    "# Создаем копию датасета\n",
    "dataset = raw_dataset.copy()\n",
    "dataset.head()"
   ]
  },
  {
   "cell_type": "code",
   "execution_count": 6,
   "id": "a45ed44a",
   "metadata": {},
   "outputs": [
    {
     "data": {
      "text/plain": [
       "MPG             0\n",
       "Cylinders       0\n",
       "Displacement    0\n",
       "Horsepower      6\n",
       "Weight          0\n",
       "Acceleration    0\n",
       "Model Year      0\n",
       "Origin          0\n",
       "dtype: int64"
      ]
     },
     "execution_count": 6,
     "metadata": {},
     "output_type": "execute_result"
    }
   ],
   "source": [
    "# Проверяем на пустые значения\n",
    "dataset.isna().sum()"
   ]
  },
  {
   "cell_type": "code",
   "execution_count": 7,
   "id": "31050983",
   "metadata": {},
   "outputs": [],
   "source": [
    "# Удаляем пустые значения\n",
    "dataset = dataset.dropna()"
   ]
  },
  {
   "cell_type": "code",
   "execution_count": 8,
   "id": "b342eb1c",
   "metadata": {},
   "outputs": [
    {
     "data": {
      "text/html": [
       "<div>\n",
       "<style scoped>\n",
       "    .dataframe tbody tr th:only-of-type {\n",
       "        vertical-align: middle;\n",
       "    }\n",
       "\n",
       "    .dataframe tbody tr th {\n",
       "        vertical-align: top;\n",
       "    }\n",
       "\n",
       "    .dataframe thead th {\n",
       "        text-align: right;\n",
       "    }\n",
       "</style>\n",
       "<table border=\"1\" class=\"dataframe\">\n",
       "  <thead>\n",
       "    <tr style=\"text-align: right;\">\n",
       "      <th></th>\n",
       "      <th>MPG</th>\n",
       "      <th>Cylinders</th>\n",
       "      <th>Displacement</th>\n",
       "      <th>Horsepower</th>\n",
       "      <th>Weight</th>\n",
       "      <th>Acceleration</th>\n",
       "      <th>Model Year</th>\n",
       "      <th>Origin</th>\n",
       "    </tr>\n",
       "  </thead>\n",
       "  <tbody>\n",
       "    <tr>\n",
       "      <th>0</th>\n",
       "      <td>18.0</td>\n",
       "      <td>8</td>\n",
       "      <td>307.0</td>\n",
       "      <td>130.0</td>\n",
       "      <td>3504.0</td>\n",
       "      <td>12.0</td>\n",
       "      <td>70</td>\n",
       "      <td>USA</td>\n",
       "    </tr>\n",
       "    <tr>\n",
       "      <th>1</th>\n",
       "      <td>15.0</td>\n",
       "      <td>8</td>\n",
       "      <td>350.0</td>\n",
       "      <td>165.0</td>\n",
       "      <td>3693.0</td>\n",
       "      <td>11.5</td>\n",
       "      <td>70</td>\n",
       "      <td>USA</td>\n",
       "    </tr>\n",
       "    <tr>\n",
       "      <th>2</th>\n",
       "      <td>18.0</td>\n",
       "      <td>8</td>\n",
       "      <td>318.0</td>\n",
       "      <td>150.0</td>\n",
       "      <td>3436.0</td>\n",
       "      <td>11.0</td>\n",
       "      <td>70</td>\n",
       "      <td>USA</td>\n",
       "    </tr>\n",
       "    <tr>\n",
       "      <th>3</th>\n",
       "      <td>16.0</td>\n",
       "      <td>8</td>\n",
       "      <td>304.0</td>\n",
       "      <td>150.0</td>\n",
       "      <td>3433.0</td>\n",
       "      <td>12.0</td>\n",
       "      <td>70</td>\n",
       "      <td>USA</td>\n",
       "    </tr>\n",
       "    <tr>\n",
       "      <th>4</th>\n",
       "      <td>17.0</td>\n",
       "      <td>8</td>\n",
       "      <td>302.0</td>\n",
       "      <td>140.0</td>\n",
       "      <td>3449.0</td>\n",
       "      <td>10.5</td>\n",
       "      <td>70</td>\n",
       "      <td>USA</td>\n",
       "    </tr>\n",
       "  </tbody>\n",
       "</table>\n",
       "</div>"
      ],
      "text/plain": [
       "    MPG  Cylinders  Displacement  Horsepower  Weight  Acceleration  \\\n",
       "0  18.0          8         307.0       130.0  3504.0          12.0   \n",
       "1  15.0          8         350.0       165.0  3693.0          11.5   \n",
       "2  18.0          8         318.0       150.0  3436.0          11.0   \n",
       "3  16.0          8         304.0       150.0  3433.0          12.0   \n",
       "4  17.0          8         302.0       140.0  3449.0          10.5   \n",
       "\n",
       "   Model Year Origin  \n",
       "0          70    USA  \n",
       "1          70    USA  \n",
       "2          70    USA  \n",
       "3          70    USA  \n",
       "4          70    USA  "
      ]
     },
     "execution_count": 8,
     "metadata": {},
     "output_type": "execute_result"
    }
   ],
   "source": [
    "# Создаем OneHotEncoding для датасета\n",
    "dataset['Origin'] = dataset['Origin'].map({1: 'USA', 2: 'Europe', 3: 'Japan'})\n",
    "dataset.head()"
   ]
  },
  {
   "cell_type": "code",
   "execution_count": 9,
   "id": "41d17a1c",
   "metadata": {},
   "outputs": [
    {
     "data": {
      "text/html": [
       "<div>\n",
       "<style scoped>\n",
       "    .dataframe tbody tr th:only-of-type {\n",
       "        vertical-align: middle;\n",
       "    }\n",
       "\n",
       "    .dataframe tbody tr th {\n",
       "        vertical-align: top;\n",
       "    }\n",
       "\n",
       "    .dataframe thead th {\n",
       "        text-align: right;\n",
       "    }\n",
       "</style>\n",
       "<table border=\"1\" class=\"dataframe\">\n",
       "  <thead>\n",
       "    <tr style=\"text-align: right;\">\n",
       "      <th></th>\n",
       "      <th>MPG</th>\n",
       "      <th>Cylinders</th>\n",
       "      <th>Displacement</th>\n",
       "      <th>Horsepower</th>\n",
       "      <th>Weight</th>\n",
       "      <th>Acceleration</th>\n",
       "      <th>Model Year</th>\n",
       "      <th>Europe</th>\n",
       "      <th>Japan</th>\n",
       "      <th>USA</th>\n",
       "    </tr>\n",
       "  </thead>\n",
       "  <tbody>\n",
       "    <tr>\n",
       "      <th>393</th>\n",
       "      <td>27.0</td>\n",
       "      <td>4</td>\n",
       "      <td>140.0</td>\n",
       "      <td>86.0</td>\n",
       "      <td>2790.0</td>\n",
       "      <td>15.6</td>\n",
       "      <td>82</td>\n",
       "      <td>0</td>\n",
       "      <td>0</td>\n",
       "      <td>1</td>\n",
       "    </tr>\n",
       "    <tr>\n",
       "      <th>394</th>\n",
       "      <td>44.0</td>\n",
       "      <td>4</td>\n",
       "      <td>97.0</td>\n",
       "      <td>52.0</td>\n",
       "      <td>2130.0</td>\n",
       "      <td>24.6</td>\n",
       "      <td>82</td>\n",
       "      <td>1</td>\n",
       "      <td>0</td>\n",
       "      <td>0</td>\n",
       "    </tr>\n",
       "    <tr>\n",
       "      <th>395</th>\n",
       "      <td>32.0</td>\n",
       "      <td>4</td>\n",
       "      <td>135.0</td>\n",
       "      <td>84.0</td>\n",
       "      <td>2295.0</td>\n",
       "      <td>11.6</td>\n",
       "      <td>82</td>\n",
       "      <td>0</td>\n",
       "      <td>0</td>\n",
       "      <td>1</td>\n",
       "    </tr>\n",
       "    <tr>\n",
       "      <th>396</th>\n",
       "      <td>28.0</td>\n",
       "      <td>4</td>\n",
       "      <td>120.0</td>\n",
       "      <td>79.0</td>\n",
       "      <td>2625.0</td>\n",
       "      <td>18.6</td>\n",
       "      <td>82</td>\n",
       "      <td>0</td>\n",
       "      <td>0</td>\n",
       "      <td>1</td>\n",
       "    </tr>\n",
       "    <tr>\n",
       "      <th>397</th>\n",
       "      <td>31.0</td>\n",
       "      <td>4</td>\n",
       "      <td>119.0</td>\n",
       "      <td>82.0</td>\n",
       "      <td>2720.0</td>\n",
       "      <td>19.4</td>\n",
       "      <td>82</td>\n",
       "      <td>0</td>\n",
       "      <td>0</td>\n",
       "      <td>1</td>\n",
       "    </tr>\n",
       "  </tbody>\n",
       "</table>\n",
       "</div>"
      ],
      "text/plain": [
       "      MPG  Cylinders  Displacement  Horsepower  Weight  Acceleration  \\\n",
       "393  27.0          4         140.0        86.0  2790.0          15.6   \n",
       "394  44.0          4          97.0        52.0  2130.0          24.6   \n",
       "395  32.0          4         135.0        84.0  2295.0          11.6   \n",
       "396  28.0          4         120.0        79.0  2625.0          18.6   \n",
       "397  31.0          4         119.0        82.0  2720.0          19.4   \n",
       "\n",
       "     Model Year  Europe  Japan  USA  \n",
       "393          82       0      0    1  \n",
       "394          82       1      0    0  \n",
       "395          82       0      0    1  \n",
       "396          82       0      0    1  \n",
       "397          82       0      0    1  "
      ]
     },
     "execution_count": 9,
     "metadata": {},
     "output_type": "execute_result"
    }
   ],
   "source": [
    "dataset = pd.get_dummies(dataset, columns=['Origin'], prefix = '', prefix_sep='')\n",
    "dataset.tail()"
   ]
  },
  {
   "cell_type": "code",
   "execution_count": 10,
   "id": "084182c0",
   "metadata": {},
   "outputs": [],
   "source": [
    "# Разбивка на датасеты (тренировочная выборка и тестовая выборка)\n",
    "train_dataset = dataset.sample(frac = 0.8, random_state = 0)\n",
    "test_dataset = dataset.drop(train_dataset.index) # Удаляем из основного датасета данные, которые задействованы в обучении"
   ]
  },
  {
   "cell_type": "code",
   "execution_count": 11,
   "id": "a3945d8f",
   "metadata": {},
   "outputs": [
    {
     "data": {
      "text/html": [
       "<div>\n",
       "<style scoped>\n",
       "    .dataframe tbody tr th:only-of-type {\n",
       "        vertical-align: middle;\n",
       "    }\n",
       "\n",
       "    .dataframe tbody tr th {\n",
       "        vertical-align: top;\n",
       "    }\n",
       "\n",
       "    .dataframe thead th {\n",
       "        text-align: right;\n",
       "    }\n",
       "</style>\n",
       "<table border=\"1\" class=\"dataframe\">\n",
       "  <thead>\n",
       "    <tr style=\"text-align: right;\">\n",
       "      <th></th>\n",
       "      <th>MPG</th>\n",
       "      <th>Cylinders</th>\n",
       "      <th>Displacement</th>\n",
       "      <th>Horsepower</th>\n",
       "      <th>Weight</th>\n",
       "      <th>Acceleration</th>\n",
       "      <th>Model Year</th>\n",
       "      <th>Europe</th>\n",
       "      <th>Japan</th>\n",
       "      <th>USA</th>\n",
       "    </tr>\n",
       "  </thead>\n",
       "  <tbody>\n",
       "    <tr>\n",
       "      <th>146</th>\n",
       "      <td>28.0</td>\n",
       "      <td>4</td>\n",
       "      <td>90.0</td>\n",
       "      <td>75.0</td>\n",
       "      <td>2125.0</td>\n",
       "      <td>14.5</td>\n",
       "      <td>74</td>\n",
       "      <td>0</td>\n",
       "      <td>0</td>\n",
       "      <td>1</td>\n",
       "    </tr>\n",
       "    <tr>\n",
       "      <th>282</th>\n",
       "      <td>22.3</td>\n",
       "      <td>4</td>\n",
       "      <td>140.0</td>\n",
       "      <td>88.0</td>\n",
       "      <td>2890.0</td>\n",
       "      <td>17.3</td>\n",
       "      <td>79</td>\n",
       "      <td>0</td>\n",
       "      <td>0</td>\n",
       "      <td>1</td>\n",
       "    </tr>\n",
       "    <tr>\n",
       "      <th>69</th>\n",
       "      <td>12.0</td>\n",
       "      <td>8</td>\n",
       "      <td>350.0</td>\n",
       "      <td>160.0</td>\n",
       "      <td>4456.0</td>\n",
       "      <td>13.5</td>\n",
       "      <td>72</td>\n",
       "      <td>0</td>\n",
       "      <td>0</td>\n",
       "      <td>1</td>\n",
       "    </tr>\n",
       "    <tr>\n",
       "      <th>378</th>\n",
       "      <td>38.0</td>\n",
       "      <td>4</td>\n",
       "      <td>105.0</td>\n",
       "      <td>63.0</td>\n",
       "      <td>2125.0</td>\n",
       "      <td>14.7</td>\n",
       "      <td>82</td>\n",
       "      <td>0</td>\n",
       "      <td>0</td>\n",
       "      <td>1</td>\n",
       "    </tr>\n",
       "    <tr>\n",
       "      <th>331</th>\n",
       "      <td>33.8</td>\n",
       "      <td>4</td>\n",
       "      <td>97.0</td>\n",
       "      <td>67.0</td>\n",
       "      <td>2145.0</td>\n",
       "      <td>18.0</td>\n",
       "      <td>80</td>\n",
       "      <td>0</td>\n",
       "      <td>1</td>\n",
       "      <td>0</td>\n",
       "    </tr>\n",
       "  </tbody>\n",
       "</table>\n",
       "</div>"
      ],
      "text/plain": [
       "      MPG  Cylinders  Displacement  Horsepower  Weight  Acceleration  \\\n",
       "146  28.0          4          90.0        75.0  2125.0          14.5   \n",
       "282  22.3          4         140.0        88.0  2890.0          17.3   \n",
       "69   12.0          8         350.0       160.0  4456.0          13.5   \n",
       "378  38.0          4         105.0        63.0  2125.0          14.7   \n",
       "331  33.8          4          97.0        67.0  2145.0          18.0   \n",
       "\n",
       "     Model Year  Europe  Japan  USA  \n",
       "146          74       0      0    1  \n",
       "282          79       0      0    1  \n",
       "69           72       0      0    1  \n",
       "378          82       0      0    1  \n",
       "331          80       0      1    0  "
      ]
     },
     "execution_count": 11,
     "metadata": {},
     "output_type": "execute_result"
    }
   ],
   "source": [
    "train_dataset.head()"
   ]
  },
  {
   "cell_type": "code",
   "execution_count": 12,
   "id": "5812b450",
   "metadata": {},
   "outputs": [
    {
     "data": {
      "text/html": [
       "<div>\n",
       "<style scoped>\n",
       "    .dataframe tbody tr th:only-of-type {\n",
       "        vertical-align: middle;\n",
       "    }\n",
       "\n",
       "    .dataframe tbody tr th {\n",
       "        vertical-align: top;\n",
       "    }\n",
       "\n",
       "    .dataframe thead th {\n",
       "        text-align: right;\n",
       "    }\n",
       "</style>\n",
       "<table border=\"1\" class=\"dataframe\">\n",
       "  <thead>\n",
       "    <tr style=\"text-align: right;\">\n",
       "      <th></th>\n",
       "      <th>MPG</th>\n",
       "      <th>Cylinders</th>\n",
       "      <th>Displacement</th>\n",
       "      <th>Horsepower</th>\n",
       "      <th>Weight</th>\n",
       "      <th>Acceleration</th>\n",
       "      <th>Model Year</th>\n",
       "      <th>Europe</th>\n",
       "      <th>Japan</th>\n",
       "      <th>USA</th>\n",
       "    </tr>\n",
       "  </thead>\n",
       "  <tbody>\n",
       "    <tr>\n",
       "      <th>9</th>\n",
       "      <td>15.0</td>\n",
       "      <td>8</td>\n",
       "      <td>390.0</td>\n",
       "      <td>190.0</td>\n",
       "      <td>3850.0</td>\n",
       "      <td>8.5</td>\n",
       "      <td>70</td>\n",
       "      <td>0</td>\n",
       "      <td>0</td>\n",
       "      <td>1</td>\n",
       "    </tr>\n",
       "    <tr>\n",
       "      <th>25</th>\n",
       "      <td>10.0</td>\n",
       "      <td>8</td>\n",
       "      <td>360.0</td>\n",
       "      <td>215.0</td>\n",
       "      <td>4615.0</td>\n",
       "      <td>14.0</td>\n",
       "      <td>70</td>\n",
       "      <td>0</td>\n",
       "      <td>0</td>\n",
       "      <td>1</td>\n",
       "    </tr>\n",
       "    <tr>\n",
       "      <th>28</th>\n",
       "      <td>9.0</td>\n",
       "      <td>8</td>\n",
       "      <td>304.0</td>\n",
       "      <td>193.0</td>\n",
       "      <td>4732.0</td>\n",
       "      <td>18.5</td>\n",
       "      <td>70</td>\n",
       "      <td>0</td>\n",
       "      <td>0</td>\n",
       "      <td>1</td>\n",
       "    </tr>\n",
       "    <tr>\n",
       "      <th>31</th>\n",
       "      <td>25.0</td>\n",
       "      <td>4</td>\n",
       "      <td>113.0</td>\n",
       "      <td>95.0</td>\n",
       "      <td>2228.0</td>\n",
       "      <td>14.0</td>\n",
       "      <td>71</td>\n",
       "      <td>0</td>\n",
       "      <td>1</td>\n",
       "      <td>0</td>\n",
       "    </tr>\n",
       "    <tr>\n",
       "      <th>33</th>\n",
       "      <td>19.0</td>\n",
       "      <td>6</td>\n",
       "      <td>232.0</td>\n",
       "      <td>100.0</td>\n",
       "      <td>2634.0</td>\n",
       "      <td>13.0</td>\n",
       "      <td>71</td>\n",
       "      <td>0</td>\n",
       "      <td>0</td>\n",
       "      <td>1</td>\n",
       "    </tr>\n",
       "  </tbody>\n",
       "</table>\n",
       "</div>"
      ],
      "text/plain": [
       "     MPG  Cylinders  Displacement  Horsepower  Weight  Acceleration  \\\n",
       "9   15.0          8         390.0       190.0  3850.0           8.5   \n",
       "25  10.0          8         360.0       215.0  4615.0          14.0   \n",
       "28   9.0          8         304.0       193.0  4732.0          18.5   \n",
       "31  25.0          4         113.0        95.0  2228.0          14.0   \n",
       "33  19.0          6         232.0       100.0  2634.0          13.0   \n",
       "\n",
       "    Model Year  Europe  Japan  USA  \n",
       "9           70       0      0    1  \n",
       "25          70       0      0    1  \n",
       "28          70       0      0    1  \n",
       "31          71       0      1    0  \n",
       "33          71       0      0    1  "
      ]
     },
     "execution_count": 12,
     "metadata": {},
     "output_type": "execute_result"
    }
   ],
   "source": [
    "test_dataset.head()"
   ]
  },
  {
   "cell_type": "code",
   "execution_count": 13,
   "id": "8abb0dfa",
   "metadata": {},
   "outputs": [
    {
     "data": {
      "text/plain": [
       "Int64Index([146, 282,  69, 378, 331, 257, 310, 328, 125, 108,\n",
       "            ...\n",
       "            171,  70, 307,  49, 209, 281, 229, 150, 145, 182],\n",
       "           dtype='int64', length=314)"
      ]
     },
     "execution_count": 13,
     "metadata": {},
     "output_type": "execute_result"
    }
   ],
   "source": [
    "train_dataset.index"
   ]
  },
  {
   "cell_type": "code",
   "execution_count": 14,
   "id": "28999894",
   "metadata": {},
   "outputs": [],
   "source": [
    "import seaborn as sns"
   ]
  },
  {
   "cell_type": "code",
   "execution_count": 15,
   "id": "b736c6ff",
   "metadata": {},
   "outputs": [
    {
     "data": {
      "text/plain": [
       "<seaborn.axisgrid.PairGrid at 0x1d34fb8d4f0>"
      ]
     },
     "execution_count": 15,
     "metadata": {},
     "output_type": "execute_result"
    },
    {
     "data": {
      "image/png": "[encoded data removed]",
      "text/plain": [
       "<Figure size 1000x1000 with 20 Axes>"
      ]
     },
     "metadata": {},
     "output_type": "display_data"
    }
   ],
   "source": [
    "sns.pairplot(train_dataset[['MPG', 'Cylinders', 'Displacement', 'Weight']], diag_kind = 'kde')"
   ]
  },
  {
   "cell_type": "code",
   "execution_count": 16,
   "id": "f084b00b",
   "metadata": {},
   "outputs": [
    {
     "data": {
      "text/html": [
       "<div>\n",
       "<style scoped>\n",
       "    .dataframe tbody tr th:only-of-type {\n",
       "        vertical-align: middle;\n",
       "    }\n",
       "\n",
       "    .dataframe tbody tr th {\n",
       "        vertical-align: top;\n",
       "    }\n",
       "\n",
       "    .dataframe thead th {\n",
       "        text-align: right;\n",
       "    }\n",
       "</style>\n",
       "<table border=\"1\" class=\"dataframe\">\n",
       "  <thead>\n",
       "    <tr style=\"text-align: right;\">\n",
       "      <th></th>\n",
       "      <th>count</th>\n",
       "      <th>mean</th>\n",
       "      <th>std</th>\n",
       "      <th>min</th>\n",
       "      <th>25%</th>\n",
       "      <th>50%</th>\n",
       "      <th>75%</th>\n",
       "      <th>max</th>\n",
       "    </tr>\n",
       "  </thead>\n",
       "  <tbody>\n",
       "    <tr>\n",
       "      <th>MPG</th>\n",
       "      <td>314.0</td>\n",
       "      <td>23.310510</td>\n",
       "      <td>7.728652</td>\n",
       "      <td>10.0</td>\n",
       "      <td>17.00</td>\n",
       "      <td>22.0</td>\n",
       "      <td>28.95</td>\n",
       "      <td>46.6</td>\n",
       "    </tr>\n",
       "    <tr>\n",
       "      <th>Cylinders</th>\n",
       "      <td>314.0</td>\n",
       "      <td>5.477707</td>\n",
       "      <td>1.699788</td>\n",
       "      <td>3.0</td>\n",
       "      <td>4.00</td>\n",
       "      <td>4.0</td>\n",
       "      <td>8.00</td>\n",
       "      <td>8.0</td>\n",
       "    </tr>\n",
       "    <tr>\n",
       "      <th>Displacement</th>\n",
       "      <td>314.0</td>\n",
       "      <td>195.318471</td>\n",
       "      <td>104.331589</td>\n",
       "      <td>68.0</td>\n",
       "      <td>105.50</td>\n",
       "      <td>151.0</td>\n",
       "      <td>265.75</td>\n",
       "      <td>455.0</td>\n",
       "    </tr>\n",
       "    <tr>\n",
       "      <th>Horsepower</th>\n",
       "      <td>314.0</td>\n",
       "      <td>104.869427</td>\n",
       "      <td>38.096214</td>\n",
       "      <td>46.0</td>\n",
       "      <td>76.25</td>\n",
       "      <td>94.5</td>\n",
       "      <td>128.00</td>\n",
       "      <td>225.0</td>\n",
       "    </tr>\n",
       "    <tr>\n",
       "      <th>Weight</th>\n",
       "      <td>314.0</td>\n",
       "      <td>2990.251592</td>\n",
       "      <td>843.898596</td>\n",
       "      <td>1649.0</td>\n",
       "      <td>2256.50</td>\n",
       "      <td>2822.5</td>\n",
       "      <td>3608.00</td>\n",
       "      <td>5140.0</td>\n",
       "    </tr>\n",
       "    <tr>\n",
       "      <th>Acceleration</th>\n",
       "      <td>314.0</td>\n",
       "      <td>15.559236</td>\n",
       "      <td>2.789230</td>\n",
       "      <td>8.0</td>\n",
       "      <td>13.80</td>\n",
       "      <td>15.5</td>\n",
       "      <td>17.20</td>\n",
       "      <td>24.8</td>\n",
       "    </tr>\n",
       "    <tr>\n",
       "      <th>Model Year</th>\n",
       "      <td>314.0</td>\n",
       "      <td>75.898089</td>\n",
       "      <td>3.675642</td>\n",
       "      <td>70.0</td>\n",
       "      <td>73.00</td>\n",
       "      <td>76.0</td>\n",
       "      <td>79.00</td>\n",
       "      <td>82.0</td>\n",
       "    </tr>\n",
       "    <tr>\n",
       "      <th>Europe</th>\n",
       "      <td>314.0</td>\n",
       "      <td>0.178344</td>\n",
       "      <td>0.383413</td>\n",
       "      <td>0.0</td>\n",
       "      <td>0.00</td>\n",
       "      <td>0.0</td>\n",
       "      <td>0.00</td>\n",
       "      <td>1.0</td>\n",
       "    </tr>\n",
       "    <tr>\n",
       "      <th>Japan</th>\n",
       "      <td>314.0</td>\n",
       "      <td>0.197452</td>\n",
       "      <td>0.398712</td>\n",
       "      <td>0.0</td>\n",
       "      <td>0.00</td>\n",
       "      <td>0.0</td>\n",
       "      <td>0.00</td>\n",
       "      <td>1.0</td>\n",
       "    </tr>\n",
       "    <tr>\n",
       "      <th>USA</th>\n",
       "      <td>314.0</td>\n",
       "      <td>0.624204</td>\n",
       "      <td>0.485101</td>\n",
       "      <td>0.0</td>\n",
       "      <td>0.00</td>\n",
       "      <td>1.0</td>\n",
       "      <td>1.00</td>\n",
       "      <td>1.0</td>\n",
       "    </tr>\n",
       "  </tbody>\n",
       "</table>\n",
       "</div>"
      ],
      "text/plain": [
       "              count         mean         std     min      25%     50%  \\\n",
       "MPG           314.0    23.310510    7.728652    10.0    17.00    22.0   \n",
       "Cylinders     314.0     5.477707    1.699788     3.0     4.00     4.0   \n",
       "Displacement  314.0   195.318471  104.331589    68.0   105.50   151.0   \n",
       "Horsepower    314.0   104.869427   38.096214    46.0    76.25    94.5   \n",
       "Weight        314.0  2990.251592  843.898596  1649.0  2256.50  2822.5   \n",
       "Acceleration  314.0    15.559236    2.789230     8.0    13.80    15.5   \n",
       "Model Year    314.0    75.898089    3.675642    70.0    73.00    76.0   \n",
       "Europe        314.0     0.178344    0.383413     0.0     0.00     0.0   \n",
       "Japan         314.0     0.197452    0.398712     0.0     0.00     0.0   \n",
       "USA           314.0     0.624204    0.485101     0.0     0.00     1.0   \n",
       "\n",
       "                  75%     max  \n",
       "MPG             28.95    46.6  \n",
       "Cylinders        8.00     8.0  \n",
       "Displacement   265.75   455.0  \n",
       "Horsepower     128.00   225.0  \n",
       "Weight        3608.00  5140.0  \n",
       "Acceleration    17.20    24.8  \n",
       "Model Year      79.00    82.0  \n",
       "Europe           0.00     1.0  \n",
       "Japan            0.00     1.0  \n",
       "USA              1.00     1.0  "
      ]
     },
     "execution_count": 16,
     "metadata": {},
     "output_type": "execute_result"
    }
   ],
   "source": [
    "train_dataset.describe().T"
   ]
  },
  {
   "cell_type": "code",
   "execution_count": 17,
   "id": "9165fa6b",
   "metadata": {},
   "outputs": [],
   "source": [
    "train_features = train_dataset.copy()\n",
    "test_features = test_dataset.copy()\n",
    "\n",
    "train_labels = train_features.pop('MPG')\n",
    "test_labels = test_features.pop('MPG')"
   ]
  },
  {
   "cell_type": "code",
   "execution_count": 18,
   "id": "3a7fc672",
   "metadata": {},
   "outputs": [
    {
     "name": "stdout",
     "output_type": "stream",
     "text": [
      "[[   5.478  195.318  104.869 2990.252   15.559   75.898    0.178    0.197\n",
      "     0.624]]\n"
     ]
    }
   ],
   "source": [
    "# Создаем нормализатор данных\n",
    "normalizer = tf.keras.layers.Normalization(axis = -1)\n",
    "normalizer.adapt(np.array(train_features))\n",
    "print(normalizer.mean.numpy())"
   ]
  },
  {
   "cell_type": "code",
   "execution_count": 19,
   "id": "466822f0",
   "metadata": {},
   "outputs": [
    {
     "name": "stdout",
     "output_type": "stream",
     "text": [
      "First car [[   4.    90.    75.  2125.    14.5   74.     0.     0.     1. ]]\n",
      "\n",
      "Normilized car: [[-0.87 -1.01 -0.79 -1.03 -0.38 -0.52 -0.47 -0.5   0.78]]\n"
     ]
    }
   ],
   "source": [
    "# Проверка работы нормализатора\n",
    "first_car = np.array(train_features[:1])\n",
    "with np.printoptions(precision = 2):\n",
    "    print(f'First car {first_car}')\n",
    "    print()\n",
    "    print(f'Normilized car: {normalizer(first_car).numpy()}')"
   ]
  },
  {
   "cell_type": "markdown",
   "id": "5bcee174",
   "metadata": {},
   "source": [
    "#### Построение линейной модели - зависимость от лошадиных сил"
   ]
  },
  {
   "cell_type": "code",
   "execution_count": 20,
   "id": "66c3731e",
   "metadata": {},
   "outputs": [],
   "source": [
    "# Нормализация\n",
    "horsepower = np.array(train_features['Horsepower'])\n",
    "horsepower_normalizer = layers.Normalization(input_shape = [1,], axis = None)\n",
    "horsepower_normalizer.adapt(horsepower)"
   ]
  },
  {
   "cell_type": "code",
   "execution_count": 21,
   "id": "7386f7f0",
   "metadata": {},
   "outputs": [
    {
     "name": "stdout",
     "output_type": "stream",
     "text": [
      "Model: \"sequential\"\n",
      "_________________________________________________________________\n",
      " Layer (type)                Output Shape              Param #   \n",
      "=================================================================\n",
      " normalization_1 (Normalizat  (None, 1)                3         \n",
      " ion)                                                            \n",
      "                                                                 \n",
      " dense (Dense)               (None, 1)                 2         \n",
      "                                                                 \n",
      "=================================================================\n",
      "Total params: 5\n",
      "Trainable params: 2\n",
      "Non-trainable params: 3\n",
      "_________________________________________________________________\n"
     ]
    }
   ],
   "source": [
    "# Первый слой - нормализатор\n",
    "# Второй слой - полносвязный (в нем кол-во нейронов равно 1)\n",
    "horsepower_model = tf.keras.Sequential([\n",
    "    horsepower_normalizer,\n",
    "    layers.Dense(units = 1)\n",
    "])\n",
    "horsepower_model.summary()"
   ]
  },
  {
   "cell_type": "code",
   "execution_count": 22,
   "id": "ac88d0d5",
   "metadata": {},
   "outputs": [
    {
     "name": "stdout",
     "output_type": "stream",
     "text": [
      "1/1 [==============================] - 0s 44ms/step\n"
     ]
    },
    {
     "data": {
      "text/plain": [
       "array([[ 0.458],\n",
       "       [ 0.259],\n",
       "       [-0.846],\n",
       "       [ 0.642],\n",
       "       [ 0.581],\n",
       "       [ 0.228],\n",
       "       [ 0.688],\n",
       "       [ 0.581],\n",
       "       [ 0.151],\n",
       "       [ 0.259]], dtype=float32)"
      ]
     },
     "execution_count": 22,
     "metadata": {},
     "output_type": "execute_result"
    }
   ],
   "source": [
    "# Предсказание для первых 10 элементов\n",
    "horsepower_model.predict(horsepower[:10])"
   ]
  },
  {
   "cell_type": "code",
   "execution_count": 23,
   "id": "fdca7bb1",
   "metadata": {},
   "outputs": [
    {
     "data": {
      "text/plain": [
       "array([28. , 22.3, 12. , 38. , 33.8, 19.4, 38.1, 30. , 20. , 20. ])"
      ]
     },
     "execution_count": 23,
     "metadata": {},
     "output_type": "execute_result"
    }
   ],
   "source": [
    "# Истиные значения\n",
    "train_labels.values[:10]"
   ]
  },
  {
   "cell_type": "code",
   "execution_count": 24,
   "id": "112d8efe",
   "metadata": {},
   "outputs": [],
   "source": [
    "# Чтобы значения стали похожими, модель нужно скомпилировать\n",
    "horsepower_model.compile(\n",
    "    optimizer = tf.optimizers.Adam(learning_rate = 0.1),\n",
    "    loss = 'mean_absolute_error')"
   ]
  },
  {
   "cell_type": "code",
   "execution_count": 25,
   "id": "70aa86bb",
   "metadata": {},
   "outputs": [
    {
     "name": "stdout",
     "output_type": "stream",
     "text": [
      "Epoch 1/100\n",
      "8/8 [==============================] - 0s 17ms/step - loss: 22.8639 - val_loss: 22.9331\n",
      "Epoch 2/100\n",
      "8/8 [==============================] - 0s 4ms/step - loss: 22.0629 - val_loss: 22.1331\n",
      "Epoch 3/100\n",
      "8/8 [==============================] - 0s 4ms/step - loss: 21.2651 - val_loss: 21.3334\n",
      "Epoch 4/100\n",
      "8/8 [==============================] - 0s 4ms/step - loss: 20.4661 - val_loss: 20.5330\n",
      "Epoch 5/100\n",
      "8/8 [==============================] - 0s 4ms/step - loss: 19.6625 - val_loss: 19.7331\n",
      "Epoch 6/100\n",
      "8/8 [==============================] - 0s 4ms/step - loss: 18.8628 - val_loss: 18.9332\n",
      "Epoch 7/100\n",
      "8/8 [==============================] - 0s 4ms/step - loss: 18.0623 - val_loss: 18.1334\n",
      "Epoch 8/100\n",
      "8/8 [==============================] - 0s 4ms/step - loss: 17.2648 - val_loss: 17.3334\n",
      "Epoch 9/100\n",
      "8/8 [==============================] - 0s 4ms/step - loss: 16.4620 - val_loss: 16.5333\n",
      "Epoch 10/100\n",
      "8/8 [==============================] - 0s 4ms/step - loss: 15.6661 - val_loss: 15.7336\n",
      "Epoch 11/100\n",
      "8/8 [==============================] - 0s 4ms/step - loss: 14.8622 - val_loss: 14.9335\n",
      "Epoch 12/100\n",
      "8/8 [==============================] - 0s 4ms/step - loss: 14.0621 - val_loss: 14.1334\n",
      "Epoch 13/100\n",
      "8/8 [==============================] - 0s 4ms/step - loss: 13.2640 - val_loss: 13.3333\n",
      "Epoch 14/100\n",
      "8/8 [==============================] - 0s 4ms/step - loss: 12.4636 - val_loss: 12.5335\n",
      "Epoch 15/100\n",
      "8/8 [==============================] - 0s 4ms/step - loss: 11.6705 - val_loss: 11.7363\n",
      "Epoch 16/100\n",
      "8/8 [==============================] - 0s 4ms/step - loss: 10.8788 - val_loss: 10.9650\n",
      "Epoch 17/100\n",
      "8/8 [==============================] - 0s 4ms/step - loss: 10.0978 - val_loss: 10.1877\n",
      "Epoch 18/100\n",
      "8/8 [==============================] - 0s 4ms/step - loss: 9.3261 - val_loss: 9.4158\n",
      "Epoch 19/100\n",
      "8/8 [==============================] - 0s 4ms/step - loss: 8.6004 - val_loss: 8.6611\n",
      "Epoch 20/100\n",
      "8/8 [==============================] - 0s 4ms/step - loss: 7.9049 - val_loss: 7.9139\n",
      "Epoch 21/100\n",
      "8/8 [==============================] - 0s 4ms/step - loss: 7.2102 - val_loss: 7.2051\n",
      "Epoch 22/100\n",
      "8/8 [==============================] - 0s 4ms/step - loss: 6.5621 - val_loss: 6.5717\n",
      "Epoch 23/100\n",
      "8/8 [==============================] - 0s 4ms/step - loss: 5.9991 - val_loss: 5.9861\n",
      "Epoch 24/100\n",
      "8/8 [==============================] - 0s 4ms/step - loss: 5.4615 - val_loss: 5.5676\n",
      "Epoch 25/100\n",
      "8/8 [==============================] - 0s 4ms/step - loss: 5.0429 - val_loss: 5.2225\n",
      "Epoch 26/100\n",
      "8/8 [==============================] - 0s 4ms/step - loss: 4.7420 - val_loss: 4.9975\n",
      "Epoch 27/100\n",
      "8/8 [==============================] - 0s 4ms/step - loss: 4.4898 - val_loss: 4.8311\n",
      "Epoch 28/100\n",
      "8/8 [==============================] - 0s 4ms/step - loss: 4.2962 - val_loss: 4.6694\n",
      "Epoch 29/100\n",
      "8/8 [==============================] - 0s 3ms/step - loss: 4.1293 - val_loss: 4.5146\n",
      "Epoch 30/100\n",
      "8/8 [==============================] - 0s 4ms/step - loss: 4.0301 - val_loss: 4.4113\n",
      "Epoch 31/100\n",
      "8/8 [==============================] - 0s 4ms/step - loss: 3.9538 - val_loss: 4.3707\n",
      "Epoch 32/100\n",
      "8/8 [==============================] - 0s 3ms/step - loss: 3.8931 - val_loss: 4.3276\n",
      "Epoch 33/100\n",
      "8/8 [==============================] - 0s 4ms/step - loss: 3.8611 - val_loss: 4.2831\n",
      "Epoch 34/100\n",
      "8/8 [==============================] - 0s 4ms/step - loss: 3.8388 - val_loss: 4.2360\n",
      "Epoch 35/100\n",
      "8/8 [==============================] - 0s 4ms/step - loss: 3.8276 - val_loss: 4.2323\n",
      "Epoch 36/100\n",
      "8/8 [==============================] - 0s 4ms/step - loss: 3.8185 - val_loss: 4.2268\n",
      "Epoch 37/100\n",
      "8/8 [==============================] - 0s 3ms/step - loss: 3.8130 - val_loss: 4.2241\n",
      "Epoch 38/100\n",
      "8/8 [==============================] - 0s 3ms/step - loss: 3.8102 - val_loss: 4.2206\n",
      "Epoch 39/100\n",
      "8/8 [==============================] - 0s 3ms/step - loss: 3.8139 - val_loss: 4.2121\n",
      "Epoch 40/100\n",
      "8/8 [==============================] - 0s 3ms/step - loss: 3.8032 - val_loss: 4.1821\n",
      "Epoch 41/100\n",
      "8/8 [==============================] - 0s 4ms/step - loss: 3.8057 - val_loss: 4.1766\n",
      "Epoch 42/100\n",
      "8/8 [==============================] - 0s 4ms/step - loss: 3.8065 - val_loss: 4.1729\n",
      "Epoch 43/100\n",
      "8/8 [==============================] - 0s 4ms/step - loss: 3.8031 - val_loss: 4.1949\n",
      "Epoch 44/100\n",
      "8/8 [==============================] - 0s 3ms/step - loss: 3.8073 - val_loss: 4.2150\n",
      "Epoch 45/100\n",
      "8/8 [==============================] - 0s 4ms/step - loss: 3.8071 - val_loss: 4.1807\n",
      "Epoch 46/100\n",
      "8/8 [==============================] - 0s 3ms/step - loss: 3.8070 - val_loss: 4.1638\n",
      "Epoch 47/100\n",
      "8/8 [==============================] - 0s 4ms/step - loss: 3.8039 - val_loss: 4.1903\n",
      "Epoch 48/100\n",
      "8/8 [==============================] - 0s 4ms/step - loss: 3.8072 - val_loss: 4.2008\n",
      "Epoch 49/100\n",
      "8/8 [==============================] - 0s 4ms/step - loss: 3.8034 - val_loss: 4.1901\n",
      "Epoch 50/100\n",
      "8/8 [==============================] - 0s 4ms/step - loss: 3.8024 - val_loss: 4.1960\n",
      "Epoch 51/100\n",
      "8/8 [==============================] - 0s 4ms/step - loss: 3.8061 - val_loss: 4.2095\n",
      "Epoch 52/100\n",
      "8/8 [==============================] - 0s 4ms/step - loss: 3.8020 - val_loss: 4.1897\n",
      "Epoch 53/100\n",
      "8/8 [==============================] - 0s 4ms/step - loss: 3.8025 - val_loss: 4.1827\n",
      "Epoch 54/100\n",
      "8/8 [==============================] - 0s 4ms/step - loss: 3.8036 - val_loss: 4.1790\n",
      "Epoch 55/100\n",
      "8/8 [==============================] - 0s 3ms/step - loss: 3.8053 - val_loss: 4.1955\n",
      "Epoch 56/100\n",
      "8/8 [==============================] - 0s 3ms/step - loss: 3.8046 - val_loss: 4.1801\n",
      "Epoch 57/100\n",
      "8/8 [==============================] - 0s 3ms/step - loss: 3.8036 - val_loss: 4.1788\n",
      "Epoch 58/100\n",
      "8/8 [==============================] - 0s 3ms/step - loss: 3.8027 - val_loss: 4.1931\n",
      "Epoch 59/100\n",
      "8/8 [==============================] - 0s 3ms/step - loss: 3.8027 - val_loss: 4.1920\n",
      "Epoch 60/100\n",
      "8/8 [==============================] - 0s 4ms/step - loss: 3.8026 - val_loss: 4.1838\n",
      "Epoch 61/100\n",
      "8/8 [==============================] - 0s 4ms/step - loss: 3.8032 - val_loss: 4.1927\n",
      "Epoch 62/100\n",
      "8/8 [==============================] - 0s 3ms/step - loss: 3.8042 - val_loss: 4.1936\n",
      "Epoch 63/100\n",
      "8/8 [==============================] - 0s 3ms/step - loss: 3.8015 - val_loss: 4.1830\n",
      "Epoch 64/100\n",
      "8/8 [==============================] - 0s 4ms/step - loss: 3.8034 - val_loss: 4.1747\n",
      "Epoch 65/100\n",
      "8/8 [==============================] - 0s 3ms/step - loss: 3.8050 - val_loss: 4.1806\n",
      "Epoch 66/100\n",
      "8/8 [==============================] - 0s 3ms/step - loss: 3.8034 - val_loss: 4.1918\n",
      "Epoch 67/100\n",
      "8/8 [==============================] - 0s 3ms/step - loss: 3.8073 - val_loss: 4.2120\n",
      "Epoch 68/100\n",
      "8/8 [==============================] - 0s 3ms/step - loss: 3.8075 - val_loss: 4.1745\n",
      "Epoch 69/100\n",
      "8/8 [==============================] - 0s 3ms/step - loss: 3.8072 - val_loss: 4.1651\n",
      "Epoch 70/100\n",
      "8/8 [==============================] - 0s 3ms/step - loss: 3.8032 - val_loss: 4.1807\n",
      "Epoch 71/100\n",
      "8/8 [==============================] - 0s 3ms/step - loss: 3.8022 - val_loss: 4.1895\n",
      "Epoch 72/100\n",
      "8/8 [==============================] - 0s 4ms/step - loss: 3.8022 - val_loss: 4.1993\n",
      "Epoch 73/100\n",
      "8/8 [==============================] - 0s 3ms/step - loss: 3.8040 - val_loss: 4.2024\n",
      "Epoch 74/100\n",
      "8/8 [==============================] - 0s 3ms/step - loss: 3.8049 - val_loss: 4.1743\n",
      "Epoch 75/100\n",
      "8/8 [==============================] - 0s 3ms/step - loss: 3.8086 - val_loss: 4.1729\n",
      "Epoch 76/100\n",
      "8/8 [==============================] - 0s 4ms/step - loss: 3.8037 - val_loss: 4.1935\n",
      "Epoch 77/100\n",
      "8/8 [==============================] - 0s 4ms/step - loss: 3.8017 - val_loss: 4.1915\n",
      "Epoch 78/100\n",
      "8/8 [==============================] - 0s 4ms/step - loss: 3.8022 - val_loss: 4.1930\n",
      "Epoch 79/100\n",
      "8/8 [==============================] - 0s 4ms/step - loss: 3.8024 - val_loss: 4.1941\n",
      "Epoch 80/100\n",
      "8/8 [==============================] - 0s 3ms/step - loss: 3.8098 - val_loss: 4.1709\n",
      "Epoch 81/100\n",
      "8/8 [==============================] - 0s 4ms/step - loss: 3.8043 - val_loss: 4.1759\n",
      "Epoch 82/100\n",
      "8/8 [==============================] - 0s 3ms/step - loss: 3.8047 - val_loss: 4.1975\n",
      "Epoch 83/100\n",
      "8/8 [==============================] - 0s 3ms/step - loss: 3.8066 - val_loss: 4.1904\n",
      "Epoch 84/100\n"
     ]
    },
    {
     "name": "stdout",
     "output_type": "stream",
     "text": [
      "8/8 [==============================] - 0s 4ms/step - loss: 3.8057 - val_loss: 4.1829\n",
      "Epoch 85/100\n",
      "8/8 [==============================] - 0s 4ms/step - loss: 3.8058 - val_loss: 4.1826\n",
      "Epoch 86/100\n",
      "8/8 [==============================] - 0s 3ms/step - loss: 3.8032 - val_loss: 4.2043\n",
      "Epoch 87/100\n",
      "8/8 [==============================] - 0s 4ms/step - loss: 3.8045 - val_loss: 4.1911\n",
      "Epoch 88/100\n",
      "8/8 [==============================] - 0s 3ms/step - loss: 3.8118 - val_loss: 4.2121\n",
      "Epoch 89/100\n",
      "8/8 [==============================] - 0s 3ms/step - loss: 3.8023 - val_loss: 4.1780\n",
      "Epoch 90/100\n",
      "8/8 [==============================] - 0s 4ms/step - loss: 3.8059 - val_loss: 4.1678\n",
      "Epoch 91/100\n",
      "8/8 [==============================] - 0s 3ms/step - loss: 3.8043 - val_loss: 4.1796\n",
      "Epoch 92/100\n",
      "8/8 [==============================] - 0s 4ms/step - loss: 3.8069 - val_loss: 4.2010\n",
      "Epoch 93/100\n",
      "8/8 [==============================] - 0s 4ms/step - loss: 3.8025 - val_loss: 4.1902\n",
      "Epoch 94/100\n",
      "8/8 [==============================] - 0s 3ms/step - loss: 3.8118 - val_loss: 4.1687\n",
      "Epoch 95/100\n",
      "8/8 [==============================] - 0s 4ms/step - loss: 3.8111 - val_loss: 4.1834\n",
      "Epoch 96/100\n",
      "8/8 [==============================] - 0s 4ms/step - loss: 3.8153 - val_loss: 4.2124\n",
      "Epoch 97/100\n",
      "8/8 [==============================] - 0s 3ms/step - loss: 3.8020 - val_loss: 4.1674\n",
      "Epoch 98/100\n",
      "8/8 [==============================] - 0s 3ms/step - loss: 3.8071 - val_loss: 4.1550\n",
      "Epoch 99/100\n",
      "8/8 [==============================] - 0s 3ms/step - loss: 3.8077 - val_loss: 4.1538\n",
      "Epoch 100/100\n",
      "8/8 [==============================] - 0s 3ms/step - loss: 3.8076 - val_loss: 4.1835\n"
     ]
    }
   ],
   "source": [
    "# Запускаем обучение\n",
    "history = horsepower_model.fit(train_features['Horsepower'],\n",
    "                               train_labels,\n",
    "                               epochs = 100,\n",
    "                               verbose = 1,\n",
    "                               validation_split = 0.2)"
   ]
  },
  {
   "cell_type": "code",
   "execution_count": 26,
   "id": "13457d67",
   "metadata": {},
   "outputs": [
    {
     "data": {
      "text/html": [
       "<div>\n",
       "<style scoped>\n",
       "    .dataframe tbody tr th:only-of-type {\n",
       "        vertical-align: middle;\n",
       "    }\n",
       "\n",
       "    .dataframe tbody tr th {\n",
       "        vertical-align: top;\n",
       "    }\n",
       "\n",
       "    .dataframe thead th {\n",
       "        text-align: right;\n",
       "    }\n",
       "</style>\n",
       "<table border=\"1\" class=\"dataframe\">\n",
       "  <thead>\n",
       "    <tr style=\"text-align: right;\">\n",
       "      <th></th>\n",
       "      <th>loss</th>\n",
       "      <th>val_loss</th>\n",
       "      <th>epoch</th>\n",
       "    </tr>\n",
       "  </thead>\n",
       "  <tbody>\n",
       "    <tr>\n",
       "      <th>95</th>\n",
       "      <td>3.815345</td>\n",
       "      <td>4.212377</td>\n",
       "      <td>95</td>\n",
       "    </tr>\n",
       "    <tr>\n",
       "      <th>96</th>\n",
       "      <td>3.802035</td>\n",
       "      <td>4.167352</td>\n",
       "      <td>96</td>\n",
       "    </tr>\n",
       "    <tr>\n",
       "      <th>97</th>\n",
       "      <td>3.807066</td>\n",
       "      <td>4.155028</td>\n",
       "      <td>97</td>\n",
       "    </tr>\n",
       "    <tr>\n",
       "      <th>98</th>\n",
       "      <td>3.807699</td>\n",
       "      <td>4.153811</td>\n",
       "      <td>98</td>\n",
       "    </tr>\n",
       "    <tr>\n",
       "      <th>99</th>\n",
       "      <td>3.807616</td>\n",
       "      <td>4.183507</td>\n",
       "      <td>99</td>\n",
       "    </tr>\n",
       "  </tbody>\n",
       "</table>\n",
       "</div>"
      ],
      "text/plain": [
       "        loss  val_loss  epoch\n",
       "95  3.815345  4.212377     95\n",
       "96  3.802035  4.167352     96\n",
       "97  3.807066  4.155028     97\n",
       "98  3.807699  4.153811     98\n",
       "99  3.807616  4.183507     99"
      ]
     },
     "execution_count": 26,
     "metadata": {},
     "output_type": "execute_result"
    }
   ],
   "source": [
    "# Анализ истории\n",
    "hist = pd.DataFrame(history.history)\n",
    "hist['epoch'] = history.epoch\n",
    "hist.tail()"
   ]
  },
  {
   "cell_type": "code",
   "execution_count": 27,
   "id": "9c299b12",
   "metadata": {},
   "outputs": [],
   "source": [
    "# Функция отрисовки функции потерь\n",
    "def plot_loss(history):\n",
    "    plt.plot(history.history['loss'], label = 'loss')\n",
    "    plt.plot(history.history['val_loss'], label = 'val_loss')\n",
    "    plt.ylim([0, 10])\n",
    "    plt.xlabel('Epoch')\n",
    "    plt.ylabel('Error [MPG]')\n",
    "    plt.legend()\n",
    "    plt.grid(True)"
   ]
  },
  {
   "cell_type": "code",
   "execution_count": 28,
   "id": "a4e59e25",
   "metadata": {},
   "outputs": [
    {
     "data": {
      "image/png": "[encoded data removed]",
      "text/plain": [
       "<Figure size 640x480 with 1 Axes>"
      ]
     },
     "metadata": {},
     "output_type": "display_data"
    }
   ],
   "source": [
    "plot_loss(history)"
   ]
  },
  {
   "cell_type": "code",
   "execution_count": 29,
   "id": "baec235e",
   "metadata": {},
   "outputs": [
    {
     "data": {
      "text/plain": [
       "{'horsepower_model': 3.647423267364502}"
      ]
     },
     "execution_count": 29,
     "metadata": {},
     "output_type": "execute_result"
    }
   ],
   "source": [
    "# Запоминаем результаты для данной модели\n",
    "test_results = {}\n",
    "test_results['horsepower_model'] = horsepower_model.evaluate(\n",
    "    test_features['Horsepower'], test_labels, verbose = 0)\n",
    "test_results"
   ]
  },
  {
   "cell_type": "markdown",
   "id": "ca5c3a9d",
   "metadata": {},
   "source": [
    "#### Еще раз прогоняем предсказания"
   ]
  },
  {
   "cell_type": "code",
   "execution_count": 30,
   "id": "654775b2",
   "metadata": {},
   "outputs": [
    {
     "name": "stdout",
     "output_type": "stream",
     "text": [
      "1/1 [==============================] - 0s 34ms/step\n"
     ]
    },
    {
     "data": {
      "text/plain": [
       "array([[27.57 ],\n",
       "       [25.399],\n",
       "       [13.376],\n",
       "       [29.574],\n",
       "       [28.906],\n",
       "       [25.065],\n",
       "       [30.075],\n",
       "       [28.906],\n",
       "       [24.23 ],\n",
       "       [25.399]], dtype=float32)"
      ]
     },
     "execution_count": 30,
     "metadata": {},
     "output_type": "execute_result"
    }
   ],
   "source": [
    "horsepower_model.predict(horsepower[:10])\n",
    "# Теперь значения совпадают с значениями train"
   ]
  },
  {
   "cell_type": "code",
   "execution_count": 31,
   "id": "50ec7537",
   "metadata": {},
   "outputs": [
    {
     "data": {
      "text/plain": [
       "array([28. , 22.3, 12. , 38. , 33.8, 19.4, 38.1, 30. , 20. , 20. ])"
      ]
     },
     "execution_count": 31,
     "metadata": {},
     "output_type": "execute_result"
    }
   ],
   "source": [
    "# Истиные значения\n",
    "train_labels.values[:10]"
   ]
  },
  {
   "cell_type": "code",
   "execution_count": 32,
   "id": "f9cc4823",
   "metadata": {},
   "outputs": [
    {
     "name": "stdout",
     "output_type": "stream",
     "text": [
      "8/8 [==============================] - 0s 310us/step\n"
     ]
    }
   ],
   "source": [
    "x = tf.linspace(0.0, 250, 251)\n",
    "y = horsepower_model.predict(x)"
   ]
  },
  {
   "cell_type": "code",
   "execution_count": 33,
   "id": "365d9249",
   "metadata": {},
   "outputs": [],
   "source": [
    "def plot_horsepower(x, y):\n",
    "    plt.scatter(train_features['Horsepower'], train_labels, label = 'Data')\n",
    "    plt.plot(x, y, color = 'k', label = 'Predictions')\n",
    "    plt.xlabel('T')\n",
    "    plt.ylabel('MPG')\n",
    "    plt.legend()    "
   ]
  },
  {
   "cell_type": "code",
   "execution_count": 34,
   "id": "a42a7fac",
   "metadata": {},
   "outputs": [
    {
     "data": {
      "image/png": "[encoded data removed]",
      "text/plain": [
       "<Figure size 640x480 with 1 Axes>"
      ]
     },
     "metadata": {},
     "output_type": "display_data"
    }
   ],
   "source": [
    "plot_horsepower(x, y)"
   ]
  },
  {
   "cell_type": "markdown",
   "id": "6329f0c2",
   "metadata": {},
   "source": [
    "#### Построение линейной модели"
   ]
  },
  {
   "cell_type": "code",
   "execution_count": 35,
   "id": "b4dbf4b3",
   "metadata": {},
   "outputs": [],
   "source": [
    "# Однослойный персиптрон с линейной активационной функцией\n",
    "linear_model = tf.keras.Sequential([normalizer, layers.Dense(units = 1)])\n",
    "# Теперь модель учитывает все фичи датасета а не только лошадиные силы"
   ]
  },
  {
   "cell_type": "code",
   "execution_count": 36,
   "id": "db976754",
   "metadata": {},
   "outputs": [
    {
     "name": "stdout",
     "output_type": "stream",
     "text": [
      "1/1 [==============================] - 0s 31ms/step\n"
     ]
    },
    {
     "data": {
      "text/plain": [
       "<tf.Variable 'dense_1/kernel:0' shape=(9, 1) dtype=float32, numpy=\n",
       "array([[ 0.629],\n",
       "       [ 0.547],\n",
       "       [-0.757],\n",
       "       [-0.732],\n",
       "       [ 0.729],\n",
       "       [-0.701],\n",
       "       [ 0.323],\n",
       "       [ 0.7  ],\n",
       "       [ 0.594]], dtype=float32)>"
      ]
     },
     "execution_count": 36,
     "metadata": {},
     "output_type": "execute_result"
    }
   ],
   "source": [
    "linear_model.predict(train_features[:10])\n",
    "linear_model.layers[1].kernel"
   ]
  },
  {
   "cell_type": "code",
   "execution_count": 37,
   "id": "dd265c67",
   "metadata": {},
   "outputs": [],
   "source": [
    "linear_model.compile(\n",
    "    optimizer = tf.optimizers.Adam(learning_rate = 0.1),\n",
    "    loss = 'mean_absolute_error')"
   ]
  },
  {
   "cell_type": "code",
   "execution_count": 38,
   "id": "7ca0c2ae",
   "metadata": {},
   "outputs": [
    {
     "name": "stdout",
     "output_type": "stream",
     "text": [
      "Epoch 1/100\n",
      "8/8 [==============================] - 0s 13ms/step - loss: 22.8983 - val_loss: 23.1553\n",
      "Epoch 2/100\n",
      "8/8 [==============================] - 0s 4ms/step - loss: 22.0175 - val_loss: 22.3879\n",
      "Epoch 3/100\n",
      "8/8 [==============================] - 0s 4ms/step - loss: 21.2121 - val_loss: 21.6769\n",
      "Epoch 4/100\n",
      "8/8 [==============================] - 0s 4ms/step - loss: 20.3835 - val_loss: 20.9492\n",
      "Epoch 5/100\n",
      "8/8 [==============================] - 0s 4ms/step - loss: 19.5759 - val_loss: 20.2257\n",
      "Epoch 6/100\n",
      "8/8 [==============================] - 0s 4ms/step - loss: 18.8030 - val_loss: 19.5301\n",
      "Epoch 7/100\n",
      "8/8 [==============================] - 0s 4ms/step - loss: 17.9210 - val_loss: 18.7656\n",
      "Epoch 8/100\n",
      "8/8 [==============================] - 0s 4ms/step - loss: 17.1138 - val_loss: 18.0149\n",
      "Epoch 9/100\n",
      "8/8 [==============================] - 0s 4ms/step - loss: 16.3003 - val_loss: 17.2742\n",
      "Epoch 10/100\n",
      "8/8 [==============================] - 0s 4ms/step - loss: 15.4982 - val_loss: 16.5737\n",
      "Epoch 11/100\n",
      "8/8 [==============================] - 0s 4ms/step - loss: 14.6630 - val_loss: 15.8653\n",
      "Epoch 12/100\n",
      "8/8 [==============================] - 0s 3ms/step - loss: 13.8755 - val_loss: 15.1423\n",
      "Epoch 13/100\n",
      "8/8 [==============================] - 0s 3ms/step - loss: 13.0524 - val_loss: 14.4600\n",
      "Epoch 14/100\n",
      "8/8 [==============================] - 0s 4ms/step - loss: 12.2661 - val_loss: 13.7184\n",
      "Epoch 15/100\n",
      "8/8 [==============================] - 0s 4ms/step - loss: 11.4530 - val_loss: 12.9720\n",
      "Epoch 16/100\n",
      "8/8 [==============================] - 0s 3ms/step - loss: 10.6710 - val_loss: 12.2007\n",
      "Epoch 17/100\n",
      "8/8 [==============================] - 0s 4ms/step - loss: 9.8996 - val_loss: 11.5156\n",
      "Epoch 18/100\n",
      "8/8 [==============================] - 0s 4ms/step - loss: 9.1653 - val_loss: 10.7415\n",
      "Epoch 19/100\n",
      "8/8 [==============================] - 0s 4ms/step - loss: 8.4261 - val_loss: 9.9857\n",
      "Epoch 20/100\n",
      "8/8 [==============================] - 0s 4ms/step - loss: 7.7293 - val_loss: 9.3410\n",
      "Epoch 21/100\n",
      "8/8 [==============================] - 0s 4ms/step - loss: 7.0626 - val_loss: 8.5989\n",
      "Epoch 22/100\n",
      "8/8 [==============================] - 0s 4ms/step - loss: 6.4720 - val_loss: 7.8647\n",
      "Epoch 23/100\n",
      "8/8 [==============================] - 0s 4ms/step - loss: 5.8988 - val_loss: 7.2125\n",
      "Epoch 24/100\n",
      "8/8 [==============================] - 0s 4ms/step - loss: 5.3619 - val_loss: 6.6510\n",
      "Epoch 25/100\n",
      "8/8 [==============================] - 0s 3ms/step - loss: 4.8995 - val_loss: 6.0654\n",
      "Epoch 26/100\n",
      "8/8 [==============================] - 0s 4ms/step - loss: 4.4713 - val_loss: 5.3430\n",
      "Epoch 27/100\n",
      "8/8 [==============================] - 0s 4ms/step - loss: 4.0147 - val_loss: 4.7311\n",
      "Epoch 28/100\n",
      "8/8 [==============================] - 0s 4ms/step - loss: 3.5672 - val_loss: 4.1650\n",
      "Epoch 29/100\n",
      "8/8 [==============================] - 0s 4ms/step - loss: 3.1828 - val_loss: 3.5736\n",
      "Epoch 30/100\n",
      "8/8 [==============================] - 0s 4ms/step - loss: 2.9809 - val_loss: 3.1151\n",
      "Epoch 31/100\n",
      "8/8 [==============================] - 0s 3ms/step - loss: 2.7857 - val_loss: 3.0806\n",
      "Epoch 32/100\n",
      "8/8 [==============================] - 0s 4ms/step - loss: 2.6576 - val_loss: 2.7685\n",
      "Epoch 33/100\n",
      "8/8 [==============================] - 0s 4ms/step - loss: 2.5893 - val_loss: 2.7299\n",
      "Epoch 34/100\n",
      "8/8 [==============================] - 0s 4ms/step - loss: 2.5346 - val_loss: 2.6883\n",
      "Epoch 35/100\n",
      "8/8 [==============================] - 0s 4ms/step - loss: 2.5317 - val_loss: 2.6273\n",
      "Epoch 36/100\n",
      "8/8 [==============================] - 0s 4ms/step - loss: 2.5076 - val_loss: 2.5682\n",
      "Epoch 37/100\n",
      "8/8 [==============================] - 0s 3ms/step - loss: 2.5000 - val_loss: 2.5654\n",
      "Epoch 38/100\n",
      "8/8 [==============================] - 0s 4ms/step - loss: 2.4999 - val_loss: 2.5499\n",
      "Epoch 39/100\n",
      "8/8 [==============================] - 0s 3ms/step - loss: 2.4933 - val_loss: 2.5254\n",
      "Epoch 40/100\n",
      "8/8 [==============================] - 0s 3ms/step - loss: 2.4887 - val_loss: 2.4916\n",
      "Epoch 41/100\n",
      "8/8 [==============================] - 0s 4ms/step - loss: 2.5006 - val_loss: 2.5091\n",
      "Epoch 42/100\n",
      "8/8 [==============================] - 0s 3ms/step - loss: 2.4976 - val_loss: 2.5235\n",
      "Epoch 43/100\n",
      "8/8 [==============================] - 0s 3ms/step - loss: 2.4812 - val_loss: 2.5107\n",
      "Epoch 44/100\n",
      "8/8 [==============================] - 0s 4ms/step - loss: 2.4974 - val_loss: 2.5126\n",
      "Epoch 45/100\n",
      "8/8 [==============================] - 0s 4ms/step - loss: 2.4712 - val_loss: 2.4968\n",
      "Epoch 46/100\n",
      "8/8 [==============================] - 0s 3ms/step - loss: 2.4914 - val_loss: 2.5328\n",
      "Epoch 47/100\n",
      "8/8 [==============================] - 0s 4ms/step - loss: 2.4731 - val_loss: 2.4832\n",
      "Epoch 48/100\n",
      "8/8 [==============================] - 0s 4ms/step - loss: 2.4794 - val_loss: 2.5331\n",
      "Epoch 49/100\n",
      "8/8 [==============================] - 0s 3ms/step - loss: 2.4784 - val_loss: 2.4740\n",
      "Epoch 50/100\n",
      "8/8 [==============================] - 0s 4ms/step - loss: 2.5021 - val_loss: 2.5154\n",
      "Epoch 51/100\n",
      "8/8 [==============================] - 0s 4ms/step - loss: 2.4709 - val_loss: 2.4829\n",
      "Epoch 52/100\n",
      "8/8 [==============================] - 0s 4ms/step - loss: 2.5067 - val_loss: 2.4943\n",
      "Epoch 53/100\n",
      "8/8 [==============================] - 0s 4ms/step - loss: 2.4926 - val_loss: 2.4948\n",
      "Epoch 54/100\n",
      "8/8 [==============================] - 0s 4ms/step - loss: 2.4787 - val_loss: 2.4725\n",
      "Epoch 55/100\n",
      "8/8 [==============================] - 0s 3ms/step - loss: 2.4757 - val_loss: 2.5096\n",
      "Epoch 56/100\n",
      "8/8 [==============================] - 0s 3ms/step - loss: 2.4756 - val_loss: 2.4863\n",
      "Epoch 57/100\n",
      "8/8 [==============================] - 0s 3ms/step - loss: 2.5155 - val_loss: 2.5253\n",
      "Epoch 58/100\n",
      "8/8 [==============================] - 0s 4ms/step - loss: 2.4760 - val_loss: 2.4843\n",
      "Epoch 59/100\n",
      "8/8 [==============================] - 0s 3ms/step - loss: 2.4844 - val_loss: 2.4956\n",
      "Epoch 60/100\n",
      "8/8 [==============================] - 0s 4ms/step - loss: 2.5084 - val_loss: 2.4616\n",
      "Epoch 61/100\n",
      "8/8 [==============================] - 0s 4ms/step - loss: 2.4740 - val_loss: 2.4918\n",
      "Epoch 62/100\n",
      "8/8 [==============================] - 0s 3ms/step - loss: 2.4749 - val_loss: 2.4775\n",
      "Epoch 63/100\n",
      "8/8 [==============================] - 0s 4ms/step - loss: 2.5043 - val_loss: 2.4624\n",
      "Epoch 64/100\n",
      "8/8 [==============================] - 0s 3ms/step - loss: 2.5009 - val_loss: 2.4903\n",
      "Epoch 65/100\n",
      "8/8 [==============================] - 0s 3ms/step - loss: 2.4719 - val_loss: 2.4721\n",
      "Epoch 66/100\n",
      "8/8 [==============================] - 0s 4ms/step - loss: 2.4799 - val_loss: 2.4953\n",
      "Epoch 67/100\n",
      "8/8 [==============================] - 0s 3ms/step - loss: 2.4874 - val_loss: 2.4925\n",
      "Epoch 68/100\n",
      "8/8 [==============================] - 0s 4ms/step - loss: 2.4777 - val_loss: 2.4662\n",
      "Epoch 69/100\n",
      "8/8 [==============================] - 0s 4ms/step - loss: 2.4742 - val_loss: 2.4759\n",
      "Epoch 70/100\n",
      "8/8 [==============================] - 0s 3ms/step - loss: 2.4884 - val_loss: 2.4771\n",
      "Epoch 71/100\n",
      "8/8 [==============================] - 0s 3ms/step - loss: 2.4742 - val_loss: 2.4557\n",
      "Epoch 72/100\n",
      "8/8 [==============================] - 0s 4ms/step - loss: 2.4955 - val_loss: 2.4579\n",
      "Epoch 73/100\n",
      "8/8 [==============================] - 0s 4ms/step - loss: 2.4817 - val_loss: 2.4803\n",
      "Epoch 74/100\n",
      "8/8 [==============================] - 0s 4ms/step - loss: 2.4941 - val_loss: 2.4855\n",
      "Epoch 75/100\n",
      "8/8 [==============================] - 0s 3ms/step - loss: 2.5023 - val_loss: 2.5004\n",
      "Epoch 76/100\n",
      "8/8 [==============================] - 0s 4ms/step - loss: 2.4807 - val_loss: 2.4669\n",
      "Epoch 77/100\n",
      "8/8 [==============================] - 0s 4ms/step - loss: 2.4718 - val_loss: 2.5358\n",
      "Epoch 78/100\n",
      "8/8 [==============================] - 0s 3ms/step - loss: 2.4742 - val_loss: 2.4791\n",
      "Epoch 79/100\n",
      "8/8 [==============================] - 0s 4ms/step - loss: 2.4809 - val_loss: 2.4793\n",
      "Epoch 80/100\n",
      "8/8 [==============================] - 0s 4ms/step - loss: 2.4700 - val_loss: 2.5067\n",
      "Epoch 81/100\n",
      "8/8 [==============================] - 0s 3ms/step - loss: 2.4945 - val_loss: 2.4543\n",
      "Epoch 82/100\n",
      "8/8 [==============================] - 0s 4ms/step - loss: 2.4875 - val_loss: 2.4822\n",
      "Epoch 83/100\n",
      "8/8 [==============================] - 0s 3ms/step - loss: 2.4745 - val_loss: 2.4807\n",
      "Epoch 84/100\n"
     ]
    },
    {
     "name": "stdout",
     "output_type": "stream",
     "text": [
      "8/8 [==============================] - 0s 4ms/step - loss: 2.4748 - val_loss: 2.4893\n",
      "Epoch 85/100\n",
      "8/8 [==============================] - 0s 4ms/step - loss: 2.4874 - val_loss: 2.4842\n",
      "Epoch 86/100\n",
      "8/8 [==============================] - 0s 3ms/step - loss: 2.4660 - val_loss: 2.4849\n",
      "Epoch 87/100\n",
      "8/8 [==============================] - 0s 4ms/step - loss: 2.4868 - val_loss: 2.4884\n",
      "Epoch 88/100\n",
      "8/8 [==============================] - 0s 3ms/step - loss: 2.4917 - val_loss: 2.4800\n",
      "Epoch 89/100\n",
      "8/8 [==============================] - 0s 3ms/step - loss: 2.4730 - val_loss: 2.4961\n",
      "Epoch 90/100\n",
      "8/8 [==============================] - 0s 4ms/step - loss: 2.4685 - val_loss: 2.4853\n",
      "Epoch 91/100\n",
      "8/8 [==============================] - 0s 4ms/step - loss: 2.4676 - val_loss: 2.4805\n",
      "Epoch 92/100\n",
      "8/8 [==============================] - 0s 3ms/step - loss: 2.5097 - val_loss: 2.4695\n",
      "Epoch 93/100\n",
      "8/8 [==============================] - 0s 3ms/step - loss: 2.5031 - val_loss: 2.4605\n",
      "Epoch 94/100\n",
      "8/8 [==============================] - 0s 4ms/step - loss: 2.4829 - val_loss: 2.4734\n",
      "Epoch 95/100\n",
      "8/8 [==============================] - 0s 3ms/step - loss: 2.4720 - val_loss: 2.4837\n",
      "Epoch 96/100\n",
      "8/8 [==============================] - 0s 4ms/step - loss: 2.4740 - val_loss: 2.4846\n",
      "Epoch 97/100\n",
      "8/8 [==============================] - 0s 3ms/step - loss: 2.4671 - val_loss: 2.4807\n",
      "Epoch 98/100\n",
      "8/8 [==============================] - 0s 3ms/step - loss: 2.4688 - val_loss: 2.4651\n",
      "Epoch 99/100\n",
      "8/8 [==============================] - 0s 3ms/step - loss: 2.4915 - val_loss: 2.4598\n",
      "Epoch 100/100\n",
      "8/8 [==============================] - 0s 3ms/step - loss: 2.4815 - val_loss: 2.4596\n"
     ]
    }
   ],
   "source": [
    "# Запускаем обучение\n",
    "history = linear_model.fit(train_features,\n",
    "                           train_labels,\n",
    "                           epochs = 100,\n",
    "                           verbose = 1,\n",
    "                           validation_split = 0.2)"
   ]
  },
  {
   "cell_type": "code",
   "execution_count": 39,
   "id": "afade62c",
   "metadata": {},
   "outputs": [
    {
     "data": {
      "image/png": "[encoded data removed]",
      "text/plain": [
       "<Figure size 640x480 with 1 Axes>"
      ]
     },
     "metadata": {},
     "output_type": "display_data"
    }
   ],
   "source": [
    "plot_loss(history)"
   ]
  },
  {
   "cell_type": "code",
   "execution_count": 40,
   "id": "de166ad3",
   "metadata": {},
   "outputs": [
    {
     "data": {
      "text/plain": [
       "{'horsepower_model': 3.647423267364502, 'linear_model': 2.51033616065979}"
      ]
     },
     "execution_count": 40,
     "metadata": {},
     "output_type": "execute_result"
    }
   ],
   "source": [
    "test_results['linear_model'] = linear_model.evaluate(\n",
    "    test_features, test_labels, verbose = 0)\n",
    "test_results"
   ]
  },
  {
   "cell_type": "markdown",
   "id": "bf52b7c8",
   "metadata": {},
   "source": [
    "#### Построение модели на основе многослойного персептрона"
   ]
  },
  {
   "cell_type": "code",
   "execution_count": 41,
   "id": "92771995",
   "metadata": {},
   "outputs": [],
   "source": [
    "def build_and_compile_model(norm):\n",
    "    model = keras.Sequential([norm,\n",
    "                              layers.Dense(64, activation = 'relu'),\n",
    "                              layers.Dense(64, activation = 'relu'),\n",
    "                              layers.Dense(1)\n",
    "                             ])\n",
    "    model.compile(loss = 'mean_absolute_error',\n",
    "                  optimizer = tf.keras.optimizers.Adam(0.001))\n",
    "    return model"
   ]
  },
  {
   "cell_type": "code",
   "execution_count": 42,
   "id": "dfca2ac6",
   "metadata": {},
   "outputs": [
    {
     "name": "stdout",
     "output_type": "stream",
     "text": [
      "Model: \"sequential_2\"\n",
      "_________________________________________________________________\n",
      " Layer (type)                Output Shape              Param #   \n",
      "=================================================================\n",
      " normalization_1 (Normalizat  (None, 1)                3         \n",
      " ion)                                                            \n",
      "                                                                 \n",
      " dense_2 (Dense)             (None, 64)                128       \n",
      "                                                                 \n",
      " dense_3 (Dense)             (None, 64)                4160      \n",
      "                                                                 \n",
      " dense_4 (Dense)             (None, 1)                 65        \n",
      "                                                                 \n",
      "=================================================================\n",
      "Total params: 4,356\n",
      "Trainable params: 4,353\n",
      "Non-trainable params: 3\n",
      "_________________________________________________________________\n"
     ]
    }
   ],
   "source": [
    "dnn_horsepower_model = build_and_compile_model(horsepower_normalizer)\n",
    "dnn_horsepower_model.summary()"
   ]
  },
  {
   "cell_type": "code",
   "execution_count": 43,
   "id": "e1c629da",
   "metadata": {},
   "outputs": [],
   "source": [
    "history = dnn_horsepower_model.fit(train_features['Horsepower'],\n",
    "                                   train_labels,\n",
    "                                   epochs = 100,                                   \n",
    "                                   verbose = 0,\n",
    "                                   validation_split = 0.2)"
   ]
  },
  {
   "cell_type": "code",
   "execution_count": 44,
   "id": "e519d0df",
   "metadata": {},
   "outputs": [
    {
     "data": {
      "image/png": "[encoded data removed]",
      "text/plain": [
       "<Figure size 640x480 with 1 Axes>"
      ]
     },
     "metadata": {},
     "output_type": "display_data"
    }
   ],
   "source": [
    "plot_loss(history)"
   ]
  },
  {
   "cell_type": "code",
   "execution_count": 45,
   "id": "979d6df1",
   "metadata": {},
   "outputs": [
    {
     "name": "stdout",
     "output_type": "stream",
     "text": [
      "8/8 [==============================] - 0s 3ms/step\n"
     ]
    }
   ],
   "source": [
    "x = tf.linspace(0.0, 250, 251)\n",
    "y = dnn_horsepower_model.predict(x)"
   ]
  },
  {
   "cell_type": "code",
   "execution_count": 46,
   "id": "0dad37c4",
   "metadata": {},
   "outputs": [
    {
     "data": {
      "image/png": "[encoded data removed]",
      "text/plain": [
       "<Figure size 640x480 with 1 Axes>"
      ]
     },
     "metadata": {},
     "output_type": "display_data"
    }
   ],
   "source": [
    "plot_horsepower(x, y)"
   ]
  },
  {
   "cell_type": "code",
   "execution_count": 47,
   "id": "73e51699",
   "metadata": {},
   "outputs": [
    {
     "data": {
      "text/plain": [
       "{'horsepower_model': 3.647423267364502,\n",
       " 'linear_model': 2.51033616065979,\n",
       " 'dnn_horsepower_model': 2.921410322189331}"
      ]
     },
     "execution_count": 47,
     "metadata": {},
     "output_type": "execute_result"
    }
   ],
   "source": [
    "test_results['dnn_horsepower_model'] = dnn_horsepower_model.evaluate(\n",
    "    test_features['Horsepower'], test_labels, verbose = 0)\n",
    "test_results"
   ]
  },
  {
   "cell_type": "code",
   "execution_count": 48,
   "id": "3025080f",
   "metadata": {},
   "outputs": [
    {
     "name": "stdout",
     "output_type": "stream",
     "text": [
      "Model: \"sequential_3\"\n",
      "_________________________________________________________________\n",
      " Layer (type)                Output Shape              Param #   \n",
      "=================================================================\n",
      " normalization (Normalizatio  (None, 9)                19        \n",
      " n)                                                              \n",
      "                                                                 \n",
      " dense_5 (Dense)             (None, 64)                640       \n",
      "                                                                 \n",
      " dense_6 (Dense)             (None, 64)                4160      \n",
      "                                                                 \n",
      " dense_7 (Dense)             (None, 1)                 65        \n",
      "                                                                 \n",
      "=================================================================\n",
      "Total params: 4,884\n",
      "Trainable params: 4,865\n",
      "Non-trainable params: 19\n",
      "_________________________________________________________________\n"
     ]
    }
   ],
   "source": [
    "# Строим еще одну модуль с полными фичами\n",
    "dnn_model = build_and_compile_model(normalizer)\n",
    "dnn_model.summary()"
   ]
  },
  {
   "cell_type": "code",
   "execution_count": 49,
   "id": "55049521",
   "metadata": {},
   "outputs": [
    {
     "name": "stdout",
     "output_type": "stream",
     "text": [
      "Epoch 1/100\n",
      "8/8 [==============================] - 0s 16ms/step - loss: 22.7298 - val_loss: 22.7888\n",
      "Epoch 2/100\n",
      "8/8 [==============================] - 0s 4ms/step - loss: 22.0635 - val_loss: 22.0180\n",
      "Epoch 3/100\n",
      "8/8 [==============================] - 0s 4ms/step - loss: 21.3283 - val_loss: 21.0939\n",
      "Epoch 4/100\n",
      "8/8 [==============================] - 0s 4ms/step - loss: 20.4086 - val_loss: 19.9266\n",
      "Epoch 5/100\n",
      "8/8 [==============================] - 0s 4ms/step - loss: 19.2241 - val_loss: 18.3858\n",
      "Epoch 6/100\n",
      "8/8 [==============================] - 0s 4ms/step - loss: 17.6224 - val_loss: 16.3305\n",
      "Epoch 7/100\n",
      "8/8 [==============================] - 0s 4ms/step - loss: 15.5829 - val_loss: 13.9917\n",
      "Epoch 8/100\n",
      "8/8 [==============================] - 0s 4ms/step - loss: 13.4097 - val_loss: 11.8056\n",
      "Epoch 9/100\n",
      "8/8 [==============================] - 0s 4ms/step - loss: 11.0402 - val_loss: 9.4769\n",
      "Epoch 10/100\n",
      "8/8 [==============================] - 0s 4ms/step - loss: 8.6007 - val_loss: 7.2611\n",
      "Epoch 11/100\n",
      "8/8 [==============================] - 0s 4ms/step - loss: 6.9499 - val_loss: 6.1480\n",
      "Epoch 12/100\n",
      "8/8 [==============================] - 0s 4ms/step - loss: 6.1178 - val_loss: 5.6273\n",
      "Epoch 13/100\n",
      "8/8 [==============================] - 0s 4ms/step - loss: 5.3385 - val_loss: 4.8860\n",
      "Epoch 14/100\n",
      "8/8 [==============================] - 0s 4ms/step - loss: 4.5051 - val_loss: 4.3727\n",
      "Epoch 15/100\n",
      "8/8 [==============================] - 0s 4ms/step - loss: 3.8641 - val_loss: 3.9225\n",
      "Epoch 16/100\n",
      "8/8 [==============================] - 0s 4ms/step - loss: 3.4537 - val_loss: 3.6488\n",
      "Epoch 17/100\n",
      "8/8 [==============================] - 0s 4ms/step - loss: 3.1994 - val_loss: 3.3903\n",
      "Epoch 18/100\n",
      "8/8 [==============================] - 0s 4ms/step - loss: 3.0047 - val_loss: 3.2458\n",
      "Epoch 19/100\n",
      "8/8 [==============================] - 0s 4ms/step - loss: 2.8105 - val_loss: 3.0526\n",
      "Epoch 20/100\n",
      "8/8 [==============================] - 0s 4ms/step - loss: 2.6782 - val_loss: 2.8206\n",
      "Epoch 21/100\n",
      "8/8 [==============================] - 0s 4ms/step - loss: 2.5117 - val_loss: 2.7278\n",
      "Epoch 22/100\n",
      "8/8 [==============================] - 0s 4ms/step - loss: 2.3905 - val_loss: 2.5731\n",
      "Epoch 23/100\n",
      "8/8 [==============================] - 0s 4ms/step - loss: 2.3075 - val_loss: 2.4700\n",
      "Epoch 24/100\n",
      "8/8 [==============================] - 0s 4ms/step - loss: 2.2250 - val_loss: 2.5041\n",
      "Epoch 25/100\n",
      "8/8 [==============================] - 0s 4ms/step - loss: 2.1530 - val_loss: 2.3561\n",
      "Epoch 26/100\n",
      "8/8 [==============================] - 0s 4ms/step - loss: 2.0921 - val_loss: 2.3186\n",
      "Epoch 27/100\n",
      "8/8 [==============================] - 0s 4ms/step - loss: 2.0453 - val_loss: 2.3620\n",
      "Epoch 28/100\n",
      "8/8 [==============================] - 0s 4ms/step - loss: 2.0159 - val_loss: 2.2640\n",
      "Epoch 29/100\n",
      "8/8 [==============================] - 0s 4ms/step - loss: 1.9894 - val_loss: 2.3510\n",
      "Epoch 30/100\n",
      "8/8 [==============================] - 0s 4ms/step - loss: 1.9565 - val_loss: 2.2870\n",
      "Epoch 31/100\n",
      "8/8 [==============================] - 0s 4ms/step - loss: 1.9265 - val_loss: 2.2921\n",
      "Epoch 32/100\n",
      "8/8 [==============================] - 0s 4ms/step - loss: 1.9145 - val_loss: 2.2460\n",
      "Epoch 33/100\n",
      "8/8 [==============================] - 0s 4ms/step - loss: 1.8876 - val_loss: 2.2785\n",
      "Epoch 34/100\n",
      "8/8 [==============================] - 0s 4ms/step - loss: 1.8801 - val_loss: 2.2510\n",
      "Epoch 35/100\n",
      "8/8 [==============================] - 0s 4ms/step - loss: 1.8860 - val_loss: 2.2818\n",
      "Epoch 36/100\n",
      "8/8 [==============================] - 0s 4ms/step - loss: 1.8621 - val_loss: 2.2488\n",
      "Epoch 37/100\n",
      "8/8 [==============================] - 0s 4ms/step - loss: 1.8496 - val_loss: 2.2508\n",
      "Epoch 38/100\n",
      "8/8 [==============================] - 0s 4ms/step - loss: 1.8501 - val_loss: 2.2872\n",
      "Epoch 39/100\n",
      "8/8 [==============================] - 0s 4ms/step - loss: 1.8360 - val_loss: 2.2186\n",
      "Epoch 40/100\n",
      "8/8 [==============================] - 0s 4ms/step - loss: 1.8270 - val_loss: 2.2652\n",
      "Epoch 41/100\n",
      "8/8 [==============================] - 0s 4ms/step - loss: 1.8159 - val_loss: 2.2153\n",
      "Epoch 42/100\n",
      "8/8 [==============================] - 0s 4ms/step - loss: 1.8115 - val_loss: 2.2277\n",
      "Epoch 43/100\n",
      "8/8 [==============================] - 0s 4ms/step - loss: 1.8092 - val_loss: 2.2665\n",
      "Epoch 44/100\n",
      "8/8 [==============================] - 0s 4ms/step - loss: 1.7965 - val_loss: 2.1740\n",
      "Epoch 45/100\n",
      "8/8 [==============================] - 0s 4ms/step - loss: 1.8109 - val_loss: 2.1982\n",
      "Epoch 46/100\n",
      "8/8 [==============================] - 0s 4ms/step - loss: 1.7899 - val_loss: 2.2785\n",
      "Epoch 47/100\n",
      "8/8 [==============================] - 0s 4ms/step - loss: 1.8065 - val_loss: 2.1250\n",
      "Epoch 48/100\n",
      "8/8 [==============================] - 0s 4ms/step - loss: 1.7970 - val_loss: 2.2785\n",
      "Epoch 49/100\n",
      "8/8 [==============================] - 0s 4ms/step - loss: 1.7963 - val_loss: 2.2458\n",
      "Epoch 50/100\n",
      "8/8 [==============================] - 0s 4ms/step - loss: 1.7458 - val_loss: 2.2066\n",
      "Epoch 51/100\n",
      "8/8 [==============================] - 0s 4ms/step - loss: 1.7416 - val_loss: 2.1865\n",
      "Epoch 52/100\n",
      "8/8 [==============================] - 0s 4ms/step - loss: 1.7542 - val_loss: 2.1824\n",
      "Epoch 53/100\n",
      "8/8 [==============================] - 0s 4ms/step - loss: 1.7301 - val_loss: 2.2185\n",
      "Epoch 54/100\n",
      "8/8 [==============================] - 0s 4ms/step - loss: 1.7305 - val_loss: 2.1935\n",
      "Epoch 55/100\n",
      "8/8 [==============================] - 0s 4ms/step - loss: 1.7246 - val_loss: 2.1499\n",
      "Epoch 56/100\n",
      "8/8 [==============================] - 0s 4ms/step - loss: 1.7036 - val_loss: 2.2388\n",
      "Epoch 57/100\n",
      "8/8 [==============================] - 0s 4ms/step - loss: 1.7339 - val_loss: 2.1760\n",
      "Epoch 58/100\n",
      "8/8 [==============================] - 0s 4ms/step - loss: 1.7121 - val_loss: 2.1605\n",
      "Epoch 59/100\n",
      "8/8 [==============================] - 0s 4ms/step - loss: 1.7156 - val_loss: 2.2264\n",
      "Epoch 60/100\n",
      "8/8 [==============================] - 0s 4ms/step - loss: 1.6956 - val_loss: 2.1245\n",
      "Epoch 61/100\n",
      "8/8 [==============================] - 0s 4ms/step - loss: 1.6933 - val_loss: 2.1632\n",
      "Epoch 62/100\n",
      "8/8 [==============================] - 0s 4ms/step - loss: 1.6863 - val_loss: 2.2246\n",
      "Epoch 63/100\n",
      "8/8 [==============================] - 0s 4ms/step - loss: 1.6870 - val_loss: 2.1128\n",
      "Epoch 64/100\n",
      "8/8 [==============================] - 0s 4ms/step - loss: 1.6808 - val_loss: 2.2296\n",
      "Epoch 65/100\n",
      "8/8 [==============================] - 0s 4ms/step - loss: 1.6818 - val_loss: 2.1437\n",
      "Epoch 66/100\n",
      "8/8 [==============================] - 0s 4ms/step - loss: 1.6680 - val_loss: 2.1439\n",
      "Epoch 67/100\n",
      "8/8 [==============================] - 0s 4ms/step - loss: 1.6769 - val_loss: 2.1691\n",
      "Epoch 68/100\n",
      "8/8 [==============================] - 0s 4ms/step - loss: 1.6579 - val_loss: 2.1692\n",
      "Epoch 69/100\n",
      "8/8 [==============================] - 0s 4ms/step - loss: 1.6504 - val_loss: 2.1233\n",
      "Epoch 70/100\n",
      "8/8 [==============================] - 0s 4ms/step - loss: 1.6529 - val_loss: 2.1538\n",
      "Epoch 71/100\n",
      "8/8 [==============================] - 0s 4ms/step - loss: 1.6597 - val_loss: 2.1844\n",
      "Epoch 72/100\n",
      "8/8 [==============================] - 0s 4ms/step - loss: 1.6334 - val_loss: 2.1423\n",
      "Epoch 73/100\n",
      "8/8 [==============================] - 0s 4ms/step - loss: 1.6371 - val_loss: 2.1804\n",
      "Epoch 74/100\n",
      "8/8 [==============================] - 0s 4ms/step - loss: 1.6337 - val_loss: 2.1691\n",
      "Epoch 75/100\n",
      "8/8 [==============================] - 0s 4ms/step - loss: 1.6264 - val_loss: 2.1302\n",
      "Epoch 76/100\n",
      "8/8 [==============================] - 0s 4ms/step - loss: 1.6191 - val_loss: 2.1692\n",
      "Epoch 77/100\n",
      "8/8 [==============================] - 0s 4ms/step - loss: 1.6198 - val_loss: 2.1584\n",
      "Epoch 78/100\n",
      "8/8 [==============================] - 0s 4ms/step - loss: 1.6243 - val_loss: 2.1517\n",
      "Epoch 79/100\n",
      "8/8 [==============================] - 0s 4ms/step - loss: 1.6146 - val_loss: 2.1746\n",
      "Epoch 80/100\n",
      "8/8 [==============================] - 0s 4ms/step - loss: 1.6067 - val_loss: 2.1229\n",
      "Epoch 81/100\n",
      "8/8 [==============================] - 0s 4ms/step - loss: 1.6229 - val_loss: 2.1389\n",
      "Epoch 82/100\n",
      "8/8 [==============================] - 0s 4ms/step - loss: 1.6154 - val_loss: 2.1807\n",
      "Epoch 83/100\n",
      "8/8 [==============================] - 0s 4ms/step - loss: 1.6020 - val_loss: 2.1266\n",
      "Epoch 84/100\n"
     ]
    },
    {
     "name": "stdout",
     "output_type": "stream",
     "text": [
      "8/8 [==============================] - 0s 4ms/step - loss: 1.5930 - val_loss: 2.1527\n",
      "Epoch 85/100\n",
      "8/8 [==============================] - 0s 4ms/step - loss: 1.6397 - val_loss: 2.1434\n",
      "Epoch 86/100\n",
      "8/8 [==============================] - 0s 4ms/step - loss: 1.6338 - val_loss: 2.1329\n",
      "Epoch 87/100\n",
      "8/8 [==============================] - 0s 4ms/step - loss: 1.5799 - val_loss: 2.1496\n",
      "Epoch 88/100\n",
      "8/8 [==============================] - 0s 4ms/step - loss: 1.5979 - val_loss: 2.1289\n",
      "Epoch 89/100\n",
      "8/8 [==============================] - 0s 4ms/step - loss: 1.6331 - val_loss: 2.1877\n",
      "Epoch 90/100\n",
      "8/8 [==============================] - 0s 4ms/step - loss: 1.5971 - val_loss: 2.1430\n",
      "Epoch 91/100\n",
      "8/8 [==============================] - 0s 4ms/step - loss: 1.5815 - val_loss: 2.1259\n",
      "Epoch 92/100\n",
      "8/8 [==============================] - 0s 4ms/step - loss: 1.5882 - val_loss: 2.1464\n",
      "Epoch 93/100\n",
      "8/8 [==============================] - 0s 4ms/step - loss: 1.5901 - val_loss: 2.1056\n",
      "Epoch 94/100\n",
      "8/8 [==============================] - 0s 4ms/step - loss: 1.5863 - val_loss: 2.1314\n",
      "Epoch 95/100\n",
      "8/8 [==============================] - 0s 4ms/step - loss: 1.5721 - val_loss: 2.2101\n",
      "Epoch 96/100\n",
      "8/8 [==============================] - 0s 4ms/step - loss: 1.5940 - val_loss: 2.1359\n",
      "Epoch 97/100\n",
      "8/8 [==============================] - 0s 4ms/step - loss: 1.5687 - val_loss: 2.0929\n",
      "Epoch 98/100\n",
      "8/8 [==============================] - 0s 4ms/step - loss: 1.5788 - val_loss: 2.2312\n",
      "Epoch 99/100\n",
      "8/8 [==============================] - 0s 4ms/step - loss: 1.5783 - val_loss: 2.1122\n",
      "Epoch 100/100\n",
      "8/8 [==============================] - 0s 4ms/step - loss: 1.5704 - val_loss: 2.1550\n"
     ]
    }
   ],
   "source": [
    "history = dnn_model.fit(train_features,\n",
    "                        train_labels,\n",
    "                        epochs = 100,\n",
    "                        verbose = 1,\n",
    "                        validation_split = 0.2)"
   ]
  },
  {
   "cell_type": "code",
   "execution_count": 50,
   "id": "c05511e8",
   "metadata": {},
   "outputs": [
    {
     "data": {
      "image/png": "[encoded data removed]",
      "text/plain": [
       "<Figure size 640x480 with 1 Axes>"
      ]
     },
     "metadata": {},
     "output_type": "display_data"
    }
   ],
   "source": [
    "plot_loss(history)"
   ]
  },
  {
   "cell_type": "code",
   "execution_count": 51,
   "id": "7bf32f77",
   "metadata": {},
   "outputs": [
    {
     "data": {
      "text/plain": [
       "{'horsepower_model': 3.647423267364502,\n",
       " 'linear_model': 2.51033616065979,\n",
       " 'dnn_horsepower_model': 2.921410322189331,\n",
       " 'dnn_model': 1.6758157014846802}"
      ]
     },
     "execution_count": 51,
     "metadata": {},
     "output_type": "execute_result"
    }
   ],
   "source": [
    "test_results['dnn_model'] = dnn_model.evaluate(test_features,\n",
    "                                               test_labels,\n",
    "                                               verbose = 0)\n",
    "test_results"
   ]
  },
  {
   "cell_type": "code",
   "execution_count": 52,
   "id": "3ae18e1a",
   "metadata": {},
   "outputs": [
    {
     "data": {
      "text/html": [
       "<div>\n",
       "<style scoped>\n",
       "    .dataframe tbody tr th:only-of-type {\n",
       "        vertical-align: middle;\n",
       "    }\n",
       "\n",
       "    .dataframe tbody tr th {\n",
       "        vertical-align: top;\n",
       "    }\n",
       "\n",
       "    .dataframe thead th {\n",
       "        text-align: right;\n",
       "    }\n",
       "</style>\n",
       "<table border=\"1\" class=\"dataframe\">\n",
       "  <thead>\n",
       "    <tr style=\"text-align: right;\">\n",
       "      <th></th>\n",
       "      <th>MAE [MPG]</th>\n",
       "    </tr>\n",
       "  </thead>\n",
       "  <tbody>\n",
       "    <tr>\n",
       "      <th>horsepower_model</th>\n",
       "      <td>3.647423</td>\n",
       "    </tr>\n",
       "    <tr>\n",
       "      <th>linear_model</th>\n",
       "      <td>2.510336</td>\n",
       "    </tr>\n",
       "    <tr>\n",
       "      <th>dnn_horsepower_model</th>\n",
       "      <td>2.921410</td>\n",
       "    </tr>\n",
       "    <tr>\n",
       "      <th>dnn_model</th>\n",
       "      <td>1.675816</td>\n",
       "    </tr>\n",
       "  </tbody>\n",
       "</table>\n",
       "</div>"
      ],
      "text/plain": [
       "                      MAE [MPG]\n",
       "horsepower_model       3.647423\n",
       "linear_model           2.510336\n",
       "dnn_horsepower_model   2.921410\n",
       "dnn_model              1.675816"
      ]
     },
     "execution_count": 52,
     "metadata": {},
     "output_type": "execute_result"
    }
   ],
   "source": [
    "pd.DataFrame(test_results, index = ['MAE [MPG]']).T"
   ]
  },
  {
   "cell_type": "code",
   "execution_count": 53,
   "id": "ebe09cb2",
   "metadata": {},
   "outputs": [
    {
     "name": "stdout",
     "output_type": "stream",
     "text": [
      "3/3 [==============================] - 0s 2ms/step\n"
     ]
    },
    {
     "data": {
      "image/png": "[encoded data removed]",
      "text/plain": [
       "<Figure size 640x480 with 1 Axes>"
      ]
     },
     "metadata": {},
     "output_type": "display_data"
    }
   ],
   "source": [
    "test_predictions = dnn_model.predict(test_features).flatten()\n",
    "a = plt.axes(aspect = 'equal')\n",
    "plt.scatter(test_labels, test_predictions)\n",
    "plt.xlabel('True Values [MPG]')\n",
    "plt.ylabel('Predictions [MPG]')\n",
    "lims = [0, 50]\n",
    "plt.xlim(lims)\n",
    "plt.ylim(lims)\n",
    "_ = plt.plot(lims, lims)"
   ]
  },
  {
   "cell_type": "code",
   "execution_count": 54,
   "id": "0d33ece1",
   "metadata": {},
   "outputs": [
    {
     "data": {
      "image/png": "[encoded data removed]",
      "text/plain": [
       "<Figure size 640x480 with 1 Axes>"
      ]
     },
     "metadata": {},
     "output_type": "display_data"
    }
   ],
   "source": [
    "error = test_predictions - test_labels\n",
    "plt.hist(error, bins = 15)\n",
    "plt.xlabel('Prediction Error [MPG]')\n",
    "_ = plt.ylabel('Count')"
   ]
  },
  {
   "cell_type": "code",
   "execution_count": 55,
   "id": "8abb4c1e",
   "metadata": {},
   "outputs": [
    {
     "data": {
      "text/plain": [
       "{'horsepower_model': 3.647423267364502,\n",
       " 'linear_model': 2.51033616065979,\n",
       " 'dnn_horsepower_model': 2.921410322189331,\n",
       " 'dnn_model': 1.6758157014846802}"
      ]
     },
     "execution_count": 55,
     "metadata": {},
     "output_type": "execute_result"
    }
   ],
   "source": [
    "test_results"
   ]
  },
  {
   "cell_type": "code",
   "execution_count": 67,
   "id": "76e071c4",
   "metadata": {},
   "outputs": [
    {
     "name": "stdout",
     "output_type": "stream",
     "text": [
      "1/1 [==============================] - 0s 16ms/step\n",
      "[15.314 10.708 11.023 24.839 20.594 12.224 12.759 11.962 18.915 31.112]\n"
     ]
    }
   ],
   "source": [
    "test_predictions = dnn_model.predict(test_features[:10]).flatten()\n",
    "print(test_predictions)"
   ]
  },
  {
   "cell_type": "code",
   "execution_count": 65,
   "id": "562ace33",
   "metadata": {},
   "outputs": [
    {
     "data": {
      "text/html": [
       "<div>\n",
       "<style scoped>\n",
       "    .dataframe tbody tr th:only-of-type {\n",
       "        vertical-align: middle;\n",
       "    }\n",
       "\n",
       "    .dataframe tbody tr th {\n",
       "        vertical-align: top;\n",
       "    }\n",
       "\n",
       "    .dataframe thead th {\n",
       "        text-align: right;\n",
       "    }\n",
       "</style>\n",
       "<table border=\"1\" class=\"dataframe\">\n",
       "  <thead>\n",
       "    <tr style=\"text-align: right;\">\n",
       "      <th></th>\n",
       "      <th>Cylinders</th>\n",
       "      <th>Displacement</th>\n",
       "      <th>Horsepower</th>\n",
       "      <th>Weight</th>\n",
       "      <th>Acceleration</th>\n",
       "      <th>Model Year</th>\n",
       "      <th>Europe</th>\n",
       "      <th>Japan</th>\n",
       "      <th>USA</th>\n",
       "    </tr>\n",
       "  </thead>\n",
       "  <tbody>\n",
       "    <tr>\n",
       "      <th>9</th>\n",
       "      <td>8</td>\n",
       "      <td>390.0</td>\n",
       "      <td>190.0</td>\n",
       "      <td>3850.0</td>\n",
       "      <td>8.5</td>\n",
       "      <td>70</td>\n",
       "      <td>0</td>\n",
       "      <td>0</td>\n",
       "      <td>1</td>\n",
       "    </tr>\n",
       "    <tr>\n",
       "      <th>25</th>\n",
       "      <td>8</td>\n",
       "      <td>360.0</td>\n",
       "      <td>215.0</td>\n",
       "      <td>4615.0</td>\n",
       "      <td>14.0</td>\n",
       "      <td>70</td>\n",
       "      <td>0</td>\n",
       "      <td>0</td>\n",
       "      <td>1</td>\n",
       "    </tr>\n",
       "    <tr>\n",
       "      <th>28</th>\n",
       "      <td>8</td>\n",
       "      <td>304.0</td>\n",
       "      <td>193.0</td>\n",
       "      <td>4732.0</td>\n",
       "      <td>18.5</td>\n",
       "      <td>70</td>\n",
       "      <td>0</td>\n",
       "      <td>0</td>\n",
       "      <td>1</td>\n",
       "    </tr>\n",
       "    <tr>\n",
       "      <th>31</th>\n",
       "      <td>4</td>\n",
       "      <td>113.0</td>\n",
       "      <td>95.0</td>\n",
       "      <td>2228.0</td>\n",
       "      <td>14.0</td>\n",
       "      <td>71</td>\n",
       "      <td>0</td>\n",
       "      <td>1</td>\n",
       "      <td>0</td>\n",
       "    </tr>\n",
       "    <tr>\n",
       "      <th>33</th>\n",
       "      <td>6</td>\n",
       "      <td>232.0</td>\n",
       "      <td>100.0</td>\n",
       "      <td>2634.0</td>\n",
       "      <td>13.0</td>\n",
       "      <td>71</td>\n",
       "      <td>0</td>\n",
       "      <td>0</td>\n",
       "      <td>1</td>\n",
       "    </tr>\n",
       "    <tr>\n",
       "      <th>39</th>\n",
       "      <td>8</td>\n",
       "      <td>400.0</td>\n",
       "      <td>175.0</td>\n",
       "      <td>4464.0</td>\n",
       "      <td>11.5</td>\n",
       "      <td>71</td>\n",
       "      <td>0</td>\n",
       "      <td>0</td>\n",
       "      <td>1</td>\n",
       "    </tr>\n",
       "    <tr>\n",
       "      <th>40</th>\n",
       "      <td>8</td>\n",
       "      <td>351.0</td>\n",
       "      <td>153.0</td>\n",
       "      <td>4154.0</td>\n",
       "      <td>13.5</td>\n",
       "      <td>71</td>\n",
       "      <td>0</td>\n",
       "      <td>0</td>\n",
       "      <td>1</td>\n",
       "    </tr>\n",
       "    <tr>\n",
       "      <th>43</th>\n",
       "      <td>8</td>\n",
       "      <td>400.0</td>\n",
       "      <td>170.0</td>\n",
       "      <td>4746.0</td>\n",
       "      <td>12.0</td>\n",
       "      <td>71</td>\n",
       "      <td>0</td>\n",
       "      <td>0</td>\n",
       "      <td>1</td>\n",
       "    </tr>\n",
       "    <tr>\n",
       "      <th>48</th>\n",
       "      <td>6</td>\n",
       "      <td>250.0</td>\n",
       "      <td>88.0</td>\n",
       "      <td>3139.0</td>\n",
       "      <td>14.5</td>\n",
       "      <td>71</td>\n",
       "      <td>0</td>\n",
       "      <td>0</td>\n",
       "      <td>1</td>\n",
       "    </tr>\n",
       "    <tr>\n",
       "      <th>54</th>\n",
       "      <td>4</td>\n",
       "      <td>72.0</td>\n",
       "      <td>69.0</td>\n",
       "      <td>1613.0</td>\n",
       "      <td>18.0</td>\n",
       "      <td>71</td>\n",
       "      <td>0</td>\n",
       "      <td>1</td>\n",
       "      <td>0</td>\n",
       "    </tr>\n",
       "  </tbody>\n",
       "</table>\n",
       "</div>"
      ],
      "text/plain": [
       "    Cylinders  Displacement  Horsepower  Weight  Acceleration  Model Year  \\\n",
       "9           8         390.0       190.0  3850.0           8.5          70   \n",
       "25          8         360.0       215.0  4615.0          14.0          70   \n",
       "28          8         304.0       193.0  4732.0          18.5          70   \n",
       "31          4         113.0        95.0  2228.0          14.0          71   \n",
       "33          6         232.0       100.0  2634.0          13.0          71   \n",
       "39          8         400.0       175.0  4464.0          11.5          71   \n",
       "40          8         351.0       153.0  4154.0          13.5          71   \n",
       "43          8         400.0       170.0  4746.0          12.0          71   \n",
       "48          6         250.0        88.0  3139.0          14.5          71   \n",
       "54          4          72.0        69.0  1613.0          18.0          71   \n",
       "\n",
       "    Europe  Japan  USA  \n",
       "9        0      0    1  \n",
       "25       0      0    1  \n",
       "28       0      0    1  \n",
       "31       0      1    0  \n",
       "33       0      0    1  \n",
       "39       0      0    1  \n",
       "40       0      0    1  \n",
       "43       0      0    1  \n",
       "48       0      0    1  \n",
       "54       0      1    0  "
      ]
     },
     "execution_count": 65,
     "metadata": {},
     "output_type": "execute_result"
    }
   ],
   "source": [
    "test_features[:10]"
   ]
  },
  {
   "cell_type": "code",
   "execution_count": 66,
   "id": "306531f4",
   "metadata": {},
   "outputs": [
    {
     "data": {
      "text/plain": [
       "146    28.0\n",
       "282    22.3\n",
       "69     12.0\n",
       "378    38.0\n",
       "331    33.8\n",
       "257    19.4\n",
       "310    38.1\n",
       "328    30.0\n",
       "125    20.0\n",
       "108    20.0\n",
       "Name: MPG, dtype: float64"
      ]
     },
     "execution_count": 66,
     "metadata": {},
     "output_type": "execute_result"
    }
   ],
   "source": [
    "train_labels[:10]"
   ]
  },
  {
   "cell_type": "code",
   "execution_count": 72,
   "id": "77776145",
   "metadata": {},
   "outputs": [
    {
     "data": {
      "text/plain": [
       "<matplotlib.collections.PathCollection at 0x1d358e63490>"
      ]
     },
     "execution_count": 72,
     "metadata": {},
     "output_type": "execute_result"
    },
    {
     "data": {
      "image/png": "[encoded data removed]",
      "text/plain": [
       "<Figure size 640x480 with 1 Axes>"
      ]
     },
     "metadata": {},
     "output_type": "display_data"
    }
   ],
   "source": [
    "plt.scatter(train_labels[:10], test_predictions.flatten())"
   ]
  },
  {
   "cell_type": "code",
   "execution_count": null,
   "id": "31a8bfb8",
   "metadata": {},
   "outputs": [],
   "source": []
  }
 ],
 "metadata": {
  "kernelspec": {
   "display_name": "Python 3 (ipykernel)",
   "language": "python",
   "name": "python3"
  },
  "language_info": {
   "codemirror_mode": {
    "name": "ipython",
    "version": 3
   },
   "file_extension": ".py",
   "mimetype": "text/x-python",
   "name": "python",
   "nbconvert_exporter": "python",
   "pygments_lexer": "ipython3",
   "version": "3.9.12"
  }
 },
 "nbformat": 4,
 "nbformat_minor": 5
}
