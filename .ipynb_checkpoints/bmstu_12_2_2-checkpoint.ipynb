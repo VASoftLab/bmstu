{
 "cells": [
  {
   "cell_type": "markdown",
   "id": "f3b7fa4a",
   "metadata": {},
   "source": [
    "### Решение регрессионной задачи с помоощью нейронной сети"
   ]
  },
  {
   "cell_type": "code",
   "execution_count": 1,
   "id": "efd1062a",
   "metadata": {},
   "outputs": [],
   "source": [
    "import matplotlib.pyplot as plt\n",
    "%matplotlib inline\n",
    "\n",
    "import numpy as np\n",
    "import pandas as pd\n",
    "\n",
    "np.set_printoptions(precision = 3, suppress = True)"
   ]
  },
  {
   "cell_type": "code",
   "execution_count": 2,
   "id": "ac9123a6",
   "metadata": {},
   "outputs": [
    {
     "name": "stdout",
     "output_type": "stream",
     "text": [
      "2.10.0\n"
     ]
    }
   ],
   "source": [
    "import tensorflow as tf\n",
    "from tensorflow import keras\n",
    "from tensorflow.keras import layers\n",
    "print(tf.__version__)"
   ]
  },
  {
   "cell_type": "markdown",
   "id": "4a686f00",
   "metadata": {},
   "source": [
    "#### Создание моделей для прогнозирования топливной экономичности автомобилей"
   ]
  },
  {
   "cell_type": "code",
   "execution_count": 3,
   "id": "a5f5a8f5",
   "metadata": {},
   "outputs": [],
   "source": [
    "url = 'http://archive.ics.uci.edu/ml/machine-learning-databases/auto-mpg/auto-mpg.data'\n",
    "column_names = ['MPG', 'Cylinders', 'Displacement', 'Horsepower', 'Weight',\n",
    "                'Acceleration', 'Model Year', 'Origin']\n",
    "raw_dataset = pd.read_csv(url, names = column_names, na_values = '?',\n",
    "                          comment = '\\t', sep = ' ', skipinitialspace = True)"
   ]
  },
  {
   "cell_type": "code",
   "execution_count": 4,
   "id": "091c849f",
   "metadata": {},
   "outputs": [
    {
     "data": {
      "text/html": [
       "<div>\n",
       "<style scoped>\n",
       "    .dataframe tbody tr th:only-of-type {\n",
       "        vertical-align: middle;\n",
       "    }\n",
       "\n",
       "    .dataframe tbody tr th {\n",
       "        vertical-align: top;\n",
       "    }\n",
       "\n",
       "    .dataframe thead th {\n",
       "        text-align: right;\n",
       "    }\n",
       "</style>\n",
       "<table border=\"1\" class=\"dataframe\">\n",
       "  <thead>\n",
       "    <tr style=\"text-align: right;\">\n",
       "      <th></th>\n",
       "      <th>MPG</th>\n",
       "      <th>Cylinders</th>\n",
       "      <th>Displacement</th>\n",
       "      <th>Horsepower</th>\n",
       "      <th>Weight</th>\n",
       "      <th>Acceleration</th>\n",
       "      <th>Model Year</th>\n",
       "      <th>Origin</th>\n",
       "    </tr>\n",
       "  </thead>\n",
       "  <tbody>\n",
       "    <tr>\n",
       "      <th>0</th>\n",
       "      <td>18.0</td>\n",
       "      <td>8</td>\n",
       "      <td>307.0</td>\n",
       "      <td>130.0</td>\n",
       "      <td>3504.0</td>\n",
       "      <td>12.0</td>\n",
       "      <td>70</td>\n",
       "      <td>1</td>\n",
       "    </tr>\n",
       "    <tr>\n",
       "      <th>1</th>\n",
       "      <td>15.0</td>\n",
       "      <td>8</td>\n",
       "      <td>350.0</td>\n",
       "      <td>165.0</td>\n",
       "      <td>3693.0</td>\n",
       "      <td>11.5</td>\n",
       "      <td>70</td>\n",
       "      <td>1</td>\n",
       "    </tr>\n",
       "    <tr>\n",
       "      <th>2</th>\n",
       "      <td>18.0</td>\n",
       "      <td>8</td>\n",
       "      <td>318.0</td>\n",
       "      <td>150.0</td>\n",
       "      <td>3436.0</td>\n",
       "      <td>11.0</td>\n",
       "      <td>70</td>\n",
       "      <td>1</td>\n",
       "    </tr>\n",
       "    <tr>\n",
       "      <th>3</th>\n",
       "      <td>16.0</td>\n",
       "      <td>8</td>\n",
       "      <td>304.0</td>\n",
       "      <td>150.0</td>\n",
       "      <td>3433.0</td>\n",
       "      <td>12.0</td>\n",
       "      <td>70</td>\n",
       "      <td>1</td>\n",
       "    </tr>\n",
       "    <tr>\n",
       "      <th>4</th>\n",
       "      <td>17.0</td>\n",
       "      <td>8</td>\n",
       "      <td>302.0</td>\n",
       "      <td>140.0</td>\n",
       "      <td>3449.0</td>\n",
       "      <td>10.5</td>\n",
       "      <td>70</td>\n",
       "      <td>1</td>\n",
       "    </tr>\n",
       "  </tbody>\n",
       "</table>\n",
       "</div>"
      ],
      "text/plain": [
       "    MPG  Cylinders  Displacement  Horsepower  Weight  Acceleration  \\\n",
       "0  18.0          8         307.0       130.0  3504.0          12.0   \n",
       "1  15.0          8         350.0       165.0  3693.0          11.5   \n",
       "2  18.0          8         318.0       150.0  3436.0          11.0   \n",
       "3  16.0          8         304.0       150.0  3433.0          12.0   \n",
       "4  17.0          8         302.0       140.0  3449.0          10.5   \n",
       "\n",
       "   Model Year  Origin  \n",
       "0          70       1  \n",
       "1          70       1  \n",
       "2          70       1  \n",
       "3          70       1  \n",
       "4          70       1  "
      ]
     },
     "execution_count": 4,
     "metadata": {},
     "output_type": "execute_result"
    }
   ],
   "source": [
    "raw_dataset.head()"
   ]
  },
  {
   "cell_type": "code",
   "execution_count": 5,
   "id": "517ee8bd",
   "metadata": {},
   "outputs": [
    {
     "data": {
      "text/html": [
       "<div>\n",
       "<style scoped>\n",
       "    .dataframe tbody tr th:only-of-type {\n",
       "        vertical-align: middle;\n",
       "    }\n",
       "\n",
       "    .dataframe tbody tr th {\n",
       "        vertical-align: top;\n",
       "    }\n",
       "\n",
       "    .dataframe thead th {\n",
       "        text-align: right;\n",
       "    }\n",
       "</style>\n",
       "<table border=\"1\" class=\"dataframe\">\n",
       "  <thead>\n",
       "    <tr style=\"text-align: right;\">\n",
       "      <th></th>\n",
       "      <th>MPG</th>\n",
       "      <th>Cylinders</th>\n",
       "      <th>Displacement</th>\n",
       "      <th>Horsepower</th>\n",
       "      <th>Weight</th>\n",
       "      <th>Acceleration</th>\n",
       "      <th>Model Year</th>\n",
       "      <th>Origin</th>\n",
       "    </tr>\n",
       "  </thead>\n",
       "  <tbody>\n",
       "    <tr>\n",
       "      <th>0</th>\n",
       "      <td>18.0</td>\n",
       "      <td>8</td>\n",
       "      <td>307.0</td>\n",
       "      <td>130.0</td>\n",
       "      <td>3504.0</td>\n",
       "      <td>12.0</td>\n",
       "      <td>70</td>\n",
       "      <td>1</td>\n",
       "    </tr>\n",
       "    <tr>\n",
       "      <th>1</th>\n",
       "      <td>15.0</td>\n",
       "      <td>8</td>\n",
       "      <td>350.0</td>\n",
       "      <td>165.0</td>\n",
       "      <td>3693.0</td>\n",
       "      <td>11.5</td>\n",
       "      <td>70</td>\n",
       "      <td>1</td>\n",
       "    </tr>\n",
       "    <tr>\n",
       "      <th>2</th>\n",
       "      <td>18.0</td>\n",
       "      <td>8</td>\n",
       "      <td>318.0</td>\n",
       "      <td>150.0</td>\n",
       "      <td>3436.0</td>\n",
       "      <td>11.0</td>\n",
       "      <td>70</td>\n",
       "      <td>1</td>\n",
       "    </tr>\n",
       "    <tr>\n",
       "      <th>3</th>\n",
       "      <td>16.0</td>\n",
       "      <td>8</td>\n",
       "      <td>304.0</td>\n",
       "      <td>150.0</td>\n",
       "      <td>3433.0</td>\n",
       "      <td>12.0</td>\n",
       "      <td>70</td>\n",
       "      <td>1</td>\n",
       "    </tr>\n",
       "    <tr>\n",
       "      <th>4</th>\n",
       "      <td>17.0</td>\n",
       "      <td>8</td>\n",
       "      <td>302.0</td>\n",
       "      <td>140.0</td>\n",
       "      <td>3449.0</td>\n",
       "      <td>10.5</td>\n",
       "      <td>70</td>\n",
       "      <td>1</td>\n",
       "    </tr>\n",
       "  </tbody>\n",
       "</table>\n",
       "</div>"
      ],
      "text/plain": [
       "    MPG  Cylinders  Displacement  Horsepower  Weight  Acceleration  \\\n",
       "0  18.0          8         307.0       130.0  3504.0          12.0   \n",
       "1  15.0          8         350.0       165.0  3693.0          11.5   \n",
       "2  18.0          8         318.0       150.0  3436.0          11.0   \n",
       "3  16.0          8         304.0       150.0  3433.0          12.0   \n",
       "4  17.0          8         302.0       140.0  3449.0          10.5   \n",
       "\n",
       "   Model Year  Origin  \n",
       "0          70       1  \n",
       "1          70       1  \n",
       "2          70       1  \n",
       "3          70       1  \n",
       "4          70       1  "
      ]
     },
     "execution_count": 5,
     "metadata": {},
     "output_type": "execute_result"
    }
   ],
   "source": [
    "# Создаем копию датасета\n",
    "dataset = raw_dataset.copy()\n",
    "dataset.head()"
   ]
  },
  {
   "cell_type": "code",
   "execution_count": 6,
   "id": "a45ed44a",
   "metadata": {},
   "outputs": [
    {
     "data": {
      "text/plain": [
       "MPG             0\n",
       "Cylinders       0\n",
       "Displacement    0\n",
       "Horsepower      6\n",
       "Weight          0\n",
       "Acceleration    0\n",
       "Model Year      0\n",
       "Origin          0\n",
       "dtype: int64"
      ]
     },
     "execution_count": 6,
     "metadata": {},
     "output_type": "execute_result"
    }
   ],
   "source": [
    "# Проверяем на пустые значения\n",
    "dataset.isna().sum()"
   ]
  },
  {
   "cell_type": "code",
   "execution_count": 7,
   "id": "31050983",
   "metadata": {},
   "outputs": [],
   "source": [
    "# Удаляем пустые значения\n",
    "dataset = dataset.dropna()"
   ]
  },
  {
   "cell_type": "code",
   "execution_count": 8,
   "id": "b342eb1c",
   "metadata": {},
   "outputs": [
    {
     "data": {
      "text/html": [
       "<div>\n",
       "<style scoped>\n",
       "    .dataframe tbody tr th:only-of-type {\n",
       "        vertical-align: middle;\n",
       "    }\n",
       "\n",
       "    .dataframe tbody tr th {\n",
       "        vertical-align: top;\n",
       "    }\n",
       "\n",
       "    .dataframe thead th {\n",
       "        text-align: right;\n",
       "    }\n",
       "</style>\n",
       "<table border=\"1\" class=\"dataframe\">\n",
       "  <thead>\n",
       "    <tr style=\"text-align: right;\">\n",
       "      <th></th>\n",
       "      <th>MPG</th>\n",
       "      <th>Cylinders</th>\n",
       "      <th>Displacement</th>\n",
       "      <th>Horsepower</th>\n",
       "      <th>Weight</th>\n",
       "      <th>Acceleration</th>\n",
       "      <th>Model Year</th>\n",
       "      <th>Origin</th>\n",
       "    </tr>\n",
       "  </thead>\n",
       "  <tbody>\n",
       "    <tr>\n",
       "      <th>0</th>\n",
       "      <td>18.0</td>\n",
       "      <td>8</td>\n",
       "      <td>307.0</td>\n",
       "      <td>130.0</td>\n",
       "      <td>3504.0</td>\n",
       "      <td>12.0</td>\n",
       "      <td>70</td>\n",
       "      <td>USA</td>\n",
       "    </tr>\n",
       "    <tr>\n",
       "      <th>1</th>\n",
       "      <td>15.0</td>\n",
       "      <td>8</td>\n",
       "      <td>350.0</td>\n",
       "      <td>165.0</td>\n",
       "      <td>3693.0</td>\n",
       "      <td>11.5</td>\n",
       "      <td>70</td>\n",
       "      <td>USA</td>\n",
       "    </tr>\n",
       "    <tr>\n",
       "      <th>2</th>\n",
       "      <td>18.0</td>\n",
       "      <td>8</td>\n",
       "      <td>318.0</td>\n",
       "      <td>150.0</td>\n",
       "      <td>3436.0</td>\n",
       "      <td>11.0</td>\n",
       "      <td>70</td>\n",
       "      <td>USA</td>\n",
       "    </tr>\n",
       "    <tr>\n",
       "      <th>3</th>\n",
       "      <td>16.0</td>\n",
       "      <td>8</td>\n",
       "      <td>304.0</td>\n",
       "      <td>150.0</td>\n",
       "      <td>3433.0</td>\n",
       "      <td>12.0</td>\n",
       "      <td>70</td>\n",
       "      <td>USA</td>\n",
       "    </tr>\n",
       "    <tr>\n",
       "      <th>4</th>\n",
       "      <td>17.0</td>\n",
       "      <td>8</td>\n",
       "      <td>302.0</td>\n",
       "      <td>140.0</td>\n",
       "      <td>3449.0</td>\n",
       "      <td>10.5</td>\n",
       "      <td>70</td>\n",
       "      <td>USA</td>\n",
       "    </tr>\n",
       "  </tbody>\n",
       "</table>\n",
       "</div>"
      ],
      "text/plain": [
       "    MPG  Cylinders  Displacement  Horsepower  Weight  Acceleration  \\\n",
       "0  18.0          8         307.0       130.0  3504.0          12.0   \n",
       "1  15.0          8         350.0       165.0  3693.0          11.5   \n",
       "2  18.0          8         318.0       150.0  3436.0          11.0   \n",
       "3  16.0          8         304.0       150.0  3433.0          12.0   \n",
       "4  17.0          8         302.0       140.0  3449.0          10.5   \n",
       "\n",
       "   Model Year Origin  \n",
       "0          70    USA  \n",
       "1          70    USA  \n",
       "2          70    USA  \n",
       "3          70    USA  \n",
       "4          70    USA  "
      ]
     },
     "execution_count": 8,
     "metadata": {},
     "output_type": "execute_result"
    }
   ],
   "source": [
    "# Создаем OneHotEncoding для датасета\n",
    "dataset['Origin'] = dataset['Origin'].map({1: 'USA', 2: 'Europe', 3: 'Japan'})\n",
    "dataset.head()"
   ]
  },
  {
   "cell_type": "code",
   "execution_count": 9,
   "id": "41d17a1c",
   "metadata": {},
   "outputs": [
    {
     "data": {
      "text/html": [
       "<div>\n",
       "<style scoped>\n",
       "    .dataframe tbody tr th:only-of-type {\n",
       "        vertical-align: middle;\n",
       "    }\n",
       "\n",
       "    .dataframe tbody tr th {\n",
       "        vertical-align: top;\n",
       "    }\n",
       "\n",
       "    .dataframe thead th {\n",
       "        text-align: right;\n",
       "    }\n",
       "</style>\n",
       "<table border=\"1\" class=\"dataframe\">\n",
       "  <thead>\n",
       "    <tr style=\"text-align: right;\">\n",
       "      <th></th>\n",
       "      <th>MPG</th>\n",
       "      <th>Cylinders</th>\n",
       "      <th>Displacement</th>\n",
       "      <th>Horsepower</th>\n",
       "      <th>Weight</th>\n",
       "      <th>Acceleration</th>\n",
       "      <th>Model Year</th>\n",
       "      <th>Europe</th>\n",
       "      <th>Japan</th>\n",
       "      <th>USA</th>\n",
       "    </tr>\n",
       "  </thead>\n",
       "  <tbody>\n",
       "    <tr>\n",
       "      <th>393</th>\n",
       "      <td>27.0</td>\n",
       "      <td>4</td>\n",
       "      <td>140.0</td>\n",
       "      <td>86.0</td>\n",
       "      <td>2790.0</td>\n",
       "      <td>15.6</td>\n",
       "      <td>82</td>\n",
       "      <td>0</td>\n",
       "      <td>0</td>\n",
       "      <td>1</td>\n",
       "    </tr>\n",
       "    <tr>\n",
       "      <th>394</th>\n",
       "      <td>44.0</td>\n",
       "      <td>4</td>\n",
       "      <td>97.0</td>\n",
       "      <td>52.0</td>\n",
       "      <td>2130.0</td>\n",
       "      <td>24.6</td>\n",
       "      <td>82</td>\n",
       "      <td>1</td>\n",
       "      <td>0</td>\n",
       "      <td>0</td>\n",
       "    </tr>\n",
       "    <tr>\n",
       "      <th>395</th>\n",
       "      <td>32.0</td>\n",
       "      <td>4</td>\n",
       "      <td>135.0</td>\n",
       "      <td>84.0</td>\n",
       "      <td>2295.0</td>\n",
       "      <td>11.6</td>\n",
       "      <td>82</td>\n",
       "      <td>0</td>\n",
       "      <td>0</td>\n",
       "      <td>1</td>\n",
       "    </tr>\n",
       "    <tr>\n",
       "      <th>396</th>\n",
       "      <td>28.0</td>\n",
       "      <td>4</td>\n",
       "      <td>120.0</td>\n",
       "      <td>79.0</td>\n",
       "      <td>2625.0</td>\n",
       "      <td>18.6</td>\n",
       "      <td>82</td>\n",
       "      <td>0</td>\n",
       "      <td>0</td>\n",
       "      <td>1</td>\n",
       "    </tr>\n",
       "    <tr>\n",
       "      <th>397</th>\n",
       "      <td>31.0</td>\n",
       "      <td>4</td>\n",
       "      <td>119.0</td>\n",
       "      <td>82.0</td>\n",
       "      <td>2720.0</td>\n",
       "      <td>19.4</td>\n",
       "      <td>82</td>\n",
       "      <td>0</td>\n",
       "      <td>0</td>\n",
       "      <td>1</td>\n",
       "    </tr>\n",
       "  </tbody>\n",
       "</table>\n",
       "</div>"
      ],
      "text/plain": [
       "      MPG  Cylinders  Displacement  Horsepower  Weight  Acceleration  \\\n",
       "393  27.0          4         140.0        86.0  2790.0          15.6   \n",
       "394  44.0          4          97.0        52.0  2130.0          24.6   \n",
       "395  32.0          4         135.0        84.0  2295.0          11.6   \n",
       "396  28.0          4         120.0        79.0  2625.0          18.6   \n",
       "397  31.0          4         119.0        82.0  2720.0          19.4   \n",
       "\n",
       "     Model Year  Europe  Japan  USA  \n",
       "393          82       0      0    1  \n",
       "394          82       1      0    0  \n",
       "395          82       0      0    1  \n",
       "396          82       0      0    1  \n",
       "397          82       0      0    1  "
      ]
     },
     "execution_count": 9,
     "metadata": {},
     "output_type": "execute_result"
    }
   ],
   "source": [
    "dataset = pd.get_dummies(dataset, columns=['Origin'],\n",
    "                         prefix = '', prefix_sep='')\n",
    "dataset.tail()"
   ]
  },
  {
   "cell_type": "code",
   "execution_count": 10,
   "id": "084182c0",
   "metadata": {},
   "outputs": [],
   "source": [
    "# Разбивка на датасеты (тренировочная выборка и тестовая выборка)\n",
    "train_dataset = dataset.sample(frac = 0.8, random_state = 0)\n",
    "test_dataset = dataset.drop(train_dataset.index) # Удаляем из основного датасета данные, которые задействованы в обучении"
   ]
  },
  {
   "cell_type": "code",
   "execution_count": 11,
   "id": "a3945d8f",
   "metadata": {},
   "outputs": [
    {
     "data": {
      "text/html": [
       "<div>\n",
       "<style scoped>\n",
       "    .dataframe tbody tr th:only-of-type {\n",
       "        vertical-align: middle;\n",
       "    }\n",
       "\n",
       "    .dataframe tbody tr th {\n",
       "        vertical-align: top;\n",
       "    }\n",
       "\n",
       "    .dataframe thead th {\n",
       "        text-align: right;\n",
       "    }\n",
       "</style>\n",
       "<table border=\"1\" class=\"dataframe\">\n",
       "  <thead>\n",
       "    <tr style=\"text-align: right;\">\n",
       "      <th></th>\n",
       "      <th>MPG</th>\n",
       "      <th>Cylinders</th>\n",
       "      <th>Displacement</th>\n",
       "      <th>Horsepower</th>\n",
       "      <th>Weight</th>\n",
       "      <th>Acceleration</th>\n",
       "      <th>Model Year</th>\n",
       "      <th>Europe</th>\n",
       "      <th>Japan</th>\n",
       "      <th>USA</th>\n",
       "    </tr>\n",
       "  </thead>\n",
       "  <tbody>\n",
       "    <tr>\n",
       "      <th>146</th>\n",
       "      <td>28.0</td>\n",
       "      <td>4</td>\n",
       "      <td>90.0</td>\n",
       "      <td>75.0</td>\n",
       "      <td>2125.0</td>\n",
       "      <td>14.5</td>\n",
       "      <td>74</td>\n",
       "      <td>0</td>\n",
       "      <td>0</td>\n",
       "      <td>1</td>\n",
       "    </tr>\n",
       "    <tr>\n",
       "      <th>282</th>\n",
       "      <td>22.3</td>\n",
       "      <td>4</td>\n",
       "      <td>140.0</td>\n",
       "      <td>88.0</td>\n",
       "      <td>2890.0</td>\n",
       "      <td>17.3</td>\n",
       "      <td>79</td>\n",
       "      <td>0</td>\n",
       "      <td>0</td>\n",
       "      <td>1</td>\n",
       "    </tr>\n",
       "    <tr>\n",
       "      <th>69</th>\n",
       "      <td>12.0</td>\n",
       "      <td>8</td>\n",
       "      <td>350.0</td>\n",
       "      <td>160.0</td>\n",
       "      <td>4456.0</td>\n",
       "      <td>13.5</td>\n",
       "      <td>72</td>\n",
       "      <td>0</td>\n",
       "      <td>0</td>\n",
       "      <td>1</td>\n",
       "    </tr>\n",
       "    <tr>\n",
       "      <th>378</th>\n",
       "      <td>38.0</td>\n",
       "      <td>4</td>\n",
       "      <td>105.0</td>\n",
       "      <td>63.0</td>\n",
       "      <td>2125.0</td>\n",
       "      <td>14.7</td>\n",
       "      <td>82</td>\n",
       "      <td>0</td>\n",
       "      <td>0</td>\n",
       "      <td>1</td>\n",
       "    </tr>\n",
       "    <tr>\n",
       "      <th>331</th>\n",
       "      <td>33.8</td>\n",
       "      <td>4</td>\n",
       "      <td>97.0</td>\n",
       "      <td>67.0</td>\n",
       "      <td>2145.0</td>\n",
       "      <td>18.0</td>\n",
       "      <td>80</td>\n",
       "      <td>0</td>\n",
       "      <td>1</td>\n",
       "      <td>0</td>\n",
       "    </tr>\n",
       "  </tbody>\n",
       "</table>\n",
       "</div>"
      ],
      "text/plain": [
       "      MPG  Cylinders  Displacement  Horsepower  Weight  Acceleration  \\\n",
       "146  28.0          4          90.0        75.0  2125.0          14.5   \n",
       "282  22.3          4         140.0        88.0  2890.0          17.3   \n",
       "69   12.0          8         350.0       160.0  4456.0          13.5   \n",
       "378  38.0          4         105.0        63.0  2125.0          14.7   \n",
       "331  33.8          4          97.0        67.0  2145.0          18.0   \n",
       "\n",
       "     Model Year  Europe  Japan  USA  \n",
       "146          74       0      0    1  \n",
       "282          79       0      0    1  \n",
       "69           72       0      0    1  \n",
       "378          82       0      0    1  \n",
       "331          80       0      1    0  "
      ]
     },
     "execution_count": 11,
     "metadata": {},
     "output_type": "execute_result"
    }
   ],
   "source": [
    "train_dataset.head()"
   ]
  },
  {
   "cell_type": "code",
   "execution_count": 12,
   "id": "5812b450",
   "metadata": {},
   "outputs": [
    {
     "data": {
      "text/html": [
       "<div>\n",
       "<style scoped>\n",
       "    .dataframe tbody tr th:only-of-type {\n",
       "        vertical-align: middle;\n",
       "    }\n",
       "\n",
       "    .dataframe tbody tr th {\n",
       "        vertical-align: top;\n",
       "    }\n",
       "\n",
       "    .dataframe thead th {\n",
       "        text-align: right;\n",
       "    }\n",
       "</style>\n",
       "<table border=\"1\" class=\"dataframe\">\n",
       "  <thead>\n",
       "    <tr style=\"text-align: right;\">\n",
       "      <th></th>\n",
       "      <th>MPG</th>\n",
       "      <th>Cylinders</th>\n",
       "      <th>Displacement</th>\n",
       "      <th>Horsepower</th>\n",
       "      <th>Weight</th>\n",
       "      <th>Acceleration</th>\n",
       "      <th>Model Year</th>\n",
       "      <th>Europe</th>\n",
       "      <th>Japan</th>\n",
       "      <th>USA</th>\n",
       "    </tr>\n",
       "  </thead>\n",
       "  <tbody>\n",
       "    <tr>\n",
       "      <th>9</th>\n",
       "      <td>15.0</td>\n",
       "      <td>8</td>\n",
       "      <td>390.0</td>\n",
       "      <td>190.0</td>\n",
       "      <td>3850.0</td>\n",
       "      <td>8.5</td>\n",
       "      <td>70</td>\n",
       "      <td>0</td>\n",
       "      <td>0</td>\n",
       "      <td>1</td>\n",
       "    </tr>\n",
       "    <tr>\n",
       "      <th>25</th>\n",
       "      <td>10.0</td>\n",
       "      <td>8</td>\n",
       "      <td>360.0</td>\n",
       "      <td>215.0</td>\n",
       "      <td>4615.0</td>\n",
       "      <td>14.0</td>\n",
       "      <td>70</td>\n",
       "      <td>0</td>\n",
       "      <td>0</td>\n",
       "      <td>1</td>\n",
       "    </tr>\n",
       "    <tr>\n",
       "      <th>28</th>\n",
       "      <td>9.0</td>\n",
       "      <td>8</td>\n",
       "      <td>304.0</td>\n",
       "      <td>193.0</td>\n",
       "      <td>4732.0</td>\n",
       "      <td>18.5</td>\n",
       "      <td>70</td>\n",
       "      <td>0</td>\n",
       "      <td>0</td>\n",
       "      <td>1</td>\n",
       "    </tr>\n",
       "    <tr>\n",
       "      <th>31</th>\n",
       "      <td>25.0</td>\n",
       "      <td>4</td>\n",
       "      <td>113.0</td>\n",
       "      <td>95.0</td>\n",
       "      <td>2228.0</td>\n",
       "      <td>14.0</td>\n",
       "      <td>71</td>\n",
       "      <td>0</td>\n",
       "      <td>1</td>\n",
       "      <td>0</td>\n",
       "    </tr>\n",
       "    <tr>\n",
       "      <th>33</th>\n",
       "      <td>19.0</td>\n",
       "      <td>6</td>\n",
       "      <td>232.0</td>\n",
       "      <td>100.0</td>\n",
       "      <td>2634.0</td>\n",
       "      <td>13.0</td>\n",
       "      <td>71</td>\n",
       "      <td>0</td>\n",
       "      <td>0</td>\n",
       "      <td>1</td>\n",
       "    </tr>\n",
       "  </tbody>\n",
       "</table>\n",
       "</div>"
      ],
      "text/plain": [
       "     MPG  Cylinders  Displacement  Horsepower  Weight  Acceleration  \\\n",
       "9   15.0          8         390.0       190.0  3850.0           8.5   \n",
       "25  10.0          8         360.0       215.0  4615.0          14.0   \n",
       "28   9.0          8         304.0       193.0  4732.0          18.5   \n",
       "31  25.0          4         113.0        95.0  2228.0          14.0   \n",
       "33  19.0          6         232.0       100.0  2634.0          13.0   \n",
       "\n",
       "    Model Year  Europe  Japan  USA  \n",
       "9           70       0      0    1  \n",
       "25          70       0      0    1  \n",
       "28          70       0      0    1  \n",
       "31          71       0      1    0  \n",
       "33          71       0      0    1  "
      ]
     },
     "execution_count": 12,
     "metadata": {},
     "output_type": "execute_result"
    }
   ],
   "source": [
    "test_dataset.head()"
   ]
  },
  {
   "cell_type": "code",
   "execution_count": 13,
   "id": "8abb0dfa",
   "metadata": {},
   "outputs": [
    {
     "data": {
      "text/plain": [
       "Int64Index([146, 282,  69, 378, 331, 257, 310, 328, 125, 108,\n",
       "            ...\n",
       "            171,  70, 307,  49, 209, 281, 229, 150, 145, 182],\n",
       "           dtype='int64', length=314)"
      ]
     },
     "execution_count": 13,
     "metadata": {},
     "output_type": "execute_result"
    }
   ],
   "source": [
    "train_dataset.index"
   ]
  },
  {
   "cell_type": "code",
   "execution_count": 14,
   "id": "28999894",
   "metadata": {},
   "outputs": [],
   "source": [
    "import seaborn as sns"
   ]
  },
  {
   "cell_type": "code",
   "execution_count": 15,
   "id": "b736c6ff",
   "metadata": {},
   "outputs": [
    {
     "data": {
      "text/plain": [
       "<seaborn.axisgrid.PairGrid at 0x2593fc74340>"
      ]
     },
     "execution_count": 15,
     "metadata": {},
     "output_type": "execute_result"
    },
    {
     "data": {
      "image/png": "[encoded data removed]",
      "text/plain": [
       "<Figure size 1000x1000 with 20 Axes>"
      ]
     },
     "metadata": {},
     "output_type": "display_data"
    }
   ],
   "source": [
    "sns.pairplot(train_dataset[['MPG', 'Cylinders', 'Displacement', 'Weight']],\n",
    "           diag_kind = 'kde')"
   ]
  },
  {
   "cell_type": "code",
   "execution_count": 16,
   "id": "f084b00b",
   "metadata": {},
   "outputs": [
    {
     "data": {
      "text/html": [
       "<div>\n",
       "<style scoped>\n",
       "    .dataframe tbody tr th:only-of-type {\n",
       "        vertical-align: middle;\n",
       "    }\n",
       "\n",
       "    .dataframe tbody tr th {\n",
       "        vertical-align: top;\n",
       "    }\n",
       "\n",
       "    .dataframe thead th {\n",
       "        text-align: right;\n",
       "    }\n",
       "</style>\n",
       "<table border=\"1\" class=\"dataframe\">\n",
       "  <thead>\n",
       "    <tr style=\"text-align: right;\">\n",
       "      <th></th>\n",
       "      <th>count</th>\n",
       "      <th>mean</th>\n",
       "      <th>std</th>\n",
       "      <th>min</th>\n",
       "      <th>25%</th>\n",
       "      <th>50%</th>\n",
       "      <th>75%</th>\n",
       "      <th>max</th>\n",
       "    </tr>\n",
       "  </thead>\n",
       "  <tbody>\n",
       "    <tr>\n",
       "      <th>MPG</th>\n",
       "      <td>314.0</td>\n",
       "      <td>23.310510</td>\n",
       "      <td>7.728652</td>\n",
       "      <td>10.0</td>\n",
       "      <td>17.00</td>\n",
       "      <td>22.0</td>\n",
       "      <td>28.95</td>\n",
       "      <td>46.6</td>\n",
       "    </tr>\n",
       "    <tr>\n",
       "      <th>Cylinders</th>\n",
       "      <td>314.0</td>\n",
       "      <td>5.477707</td>\n",
       "      <td>1.699788</td>\n",
       "      <td>3.0</td>\n",
       "      <td>4.00</td>\n",
       "      <td>4.0</td>\n",
       "      <td>8.00</td>\n",
       "      <td>8.0</td>\n",
       "    </tr>\n",
       "    <tr>\n",
       "      <th>Displacement</th>\n",
       "      <td>314.0</td>\n",
       "      <td>195.318471</td>\n",
       "      <td>104.331589</td>\n",
       "      <td>68.0</td>\n",
       "      <td>105.50</td>\n",
       "      <td>151.0</td>\n",
       "      <td>265.75</td>\n",
       "      <td>455.0</td>\n",
       "    </tr>\n",
       "    <tr>\n",
       "      <th>Horsepower</th>\n",
       "      <td>314.0</td>\n",
       "      <td>104.869427</td>\n",
       "      <td>38.096214</td>\n",
       "      <td>46.0</td>\n",
       "      <td>76.25</td>\n",
       "      <td>94.5</td>\n",
       "      <td>128.00</td>\n",
       "      <td>225.0</td>\n",
       "    </tr>\n",
       "    <tr>\n",
       "      <th>Weight</th>\n",
       "      <td>314.0</td>\n",
       "      <td>2990.251592</td>\n",
       "      <td>843.898596</td>\n",
       "      <td>1649.0</td>\n",
       "      <td>2256.50</td>\n",
       "      <td>2822.5</td>\n",
       "      <td>3608.00</td>\n",
       "      <td>5140.0</td>\n",
       "    </tr>\n",
       "    <tr>\n",
       "      <th>Acceleration</th>\n",
       "      <td>314.0</td>\n",
       "      <td>15.559236</td>\n",
       "      <td>2.789230</td>\n",
       "      <td>8.0</td>\n",
       "      <td>13.80</td>\n",
       "      <td>15.5</td>\n",
       "      <td>17.20</td>\n",
       "      <td>24.8</td>\n",
       "    </tr>\n",
       "    <tr>\n",
       "      <th>Model Year</th>\n",
       "      <td>314.0</td>\n",
       "      <td>75.898089</td>\n",
       "      <td>3.675642</td>\n",
       "      <td>70.0</td>\n",
       "      <td>73.00</td>\n",
       "      <td>76.0</td>\n",
       "      <td>79.00</td>\n",
       "      <td>82.0</td>\n",
       "    </tr>\n",
       "    <tr>\n",
       "      <th>Europe</th>\n",
       "      <td>314.0</td>\n",
       "      <td>0.178344</td>\n",
       "      <td>0.383413</td>\n",
       "      <td>0.0</td>\n",
       "      <td>0.00</td>\n",
       "      <td>0.0</td>\n",
       "      <td>0.00</td>\n",
       "      <td>1.0</td>\n",
       "    </tr>\n",
       "    <tr>\n",
       "      <th>Japan</th>\n",
       "      <td>314.0</td>\n",
       "      <td>0.197452</td>\n",
       "      <td>0.398712</td>\n",
       "      <td>0.0</td>\n",
       "      <td>0.00</td>\n",
       "      <td>0.0</td>\n",
       "      <td>0.00</td>\n",
       "      <td>1.0</td>\n",
       "    </tr>\n",
       "    <tr>\n",
       "      <th>USA</th>\n",
       "      <td>314.0</td>\n",
       "      <td>0.624204</td>\n",
       "      <td>0.485101</td>\n",
       "      <td>0.0</td>\n",
       "      <td>0.00</td>\n",
       "      <td>1.0</td>\n",
       "      <td>1.00</td>\n",
       "      <td>1.0</td>\n",
       "    </tr>\n",
       "  </tbody>\n",
       "</table>\n",
       "</div>"
      ],
      "text/plain": [
       "              count         mean         std     min      25%     50%  \\\n",
       "MPG           314.0    23.310510    7.728652    10.0    17.00    22.0   \n",
       "Cylinders     314.0     5.477707    1.699788     3.0     4.00     4.0   \n",
       "Displacement  314.0   195.318471  104.331589    68.0   105.50   151.0   \n",
       "Horsepower    314.0   104.869427   38.096214    46.0    76.25    94.5   \n",
       "Weight        314.0  2990.251592  843.898596  1649.0  2256.50  2822.5   \n",
       "Acceleration  314.0    15.559236    2.789230     8.0    13.80    15.5   \n",
       "Model Year    314.0    75.898089    3.675642    70.0    73.00    76.0   \n",
       "Europe        314.0     0.178344    0.383413     0.0     0.00     0.0   \n",
       "Japan         314.0     0.197452    0.398712     0.0     0.00     0.0   \n",
       "USA           314.0     0.624204    0.485101     0.0     0.00     1.0   \n",
       "\n",
       "                  75%     max  \n",
       "MPG             28.95    46.6  \n",
       "Cylinders        8.00     8.0  \n",
       "Displacement   265.75   455.0  \n",
       "Horsepower     128.00   225.0  \n",
       "Weight        3608.00  5140.0  \n",
       "Acceleration    17.20    24.8  \n",
       "Model Year      79.00    82.0  \n",
       "Europe           0.00     1.0  \n",
       "Japan            0.00     1.0  \n",
       "USA              1.00     1.0  "
      ]
     },
     "execution_count": 16,
     "metadata": {},
     "output_type": "execute_result"
    }
   ],
   "source": [
    "train_dataset.describe().T"
   ]
  },
  {
   "cell_type": "code",
   "execution_count": 17,
   "id": "9165fa6b",
   "metadata": {},
   "outputs": [],
   "source": [
    "train_features = train_dataset.copy()\n",
    "test_features = test_dataset.copy()\n",
    "\n",
    "train_labels = train_features.pop('MPG')\n",
    "test_labels = test_features.pop('MPG')"
   ]
  },
  {
   "cell_type": "code",
   "execution_count": 18,
   "id": "3a7fc672",
   "metadata": {},
   "outputs": [
    {
     "name": "stdout",
     "output_type": "stream",
     "text": [
      "[[   5.478  195.318  104.869 2990.252   15.559   75.898    0.178    0.197\n",
      "     0.624]]\n"
     ]
    }
   ],
   "source": [
    "# Создаем нормализатор данных\n",
    "normalizer = tf.keras.layers.Normalization(axis = -1)\n",
    "normalizer.adapt(np.array(train_features))\n",
    "print(normalizer.mean.numpy())"
   ]
  },
  {
   "cell_type": "code",
   "execution_count": 19,
   "id": "466822f0",
   "metadata": {},
   "outputs": [
    {
     "name": "stdout",
     "output_type": "stream",
     "text": [
      "First car [[   4.    90.    75.  2125.    14.5   74.     0.     0.     1. ]]\n",
      "\n",
      "Normilized car: [[-0.87 -1.01 -0.79 -1.03 -0.38 -0.52 -0.47 -0.5   0.78]]\n"
     ]
    }
   ],
   "source": [
    "# Проверка работы нормализатора\n",
    "first_car = np.array(train_features[:1])\n",
    "with np.printoptions(precision = 2):\n",
    "    print(f'First car {first_car}')\n",
    "    print()\n",
    "    print(f'Normilized car: {normalizer(first_car).numpy()}')"
   ]
  },
  {
   "cell_type": "markdown",
   "id": "5bcee174",
   "metadata": {},
   "source": [
    "#### Построение линейной модели - зависимость от лошадиных сил"
   ]
  },
  {
   "cell_type": "code",
   "execution_count": 20,
   "id": "66c3731e",
   "metadata": {},
   "outputs": [],
   "source": [
    "# Нормализация\n",
    "horsepower = np.array(train_features['Horsepower'])\n",
    "horsepower_normalizer = layers.Normalization(input_shape = [1,], axis = None)\n",
    "horsepower_normalizer.adapt(horsepower)"
   ]
  },
  {
   "cell_type": "code",
   "execution_count": 21,
   "id": "7386f7f0",
   "metadata": {},
   "outputs": [
    {
     "name": "stdout",
     "output_type": "stream",
     "text": [
      "Model: \"sequential\"\n",
      "_________________________________________________________________\n",
      " Layer (type)                Output Shape              Param #   \n",
      "=================================================================\n",
      " normalization_1 (Normalizat  (None, 1)                3         \n",
      " ion)                                                            \n",
      "                                                                 \n",
      " dense (Dense)               (None, 1)                 2         \n",
      "                                                                 \n",
      "=================================================================\n",
      "Total params: 5\n",
      "Trainable params: 2\n",
      "Non-trainable params: 3\n",
      "_________________________________________________________________\n"
     ]
    }
   ],
   "source": [
    "# Первый слой - нормализатор\n",
    "# Второй слой - полносвязный (в нем кол-во нейронов равно 1)\n",
    "horsepower_model = tf.keras.Sequential([\n",
    "    horsepower_normalizer,\n",
    "    layers.Dense(units = 1)\n",
    "])\n",
    "horsepower_model.summary()"
   ]
  },
  {
   "cell_type": "code",
   "execution_count": 22,
   "id": "ac88d0d5",
   "metadata": {},
   "outputs": [
    {
     "name": "stdout",
     "output_type": "stream",
     "text": [
      "1/1 [==============================] - 0s 53ms/step\n"
     ]
    },
    {
     "data": {
      "text/plain": [
       "array([[ 0.785],\n",
       "       [ 0.443],\n",
       "       [-1.449],\n",
       "       [ 1.1  ],\n",
       "       [ 0.995],\n",
       "       [ 0.391],\n",
       "       [ 1.179],\n",
       "       [ 0.995],\n",
       "       [ 0.259],\n",
       "       [ 0.443]], dtype=float32)"
      ]
     },
     "execution_count": 22,
     "metadata": {},
     "output_type": "execute_result"
    }
   ],
   "source": [
    "# Предсказание для первых 10 элементов\n",
    "horsepower_model.predict(horsepower[:10])"
   ]
  },
  {
   "cell_type": "code",
   "execution_count": 23,
   "id": "fdca7bb1",
   "metadata": {},
   "outputs": [
    {
     "data": {
      "text/plain": [
       "array([28. , 22.3, 12. , 38. , 33.8, 19.4, 38.1, 30. , 20. , 20. ])"
      ]
     },
     "execution_count": 23,
     "metadata": {},
     "output_type": "execute_result"
    }
   ],
   "source": [
    "# Истиные значения\n",
    "train_labels.values[:10]"
   ]
  },
  {
   "cell_type": "code",
   "execution_count": 24,
   "id": "112d8efe",
   "metadata": {},
   "outputs": [],
   "source": [
    "# Чтобы значения стали похожими, модель нужно скомпилировать\n",
    "horsepower_model.compile(\n",
    "    optimizer = tf.optimizers.Adam(learning_rate = 0.1),\n",
    "    loss = 'mean_absolute_error')"
   ]
  },
  {
   "cell_type": "code",
   "execution_count": 25,
   "id": "70aa86bb",
   "metadata": {},
   "outputs": [
    {
     "name": "stdout",
     "output_type": "stream",
     "text": [
      "Epoch 1/100\n",
      "8/8 [==============================] - 0s 16ms/step - loss: 22.8674 - val_loss: 22.9322\n",
      "Epoch 2/100\n",
      "8/8 [==============================] - 0s 3ms/step - loss: 22.0623 - val_loss: 22.1322\n",
      "Epoch 3/100\n",
      "8/8 [==============================] - 0s 3ms/step - loss: 21.2655 - val_loss: 21.3323\n",
      "Epoch 4/100\n",
      "8/8 [==============================] - 0s 3ms/step - loss: 20.4619 - val_loss: 20.5323\n",
      "Epoch 5/100\n",
      "8/8 [==============================] - 0s 3ms/step - loss: 19.6644 - val_loss: 19.7323\n",
      "Epoch 6/100\n",
      "8/8 [==============================] - 0s 4ms/step - loss: 18.8632 - val_loss: 18.9323\n",
      "Epoch 7/100\n",
      "8/8 [==============================] - 0s 4ms/step - loss: 18.0741 - val_loss: 18.1318\n",
      "Epoch 8/100\n",
      "8/8 [==============================] - 0s 3ms/step - loss: 17.2618 - val_loss: 17.3318\n",
      "Epoch 9/100\n",
      "8/8 [==============================] - 0s 3ms/step - loss: 16.4624 - val_loss: 16.5320\n",
      "Epoch 10/100\n",
      "8/8 [==============================] - 0s 3ms/step - loss: 15.6623 - val_loss: 15.7320\n",
      "Epoch 11/100\n",
      "8/8 [==============================] - 0s 4ms/step - loss: 14.8648 - val_loss: 14.9322\n",
      "Epoch 12/100\n",
      "8/8 [==============================] - 0s 3ms/step - loss: 14.0631 - val_loss: 14.1323\n",
      "Epoch 13/100\n",
      "8/8 [==============================] - 0s 3ms/step - loss: 13.2620 - val_loss: 13.3322\n",
      "Epoch 14/100\n",
      "8/8 [==============================] - 0s 3ms/step - loss: 12.4629 - val_loss: 12.5321\n",
      "Epoch 15/100\n",
      "8/8 [==============================] - 0s 3ms/step - loss: 11.6622 - val_loss: 11.7321\n",
      "Epoch 16/100\n",
      "8/8 [==============================] - 0s 3ms/step - loss: 10.8626 - val_loss: 10.9321\n",
      "Epoch 17/100\n",
      "8/8 [==============================] - 0s 3ms/step - loss: 10.0734 - val_loss: 10.1523\n",
      "Epoch 18/100\n",
      "8/8 [==============================] - 0s 3ms/step - loss: 9.3018 - val_loss: 9.3824\n",
      "Epoch 19/100\n",
      "8/8 [==============================] - 0s 4ms/step - loss: 8.5725 - val_loss: 8.6354\n",
      "Epoch 20/100\n",
      "8/8 [==============================] - 0s 4ms/step - loss: 7.8631 - val_loss: 7.9104\n",
      "Epoch 21/100\n",
      "8/8 [==============================] - 0s 4ms/step - loss: 7.1916 - val_loss: 7.2089\n",
      "Epoch 22/100\n",
      "8/8 [==============================] - 0s 3ms/step - loss: 6.5614 - val_loss: 6.5730\n",
      "Epoch 23/100\n",
      "8/8 [==============================] - 0s 4ms/step - loss: 5.9871 - val_loss: 5.9958\n",
      "Epoch 24/100\n",
      "8/8 [==============================] - 0s 3ms/step - loss: 5.4717 - val_loss: 5.5697\n",
      "Epoch 25/100\n",
      "8/8 [==============================] - 0s 3ms/step - loss: 5.0504 - val_loss: 5.2360\n",
      "Epoch 26/100\n",
      "8/8 [==============================] - 0s 4ms/step - loss: 4.7525 - val_loss: 5.0263\n",
      "Epoch 27/100\n",
      "8/8 [==============================] - 0s 4ms/step - loss: 4.4917 - val_loss: 4.8344\n",
      "Epoch 28/100\n",
      "8/8 [==============================] - 0s 3ms/step - loss: 4.2902 - val_loss: 4.6817\n",
      "Epoch 29/100\n",
      "8/8 [==============================] - 0s 4ms/step - loss: 4.1332 - val_loss: 4.5379\n",
      "Epoch 30/100\n",
      "8/8 [==============================] - 0s 3ms/step - loss: 4.0245 - val_loss: 4.4465\n",
      "Epoch 31/100\n",
      "8/8 [==============================] - 0s 3ms/step - loss: 3.9432 - val_loss: 4.3740\n",
      "Epoch 32/100\n",
      "8/8 [==============================] - 0s 3ms/step - loss: 3.8932 - val_loss: 4.3031\n",
      "Epoch 33/100\n",
      "8/8 [==============================] - 0s 3ms/step - loss: 3.8608 - val_loss: 4.2445\n",
      "Epoch 34/100\n",
      "8/8 [==============================] - 0s 4ms/step - loss: 3.8387 - val_loss: 4.2458\n",
      "Epoch 35/100\n",
      "8/8 [==============================] - 0s 4ms/step - loss: 3.8280 - val_loss: 4.2526\n",
      "Epoch 36/100\n",
      "8/8 [==============================] - 0s 4ms/step - loss: 3.8174 - val_loss: 4.2307\n",
      "Epoch 37/100\n",
      "8/8 [==============================] - 0s 3ms/step - loss: 3.8120 - val_loss: 4.2163\n",
      "Epoch 38/100\n",
      "8/8 [==============================] - 0s 3ms/step - loss: 3.8113 - val_loss: 4.2328\n",
      "Epoch 39/100\n",
      "8/8 [==============================] - 0s 4ms/step - loss: 3.8132 - val_loss: 4.1939\n",
      "Epoch 40/100\n",
      "8/8 [==============================] - 0s 3ms/step - loss: 3.8040 - val_loss: 4.1945\n",
      "Epoch 41/100\n",
      "8/8 [==============================] - 0s 3ms/step - loss: 3.8027 - val_loss: 4.2067\n",
      "Epoch 42/100\n",
      "8/8 [==============================] - 0s 3ms/step - loss: 3.8083 - val_loss: 4.1929\n",
      "Epoch 43/100\n",
      "8/8 [==============================] - 0s 4ms/step - loss: 3.8036 - val_loss: 4.2045\n",
      "Epoch 44/100\n",
      "8/8 [==============================] - 0s 3ms/step - loss: 3.8056 - val_loss: 4.2049\n",
      "Epoch 45/100\n",
      "8/8 [==============================] - 0s 3ms/step - loss: 3.8042 - val_loss: 4.1784\n",
      "Epoch 46/100\n",
      "8/8 [==============================] - 0s 3ms/step - loss: 3.8034 - val_loss: 4.1806\n",
      "Epoch 47/100\n",
      "8/8 [==============================] - 0s 3ms/step - loss: 3.8047 - val_loss: 4.1803\n",
      "Epoch 48/100\n",
      "8/8 [==============================] - 0s 3ms/step - loss: 3.8045 - val_loss: 4.2056\n",
      "Epoch 49/100\n",
      "8/8 [==============================] - 0s 3ms/step - loss: 3.8025 - val_loss: 4.1913\n",
      "Epoch 50/100\n",
      "8/8 [==============================] - 0s 3ms/step - loss: 3.8034 - val_loss: 4.1947\n",
      "Epoch 51/100\n",
      "8/8 [==============================] - 0s 3ms/step - loss: 3.8059 - val_loss: 4.1695\n",
      "Epoch 52/100\n",
      "8/8 [==============================] - 0s 3ms/step - loss: 3.8044 - val_loss: 4.1724\n",
      "Epoch 53/100\n",
      "8/8 [==============================] - 0s 3ms/step - loss: 3.8025 - val_loss: 4.1863\n",
      "Epoch 54/100\n",
      "8/8 [==============================] - 0s 3ms/step - loss: 3.8052 - val_loss: 4.2143\n",
      "Epoch 55/100\n",
      "8/8 [==============================] - 0s 3ms/step - loss: 3.8078 - val_loss: 4.2116\n",
      "Epoch 56/100\n",
      "8/8 [==============================] - 0s 3ms/step - loss: 3.8083 - val_loss: 4.1632\n",
      "Epoch 57/100\n",
      "8/8 [==============================] - 0s 3ms/step - loss: 3.8043 - val_loss: 4.1664\n",
      "Epoch 58/100\n",
      "8/8 [==============================] - 0s 3ms/step - loss: 3.8036 - val_loss: 4.1715\n",
      "Epoch 59/100\n",
      "8/8 [==============================] - 0s 3ms/step - loss: 3.8032 - val_loss: 4.1950\n",
      "Epoch 60/100\n",
      "8/8 [==============================] - 0s 3ms/step - loss: 3.8018 - val_loss: 4.1974\n",
      "Epoch 61/100\n",
      "8/8 [==============================] - 0s 3ms/step - loss: 3.8036 - val_loss: 4.1805\n",
      "Epoch 62/100\n",
      "8/8 [==============================] - 0s 3ms/step - loss: 3.8059 - val_loss: 4.1673\n",
      "Epoch 63/100\n",
      "8/8 [==============================] - 0s 3ms/step - loss: 3.8044 - val_loss: 4.1902\n",
      "Epoch 64/100\n",
      "8/8 [==============================] - 0s 3ms/step - loss: 3.8052 - val_loss: 4.1948\n",
      "Epoch 65/100\n",
      "8/8 [==============================] - 0s 3ms/step - loss: 3.8045 - val_loss: 4.1932\n",
      "Epoch 66/100\n",
      "8/8 [==============================] - 0s 3ms/step - loss: 3.8086 - val_loss: 4.1993\n",
      "Epoch 67/100\n",
      "8/8 [==============================] - 0s 3ms/step - loss: 3.8034 - val_loss: 4.1846\n",
      "Epoch 68/100\n",
      "8/8 [==============================] - 0s 3ms/step - loss: 3.8032 - val_loss: 4.1778\n",
      "Epoch 69/100\n",
      "8/8 [==============================] - 0s 3ms/step - loss: 3.8024 - val_loss: 4.1861\n",
      "Epoch 70/100\n",
      "8/8 [==============================] - 0s 3ms/step - loss: 3.8025 - val_loss: 4.1955\n",
      "Epoch 71/100\n",
      "8/8 [==============================] - 0s 3ms/step - loss: 3.8013 - val_loss: 4.1898\n",
      "Epoch 72/100\n",
      "8/8 [==============================] - 0s 3ms/step - loss: 3.8035 - val_loss: 4.1951\n",
      "Epoch 73/100\n",
      "8/8 [==============================] - 0s 3ms/step - loss: 3.8055 - val_loss: 4.1970\n",
      "Epoch 74/100\n",
      "8/8 [==============================] - 0s 3ms/step - loss: 3.8046 - val_loss: 4.1873\n",
      "Epoch 75/100\n",
      "8/8 [==============================] - 0s 3ms/step - loss: 3.8023 - val_loss: 4.1914\n",
      "Epoch 76/100\n",
      "8/8 [==============================] - 0s 3ms/step - loss: 3.8029 - val_loss: 4.2028\n",
      "Epoch 77/100\n",
      "8/8 [==============================] - 0s 3ms/step - loss: 3.8064 - val_loss: 4.1952\n",
      "Epoch 78/100\n",
      "8/8 [==============================] - 0s 3ms/step - loss: 3.8013 - val_loss: 4.1821\n",
      "Epoch 79/100\n",
      "8/8 [==============================] - 0s 3ms/step - loss: 3.8037 - val_loss: 4.1800\n",
      "Epoch 80/100\n",
      "8/8 [==============================] - 0s 3ms/step - loss: 3.8037 - val_loss: 4.1856\n",
      "Epoch 81/100\n",
      "8/8 [==============================] - 0s 3ms/step - loss: 3.8022 - val_loss: 4.1928\n",
      "Epoch 82/100\n",
      "8/8 [==============================] - 0s 4ms/step - loss: 3.8054 - val_loss: 4.1862\n",
      "Epoch 83/100\n",
      "8/8 [==============================] - 0s 3ms/step - loss: 3.8039 - val_loss: 4.1899\n",
      "Epoch 84/100\n"
     ]
    },
    {
     "name": "stdout",
     "output_type": "stream",
     "text": [
      "8/8 [==============================] - 0s 3ms/step - loss: 3.8036 - val_loss: 4.1931\n",
      "Epoch 85/100\n",
      "8/8 [==============================] - 0s 3ms/step - loss: 3.8037 - val_loss: 4.1734\n",
      "Epoch 86/100\n",
      "8/8 [==============================] - 0s 3ms/step - loss: 3.8061 - val_loss: 4.1959\n",
      "Epoch 87/100\n",
      "8/8 [==============================] - 0s 3ms/step - loss: 3.8034 - val_loss: 4.1905\n",
      "Epoch 88/100\n",
      "8/8 [==============================] - 0s 3ms/step - loss: 3.8045 - val_loss: 4.1645\n",
      "Epoch 89/100\n",
      "8/8 [==============================] - 0s 4ms/step - loss: 3.8079 - val_loss: 4.1866\n",
      "Epoch 90/100\n",
      "8/8 [==============================] - 0s 3ms/step - loss: 3.8042 - val_loss: 4.2022\n",
      "Epoch 91/100\n",
      "8/8 [==============================] - 0s 3ms/step - loss: 3.8032 - val_loss: 4.1903\n",
      "Epoch 92/100\n",
      "8/8 [==============================] - 0s 3ms/step - loss: 3.8036 - val_loss: 4.1801\n",
      "Epoch 93/100\n",
      "8/8 [==============================] - 0s 3ms/step - loss: 3.8045 - val_loss: 4.1947\n",
      "Epoch 94/100\n",
      "8/8 [==============================] - 0s 3ms/step - loss: 3.8022 - val_loss: 4.1959\n",
      "Epoch 95/100\n",
      "8/8 [==============================] - 0s 4ms/step - loss: 3.8062 - val_loss: 4.1905\n",
      "Epoch 96/100\n",
      "8/8 [==============================] - 0s 3ms/step - loss: 3.8030 - val_loss: 4.1769\n",
      "Epoch 97/100\n",
      "8/8 [==============================] - 0s 3ms/step - loss: 3.8059 - val_loss: 4.1780\n",
      "Epoch 98/100\n",
      "8/8 [==============================] - 0s 3ms/step - loss: 3.8036 - val_loss: 4.1961\n",
      "Epoch 99/100\n",
      "8/8 [==============================] - 0s 3ms/step - loss: 3.8024 - val_loss: 4.1960\n",
      "Epoch 100/100\n",
      "8/8 [==============================] - 0s 3ms/step - loss: 3.8023 - val_loss: 4.1960\n"
     ]
    }
   ],
   "source": [
    "# Запускаем обучение\n",
    "history = horsepower_model.fit(train_features['Horsepower'],\n",
    "                               train_labels,\n",
    "                               epochs = 100,\n",
    "                               verbose = 1,\n",
    "                               validation_split = 0.2)"
   ]
  },
  {
   "cell_type": "code",
   "execution_count": 26,
   "id": "13457d67",
   "metadata": {},
   "outputs": [
    {
     "data": {
      "text/html": [
       "<div>\n",
       "<style scoped>\n",
       "    .dataframe tbody tr th:only-of-type {\n",
       "        vertical-align: middle;\n",
       "    }\n",
       "\n",
       "    .dataframe tbody tr th {\n",
       "        vertical-align: top;\n",
       "    }\n",
       "\n",
       "    .dataframe thead th {\n",
       "        text-align: right;\n",
       "    }\n",
       "</style>\n",
       "<table border=\"1\" class=\"dataframe\">\n",
       "  <thead>\n",
       "    <tr style=\"text-align: right;\">\n",
       "      <th></th>\n",
       "      <th>loss</th>\n",
       "      <th>val_loss</th>\n",
       "      <th>epoch</th>\n",
       "    </tr>\n",
       "  </thead>\n",
       "  <tbody>\n",
       "    <tr>\n",
       "      <th>95</th>\n",
       "      <td>3.802950</td>\n",
       "      <td>4.176856</td>\n",
       "      <td>95</td>\n",
       "    </tr>\n",
       "    <tr>\n",
       "      <th>96</th>\n",
       "      <td>3.805895</td>\n",
       "      <td>4.177978</td>\n",
       "      <td>96</td>\n",
       "    </tr>\n",
       "    <tr>\n",
       "      <th>97</th>\n",
       "      <td>3.803646</td>\n",
       "      <td>4.196096</td>\n",
       "      <td>97</td>\n",
       "    </tr>\n",
       "    <tr>\n",
       "      <th>98</th>\n",
       "      <td>3.802355</td>\n",
       "      <td>4.196033</td>\n",
       "      <td>98</td>\n",
       "    </tr>\n",
       "    <tr>\n",
       "      <th>99</th>\n",
       "      <td>3.802341</td>\n",
       "      <td>4.196012</td>\n",
       "      <td>99</td>\n",
       "    </tr>\n",
       "  </tbody>\n",
       "</table>\n",
       "</div>"
      ],
      "text/plain": [
       "        loss  val_loss  epoch\n",
       "95  3.802950  4.176856     95\n",
       "96  3.805895  4.177978     96\n",
       "97  3.803646  4.196096     97\n",
       "98  3.802355  4.196033     98\n",
       "99  3.802341  4.196012     99"
      ]
     },
     "execution_count": 26,
     "metadata": {},
     "output_type": "execute_result"
    }
   ],
   "source": [
    "# Анализ истории\n",
    "hist = pd.DataFrame(history.history)\n",
    "hist['epoch'] = history.epoch\n",
    "hist.tail()"
   ]
  },
  {
   "cell_type": "code",
   "execution_count": 27,
   "id": "9c299b12",
   "metadata": {},
   "outputs": [],
   "source": [
    "# Функция отрисовки функции потерь\n",
    "def plot_loss(history):\n",
    "    plt.plot(history.history['loss'], label = 'loss')\n",
    "    plt.plot(history.history['val_loss'], label = 'val_loss')\n",
    "    plt.ylim([0, 10])\n",
    "    plt.xlabel('Epoch')\n",
    "    plt.ylabel('Error [MPG]')\n",
    "    plt.legend()\n",
    "    plt.grid(True)"
   ]
  },
  {
   "cell_type": "code",
   "execution_count": 28,
   "id": "a4e59e25",
   "metadata": {},
   "outputs": [
    {
     "data": {
      "image/png": "[encoded data removed]",
      "text/plain": [
       "<Figure size 640x480 with 1 Axes>"
      ]
     },
     "metadata": {},
     "output_type": "display_data"
    }
   ],
   "source": [
    "plot_loss(history)"
   ]
  },
  {
   "cell_type": "code",
   "execution_count": 29,
   "id": "baec235e",
   "metadata": {},
   "outputs": [
    {
     "data": {
      "text/plain": [
       "{'horsepower_model': 3.6547930240631104}"
      ]
     },
     "execution_count": 29,
     "metadata": {},
     "output_type": "execute_result"
    }
   ],
   "source": [
    "# Запоминаем результаты для данной модели\n",
    "test_results = {}\n",
    "test_results['horsepower_model'] = horsepower_model.evaluate(\n",
    "    test_features['Horsepower'], test_labels, verbose = 0)\n",
    "test_results"
   ]
  },
  {
   "cell_type": "code",
   "execution_count": 30,
   "id": "f9cc4823",
   "metadata": {},
   "outputs": [
    {
     "name": "stdout",
     "output_type": "stream",
     "text": [
      "8/8 [==============================] - 0s 716us/step\n"
     ]
    }
   ],
   "source": [
    "x = tf.linspace(0.0, 250, 251)\n",
    "y = horsepower_model.predict(x)"
   ]
  },
  {
   "cell_type": "code",
   "execution_count": 31,
   "id": "365d9249",
   "metadata": {},
   "outputs": [],
   "source": [
    "def plot_horsepower(x, y):\n",
    "    plt.scatter(train_features['Horsepower'], train_labels, label = 'Data')\n",
    "    plt.plot(x, y, color = 'k', label = 'Predictions')\n",
    "    plt.xlabel('T')\n",
    "    plt.ylabel('MPG')\n",
    "    plt.legend()    "
   ]
  },
  {
   "cell_type": "code",
   "execution_count": 32,
   "id": "a42a7fac",
   "metadata": {},
   "outputs": [
    {
     "data": {
      "image/png": "[encoded data removed]",
      "text/plain": [
       "<Figure size 640x480 with 1 Axes>"
      ]
     },
     "metadata": {},
     "output_type": "display_data"
    }
   ],
   "source": [
    "plot_horsepower(x, y)"
   ]
  },
  {
   "cell_type": "markdown",
   "id": "6329f0c2",
   "metadata": {},
   "source": [
    "#### Построение линейной модели"
   ]
  },
  {
   "cell_type": "code",
   "execution_count": 33,
   "id": "b4dbf4b3",
   "metadata": {},
   "outputs": [],
   "source": [
    "# Однослойный персиптрон с линейной активационной функцией\n",
    "linear_model = tf.keras.Sequential([normalizer, layers.Dense(units = 1)])\n",
    "# Теперь модель учитывает все фичи датасета а не только лошадиные силы"
   ]
  },
  {
   "cell_type": "code",
   "execution_count": 34,
   "id": "db976754",
   "metadata": {},
   "outputs": [
    {
     "name": "stdout",
     "output_type": "stream",
     "text": [
      "1/1 [==============================] - 0s 32ms/step\n"
     ]
    },
    {
     "data": {
      "text/plain": [
       "<tf.Variable 'dense_1/kernel:0' shape=(9, 1) dtype=float32, numpy=\n",
       "array([[ 0.55 ],\n",
       "       [-0.177],\n",
       "       [ 0.442],\n",
       "       [-0.644],\n",
       "       [-0.694],\n",
       "       [-0.541],\n",
       "       [-0.318],\n",
       "       [ 0.651],\n",
       "       [-0.624]], dtype=float32)>"
      ]
     },
     "execution_count": 34,
     "metadata": {},
     "output_type": "execute_result"
    }
   ],
   "source": [
    "linear_model.predict(train_features[:10])\n",
    "linear_model.layers[1].kernel"
   ]
  },
  {
   "cell_type": "code",
   "execution_count": 35,
   "id": "dd265c67",
   "metadata": {},
   "outputs": [],
   "source": [
    "linear_model.compile(\n",
    "    optimizer = tf.optimizers.Adam(learning_rate = 0.1),\n",
    "    loss = 'mean_absolute_error')"
   ]
  },
  {
   "cell_type": "code",
   "execution_count": 36,
   "id": "7ca0c2ae",
   "metadata": {},
   "outputs": [
    {
     "name": "stdout",
     "output_type": "stream",
     "text": [
      "Epoch 1/100\n",
      "8/8 [==============================] - 0s 14ms/step - loss: 22.8598 - val_loss: 23.1114\n",
      "Epoch 2/100\n",
      "8/8 [==============================] - 0s 3ms/step - loss: 22.0364 - val_loss: 22.3974\n",
      "Epoch 3/100\n",
      "8/8 [==============================] - 0s 3ms/step - loss: 21.2078 - val_loss: 21.6822\n",
      "Epoch 4/100\n",
      "8/8 [==============================] - 0s 3ms/step - loss: 20.3709 - val_loss: 20.9472\n",
      "Epoch 5/100\n",
      "8/8 [==============================] - 0s 3ms/step - loss: 19.5639 - val_loss: 20.2191\n",
      "Epoch 6/100\n",
      "8/8 [==============================] - 0s 3ms/step - loss: 18.7675 - val_loss: 19.5199\n",
      "Epoch 7/100\n",
      "8/8 [==============================] - 0s 3ms/step - loss: 17.9385 - val_loss: 18.8216\n",
      "Epoch 8/100\n",
      "8/8 [==============================] - 0s 4ms/step - loss: 17.1144 - val_loss: 18.0811\n",
      "Epoch 9/100\n",
      "8/8 [==============================] - 0s 3ms/step - loss: 16.3361 - val_loss: 17.4405\n",
      "Epoch 10/100\n",
      "8/8 [==============================] - 0s 3ms/step - loss: 15.4816 - val_loss: 16.6260\n",
      "Epoch 11/100\n",
      "8/8 [==============================] - 0s 3ms/step - loss: 14.6688 - val_loss: 15.9097\n",
      "Epoch 12/100\n",
      "8/8 [==============================] - 0s 4ms/step - loss: 13.8650 - val_loss: 15.1806\n",
      "Epoch 13/100\n",
      "8/8 [==============================] - 0s 3ms/step - loss: 13.0560 - val_loss: 14.4948\n",
      "Epoch 14/100\n",
      "8/8 [==============================] - 0s 4ms/step - loss: 12.2655 - val_loss: 13.7527\n",
      "Epoch 15/100\n",
      "8/8 [==============================] - 0s 3ms/step - loss: 11.4696 - val_loss: 13.0844\n",
      "Epoch 16/100\n",
      "8/8 [==============================] - 0s 3ms/step - loss: 10.6918 - val_loss: 12.2931\n",
      "Epoch 17/100\n",
      "8/8 [==============================] - 0s 4ms/step - loss: 9.8988 - val_loss: 11.4957\n",
      "Epoch 18/100\n",
      "8/8 [==============================] - 0s 3ms/step - loss: 9.1670 - val_loss: 10.6892\n",
      "Epoch 19/100\n",
      "8/8 [==============================] - 0s 3ms/step - loss: 8.4201 - val_loss: 10.0808\n",
      "Epoch 20/100\n",
      "8/8 [==============================] - 0s 3ms/step - loss: 7.6650 - val_loss: 9.2737\n",
      "Epoch 21/100\n",
      "8/8 [==============================] - 0s 4ms/step - loss: 7.0090 - val_loss: 8.5464\n",
      "Epoch 22/100\n",
      "8/8 [==============================] - 0s 4ms/step - loss: 6.4218 - val_loss: 7.8327\n",
      "Epoch 23/100\n",
      "8/8 [==============================] - 0s 3ms/step - loss: 5.8699 - val_loss: 7.1831\n",
      "Epoch 24/100\n",
      "8/8 [==============================] - 0s 3ms/step - loss: 5.3201 - val_loss: 6.5949\n",
      "Epoch 25/100\n",
      "8/8 [==============================] - 0s 4ms/step - loss: 4.8678 - val_loss: 5.8356\n",
      "Epoch 26/100\n",
      "8/8 [==============================] - 0s 3ms/step - loss: 4.3925 - val_loss: 5.1486\n",
      "Epoch 27/100\n",
      "8/8 [==============================] - 0s 4ms/step - loss: 3.9231 - val_loss: 4.6301\n",
      "Epoch 28/100\n",
      "8/8 [==============================] - 0s 3ms/step - loss: 3.4930 - val_loss: 4.0524\n",
      "Epoch 29/100\n",
      "8/8 [==============================] - 0s 3ms/step - loss: 3.1501 - val_loss: 3.5234\n",
      "Epoch 30/100\n",
      "8/8 [==============================] - 0s 3ms/step - loss: 2.9035 - val_loss: 3.1053\n",
      "Epoch 31/100\n",
      "8/8 [==============================] - 0s 3ms/step - loss: 2.7501 - val_loss: 2.9781\n",
      "Epoch 32/100\n",
      "8/8 [==============================] - 0s 3ms/step - loss: 2.6606 - val_loss: 2.8041\n",
      "Epoch 33/100\n",
      "8/8 [==============================] - 0s 3ms/step - loss: 2.6132 - val_loss: 2.6951\n",
      "Epoch 34/100\n",
      "8/8 [==============================] - 0s 3ms/step - loss: 2.5339 - val_loss: 2.7066\n",
      "Epoch 35/100\n",
      "8/8 [==============================] - 0s 3ms/step - loss: 2.5290 - val_loss: 2.6288\n",
      "Epoch 36/100\n",
      "8/8 [==============================] - 0s 3ms/step - loss: 2.5153 - val_loss: 2.6065\n",
      "Epoch 37/100\n",
      "8/8 [==============================] - 0s 3ms/step - loss: 2.5147 - val_loss: 2.5435\n",
      "Epoch 38/100\n",
      "8/8 [==============================] - 0s 3ms/step - loss: 2.5310 - val_loss: 2.5465\n",
      "Epoch 39/100\n",
      "8/8 [==============================] - 0s 3ms/step - loss: 2.4885 - val_loss: 2.5196\n",
      "Epoch 40/100\n",
      "8/8 [==============================] - 0s 3ms/step - loss: 2.5295 - val_loss: 2.5782\n",
      "Epoch 41/100\n",
      "8/8 [==============================] - 0s 3ms/step - loss: 2.5754 - val_loss: 2.5053\n",
      "Epoch 42/100\n",
      "8/8 [==============================] - 0s 3ms/step - loss: 2.5343 - val_loss: 2.5187\n",
      "Epoch 43/100\n",
      "8/8 [==============================] - 0s 3ms/step - loss: 2.5403 - val_loss: 2.4938\n",
      "Epoch 44/100\n",
      "8/8 [==============================] - 0s 3ms/step - loss: 2.5398 - val_loss: 2.5804\n",
      "Epoch 45/100\n",
      "8/8 [==============================] - 0s 3ms/step - loss: 2.5034 - val_loss: 2.4977\n",
      "Epoch 46/100\n",
      "8/8 [==============================] - 0s 3ms/step - loss: 2.4759 - val_loss: 2.5145\n",
      "Epoch 47/100\n",
      "8/8 [==============================] - 0s 3ms/step - loss: 2.4993 - val_loss: 2.4914\n",
      "Epoch 48/100\n",
      "8/8 [==============================] - 0s 3ms/step - loss: 2.4941 - val_loss: 2.5002\n",
      "Epoch 49/100\n",
      "8/8 [==============================] - 0s 3ms/step - loss: 2.4922 - val_loss: 2.4865\n",
      "Epoch 50/100\n",
      "8/8 [==============================] - 0s 3ms/step - loss: 2.4785 - val_loss: 2.5043\n",
      "Epoch 51/100\n",
      "8/8 [==============================] - 0s 3ms/step - loss: 2.4800 - val_loss: 2.4873\n",
      "Epoch 52/100\n",
      "8/8 [==============================] - 0s 3ms/step - loss: 2.4765 - val_loss: 2.4911\n",
      "Epoch 53/100\n",
      "8/8 [==============================] - 0s 3ms/step - loss: 2.4759 - val_loss: 2.4733\n",
      "Epoch 54/100\n",
      "8/8 [==============================] - 0s 3ms/step - loss: 2.4864 - val_loss: 2.5388\n",
      "Epoch 55/100\n",
      "8/8 [==============================] - 0s 3ms/step - loss: 2.4706 - val_loss: 2.4690\n",
      "Epoch 56/100\n",
      "8/8 [==============================] - 0s 3ms/step - loss: 2.4907 - val_loss: 2.5413\n",
      "Epoch 57/100\n",
      "8/8 [==============================] - 0s 3ms/step - loss: 2.5041 - val_loss: 2.4820\n",
      "Epoch 58/100\n",
      "8/8 [==============================] - 0s 3ms/step - loss: 2.4770 - val_loss: 2.5472\n",
      "Epoch 59/100\n",
      "8/8 [==============================] - 0s 3ms/step - loss: 2.4727 - val_loss: 2.4704\n",
      "Epoch 60/100\n",
      "8/8 [==============================] - 0s 3ms/step - loss: 2.4692 - val_loss: 2.5004\n",
      "Epoch 61/100\n",
      "8/8 [==============================] - 0s 3ms/step - loss: 2.4725 - val_loss: 2.4781\n",
      "Epoch 62/100\n",
      "8/8 [==============================] - 0s 3ms/step - loss: 2.4858 - val_loss: 2.4670\n",
      "Epoch 63/100\n",
      "8/8 [==============================] - 0s 3ms/step - loss: 2.5097 - val_loss: 2.5036\n",
      "Epoch 64/100\n",
      "8/8 [==============================] - 0s 3ms/step - loss: 2.4730 - val_loss: 2.4908\n",
      "Epoch 65/100\n",
      "8/8 [==============================] - 0s 3ms/step - loss: 2.4992 - val_loss: 2.5466\n",
      "Epoch 66/100\n",
      "8/8 [==============================] - 0s 3ms/step - loss: 2.4676 - val_loss: 2.4766\n",
      "Epoch 67/100\n",
      "8/8 [==============================] - 0s 4ms/step - loss: 2.4674 - val_loss: 2.5249\n",
      "Epoch 68/100\n",
      "8/8 [==============================] - 0s 3ms/step - loss: 2.4766 - val_loss: 2.4969\n",
      "Epoch 69/100\n",
      "8/8 [==============================] - 0s 3ms/step - loss: 2.4793 - val_loss: 2.4819\n",
      "Epoch 70/100\n",
      "8/8 [==============================] - 0s 3ms/step - loss: 2.4649 - val_loss: 2.4630\n",
      "Epoch 71/100\n",
      "8/8 [==============================] - 0s 3ms/step - loss: 2.4922 - val_loss: 2.4828\n",
      "Epoch 72/100\n",
      "8/8 [==============================] - 0s 3ms/step - loss: 2.4708 - val_loss: 2.4874\n",
      "Epoch 73/100\n",
      "8/8 [==============================] - 0s 3ms/step - loss: 2.4701 - val_loss: 2.4721\n",
      "Epoch 74/100\n",
      "8/8 [==============================] - 0s 3ms/step - loss: 2.4920 - val_loss: 2.5030\n",
      "Epoch 75/100\n",
      "8/8 [==============================] - 0s 3ms/step - loss: 2.4701 - val_loss: 2.4678\n",
      "Epoch 76/100\n",
      "8/8 [==============================] - 0s 3ms/step - loss: 2.4782 - val_loss: 2.4931\n",
      "Epoch 77/100\n",
      "8/8 [==============================] - 0s 3ms/step - loss: 2.4889 - val_loss: 2.4774\n",
      "Epoch 78/100\n",
      "8/8 [==============================] - 0s 3ms/step - loss: 2.5092 - val_loss: 2.4764\n",
      "Epoch 79/100\n",
      "8/8 [==============================] - 0s 3ms/step - loss: 2.4742 - val_loss: 2.5178\n",
      "Epoch 80/100\n",
      "8/8 [==============================] - 0s 3ms/step - loss: 2.4706 - val_loss: 2.4637\n",
      "Epoch 81/100\n",
      "8/8 [==============================] - 0s 3ms/step - loss: 2.5000 - val_loss: 2.5571\n",
      "Epoch 82/100\n",
      "8/8 [==============================] - 0s 3ms/step - loss: 2.4774 - val_loss: 2.4684\n",
      "Epoch 83/100\n",
      "8/8 [==============================] - 0s 3ms/step - loss: 2.5208 - val_loss: 2.4935\n",
      "Epoch 84/100\n"
     ]
    },
    {
     "name": "stdout",
     "output_type": "stream",
     "text": [
      "8/8 [==============================] - 0s 3ms/step - loss: 2.5555 - val_loss: 2.4680\n",
      "Epoch 85/100\n",
      "8/8 [==============================] - 0s 3ms/step - loss: 2.5014 - val_loss: 2.4840\n",
      "Epoch 86/100\n",
      "8/8 [==============================] - 0s 3ms/step - loss: 2.4697 - val_loss: 2.4726\n",
      "Epoch 87/100\n",
      "8/8 [==============================] - 0s 4ms/step - loss: 2.4836 - val_loss: 2.4793\n",
      "Epoch 88/100\n",
      "8/8 [==============================] - 0s 3ms/step - loss: 2.4670 - val_loss: 2.4739\n",
      "Epoch 89/100\n",
      "8/8 [==============================] - 0s 3ms/step - loss: 2.4708 - val_loss: 2.4776\n",
      "Epoch 90/100\n",
      "8/8 [==============================] - 0s 3ms/step - loss: 2.4802 - val_loss: 2.4539\n",
      "Epoch 91/100\n",
      "8/8 [==============================] - 0s 3ms/step - loss: 2.5100 - val_loss: 2.4628\n",
      "Epoch 92/100\n",
      "8/8 [==============================] - 0s 3ms/step - loss: 2.4831 - val_loss: 2.4960\n",
      "Epoch 93/100\n",
      "8/8 [==============================] - 0s 3ms/step - loss: 2.4720 - val_loss: 2.4801\n",
      "Epoch 94/100\n",
      "8/8 [==============================] - 0s 3ms/step - loss: 2.4658 - val_loss: 2.4950\n",
      "Epoch 95/100\n",
      "8/8 [==============================] - 0s 3ms/step - loss: 2.4743 - val_loss: 2.4564\n",
      "Epoch 96/100\n",
      "8/8 [==============================] - 0s 4ms/step - loss: 2.4771 - val_loss: 2.4738\n",
      "Epoch 97/100\n",
      "8/8 [==============================] - 0s 4ms/step - loss: 2.4626 - val_loss: 2.4742\n",
      "Epoch 98/100\n",
      "8/8 [==============================] - 0s 3ms/step - loss: 2.4634 - val_loss: 2.4802\n",
      "Epoch 99/100\n",
      "8/8 [==============================] - 0s 3ms/step - loss: 2.4727 - val_loss: 2.4609\n",
      "Epoch 100/100\n",
      "8/8 [==============================] - 0s 3ms/step - loss: 2.4786 - val_loss: 2.4684\n"
     ]
    }
   ],
   "source": [
    "# Запускаем обучение\n",
    "history = linear_model.fit(train_features,\n",
    "                           train_labels,\n",
    "                           epochs = 100,\n",
    "                           verbose = 1,\n",
    "                           validation_split = 0.2)"
   ]
  },
  {
   "cell_type": "code",
   "execution_count": 37,
   "id": "afade62c",
   "metadata": {},
   "outputs": [
    {
     "data": {
      "image/png": "[encoded data removed]",
      "text/plain": [
       "<Figure size 640x480 with 1 Axes>"
      ]
     },
     "metadata": {},
     "output_type": "display_data"
    }
   ],
   "source": [
    "plot_loss(history)"
   ]
  },
  {
   "cell_type": "code",
   "execution_count": 38,
   "id": "de166ad3",
   "metadata": {},
   "outputs": [
    {
     "data": {
      "text/plain": [
       "{'horsepower_model': 3.6547930240631104, 'linear_model': 2.4999098777770996}"
      ]
     },
     "execution_count": 38,
     "metadata": {},
     "output_type": "execute_result"
    }
   ],
   "source": [
    "test_results['linear_model'] = linear_model.evaluate(\n",
    "    test_features, test_labels, verbose = 0)\n",
    "test_results"
   ]
  },
  {
   "cell_type": "markdown",
   "id": "bf52b7c8",
   "metadata": {},
   "source": [
    "#### Построение модели на основе многослойного персептрона"
   ]
  },
  {
   "cell_type": "code",
   "execution_count": 39,
   "id": "92771995",
   "metadata": {},
   "outputs": [],
   "source": [
    "def build_and_compile_model(norm):\n",
    "    model = keras.Sequential([norm,\n",
    "                              layers.Dense(64, activation = 'relu'),\n",
    "                              layers.Dense(64, activation = 'relu'),\n",
    "                              layers.Dense(1)\n",
    "                             ])\n",
    "    model.compile(loss = 'mean_absolute_error',\n",
    "                  optimizer = tf.keras.optimizers.Adam(0.001))\n",
    "    return model"
   ]
  },
  {
   "cell_type": "code",
   "execution_count": 40,
   "id": "dfca2ac6",
   "metadata": {},
   "outputs": [
    {
     "name": "stdout",
     "output_type": "stream",
     "text": [
      "Model: \"sequential_2\"\n",
      "_________________________________________________________________\n",
      " Layer (type)                Output Shape              Param #   \n",
      "=================================================================\n",
      " normalization_1 (Normalizat  (None, 1)                3         \n",
      " ion)                                                            \n",
      "                                                                 \n",
      " dense_2 (Dense)             (None, 64)                128       \n",
      "                                                                 \n",
      " dense_3 (Dense)             (None, 64)                4160      \n",
      "                                                                 \n",
      " dense_4 (Dense)             (None, 1)                 65        \n",
      "                                                                 \n",
      "=================================================================\n",
      "Total params: 4,356\n",
      "Trainable params: 4,353\n",
      "Non-trainable params: 3\n",
      "_________________________________________________________________\n"
     ]
    }
   ],
   "source": [
    "dnn_horsepower_model = build_and_compile_model(horsepower_normalizer)\n",
    "dnn_horsepower_model.summary()"
   ]
  },
  {
   "cell_type": "code",
   "execution_count": 41,
   "id": "e1c629da",
   "metadata": {},
   "outputs": [],
   "source": [
    "history = dnn_horsepower_model.fit(train_features['Horsepower'],\n",
    "                                   train_labels,\n",
    "                                   epochs = 100,                                   \n",
    "                                   verbose = 0,\n",
    "                                   validation_split = 0.2)"
   ]
  },
  {
   "cell_type": "code",
   "execution_count": 42,
   "id": "e519d0df",
   "metadata": {},
   "outputs": [
    {
     "data": {
      "image/png": "[encoded data removed]",
      "text/plain": [
       "<Figure size 640x480 with 1 Axes>"
      ]
     },
     "metadata": {},
     "output_type": "display_data"
    }
   ],
   "source": [
    "plot_loss(history)"
   ]
  },
  {
   "cell_type": "code",
   "execution_count": 43,
   "id": "979d6df1",
   "metadata": {},
   "outputs": [
    {
     "name": "stdout",
     "output_type": "stream",
     "text": [
      "8/8 [==============================] - 0s 713us/step\n"
     ]
    }
   ],
   "source": [
    "x = tf.linspace(0.0, 250, 251)\n",
    "y = dnn_horsepower_model.predict(x)"
   ]
  },
  {
   "cell_type": "code",
   "execution_count": 44,
   "id": "0dad37c4",
   "metadata": {},
   "outputs": [
    {
     "data": {
      "image/png": "[encoded data removed]",
      "text/plain": [
       "<Figure size 640x480 with 1 Axes>"
      ]
     },
     "metadata": {},
     "output_type": "display_data"
    }
   ],
   "source": [
    "plot_horsepower(x, y)"
   ]
  },
  {
   "cell_type": "code",
   "execution_count": 45,
   "id": "73e51699",
   "metadata": {},
   "outputs": [
    {
     "data": {
      "text/plain": [
       "{'horsepower_model': 3.6547930240631104,\n",
       " 'linear_model': 2.4999098777770996,\n",
       " 'dnn_horsepower_model': 2.9645817279815674}"
      ]
     },
     "execution_count": 45,
     "metadata": {},
     "output_type": "execute_result"
    }
   ],
   "source": [
    "test_results['dnn_horsepower_model'] = dnn_horsepower_model.evaluate(\n",
    "    test_features['Horsepower'], test_labels, verbose = 0)\n",
    "test_results"
   ]
  },
  {
   "cell_type": "code",
   "execution_count": 46,
   "id": "3025080f",
   "metadata": {},
   "outputs": [
    {
     "name": "stdout",
     "output_type": "stream",
     "text": [
      "Model: \"sequential_3\"\n",
      "_________________________________________________________________\n",
      " Layer (type)                Output Shape              Param #   \n",
      "=================================================================\n",
      " normalization (Normalizatio  (None, 9)                19        \n",
      " n)                                                              \n",
      "                                                                 \n",
      " dense_5 (Dense)             (None, 64)                640       \n",
      "                                                                 \n",
      " dense_6 (Dense)             (None, 64)                4160      \n",
      "                                                                 \n",
      " dense_7 (Dense)             (None, 1)                 65        \n",
      "                                                                 \n",
      "=================================================================\n",
      "Total params: 4,884\n",
      "Trainable params: 4,865\n",
      "Non-trainable params: 19\n",
      "_________________________________________________________________\n"
     ]
    }
   ],
   "source": [
    "# Строим еще одну модуль с полными фичами\n",
    "dnn_model = build_and_compile_model(normalizer)\n",
    "dnn_model.summary()"
   ]
  },
  {
   "cell_type": "code",
   "execution_count": 47,
   "id": "55049521",
   "metadata": {},
   "outputs": [
    {
     "name": "stdout",
     "output_type": "stream",
     "text": [
      "Epoch 1/100\n",
      "8/8 [==============================] - 0s 14ms/step - loss: 23.3500 - val_loss: 23.5809\n",
      "Epoch 2/100\n",
      "8/8 [==============================] - 0s 4ms/step - loss: 22.8172 - val_loss: 23.0270\n",
      "Epoch 3/100\n",
      "8/8 [==============================] - 0s 4ms/step - loss: 22.3153 - val_loss: 22.4458\n",
      "Epoch 4/100\n",
      "8/8 [==============================] - 0s 4ms/step - loss: 21.7499 - val_loss: 21.7505\n",
      "Epoch 5/100\n",
      "8/8 [==============================] - 0s 4ms/step - loss: 21.0403 - val_loss: 20.8424\n",
      "Epoch 6/100\n",
      "8/8 [==============================] - 0s 3ms/step - loss: 20.0994 - val_loss: 19.6466\n",
      "Epoch 7/100\n",
      "8/8 [==============================] - 0s 4ms/step - loss: 18.8885 - val_loss: 18.1056\n",
      "Epoch 8/100\n",
      "8/8 [==============================] - 0s 3ms/step - loss: 17.2891 - val_loss: 16.2304\n",
      "Epoch 9/100\n",
      "8/8 [==============================] - 0s 4ms/step - loss: 15.4868 - val_loss: 14.4371\n",
      "Epoch 10/100\n",
      "8/8 [==============================] - 0s 4ms/step - loss: 13.6873 - val_loss: 12.6769\n",
      "Epoch 11/100\n",
      "8/8 [==============================] - 0s 4ms/step - loss: 11.7893 - val_loss: 10.5391\n",
      "Epoch 12/100\n",
      "8/8 [==============================] - 0s 3ms/step - loss: 9.5149 - val_loss: 8.2201\n",
      "Epoch 13/100\n",
      "8/8 [==============================] - 0s 4ms/step - loss: 7.1228 - val_loss: 6.2569\n",
      "Epoch 14/100\n",
      "8/8 [==============================] - 0s 4ms/step - loss: 5.4927 - val_loss: 5.6389\n",
      "Epoch 15/100\n",
      "8/8 [==============================] - 0s 4ms/step - loss: 5.0228 - val_loss: 5.1633\n",
      "Epoch 16/100\n",
      "8/8 [==============================] - 0s 4ms/step - loss: 4.3356 - val_loss: 4.5302\n",
      "Epoch 17/100\n",
      "8/8 [==============================] - 0s 3ms/step - loss: 3.8046 - val_loss: 4.0282\n",
      "Epoch 18/100\n",
      "8/8 [==============================] - 0s 4ms/step - loss: 3.4559 - val_loss: 3.8346\n",
      "Epoch 19/100\n",
      "8/8 [==============================] - 0s 4ms/step - loss: 3.1934 - val_loss: 3.6186\n",
      "Epoch 20/100\n",
      "8/8 [==============================] - 0s 3ms/step - loss: 2.9661 - val_loss: 3.4138\n",
      "Epoch 21/100\n",
      "8/8 [==============================] - 0s 4ms/step - loss: 2.7932 - val_loss: 3.2461\n",
      "Epoch 22/100\n",
      "8/8 [==============================] - 0s 4ms/step - loss: 2.6854 - val_loss: 3.0610\n",
      "Epoch 23/100\n",
      "8/8 [==============================] - 0s 4ms/step - loss: 2.5272 - val_loss: 2.9745\n",
      "Epoch 24/100\n",
      "8/8 [==============================] - 0s 3ms/step - loss: 2.4180 - val_loss: 2.8570\n",
      "Epoch 25/100\n",
      "8/8 [==============================] - 0s 4ms/step - loss: 2.3119 - val_loss: 2.6907\n",
      "Epoch 26/100\n",
      "8/8 [==============================] - 0s 4ms/step - loss: 2.2273 - val_loss: 2.6006\n",
      "Epoch 27/100\n",
      "8/8 [==============================] - 0s 4ms/step - loss: 2.1770 - val_loss: 2.5606\n",
      "Epoch 28/100\n",
      "8/8 [==============================] - 0s 4ms/step - loss: 2.1031 - val_loss: 2.5035\n",
      "Epoch 29/100\n",
      "8/8 [==============================] - 0s 4ms/step - loss: 2.0595 - val_loss: 2.4626\n",
      "Epoch 30/100\n",
      "8/8 [==============================] - 0s 3ms/step - loss: 2.0422 - val_loss: 2.3864\n",
      "Epoch 31/100\n",
      "8/8 [==============================] - 0s 4ms/step - loss: 2.0016 - val_loss: 2.4295\n",
      "Epoch 32/100\n",
      "8/8 [==============================] - 0s 4ms/step - loss: 1.9652 - val_loss: 2.3590\n",
      "Epoch 33/100\n",
      "8/8 [==============================] - 0s 4ms/step - loss: 1.9562 - val_loss: 2.3731\n",
      "Epoch 34/100\n",
      "8/8 [==============================] - 0s 4ms/step - loss: 1.9464 - val_loss: 2.3256\n",
      "Epoch 35/100\n",
      "8/8 [==============================] - 0s 4ms/step - loss: 1.9429 - val_loss: 2.3931\n",
      "Epoch 36/100\n",
      "8/8 [==============================] - 0s 4ms/step - loss: 1.9147 - val_loss: 2.3213\n",
      "Epoch 37/100\n",
      "8/8 [==============================] - 0s 4ms/step - loss: 1.9056 - val_loss: 2.3366\n",
      "Epoch 38/100\n",
      "8/8 [==============================] - 0s 4ms/step - loss: 1.9214 - val_loss: 2.3662\n",
      "Epoch 39/100\n",
      "8/8 [==============================] - 0s 4ms/step - loss: 1.8910 - val_loss: 2.2939\n",
      "Epoch 40/100\n",
      "8/8 [==============================] - 0s 4ms/step - loss: 1.8884 - val_loss: 2.3278\n",
      "Epoch 41/100\n",
      "8/8 [==============================] - 0s 4ms/step - loss: 1.8681 - val_loss: 2.2783\n",
      "Epoch 42/100\n",
      "8/8 [==============================] - 0s 4ms/step - loss: 1.8749 - val_loss: 2.3276\n",
      "Epoch 43/100\n",
      "8/8 [==============================] - 0s 4ms/step - loss: 1.8508 - val_loss: 2.2897\n",
      "Epoch 44/100\n",
      "8/8 [==============================] - 0s 4ms/step - loss: 1.8532 - val_loss: 2.2925\n",
      "Epoch 45/100\n",
      "8/8 [==============================] - 0s 4ms/step - loss: 1.8371 - val_loss: 2.3256\n",
      "Epoch 46/100\n",
      "8/8 [==============================] - 0s 3ms/step - loss: 1.8401 - val_loss: 2.2946\n",
      "Epoch 47/100\n",
      "8/8 [==============================] - 0s 4ms/step - loss: 1.8312 - val_loss: 2.2885\n",
      "Epoch 48/100\n",
      "8/8 [==============================] - 0s 4ms/step - loss: 1.8308 - val_loss: 2.2861\n",
      "Epoch 49/100\n",
      "8/8 [==============================] - 0s 3ms/step - loss: 1.8239 - val_loss: 2.2851\n",
      "Epoch 50/100\n",
      "8/8 [==============================] - 0s 3ms/step - loss: 1.8123 - val_loss: 2.2986\n",
      "Epoch 51/100\n",
      "8/8 [==============================] - 0s 3ms/step - loss: 1.8065 - val_loss: 2.2871\n",
      "Epoch 52/100\n",
      "8/8 [==============================] - 0s 3ms/step - loss: 1.7991 - val_loss: 2.2960\n",
      "Epoch 53/100\n",
      "8/8 [==============================] - 0s 3ms/step - loss: 1.7970 - val_loss: 2.2782\n",
      "Epoch 54/100\n",
      "8/8 [==============================] - 0s 4ms/step - loss: 1.8066 - val_loss: 2.2793\n",
      "Epoch 55/100\n",
      "8/8 [==============================] - 0s 3ms/step - loss: 1.7798 - val_loss: 2.2532\n",
      "Epoch 56/100\n",
      "8/8 [==============================] - 0s 3ms/step - loss: 1.7759 - val_loss: 2.2858\n",
      "Epoch 57/100\n",
      "8/8 [==============================] - 0s 3ms/step - loss: 1.7812 - val_loss: 2.2625\n",
      "Epoch 58/100\n",
      "8/8 [==============================] - 0s 3ms/step - loss: 1.7768 - val_loss: 2.2538\n",
      "Epoch 59/100\n",
      "8/8 [==============================] - 0s 4ms/step - loss: 1.7836 - val_loss: 2.2971\n",
      "Epoch 60/100\n",
      "8/8 [==============================] - 0s 4ms/step - loss: 1.7862 - val_loss: 2.2665\n",
      "Epoch 61/100\n",
      "8/8 [==============================] - 0s 3ms/step - loss: 1.7515 - val_loss: 2.2626\n",
      "Epoch 62/100\n",
      "8/8 [==============================] - 0s 3ms/step - loss: 1.7547 - val_loss: 2.2498\n",
      "Epoch 63/100\n",
      "8/8 [==============================] - 0s 3ms/step - loss: 1.7494 - val_loss: 2.2388\n",
      "Epoch 64/100\n",
      "8/8 [==============================] - 0s 4ms/step - loss: 1.7421 - val_loss: 2.2651\n",
      "Epoch 65/100\n",
      "8/8 [==============================] - 0s 4ms/step - loss: 1.7467 - val_loss: 2.2632\n",
      "Epoch 66/100\n",
      "8/8 [==============================] - 0s 4ms/step - loss: 1.7475 - val_loss: 2.2232\n",
      "Epoch 67/100\n",
      "8/8 [==============================] - 0s 4ms/step - loss: 1.7276 - val_loss: 2.2578\n",
      "Epoch 68/100\n",
      "8/8 [==============================] - 0s 3ms/step - loss: 1.7388 - val_loss: 2.2741\n",
      "Epoch 69/100\n",
      "8/8 [==============================] - 0s 4ms/step - loss: 1.7390 - val_loss: 2.2281\n",
      "Epoch 70/100\n",
      "8/8 [==============================] - 0s 4ms/step - loss: 1.7174 - val_loss: 2.2912\n",
      "Epoch 71/100\n",
      "8/8 [==============================] - 0s 4ms/step - loss: 1.7246 - val_loss: 2.2412\n",
      "Epoch 72/100\n",
      "8/8 [==============================] - 0s 4ms/step - loss: 1.7029 - val_loss: 2.2593\n",
      "Epoch 73/100\n",
      "8/8 [==============================] - 0s 4ms/step - loss: 1.7168 - val_loss: 2.2426\n",
      "Epoch 74/100\n",
      "8/8 [==============================] - 0s 3ms/step - loss: 1.7190 - val_loss: 2.2322\n",
      "Epoch 75/100\n",
      "8/8 [==============================] - 0s 4ms/step - loss: 1.6937 - val_loss: 2.2910\n",
      "Epoch 76/100\n",
      "8/8 [==============================] - 0s 4ms/step - loss: 1.7035 - val_loss: 2.2430\n",
      "Epoch 77/100\n",
      "8/8 [==============================] - 0s 4ms/step - loss: 1.6992 - val_loss: 2.2605\n",
      "Epoch 78/100\n",
      "8/8 [==============================] - 0s 4ms/step - loss: 1.7069 - val_loss: 2.2862\n",
      "Epoch 79/100\n",
      "8/8 [==============================] - 0s 4ms/step - loss: 1.6947 - val_loss: 2.2311\n",
      "Epoch 80/100\n",
      "8/8 [==============================] - 0s 4ms/step - loss: 1.6918 - val_loss: 2.2779\n",
      "Epoch 81/100\n",
      "8/8 [==============================] - 0s 4ms/step - loss: 1.6971 - val_loss: 2.2356\n",
      "Epoch 82/100\n",
      "8/8 [==============================] - 0s 4ms/step - loss: 1.6825 - val_loss: 2.2823\n",
      "Epoch 83/100\n",
      "8/8 [==============================] - 0s 4ms/step - loss: 1.6789 - val_loss: 2.2340\n",
      "Epoch 84/100\n"
     ]
    },
    {
     "name": "stdout",
     "output_type": "stream",
     "text": [
      "8/8 [==============================] - 0s 4ms/step - loss: 1.6886 - val_loss: 2.2385\n",
      "Epoch 85/100\n",
      "8/8 [==============================] - 0s 4ms/step - loss: 1.6787 - val_loss: 2.2328\n",
      "Epoch 86/100\n",
      "8/8 [==============================] - 0s 4ms/step - loss: 1.6728 - val_loss: 2.2248\n",
      "Epoch 87/100\n",
      "8/8 [==============================] - 0s 4ms/step - loss: 1.6912 - val_loss: 2.2403\n",
      "Epoch 88/100\n",
      "8/8 [==============================] - 0s 4ms/step - loss: 1.6667 - val_loss: 2.2534\n",
      "Epoch 89/100\n",
      "8/8 [==============================] - 0s 4ms/step - loss: 1.6572 - val_loss: 2.2255\n",
      "Epoch 90/100\n",
      "8/8 [==============================] - 0s 4ms/step - loss: 1.6729 - val_loss: 2.2383\n",
      "Epoch 91/100\n",
      "8/8 [==============================] - 0s 4ms/step - loss: 1.6773 - val_loss: 2.2279\n",
      "Epoch 92/100\n",
      "8/8 [==============================] - 0s 4ms/step - loss: 1.7052 - val_loss: 2.2907\n",
      "Epoch 93/100\n",
      "8/8 [==============================] - 0s 4ms/step - loss: 1.6747 - val_loss: 2.1996\n",
      "Epoch 94/100\n",
      "8/8 [==============================] - 0s 4ms/step - loss: 1.6816 - val_loss: 2.2853\n",
      "Epoch 95/100\n",
      "8/8 [==============================] - 0s 4ms/step - loss: 1.6688 - val_loss: 2.2064\n",
      "Epoch 96/100\n",
      "8/8 [==============================] - 0s 4ms/step - loss: 1.6542 - val_loss: 2.2470\n",
      "Epoch 97/100\n",
      "8/8 [==============================] - 0s 4ms/step - loss: 1.6799 - val_loss: 2.3144\n",
      "Epoch 98/100\n",
      "8/8 [==============================] - 0s 4ms/step - loss: 1.6511 - val_loss: 2.2173\n",
      "Epoch 99/100\n",
      "8/8 [==============================] - 0s 4ms/step - loss: 1.6623 - val_loss: 2.2556\n",
      "Epoch 100/100\n",
      "8/8 [==============================] - 0s 4ms/step - loss: 1.6396 - val_loss: 2.2542\n"
     ]
    }
   ],
   "source": [
    "history = dnn_model.fit(train_features,\n",
    "                        train_labels,\n",
    "                        epochs = 100,\n",
    "                        verbose = 1,\n",
    "                        validation_split = 0.2)"
   ]
  },
  {
   "cell_type": "code",
   "execution_count": 48,
   "id": "c05511e8",
   "metadata": {},
   "outputs": [
    {
     "data": {
      "image/png": "[encoded data removed]",
      "text/plain": [
       "<Figure size 640x480 with 1 Axes>"
      ]
     },
     "metadata": {},
     "output_type": "display_data"
    }
   ],
   "source": [
    "plot_loss(history)"
   ]
  },
  {
   "cell_type": "code",
   "execution_count": 49,
   "id": "7bf32f77",
   "metadata": {},
   "outputs": [
    {
     "data": {
      "text/plain": [
       "{'horsepower_model': 3.6547930240631104,\n",
       " 'linear_model': 2.4999098777770996,\n",
       " 'dnn_horsepower_model': 2.9645817279815674,\n",
       " 'dnn_model': 1.7230011224746704}"
      ]
     },
     "execution_count": 49,
     "metadata": {},
     "output_type": "execute_result"
    }
   ],
   "source": [
    "test_results['dnn_model'] = dnn_model.evaluate(test_features,\n",
    "                                               test_labels,\n",
    "                                               verbose = 0)\n",
    "test_results"
   ]
  },
  {
   "cell_type": "code",
   "execution_count": 50,
   "id": "3ae18e1a",
   "metadata": {},
   "outputs": [
    {
     "data": {
      "text/html": [
       "<div>\n",
       "<style scoped>\n",
       "    .dataframe tbody tr th:only-of-type {\n",
       "        vertical-align: middle;\n",
       "    }\n",
       "\n",
       "    .dataframe tbody tr th {\n",
       "        vertical-align: top;\n",
       "    }\n",
       "\n",
       "    .dataframe thead th {\n",
       "        text-align: right;\n",
       "    }\n",
       "</style>\n",
       "<table border=\"1\" class=\"dataframe\">\n",
       "  <thead>\n",
       "    <tr style=\"text-align: right;\">\n",
       "      <th></th>\n",
       "      <th>MAE [MPG]</th>\n",
       "    </tr>\n",
       "  </thead>\n",
       "  <tbody>\n",
       "    <tr>\n",
       "      <th>horsepower_model</th>\n",
       "      <td>3.654793</td>\n",
       "    </tr>\n",
       "    <tr>\n",
       "      <th>linear_model</th>\n",
       "      <td>2.499910</td>\n",
       "    </tr>\n",
       "    <tr>\n",
       "      <th>dnn_horsepower_model</th>\n",
       "      <td>2.964582</td>\n",
       "    </tr>\n",
       "    <tr>\n",
       "      <th>dnn_model</th>\n",
       "      <td>1.723001</td>\n",
       "    </tr>\n",
       "  </tbody>\n",
       "</table>\n",
       "</div>"
      ],
      "text/plain": [
       "                      MAE [MPG]\n",
       "horsepower_model       3.654793\n",
       "linear_model           2.499910\n",
       "dnn_horsepower_model   2.964582\n",
       "dnn_model              1.723001"
      ]
     },
     "execution_count": 50,
     "metadata": {},
     "output_type": "execute_result"
    }
   ],
   "source": [
    "pd.DataFrame(test_results, index = ['MAE [MPG]']).T"
   ]
  },
  {
   "cell_type": "code",
   "execution_count": 51,
   "id": "ebe09cb2",
   "metadata": {},
   "outputs": [
    {
     "name": "stdout",
     "output_type": "stream",
     "text": [
      "3/3 [==============================] - 0s 998us/step\n"
     ]
    },
    {
     "data": {
      "image/png": "[encoded data removed]",
      "text/plain": [
       "<Figure size 640x480 with 1 Axes>"
      ]
     },
     "metadata": {},
     "output_type": "display_data"
    }
   ],
   "source": [
    "test_predictions = dnn_model.predict(test_features).flatten()\n",
    "a = plt.axes(aspect = 'equal')\n",
    "plt.scatter(test_labels, test_predictions)\n",
    "plt.xlabel('True Values [MPG]')\n",
    "plt.ylabel('Predictions [MPG]')\n",
    "lims = [0, 50]\n",
    "plt.xlim(lims)\n",
    "plt.ylim(lims)\n",
    "_ = plt.plot(lims, lims)"
   ]
  },
  {
   "cell_type": "code",
   "execution_count": 52,
   "id": "0d33ece1",
   "metadata": {},
   "outputs": [
    {
     "data": {
      "image/png": "[encoded data removed]",
      "text/plain": [
       "<Figure size 640x480 with 1 Axes>"
      ]
     },
     "metadata": {},
     "output_type": "display_data"
    }
   ],
   "source": [
    "error = test_predictions - test_labels\n",
    "plt.hist(error, bins = 15)\n",
    "plt.xlabel('Prediction Error [MPG]')\n",
    "_ = plt.ylabel('Count')"
   ]
  },
  {
   "cell_type": "code",
   "execution_count": 53,
   "id": "8abb4c1e",
   "metadata": {},
   "outputs": [
    {
     "data": {
      "text/plain": [
       "{'horsepower_model': 3.6547930240631104,\n",
       " 'linear_model': 2.4999098777770996,\n",
       " 'dnn_horsepower_model': 2.9645817279815674,\n",
       " 'dnn_model': 1.7230011224746704}"
      ]
     },
     "execution_count": 53,
     "metadata": {},
     "output_type": "execute_result"
    }
   ],
   "source": [
    "test_results"
   ]
  },
  {
   "cell_type": "code",
   "execution_count": null,
   "id": "76e071c4",
   "metadata": {},
   "outputs": [],
   "source": []
  }
 ],
 "metadata": {
  "kernelspec": {
   "display_name": "Python 3 (ipykernel)",
   "language": "python",
   "name": "python3"
  },
  "language_info": {
   "codemirror_mode": {
    "name": "ipython",
    "version": 3
   },
   "file_extension": ".py",
   "mimetype": "text/x-python",
   "name": "python",
   "nbconvert_exporter": "python",
   "pygments_lexer": "ipython3",
   "version": "3.9.12"
  }
 },
 "nbformat": 4,
 "nbformat_minor": 5
}
