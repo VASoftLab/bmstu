{
 "cells": [
  {
   "cell_type": "markdown",
   "id": "39910ccc",
   "metadata": {},
   "source": [
    "### Segmentation в компьютерном зрении"
   ]
  },
  {
   "cell_type": "code",
   "execution_count": 1,
   "id": "fb460d07",
   "metadata": {},
   "outputs": [],
   "source": [
    "import pandas as pd\n",
    "import numpy as np\n",
    "import os\n",
    "from PIL import Image\n",
    "import matplotlib.pyplot as plt\n",
    "%matplotlib inline\n",
    "\n",
    "from tensorflow.keras.models import Model\n",
    "from tensorflow.keras.layers import Input, Conv2DTranspose, concatenate, Activation\n",
    "from tensorflow.keras.layers import MaxPooling2D, Conv2D, BatchNormalization\n",
    "\n",
    "from tensorflow.keras import backend as K\n",
    "from tensorflow.keras.optimizers import Adam\n",
    "from tensorflow.keras import utils\n",
    "from tensorflow.keras.preprocessing import image"
   ]
  },
  {
   "cell_type": "code",
   "execution_count": 2,
   "id": "080aa695",
   "metadata": {},
   "outputs": [],
   "source": [
    "# Пользовательская метрика\n",
    "def dice_koef(y_true, y_pred):\n",
    "    return (2 * K.sum(y_true * y_pred) + 1) / (K.sum(y_true) + K.sum(y_pred) + 1)"
   ]
  },
  {
   "cell_type": "markdown",
   "id": "b32313ee",
   "metadata": {},
   "source": [
    "### Загрузка данных"
   ]
  },
  {
   "cell_type": "code",
   "execution_count": 23,
   "id": "2f2fdf33",
   "metadata": {},
   "outputs": [],
   "source": [
    "# Подключаем файлы с выборками\n",
    "path_1 = 'D:\\\\SourceCode\\\\jupyter-notebook\\\\bmstu\\\\img_drive\\\\annotations_prepped_train'\n",
    "path_2 = 'D:\\\\SourceCode\\\\jupyter-notebook\\\\bmstu\\\\img_drive\\\\annotations_prepped_test'\n",
    "path_3 = 'D:\\\\SourceCode\\\\jupyter-notebook\\\\bmstu\\\\img_drive\\\\images_prepped_train'\n",
    "path_4 = 'D:\\\\SourceCode\\\\jupyter-notebook\\\\bmstu\\\\img_drive\\\\images_prepped_test'"
   ]
  },
  {
   "cell_type": "code",
   "execution_count": 34,
   "id": "34779491",
   "metadata": {},
   "outputs": [],
   "source": [
    "# Список для уменьшенных карт сегметации train выборки\n",
    "trainSeg = []\n",
    "for filename in sorted(os.listdir(path_1)):\n",
    "    trainSeg.append(image.load_img(os.path.join(path_1, filename), target_size = (88, 120)))"
   ]
  },
  {
   "cell_type": "code",
   "execution_count": null,
   "id": "b702a0f1",
   "metadata": {},
   "outputs": [],
   "source": []
  }
 ],
 "metadata": {
  "kernelspec": {
   "display_name": "Python 3 (ipykernel)",
   "language": "python",
   "name": "python3"
  },
  "language_info": {
   "codemirror_mode": {
    "name": "ipython",
    "version": 3
   },
   "file_extension": ".py",
   "mimetype": "text/x-python",
   "name": "python",
   "nbconvert_exporter": "python",
   "pygments_lexer": "ipython3",
   "version": "3.9.12"
  }
 },
 "nbformat": 4,
 "nbformat_minor": 5
}
