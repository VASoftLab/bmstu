{
 "cells": [
  {
   "cell_type": "code",
   "execution_count": 1,
   "metadata": {},
   "outputs": [],
   "source": [
    "import matplotlib.pyplot as plt\n",
    "import numpy as np\n",
    "import pandas as pd\n",
    "import seaborn as sns\n",
    "\n",
    "np.set_printoptions(precision=3, suppress=True)"
   ]
  },
  {
   "cell_type": "code",
   "execution_count": 2,
   "metadata": {},
   "outputs": [
    {
     "name": "stdout",
     "output_type": "stream",
     "text": [
      "2.10.0\n"
     ]
    }
   ],
   "source": [
    "import tensorflow as tf\n",
    "\n",
    "from tensorflow import keras\n",
    "from tensorflow.keras import layers\n",
    "\n",
    "print(tf.__version__)"
   ]
  },
  {
   "cell_type": "markdown",
   "metadata": {},
   "source": [
    "#### Cоздание моделей для прогнозирования топливной экономичности автомобилей конца 1970-х и начала 1980-х годов."
   ]
  },
  {
   "cell_type": "code",
   "execution_count": 3,
   "metadata": {},
   "outputs": [],
   "source": [
    "url = 'http://archive.ics.uci.edu/ml/machine-learning-databases/auto-mpg/auto-mpg.data'\n",
    "column_names = ['MPG', 'Cylinders', 'Displacement', 'Horsepower', 'Weight',\n",
    "                'Acceleration', 'Model Year', 'Origin']\n",
    "\n",
    "raw_dataset = pd.read_csv(url, names=column_names,\n",
    "                          na_values='?', comment='\\t',\n",
    "                          sep=' ', skipinitialspace=True)"
   ]
  },
  {
   "cell_type": "code",
   "execution_count": 4,
   "metadata": {},
   "outputs": [
    {
     "data": {
      "text/plain": [
       "(398, 8)"
      ]
     },
     "execution_count": 4,
     "metadata": {},
     "output_type": "execute_result"
    }
   ],
   "source": [
    "raw_dataset.shape"
   ]
  },
  {
   "cell_type": "code",
   "execution_count": 5,
   "metadata": {},
   "outputs": [
    {
     "data": {
      "text/html": [
       "<div>\n",
       "<style scoped>\n",
       "    .dataframe tbody tr th:only-of-type {\n",
       "        vertical-align: middle;\n",
       "    }\n",
       "\n",
       "    .dataframe tbody tr th {\n",
       "        vertical-align: top;\n",
       "    }\n",
       "\n",
       "    .dataframe thead th {\n",
       "        text-align: right;\n",
       "    }\n",
       "</style>\n",
       "<table border=\"1\" class=\"dataframe\">\n",
       "  <thead>\n",
       "    <tr style=\"text-align: right;\">\n",
       "      <th></th>\n",
       "      <th>MPG</th>\n",
       "      <th>Cylinders</th>\n",
       "      <th>Displacement</th>\n",
       "      <th>Horsepower</th>\n",
       "      <th>Weight</th>\n",
       "      <th>Acceleration</th>\n",
       "      <th>Model Year</th>\n",
       "      <th>Origin</th>\n",
       "    </tr>\n",
       "  </thead>\n",
       "  <tbody>\n",
       "    <tr>\n",
       "      <th>0</th>\n",
       "      <td>18.0</td>\n",
       "      <td>8</td>\n",
       "      <td>307.0</td>\n",
       "      <td>130.0</td>\n",
       "      <td>3504.0</td>\n",
       "      <td>12.0</td>\n",
       "      <td>70</td>\n",
       "      <td>1</td>\n",
       "    </tr>\n",
       "    <tr>\n",
       "      <th>1</th>\n",
       "      <td>15.0</td>\n",
       "      <td>8</td>\n",
       "      <td>350.0</td>\n",
       "      <td>165.0</td>\n",
       "      <td>3693.0</td>\n",
       "      <td>11.5</td>\n",
       "      <td>70</td>\n",
       "      <td>1</td>\n",
       "    </tr>\n",
       "    <tr>\n",
       "      <th>2</th>\n",
       "      <td>18.0</td>\n",
       "      <td>8</td>\n",
       "      <td>318.0</td>\n",
       "      <td>150.0</td>\n",
       "      <td>3436.0</td>\n",
       "      <td>11.0</td>\n",
       "      <td>70</td>\n",
       "      <td>1</td>\n",
       "    </tr>\n",
       "    <tr>\n",
       "      <th>3</th>\n",
       "      <td>16.0</td>\n",
       "      <td>8</td>\n",
       "      <td>304.0</td>\n",
       "      <td>150.0</td>\n",
       "      <td>3433.0</td>\n",
       "      <td>12.0</td>\n",
       "      <td>70</td>\n",
       "      <td>1</td>\n",
       "    </tr>\n",
       "    <tr>\n",
       "      <th>4</th>\n",
       "      <td>17.0</td>\n",
       "      <td>8</td>\n",
       "      <td>302.0</td>\n",
       "      <td>140.0</td>\n",
       "      <td>3449.0</td>\n",
       "      <td>10.5</td>\n",
       "      <td>70</td>\n",
       "      <td>1</td>\n",
       "    </tr>\n",
       "  </tbody>\n",
       "</table>\n",
       "</div>"
      ],
      "text/plain": [
       "    MPG  Cylinders  Displacement  Horsepower  Weight  Acceleration  \\\n",
       "0  18.0          8         307.0       130.0  3504.0          12.0   \n",
       "1  15.0          8         350.0       165.0  3693.0          11.5   \n",
       "2  18.0          8         318.0       150.0  3436.0          11.0   \n",
       "3  16.0          8         304.0       150.0  3433.0          12.0   \n",
       "4  17.0          8         302.0       140.0  3449.0          10.5   \n",
       "\n",
       "   Model Year  Origin  \n",
       "0          70       1  \n",
       "1          70       1  \n",
       "2          70       1  \n",
       "3          70       1  \n",
       "4          70       1  "
      ]
     },
     "execution_count": 5,
     "metadata": {},
     "output_type": "execute_result"
    }
   ],
   "source": [
    "raw_dataset.head()"
   ]
  },
  {
   "cell_type": "code",
   "execution_count": 6,
   "metadata": {},
   "outputs": [
    {
     "data": {
      "text/html": [
       "<div>\n",
       "<style scoped>\n",
       "    .dataframe tbody tr th:only-of-type {\n",
       "        vertical-align: middle;\n",
       "    }\n",
       "\n",
       "    .dataframe tbody tr th {\n",
       "        vertical-align: top;\n",
       "    }\n",
       "\n",
       "    .dataframe thead th {\n",
       "        text-align: right;\n",
       "    }\n",
       "</style>\n",
       "<table border=\"1\" class=\"dataframe\">\n",
       "  <thead>\n",
       "    <tr style=\"text-align: right;\">\n",
       "      <th></th>\n",
       "      <th>MPG</th>\n",
       "      <th>Cylinders</th>\n",
       "      <th>Displacement</th>\n",
       "      <th>Horsepower</th>\n",
       "      <th>Weight</th>\n",
       "      <th>Acceleration</th>\n",
       "      <th>Model Year</th>\n",
       "      <th>Origin</th>\n",
       "    </tr>\n",
       "  </thead>\n",
       "  <tbody>\n",
       "    <tr>\n",
       "      <th>0</th>\n",
       "      <td>18.0</td>\n",
       "      <td>8</td>\n",
       "      <td>307.0</td>\n",
       "      <td>130.0</td>\n",
       "      <td>3504.0</td>\n",
       "      <td>12.0</td>\n",
       "      <td>70</td>\n",
       "      <td>1</td>\n",
       "    </tr>\n",
       "    <tr>\n",
       "      <th>1</th>\n",
       "      <td>15.0</td>\n",
       "      <td>8</td>\n",
       "      <td>350.0</td>\n",
       "      <td>165.0</td>\n",
       "      <td>3693.0</td>\n",
       "      <td>11.5</td>\n",
       "      <td>70</td>\n",
       "      <td>1</td>\n",
       "    </tr>\n",
       "    <tr>\n",
       "      <th>2</th>\n",
       "      <td>18.0</td>\n",
       "      <td>8</td>\n",
       "      <td>318.0</td>\n",
       "      <td>150.0</td>\n",
       "      <td>3436.0</td>\n",
       "      <td>11.0</td>\n",
       "      <td>70</td>\n",
       "      <td>1</td>\n",
       "    </tr>\n",
       "    <tr>\n",
       "      <th>3</th>\n",
       "      <td>16.0</td>\n",
       "      <td>8</td>\n",
       "      <td>304.0</td>\n",
       "      <td>150.0</td>\n",
       "      <td>3433.0</td>\n",
       "      <td>12.0</td>\n",
       "      <td>70</td>\n",
       "      <td>1</td>\n",
       "    </tr>\n",
       "    <tr>\n",
       "      <th>4</th>\n",
       "      <td>17.0</td>\n",
       "      <td>8</td>\n",
       "      <td>302.0</td>\n",
       "      <td>140.0</td>\n",
       "      <td>3449.0</td>\n",
       "      <td>10.5</td>\n",
       "      <td>70</td>\n",
       "      <td>1</td>\n",
       "    </tr>\n",
       "  </tbody>\n",
       "</table>\n",
       "</div>"
      ],
      "text/plain": [
       "    MPG  Cylinders  Displacement  Horsepower  Weight  Acceleration  \\\n",
       "0  18.0          8         307.0       130.0  3504.0          12.0   \n",
       "1  15.0          8         350.0       165.0  3693.0          11.5   \n",
       "2  18.0          8         318.0       150.0  3436.0          11.0   \n",
       "3  16.0          8         304.0       150.0  3433.0          12.0   \n",
       "4  17.0          8         302.0       140.0  3449.0          10.5   \n",
       "\n",
       "   Model Year  Origin  \n",
       "0          70       1  \n",
       "1          70       1  \n",
       "2          70       1  \n",
       "3          70       1  \n",
       "4          70       1  "
      ]
     },
     "execution_count": 6,
     "metadata": {},
     "output_type": "execute_result"
    }
   ],
   "source": [
    "df = raw_dataset.copy()\n",
    "df.head()"
   ]
  },
  {
   "cell_type": "code",
   "execution_count": 7,
   "metadata": {},
   "outputs": [
    {
     "data": {
      "text/html": [
       "<div>\n",
       "<style scoped>\n",
       "    .dataframe tbody tr th:only-of-type {\n",
       "        vertical-align: middle;\n",
       "    }\n",
       "\n",
       "    .dataframe tbody tr th {\n",
       "        vertical-align: top;\n",
       "    }\n",
       "\n",
       "    .dataframe thead th {\n",
       "        text-align: right;\n",
       "    }\n",
       "</style>\n",
       "<table border=\"1\" class=\"dataframe\">\n",
       "  <thead>\n",
       "    <tr style=\"text-align: right;\">\n",
       "      <th></th>\n",
       "      <th>MPG</th>\n",
       "      <th>Cylinders</th>\n",
       "      <th>Displacement</th>\n",
       "      <th>Horsepower</th>\n",
       "      <th>Weight</th>\n",
       "      <th>Acceleration</th>\n",
       "      <th>Model Year</th>\n",
       "      <th>Origin</th>\n",
       "    </tr>\n",
       "  </thead>\n",
       "  <tbody>\n",
       "    <tr>\n",
       "      <th>0</th>\n",
       "      <td>False</td>\n",
       "      <td>False</td>\n",
       "      <td>False</td>\n",
       "      <td>False</td>\n",
       "      <td>False</td>\n",
       "      <td>False</td>\n",
       "      <td>False</td>\n",
       "      <td>False</td>\n",
       "    </tr>\n",
       "    <tr>\n",
       "      <th>1</th>\n",
       "      <td>False</td>\n",
       "      <td>False</td>\n",
       "      <td>False</td>\n",
       "      <td>False</td>\n",
       "      <td>False</td>\n",
       "      <td>False</td>\n",
       "      <td>False</td>\n",
       "      <td>False</td>\n",
       "    </tr>\n",
       "    <tr>\n",
       "      <th>2</th>\n",
       "      <td>False</td>\n",
       "      <td>False</td>\n",
       "      <td>False</td>\n",
       "      <td>False</td>\n",
       "      <td>False</td>\n",
       "      <td>False</td>\n",
       "      <td>False</td>\n",
       "      <td>False</td>\n",
       "    </tr>\n",
       "    <tr>\n",
       "      <th>3</th>\n",
       "      <td>False</td>\n",
       "      <td>False</td>\n",
       "      <td>False</td>\n",
       "      <td>False</td>\n",
       "      <td>False</td>\n",
       "      <td>False</td>\n",
       "      <td>False</td>\n",
       "      <td>False</td>\n",
       "    </tr>\n",
       "    <tr>\n",
       "      <th>4</th>\n",
       "      <td>False</td>\n",
       "      <td>False</td>\n",
       "      <td>False</td>\n",
       "      <td>False</td>\n",
       "      <td>False</td>\n",
       "      <td>False</td>\n",
       "      <td>False</td>\n",
       "      <td>False</td>\n",
       "    </tr>\n",
       "    <tr>\n",
       "      <th>...</th>\n",
       "      <td>...</td>\n",
       "      <td>...</td>\n",
       "      <td>...</td>\n",
       "      <td>...</td>\n",
       "      <td>...</td>\n",
       "      <td>...</td>\n",
       "      <td>...</td>\n",
       "      <td>...</td>\n",
       "    </tr>\n",
       "    <tr>\n",
       "      <th>393</th>\n",
       "      <td>False</td>\n",
       "      <td>False</td>\n",
       "      <td>False</td>\n",
       "      <td>False</td>\n",
       "      <td>False</td>\n",
       "      <td>False</td>\n",
       "      <td>False</td>\n",
       "      <td>False</td>\n",
       "    </tr>\n",
       "    <tr>\n",
       "      <th>394</th>\n",
       "      <td>False</td>\n",
       "      <td>False</td>\n",
       "      <td>False</td>\n",
       "      <td>False</td>\n",
       "      <td>False</td>\n",
       "      <td>False</td>\n",
       "      <td>False</td>\n",
       "      <td>False</td>\n",
       "    </tr>\n",
       "    <tr>\n",
       "      <th>395</th>\n",
       "      <td>False</td>\n",
       "      <td>False</td>\n",
       "      <td>False</td>\n",
       "      <td>False</td>\n",
       "      <td>False</td>\n",
       "      <td>False</td>\n",
       "      <td>False</td>\n",
       "      <td>False</td>\n",
       "    </tr>\n",
       "    <tr>\n",
       "      <th>396</th>\n",
       "      <td>False</td>\n",
       "      <td>False</td>\n",
       "      <td>False</td>\n",
       "      <td>False</td>\n",
       "      <td>False</td>\n",
       "      <td>False</td>\n",
       "      <td>False</td>\n",
       "      <td>False</td>\n",
       "    </tr>\n",
       "    <tr>\n",
       "      <th>397</th>\n",
       "      <td>False</td>\n",
       "      <td>False</td>\n",
       "      <td>False</td>\n",
       "      <td>False</td>\n",
       "      <td>False</td>\n",
       "      <td>False</td>\n",
       "      <td>False</td>\n",
       "      <td>False</td>\n",
       "    </tr>\n",
       "  </tbody>\n",
       "</table>\n",
       "<p>398 rows × 8 columns</p>\n",
       "</div>"
      ],
      "text/plain": [
       "       MPG  Cylinders  Displacement  Horsepower  Weight  Acceleration  \\\n",
       "0    False      False         False       False   False         False   \n",
       "1    False      False         False       False   False         False   \n",
       "2    False      False         False       False   False         False   \n",
       "3    False      False         False       False   False         False   \n",
       "4    False      False         False       False   False         False   \n",
       "..     ...        ...           ...         ...     ...           ...   \n",
       "393  False      False         False       False   False         False   \n",
       "394  False      False         False       False   False         False   \n",
       "395  False      False         False       False   False         False   \n",
       "396  False      False         False       False   False         False   \n",
       "397  False      False         False       False   False         False   \n",
       "\n",
       "     Model Year  Origin  \n",
       "0         False   False  \n",
       "1         False   False  \n",
       "2         False   False  \n",
       "3         False   False  \n",
       "4         False   False  \n",
       "..          ...     ...  \n",
       "393       False   False  \n",
       "394       False   False  \n",
       "395       False   False  \n",
       "396       False   False  \n",
       "397       False   False  \n",
       "\n",
       "[398 rows x 8 columns]"
      ]
     },
     "execution_count": 7,
     "metadata": {},
     "output_type": "execute_result"
    }
   ],
   "source": [
    "df.isna()"
   ]
  },
  {
   "cell_type": "code",
   "execution_count": 8,
   "metadata": {},
   "outputs": [
    {
     "data": {
      "text/plain": [
       "MPG             0\n",
       "Cylinders       0\n",
       "Displacement    0\n",
       "Horsepower      6\n",
       "Weight          0\n",
       "Acceleration    0\n",
       "Model Year      0\n",
       "Origin          0\n",
       "dtype: int64"
      ]
     },
     "execution_count": 8,
     "metadata": {},
     "output_type": "execute_result"
    }
   ],
   "source": [
    "df.isna().sum()"
   ]
  },
  {
   "cell_type": "code",
   "execution_count": 9,
   "metadata": {},
   "outputs": [],
   "source": [
    "df = df.dropna()"
   ]
  },
  {
   "cell_type": "code",
   "execution_count": 10,
   "metadata": {},
   "outputs": [
    {
     "data": {
      "text/plain": [
       "(392, 8)"
      ]
     },
     "execution_count": 10,
     "metadata": {},
     "output_type": "execute_result"
    }
   ],
   "source": [
    "df.shape"
   ]
  },
  {
   "cell_type": "code",
   "execution_count": 11,
   "metadata": {},
   "outputs": [],
   "source": [
    "df['Origin'] = df['Origin'].map({1: 'USA', 2: 'Europe', 3: 'Japan'})"
   ]
  },
  {
   "cell_type": "code",
   "execution_count": 12,
   "metadata": {
    "scrolled": true
   },
   "outputs": [
    {
     "data": {
      "text/html": [
       "<div>\n",
       "<style scoped>\n",
       "    .dataframe tbody tr th:only-of-type {\n",
       "        vertical-align: middle;\n",
       "    }\n",
       "\n",
       "    .dataframe tbody tr th {\n",
       "        vertical-align: top;\n",
       "    }\n",
       "\n",
       "    .dataframe thead th {\n",
       "        text-align: right;\n",
       "    }\n",
       "</style>\n",
       "<table border=\"1\" class=\"dataframe\">\n",
       "  <thead>\n",
       "    <tr style=\"text-align: right;\">\n",
       "      <th></th>\n",
       "      <th>MPG</th>\n",
       "      <th>Cylinders</th>\n",
       "      <th>Displacement</th>\n",
       "      <th>Horsepower</th>\n",
       "      <th>Weight</th>\n",
       "      <th>Acceleration</th>\n",
       "      <th>Model Year</th>\n",
       "      <th>Origin</th>\n",
       "    </tr>\n",
       "  </thead>\n",
       "  <tbody>\n",
       "    <tr>\n",
       "      <th>0</th>\n",
       "      <td>18.0</td>\n",
       "      <td>8</td>\n",
       "      <td>307.0</td>\n",
       "      <td>130.0</td>\n",
       "      <td>3504.0</td>\n",
       "      <td>12.0</td>\n",
       "      <td>70</td>\n",
       "      <td>USA</td>\n",
       "    </tr>\n",
       "    <tr>\n",
       "      <th>1</th>\n",
       "      <td>15.0</td>\n",
       "      <td>8</td>\n",
       "      <td>350.0</td>\n",
       "      <td>165.0</td>\n",
       "      <td>3693.0</td>\n",
       "      <td>11.5</td>\n",
       "      <td>70</td>\n",
       "      <td>USA</td>\n",
       "    </tr>\n",
       "    <tr>\n",
       "      <th>2</th>\n",
       "      <td>18.0</td>\n",
       "      <td>8</td>\n",
       "      <td>318.0</td>\n",
       "      <td>150.0</td>\n",
       "      <td>3436.0</td>\n",
       "      <td>11.0</td>\n",
       "      <td>70</td>\n",
       "      <td>USA</td>\n",
       "    </tr>\n",
       "    <tr>\n",
       "      <th>3</th>\n",
       "      <td>16.0</td>\n",
       "      <td>8</td>\n",
       "      <td>304.0</td>\n",
       "      <td>150.0</td>\n",
       "      <td>3433.0</td>\n",
       "      <td>12.0</td>\n",
       "      <td>70</td>\n",
       "      <td>USA</td>\n",
       "    </tr>\n",
       "    <tr>\n",
       "      <th>4</th>\n",
       "      <td>17.0</td>\n",
       "      <td>8</td>\n",
       "      <td>302.0</td>\n",
       "      <td>140.0</td>\n",
       "      <td>3449.0</td>\n",
       "      <td>10.5</td>\n",
       "      <td>70</td>\n",
       "      <td>USA</td>\n",
       "    </tr>\n",
       "    <tr>\n",
       "      <th>...</th>\n",
       "      <td>...</td>\n",
       "      <td>...</td>\n",
       "      <td>...</td>\n",
       "      <td>...</td>\n",
       "      <td>...</td>\n",
       "      <td>...</td>\n",
       "      <td>...</td>\n",
       "      <td>...</td>\n",
       "    </tr>\n",
       "    <tr>\n",
       "      <th>393</th>\n",
       "      <td>27.0</td>\n",
       "      <td>4</td>\n",
       "      <td>140.0</td>\n",
       "      <td>86.0</td>\n",
       "      <td>2790.0</td>\n",
       "      <td>15.6</td>\n",
       "      <td>82</td>\n",
       "      <td>USA</td>\n",
       "    </tr>\n",
       "    <tr>\n",
       "      <th>394</th>\n",
       "      <td>44.0</td>\n",
       "      <td>4</td>\n",
       "      <td>97.0</td>\n",
       "      <td>52.0</td>\n",
       "      <td>2130.0</td>\n",
       "      <td>24.6</td>\n",
       "      <td>82</td>\n",
       "      <td>Europe</td>\n",
       "    </tr>\n",
       "    <tr>\n",
       "      <th>395</th>\n",
       "      <td>32.0</td>\n",
       "      <td>4</td>\n",
       "      <td>135.0</td>\n",
       "      <td>84.0</td>\n",
       "      <td>2295.0</td>\n",
       "      <td>11.6</td>\n",
       "      <td>82</td>\n",
       "      <td>USA</td>\n",
       "    </tr>\n",
       "    <tr>\n",
       "      <th>396</th>\n",
       "      <td>28.0</td>\n",
       "      <td>4</td>\n",
       "      <td>120.0</td>\n",
       "      <td>79.0</td>\n",
       "      <td>2625.0</td>\n",
       "      <td>18.6</td>\n",
       "      <td>82</td>\n",
       "      <td>USA</td>\n",
       "    </tr>\n",
       "    <tr>\n",
       "      <th>397</th>\n",
       "      <td>31.0</td>\n",
       "      <td>4</td>\n",
       "      <td>119.0</td>\n",
       "      <td>82.0</td>\n",
       "      <td>2720.0</td>\n",
       "      <td>19.4</td>\n",
       "      <td>82</td>\n",
       "      <td>USA</td>\n",
       "    </tr>\n",
       "  </tbody>\n",
       "</table>\n",
       "<p>392 rows × 8 columns</p>\n",
       "</div>"
      ],
      "text/plain": [
       "      MPG  Cylinders  Displacement  Horsepower  Weight  Acceleration  \\\n",
       "0    18.0          8         307.0       130.0  3504.0          12.0   \n",
       "1    15.0          8         350.0       165.0  3693.0          11.5   \n",
       "2    18.0          8         318.0       150.0  3436.0          11.0   \n",
       "3    16.0          8         304.0       150.0  3433.0          12.0   \n",
       "4    17.0          8         302.0       140.0  3449.0          10.5   \n",
       "..    ...        ...           ...         ...     ...           ...   \n",
       "393  27.0          4         140.0        86.0  2790.0          15.6   \n",
       "394  44.0          4          97.0        52.0  2130.0          24.6   \n",
       "395  32.0          4         135.0        84.0  2295.0          11.6   \n",
       "396  28.0          4         120.0        79.0  2625.0          18.6   \n",
       "397  31.0          4         119.0        82.0  2720.0          19.4   \n",
       "\n",
       "     Model Year  Origin  \n",
       "0            70     USA  \n",
       "1            70     USA  \n",
       "2            70     USA  \n",
       "3            70     USA  \n",
       "4            70     USA  \n",
       "..          ...     ...  \n",
       "393          82     USA  \n",
       "394          82  Europe  \n",
       "395          82     USA  \n",
       "396          82     USA  \n",
       "397          82     USA  \n",
       "\n",
       "[392 rows x 8 columns]"
      ]
     },
     "execution_count": 12,
     "metadata": {},
     "output_type": "execute_result"
    }
   ],
   "source": [
    "df"
   ]
  },
  {
   "cell_type": "code",
   "execution_count": 13,
   "metadata": {},
   "outputs": [
    {
     "data": {
      "text/html": [
       "<div>\n",
       "<style scoped>\n",
       "    .dataframe tbody tr th:only-of-type {\n",
       "        vertical-align: middle;\n",
       "    }\n",
       "\n",
       "    .dataframe tbody tr th {\n",
       "        vertical-align: top;\n",
       "    }\n",
       "\n",
       "    .dataframe thead th {\n",
       "        text-align: right;\n",
       "    }\n",
       "</style>\n",
       "<table border=\"1\" class=\"dataframe\">\n",
       "  <thead>\n",
       "    <tr style=\"text-align: right;\">\n",
       "      <th></th>\n",
       "      <th>MPG</th>\n",
       "      <th>Cylinders</th>\n",
       "      <th>Displacement</th>\n",
       "      <th>Horsepower</th>\n",
       "      <th>Weight</th>\n",
       "      <th>Acceleration</th>\n",
       "      <th>Model Year</th>\n",
       "      <th>Europe</th>\n",
       "      <th>Japan</th>\n",
       "      <th>USA</th>\n",
       "    </tr>\n",
       "  </thead>\n",
       "  <tbody>\n",
       "    <tr>\n",
       "      <th>393</th>\n",
       "      <td>27.0</td>\n",
       "      <td>4</td>\n",
       "      <td>140.0</td>\n",
       "      <td>86.0</td>\n",
       "      <td>2790.0</td>\n",
       "      <td>15.6</td>\n",
       "      <td>82</td>\n",
       "      <td>0</td>\n",
       "      <td>0</td>\n",
       "      <td>1</td>\n",
       "    </tr>\n",
       "    <tr>\n",
       "      <th>394</th>\n",
       "      <td>44.0</td>\n",
       "      <td>4</td>\n",
       "      <td>97.0</td>\n",
       "      <td>52.0</td>\n",
       "      <td>2130.0</td>\n",
       "      <td>24.6</td>\n",
       "      <td>82</td>\n",
       "      <td>1</td>\n",
       "      <td>0</td>\n",
       "      <td>0</td>\n",
       "    </tr>\n",
       "    <tr>\n",
       "      <th>395</th>\n",
       "      <td>32.0</td>\n",
       "      <td>4</td>\n",
       "      <td>135.0</td>\n",
       "      <td>84.0</td>\n",
       "      <td>2295.0</td>\n",
       "      <td>11.6</td>\n",
       "      <td>82</td>\n",
       "      <td>0</td>\n",
       "      <td>0</td>\n",
       "      <td>1</td>\n",
       "    </tr>\n",
       "    <tr>\n",
       "      <th>396</th>\n",
       "      <td>28.0</td>\n",
       "      <td>4</td>\n",
       "      <td>120.0</td>\n",
       "      <td>79.0</td>\n",
       "      <td>2625.0</td>\n",
       "      <td>18.6</td>\n",
       "      <td>82</td>\n",
       "      <td>0</td>\n",
       "      <td>0</td>\n",
       "      <td>1</td>\n",
       "    </tr>\n",
       "    <tr>\n",
       "      <th>397</th>\n",
       "      <td>31.0</td>\n",
       "      <td>4</td>\n",
       "      <td>119.0</td>\n",
       "      <td>82.0</td>\n",
       "      <td>2720.0</td>\n",
       "      <td>19.4</td>\n",
       "      <td>82</td>\n",
       "      <td>0</td>\n",
       "      <td>0</td>\n",
       "      <td>1</td>\n",
       "    </tr>\n",
       "  </tbody>\n",
       "</table>\n",
       "</div>"
      ],
      "text/plain": [
       "      MPG  Cylinders  Displacement  Horsepower  Weight  Acceleration  \\\n",
       "393  27.0          4         140.0        86.0  2790.0          15.6   \n",
       "394  44.0          4          97.0        52.0  2130.0          24.6   \n",
       "395  32.0          4         135.0        84.0  2295.0          11.6   \n",
       "396  28.0          4         120.0        79.0  2625.0          18.6   \n",
       "397  31.0          4         119.0        82.0  2720.0          19.4   \n",
       "\n",
       "     Model Year  Europe  Japan  USA  \n",
       "393          82       0      0    1  \n",
       "394          82       1      0    0  \n",
       "395          82       0      0    1  \n",
       "396          82       0      0    1  \n",
       "397          82       0      0    1  "
      ]
     },
     "execution_count": 13,
     "metadata": {},
     "output_type": "execute_result"
    }
   ],
   "source": [
    "df = pd.get_dummies(df, columns=['Origin'], prefix='', prefix_sep='')\n",
    "df.tail()"
   ]
  },
  {
   "cell_type": "code",
   "execution_count": 14,
   "metadata": {},
   "outputs": [],
   "source": [
    "X = df.copy()\n",
    "y = X.pop('MPG')"
   ]
  },
  {
   "cell_type": "code",
   "execution_count": 15,
   "metadata": {},
   "outputs": [
    {
     "data": {
      "text/html": [
       "<div>\n",
       "<style scoped>\n",
       "    .dataframe tbody tr th:only-of-type {\n",
       "        vertical-align: middle;\n",
       "    }\n",
       "\n",
       "    .dataframe tbody tr th {\n",
       "        vertical-align: top;\n",
       "    }\n",
       "\n",
       "    .dataframe thead th {\n",
       "        text-align: right;\n",
       "    }\n",
       "</style>\n",
       "<table border=\"1\" class=\"dataframe\">\n",
       "  <thead>\n",
       "    <tr style=\"text-align: right;\">\n",
       "      <th></th>\n",
       "      <th>Cylinders</th>\n",
       "      <th>Displacement</th>\n",
       "      <th>Horsepower</th>\n",
       "      <th>Weight</th>\n",
       "      <th>Acceleration</th>\n",
       "      <th>Model Year</th>\n",
       "      <th>Europe</th>\n",
       "      <th>Japan</th>\n",
       "      <th>USA</th>\n",
       "    </tr>\n",
       "  </thead>\n",
       "  <tbody>\n",
       "    <tr>\n",
       "      <th>0</th>\n",
       "      <td>8</td>\n",
       "      <td>307.0</td>\n",
       "      <td>130.0</td>\n",
       "      <td>3504.0</td>\n",
       "      <td>12.0</td>\n",
       "      <td>70</td>\n",
       "      <td>0</td>\n",
       "      <td>0</td>\n",
       "      <td>1</td>\n",
       "    </tr>\n",
       "    <tr>\n",
       "      <th>1</th>\n",
       "      <td>8</td>\n",
       "      <td>350.0</td>\n",
       "      <td>165.0</td>\n",
       "      <td>3693.0</td>\n",
       "      <td>11.5</td>\n",
       "      <td>70</td>\n",
       "      <td>0</td>\n",
       "      <td>0</td>\n",
       "      <td>1</td>\n",
       "    </tr>\n",
       "    <tr>\n",
       "      <th>2</th>\n",
       "      <td>8</td>\n",
       "      <td>318.0</td>\n",
       "      <td>150.0</td>\n",
       "      <td>3436.0</td>\n",
       "      <td>11.0</td>\n",
       "      <td>70</td>\n",
       "      <td>0</td>\n",
       "      <td>0</td>\n",
       "      <td>1</td>\n",
       "    </tr>\n",
       "    <tr>\n",
       "      <th>3</th>\n",
       "      <td>8</td>\n",
       "      <td>304.0</td>\n",
       "      <td>150.0</td>\n",
       "      <td>3433.0</td>\n",
       "      <td>12.0</td>\n",
       "      <td>70</td>\n",
       "      <td>0</td>\n",
       "      <td>0</td>\n",
       "      <td>1</td>\n",
       "    </tr>\n",
       "    <tr>\n",
       "      <th>4</th>\n",
       "      <td>8</td>\n",
       "      <td>302.0</td>\n",
       "      <td>140.0</td>\n",
       "      <td>3449.0</td>\n",
       "      <td>10.5</td>\n",
       "      <td>70</td>\n",
       "      <td>0</td>\n",
       "      <td>0</td>\n",
       "      <td>1</td>\n",
       "    </tr>\n",
       "    <tr>\n",
       "      <th>...</th>\n",
       "      <td>...</td>\n",
       "      <td>...</td>\n",
       "      <td>...</td>\n",
       "      <td>...</td>\n",
       "      <td>...</td>\n",
       "      <td>...</td>\n",
       "      <td>...</td>\n",
       "      <td>...</td>\n",
       "      <td>...</td>\n",
       "    </tr>\n",
       "    <tr>\n",
       "      <th>393</th>\n",
       "      <td>4</td>\n",
       "      <td>140.0</td>\n",
       "      <td>86.0</td>\n",
       "      <td>2790.0</td>\n",
       "      <td>15.6</td>\n",
       "      <td>82</td>\n",
       "      <td>0</td>\n",
       "      <td>0</td>\n",
       "      <td>1</td>\n",
       "    </tr>\n",
       "    <tr>\n",
       "      <th>394</th>\n",
       "      <td>4</td>\n",
       "      <td>97.0</td>\n",
       "      <td>52.0</td>\n",
       "      <td>2130.0</td>\n",
       "      <td>24.6</td>\n",
       "      <td>82</td>\n",
       "      <td>1</td>\n",
       "      <td>0</td>\n",
       "      <td>0</td>\n",
       "    </tr>\n",
       "    <tr>\n",
       "      <th>395</th>\n",
       "      <td>4</td>\n",
       "      <td>135.0</td>\n",
       "      <td>84.0</td>\n",
       "      <td>2295.0</td>\n",
       "      <td>11.6</td>\n",
       "      <td>82</td>\n",
       "      <td>0</td>\n",
       "      <td>0</td>\n",
       "      <td>1</td>\n",
       "    </tr>\n",
       "    <tr>\n",
       "      <th>396</th>\n",
       "      <td>4</td>\n",
       "      <td>120.0</td>\n",
       "      <td>79.0</td>\n",
       "      <td>2625.0</td>\n",
       "      <td>18.6</td>\n",
       "      <td>82</td>\n",
       "      <td>0</td>\n",
       "      <td>0</td>\n",
       "      <td>1</td>\n",
       "    </tr>\n",
       "    <tr>\n",
       "      <th>397</th>\n",
       "      <td>4</td>\n",
       "      <td>119.0</td>\n",
       "      <td>82.0</td>\n",
       "      <td>2720.0</td>\n",
       "      <td>19.4</td>\n",
       "      <td>82</td>\n",
       "      <td>0</td>\n",
       "      <td>0</td>\n",
       "      <td>1</td>\n",
       "    </tr>\n",
       "  </tbody>\n",
       "</table>\n",
       "<p>392 rows × 9 columns</p>\n",
       "</div>"
      ],
      "text/plain": [
       "     Cylinders  Displacement  Horsepower  Weight  Acceleration  Model Year  \\\n",
       "0            8         307.0       130.0  3504.0          12.0          70   \n",
       "1            8         350.0       165.0  3693.0          11.5          70   \n",
       "2            8         318.0       150.0  3436.0          11.0          70   \n",
       "3            8         304.0       150.0  3433.0          12.0          70   \n",
       "4            8         302.0       140.0  3449.0          10.5          70   \n",
       "..         ...           ...         ...     ...           ...         ...   \n",
       "393          4         140.0        86.0  2790.0          15.6          82   \n",
       "394          4          97.0        52.0  2130.0          24.6          82   \n",
       "395          4         135.0        84.0  2295.0          11.6          82   \n",
       "396          4         120.0        79.0  2625.0          18.6          82   \n",
       "397          4         119.0        82.0  2720.0          19.4          82   \n",
       "\n",
       "     Europe  Japan  USA  \n",
       "0         0      0    1  \n",
       "1         0      0    1  \n",
       "2         0      0    1  \n",
       "3         0      0    1  \n",
       "4         0      0    1  \n",
       "..      ...    ...  ...  \n",
       "393       0      0    1  \n",
       "394       1      0    0  \n",
       "395       0      0    1  \n",
       "396       0      0    1  \n",
       "397       0      0    1  \n",
       "\n",
       "[392 rows x 9 columns]"
      ]
     },
     "execution_count": 15,
     "metadata": {},
     "output_type": "execute_result"
    }
   ],
   "source": [
    "X"
   ]
  },
  {
   "cell_type": "code",
   "execution_count": 16,
   "metadata": {},
   "outputs": [
    {
     "data": {
      "text/plain": [
       "0      18.0\n",
       "1      15.0\n",
       "2      18.0\n",
       "3      16.0\n",
       "4      17.0\n",
       "       ... \n",
       "393    27.0\n",
       "394    44.0\n",
       "395    32.0\n",
       "396    28.0\n",
       "397    31.0\n",
       "Name: MPG, Length: 392, dtype: float64"
      ]
     },
     "execution_count": 16,
     "metadata": {},
     "output_type": "execute_result"
    }
   ],
   "source": [
    "y"
   ]
  },
  {
   "cell_type": "code",
   "execution_count": 17,
   "metadata": {},
   "outputs": [],
   "source": [
    "from sklearn.model_selection import train_test_split\n",
    "\n",
    "X_train_val, X_test, y_train_val, y_test = train_test_split(X, y, test_size=0.2, random_state=1)\n",
    "X_train, X_val, y_train, y_val = train_test_split(X_train_val, y_train_val, test_size=0.2, random_state=1)"
   ]
  },
  {
   "cell_type": "code",
   "execution_count": 18,
   "metadata": {},
   "outputs": [
    {
     "data": {
      "text/html": [
       "<div>\n",
       "<style scoped>\n",
       "    .dataframe tbody tr th:only-of-type {\n",
       "        vertical-align: middle;\n",
       "    }\n",
       "\n",
       "    .dataframe tbody tr th {\n",
       "        vertical-align: top;\n",
       "    }\n",
       "\n",
       "    .dataframe thead th {\n",
       "        text-align: right;\n",
       "    }\n",
       "</style>\n",
       "<table border=\"1\" class=\"dataframe\">\n",
       "  <thead>\n",
       "    <tr style=\"text-align: right;\">\n",
       "      <th></th>\n",
       "      <th>MPG</th>\n",
       "      <th>Cylinders</th>\n",
       "      <th>Displacement</th>\n",
       "      <th>Weight</th>\n",
       "    </tr>\n",
       "  </thead>\n",
       "  <tbody>\n",
       "    <tr>\n",
       "      <th>0</th>\n",
       "      <td>18.0</td>\n",
       "      <td>8</td>\n",
       "      <td>307.0</td>\n",
       "      <td>3504.0</td>\n",
       "    </tr>\n",
       "    <tr>\n",
       "      <th>1</th>\n",
       "      <td>15.0</td>\n",
       "      <td>8</td>\n",
       "      <td>350.0</td>\n",
       "      <td>3693.0</td>\n",
       "    </tr>\n",
       "    <tr>\n",
       "      <th>2</th>\n",
       "      <td>18.0</td>\n",
       "      <td>8</td>\n",
       "      <td>318.0</td>\n",
       "      <td>3436.0</td>\n",
       "    </tr>\n",
       "    <tr>\n",
       "      <th>3</th>\n",
       "      <td>16.0</td>\n",
       "      <td>8</td>\n",
       "      <td>304.0</td>\n",
       "      <td>3433.0</td>\n",
       "    </tr>\n",
       "    <tr>\n",
       "      <th>4</th>\n",
       "      <td>17.0</td>\n",
       "      <td>8</td>\n",
       "      <td>302.0</td>\n",
       "      <td>3449.0</td>\n",
       "    </tr>\n",
       "    <tr>\n",
       "      <th>...</th>\n",
       "      <td>...</td>\n",
       "      <td>...</td>\n",
       "      <td>...</td>\n",
       "      <td>...</td>\n",
       "    </tr>\n",
       "    <tr>\n",
       "      <th>393</th>\n",
       "      <td>27.0</td>\n",
       "      <td>4</td>\n",
       "      <td>140.0</td>\n",
       "      <td>2790.0</td>\n",
       "    </tr>\n",
       "    <tr>\n",
       "      <th>394</th>\n",
       "      <td>44.0</td>\n",
       "      <td>4</td>\n",
       "      <td>97.0</td>\n",
       "      <td>2130.0</td>\n",
       "    </tr>\n",
       "    <tr>\n",
       "      <th>395</th>\n",
       "      <td>32.0</td>\n",
       "      <td>4</td>\n",
       "      <td>135.0</td>\n",
       "      <td>2295.0</td>\n",
       "    </tr>\n",
       "    <tr>\n",
       "      <th>396</th>\n",
       "      <td>28.0</td>\n",
       "      <td>4</td>\n",
       "      <td>120.0</td>\n",
       "      <td>2625.0</td>\n",
       "    </tr>\n",
       "    <tr>\n",
       "      <th>397</th>\n",
       "      <td>31.0</td>\n",
       "      <td>4</td>\n",
       "      <td>119.0</td>\n",
       "      <td>2720.0</td>\n",
       "    </tr>\n",
       "  </tbody>\n",
       "</table>\n",
       "<p>392 rows × 4 columns</p>\n",
       "</div>"
      ],
      "text/plain": [
       "      MPG  Cylinders  Displacement  Weight\n",
       "0    18.0          8         307.0  3504.0\n",
       "1    15.0          8         350.0  3693.0\n",
       "2    18.0          8         318.0  3436.0\n",
       "3    16.0          8         304.0  3433.0\n",
       "4    17.0          8         302.0  3449.0\n",
       "..    ...        ...           ...     ...\n",
       "393  27.0          4         140.0  2790.0\n",
       "394  44.0          4          97.0  2130.0\n",
       "395  32.0          4         135.0  2295.0\n",
       "396  28.0          4         120.0  2625.0\n",
       "397  31.0          4         119.0  2720.0\n",
       "\n",
       "[392 rows x 4 columns]"
      ]
     },
     "execution_count": 18,
     "metadata": {},
     "output_type": "execute_result"
    }
   ],
   "source": [
    "df[['MPG', 'Cylinders', 'Displacement', 'Weight']]"
   ]
  },
  {
   "cell_type": "code",
   "execution_count": 19,
   "metadata": {
    "scrolled": false
   },
   "outputs": [
    {
     "data": {
      "text/plain": [
       "<seaborn.axisgrid.PairGrid at 0x19586b06820>"
      ]
     },
     "execution_count": 19,
     "metadata": {},
     "output_type": "execute_result"
    },
    {
     "data": {
      "image/png": "[encoded data removed]",
      "text/plain": [
       "<Figure size 1000x1000 with 20 Axes>"
      ]
     },
     "metadata": {},
     "output_type": "display_data"
    }
   ],
   "source": [
    "sns.pairplot(df[['MPG', 'Cylinders', 'Displacement', 'Weight']], diag_kind='kde')"
   ]
  },
  {
   "cell_type": "code",
   "execution_count": 20,
   "metadata": {},
   "outputs": [
    {
     "data": {
      "text/html": [
       "<div>\n",
       "<style scoped>\n",
       "    .dataframe tbody tr th:only-of-type {\n",
       "        vertical-align: middle;\n",
       "    }\n",
       "\n",
       "    .dataframe tbody tr th {\n",
       "        vertical-align: top;\n",
       "    }\n",
       "\n",
       "    .dataframe thead th {\n",
       "        text-align: right;\n",
       "    }\n",
       "</style>\n",
       "<table border=\"1\" class=\"dataframe\">\n",
       "  <thead>\n",
       "    <tr style=\"text-align: right;\">\n",
       "      <th></th>\n",
       "      <th>count</th>\n",
       "      <th>mean</th>\n",
       "      <th>std</th>\n",
       "      <th>min</th>\n",
       "      <th>25%</th>\n",
       "      <th>50%</th>\n",
       "      <th>75%</th>\n",
       "      <th>max</th>\n",
       "    </tr>\n",
       "  </thead>\n",
       "  <tbody>\n",
       "    <tr>\n",
       "      <th>Cylinders</th>\n",
       "      <td>392.0</td>\n",
       "      <td>5.47</td>\n",
       "      <td>1.71</td>\n",
       "      <td>3.0</td>\n",
       "      <td>4.00</td>\n",
       "      <td>4.0</td>\n",
       "      <td>8.00</td>\n",
       "      <td>8.0</td>\n",
       "    </tr>\n",
       "    <tr>\n",
       "      <th>Displacement</th>\n",
       "      <td>392.0</td>\n",
       "      <td>194.41</td>\n",
       "      <td>104.64</td>\n",
       "      <td>68.0</td>\n",
       "      <td>105.00</td>\n",
       "      <td>151.0</td>\n",
       "      <td>275.75</td>\n",
       "      <td>455.0</td>\n",
       "    </tr>\n",
       "    <tr>\n",
       "      <th>Horsepower</th>\n",
       "      <td>392.0</td>\n",
       "      <td>104.47</td>\n",
       "      <td>38.49</td>\n",
       "      <td>46.0</td>\n",
       "      <td>75.00</td>\n",
       "      <td>93.5</td>\n",
       "      <td>126.00</td>\n",
       "      <td>230.0</td>\n",
       "    </tr>\n",
       "    <tr>\n",
       "      <th>Weight</th>\n",
       "      <td>392.0</td>\n",
       "      <td>2977.58</td>\n",
       "      <td>849.40</td>\n",
       "      <td>1613.0</td>\n",
       "      <td>2225.25</td>\n",
       "      <td>2803.5</td>\n",
       "      <td>3614.75</td>\n",
       "      <td>5140.0</td>\n",
       "    </tr>\n",
       "    <tr>\n",
       "      <th>Acceleration</th>\n",
       "      <td>392.0</td>\n",
       "      <td>15.54</td>\n",
       "      <td>2.76</td>\n",
       "      <td>8.0</td>\n",
       "      <td>13.78</td>\n",
       "      <td>15.5</td>\n",
       "      <td>17.02</td>\n",
       "      <td>24.8</td>\n",
       "    </tr>\n",
       "    <tr>\n",
       "      <th>Model Year</th>\n",
       "      <td>392.0</td>\n",
       "      <td>75.98</td>\n",
       "      <td>3.68</td>\n",
       "      <td>70.0</td>\n",
       "      <td>73.00</td>\n",
       "      <td>76.0</td>\n",
       "      <td>79.00</td>\n",
       "      <td>82.0</td>\n",
       "    </tr>\n",
       "    <tr>\n",
       "      <th>Europe</th>\n",
       "      <td>392.0</td>\n",
       "      <td>0.17</td>\n",
       "      <td>0.38</td>\n",
       "      <td>0.0</td>\n",
       "      <td>0.00</td>\n",
       "      <td>0.0</td>\n",
       "      <td>0.00</td>\n",
       "      <td>1.0</td>\n",
       "    </tr>\n",
       "    <tr>\n",
       "      <th>Japan</th>\n",
       "      <td>392.0</td>\n",
       "      <td>0.20</td>\n",
       "      <td>0.40</td>\n",
       "      <td>0.0</td>\n",
       "      <td>0.00</td>\n",
       "      <td>0.0</td>\n",
       "      <td>0.00</td>\n",
       "      <td>1.0</td>\n",
       "    </tr>\n",
       "    <tr>\n",
       "      <th>USA</th>\n",
       "      <td>392.0</td>\n",
       "      <td>0.62</td>\n",
       "      <td>0.48</td>\n",
       "      <td>0.0</td>\n",
       "      <td>0.00</td>\n",
       "      <td>1.0</td>\n",
       "      <td>1.00</td>\n",
       "      <td>1.0</td>\n",
       "    </tr>\n",
       "  </tbody>\n",
       "</table>\n",
       "</div>"
      ],
      "text/plain": [
       "              count     mean     std     min      25%     50%      75%     max\n",
       "Cylinders     392.0     5.47    1.71     3.0     4.00     4.0     8.00     8.0\n",
       "Displacement  392.0   194.41  104.64    68.0   105.00   151.0   275.75   455.0\n",
       "Horsepower    392.0   104.47   38.49    46.0    75.00    93.5   126.00   230.0\n",
       "Weight        392.0  2977.58  849.40  1613.0  2225.25  2803.5  3614.75  5140.0\n",
       "Acceleration  392.0    15.54    2.76     8.0    13.78    15.5    17.02    24.8\n",
       "Model Year    392.0    75.98    3.68    70.0    73.00    76.0    79.00    82.0\n",
       "Europe        392.0     0.17    0.38     0.0     0.00     0.0     0.00     1.0\n",
       "Japan         392.0     0.20    0.40     0.0     0.00     0.0     0.00     1.0\n",
       "USA           392.0     0.62    0.48     0.0     0.00     1.0     1.00     1.0"
      ]
     },
     "execution_count": 20,
     "metadata": {},
     "output_type": "execute_result"
    }
   ],
   "source": [
    "X.describe().round(2).T"
   ]
  },
  {
   "cell_type": "markdown",
   "metadata": {},
   "source": [
    "Нормировка"
   ]
  },
  {
   "cell_type": "code",
   "execution_count": 21,
   "metadata": {},
   "outputs": [
    {
     "data": {
      "text/html": [
       "<div>\n",
       "<style scoped>\n",
       "    .dataframe tbody tr th:only-of-type {\n",
       "        vertical-align: middle;\n",
       "    }\n",
       "\n",
       "    .dataframe tbody tr th {\n",
       "        vertical-align: top;\n",
       "    }\n",
       "\n",
       "    .dataframe thead th {\n",
       "        text-align: right;\n",
       "    }\n",
       "</style>\n",
       "<table border=\"1\" class=\"dataframe\">\n",
       "  <thead>\n",
       "    <tr style=\"text-align: right;\">\n",
       "      <th></th>\n",
       "      <th>mean</th>\n",
       "      <th>std</th>\n",
       "    </tr>\n",
       "  </thead>\n",
       "  <tbody>\n",
       "    <tr>\n",
       "      <th>Cylinders</th>\n",
       "      <td>5.471939</td>\n",
       "      <td>1.705783</td>\n",
       "    </tr>\n",
       "    <tr>\n",
       "      <th>Displacement</th>\n",
       "      <td>194.411990</td>\n",
       "      <td>104.644004</td>\n",
       "    </tr>\n",
       "    <tr>\n",
       "      <th>Horsepower</th>\n",
       "      <td>104.469388</td>\n",
       "      <td>38.491160</td>\n",
       "    </tr>\n",
       "    <tr>\n",
       "      <th>Weight</th>\n",
       "      <td>2977.584184</td>\n",
       "      <td>849.402560</td>\n",
       "    </tr>\n",
       "    <tr>\n",
       "      <th>Acceleration</th>\n",
       "      <td>15.541327</td>\n",
       "      <td>2.758864</td>\n",
       "    </tr>\n",
       "    <tr>\n",
       "      <th>Model Year</th>\n",
       "      <td>75.979592</td>\n",
       "      <td>3.683737</td>\n",
       "    </tr>\n",
       "    <tr>\n",
       "      <th>Europe</th>\n",
       "      <td>0.173469</td>\n",
       "      <td>0.379136</td>\n",
       "    </tr>\n",
       "    <tr>\n",
       "      <th>Japan</th>\n",
       "      <td>0.201531</td>\n",
       "      <td>0.401656</td>\n",
       "    </tr>\n",
       "    <tr>\n",
       "      <th>USA</th>\n",
       "      <td>0.625000</td>\n",
       "      <td>0.484742</td>\n",
       "    </tr>\n",
       "  </tbody>\n",
       "</table>\n",
       "</div>"
      ],
      "text/plain": [
       "                     mean         std\n",
       "Cylinders        5.471939    1.705783\n",
       "Displacement   194.411990  104.644004\n",
       "Horsepower     104.469388   38.491160\n",
       "Weight        2977.584184  849.402560\n",
       "Acceleration    15.541327    2.758864\n",
       "Model Year      75.979592    3.683737\n",
       "Europe           0.173469    0.379136\n",
       "Japan            0.201531    0.401656\n",
       "USA              0.625000    0.484742"
      ]
     },
     "execution_count": 21,
     "metadata": {},
     "output_type": "execute_result"
    }
   ],
   "source": [
    "X.describe().transpose()[['mean', 'std']]"
   ]
  },
  {
   "cell_type": "code",
   "execution_count": 22,
   "metadata": {},
   "outputs": [],
   "source": [
    "normalizer = tf.keras.layers.Normalization(axis=-1)"
   ]
  },
  {
   "cell_type": "code",
   "execution_count": 23,
   "metadata": {},
   "outputs": [],
   "source": [
    "normalizer.adapt(np.array(X))"
   ]
  },
  {
   "cell_type": "code",
   "execution_count": 24,
   "metadata": {},
   "outputs": [
    {
     "name": "stdout",
     "output_type": "stream",
     "text": [
      "[[   5.472  194.412  104.469 2977.584   15.541   75.98     0.173    0.202\n",
      "     0.625]]\n"
     ]
    }
   ],
   "source": [
    "print(normalizer.mean.numpy())"
   ]
  },
  {
   "cell_type": "code",
   "execution_count": 25,
   "metadata": {
    "scrolled": true
   },
   "outputs": [
    {
     "name": "stdout",
     "output_type": "stream",
     "text": [
      "Первый пример: [[   8.  307.  130. 3504.   12.   70.    0.    0.    1.]]\n",
      "\n",
      "Нормализованный: [[ 1.48  1.08  0.66  0.62 -1.29 -1.63 -0.46 -0.5   0.77]]\n"
     ]
    }
   ],
   "source": [
    "first = np.array(X[:1])\n",
    "\n",
    "with np.printoptions(precision=2):\n",
    "    print('Первый пример:', first)\n",
    "    print()\n",
    "    print('Нормализованный:', normalizer(first).numpy())"
   ]
  },
  {
   "cell_type": "markdown",
   "metadata": {},
   "source": [
    "#### Построение линейной модели от лошадиных сил"
   ]
  },
  {
   "cell_type": "code",
   "execution_count": 26,
   "metadata": {},
   "outputs": [],
   "source": [
    "horsepower = np.array(X_train['Horsepower'])\n",
    "\n",
    "horsepower_normalizer = layers.Normalization(input_shape=[1,], axis=None)\n",
    "horsepower_normalizer.adapt(np.array(X['Horsepower']))"
   ]
  },
  {
   "cell_type": "code",
   "execution_count": 27,
   "metadata": {},
   "outputs": [
    {
     "data": {
      "text/plain": [
       "338     84.0\n",
       "189    120.0\n",
       "100     88.0\n",
       "52      76.0\n",
       "49      86.0\n",
       "       ...  \n",
       "150     93.0\n",
       "155     72.0\n",
       "71      97.0\n",
       "75     150.0\n",
       "165    110.0\n",
       "Name: Horsepower, Length: 250, dtype: float64"
      ]
     },
     "execution_count": 27,
     "metadata": {},
     "output_type": "execute_result"
    }
   ],
   "source": [
    "X_train['Horsepower']"
   ]
  },
  {
   "cell_type": "code",
   "execution_count": 28,
   "metadata": {},
   "outputs": [
    {
     "data": {
      "text/plain": [
       "array([ 84., 120.,  88.,  76.,  86., 105., 153.,  53., 100., 150.,  96.,\n",
       "       140.,  96.,  88.,  64.,  75., 110., 105., 150., 140., 225.,  98.,\n",
       "        75.,  88.,  78.,  70., 140., 170., 175.,  71., 158.,  95., 100.,\n",
       "        70.,  86.,  94.,  90.,  71., 150.,  85.,  88.,  70.,  80., 110.,\n",
       "        85., 210.,  90.,  86., 145.,  65.,  65.,  96.,  88.,  90.,  53.,\n",
       "        70.,  90.,  52., 170.,  85.,  63., 139.,  80.,  83.,  75.,  90.,\n",
       "        70.,  52.,  65.,  95.,  76.,  91., 152.,  95., 105.,  68., 150.,\n",
       "        88., 107.,  61.,  85.,  97., 102., 116.,  84., 110., 112.,  80.,\n",
       "        88.,  88.,  82.,  88., 100., 180., 150., 133.,  75., 215., 208.,\n",
       "        63., 193.,  90., 150.,  90., 110., 105., 149.,  85.,  60.,  60.,\n",
       "        90.,  75.,  48.,  95., 200.,  77.,  70.,  67.,  68.,  88., 105.,\n",
       "        92., 100.,  88., 120.,  75., 100.,  81.,  80., 110.,  87., 148.,\n",
       "       140.,  90., 108.,  65., 150.,  92.,  92.,  88., 145., 145.,  67.,\n",
       "        46., 165.,  70., 110.,  67., 100.,  81., 130.,  46., 180.,  95.,\n",
       "        88., 150., 120.,  78.,  90.,  67., 155.,  90.,  69., 105., 225.,\n",
       "        97., 100.,  75.,  70.,  95., 115.,  83., 129.,  70.,  90., 110.,\n",
       "        72.,  60.,  58.,  63.,  67.,  95., 100.,  90.,  75.,  85.,  54.,\n",
       "        88.,  95.,  89., 142.,  86., 150.,  97.,  97.,  78., 132.,  49.,\n",
       "       150.,  69., 165., 167.,  60., 145.,  72., 129.,  65.,  75., 110.,\n",
       "       190., 198., 175.,  68.,  75., 125.,  65.,  97.,  65., 105.,  95.,\n",
       "        90., 110.,  87.,  92., 105., 110.,  72.,  67.,  72., 103.,  67.,\n",
       "        74., 130.,  65., 110.,  95., 170., 230.,  95.,  90., 110.,  71.,\n",
       "       150.,  48., 145.,  93.,  72.,  97., 150., 110.])"
      ]
     },
     "execution_count": 28,
     "metadata": {},
     "output_type": "execute_result"
    }
   ],
   "source": [
    "horsepower"
   ]
  },
  {
   "cell_type": "code",
   "execution_count": 29,
   "metadata": {},
   "outputs": [
    {
     "name": "stdout",
     "output_type": "stream",
     "text": [
      "Model: \"sequential\"\n",
      "_________________________________________________________________\n",
      " Layer (type)                Output Shape              Param #   \n",
      "=================================================================\n",
      " normalization_1 (Normalizat  (None, 1)                3         \n",
      " ion)                                                            \n",
      "                                                                 \n",
      " dense (Dense)               (None, 1)                 2         \n",
      "                                                                 \n",
      "=================================================================\n",
      "Total params: 5\n",
      "Trainable params: 2\n",
      "Non-trainable params: 3\n",
      "_________________________________________________________________\n"
     ]
    }
   ],
   "source": [
    "horsepower_model = tf.keras.Sequential([\n",
    "    horsepower_normalizer,\n",
    "    layers.Dense(units=1)\n",
    "])\n",
    "\n",
    "horsepower_model.summary()"
   ]
  },
  {
   "cell_type": "code",
   "execution_count": 30,
   "metadata": {},
   "outputs": [
    {
     "data": {
      "text/plain": [
       "array([ 84., 120.,  88.,  76.,  86., 105., 153.,  53., 100., 150.])"
      ]
     },
     "execution_count": 30,
     "metadata": {},
     "output_type": "execute_result"
    }
   ],
   "source": [
    "horsepower[:10]"
   ]
  },
  {
   "cell_type": "code",
   "execution_count": 31,
   "metadata": {},
   "outputs": [
    {
     "name": "stdout",
     "output_type": "stream",
     "text": [
      "1/1 [==============================] - 0s 58ms/step\n"
     ]
    },
    {
     "data": {
      "text/plain": [
       "array([[-0.004],\n",
       "       [ 0.003],\n",
       "       [-0.004],\n",
       "       [-0.006],\n",
       "       [-0.004],\n",
       "       [ 0.   ],\n",
       "       [ 0.011],\n",
       "       [-0.011],\n",
       "       [-0.001],\n",
       "       [ 0.01 ]], dtype=float32)"
      ]
     },
     "execution_count": 31,
     "metadata": {},
     "output_type": "execute_result"
    }
   ],
   "source": [
    "horsepower_model.predict(horsepower[:10])"
   ]
  },
  {
   "cell_type": "code",
   "execution_count": 32,
   "metadata": {},
   "outputs": [
    {
     "data": {
      "text/plain": [
       "array([27.2, 15.5, 18. , 30. , 23. , 23.2, 14. , 33. , 19. , 13. ])"
      ]
     },
     "execution_count": 32,
     "metadata": {},
     "output_type": "execute_result"
    }
   ],
   "source": [
    "y_train.values[:10]"
   ]
  },
  {
   "cell_type": "code",
   "execution_count": 33,
   "metadata": {},
   "outputs": [],
   "source": [
    "horsepower_model.compile(\n",
    "    optimizer=tf.optimizers.Adam(learning_rate=0.1),\n",
    "    loss='mean_absolute_error')"
   ]
  },
  {
   "cell_type": "code",
   "execution_count": 34,
   "metadata": {
    "scrolled": true
   },
   "outputs": [
    {
     "name": "stdout",
     "output_type": "stream",
     "text": [
      "Epoch 1/100\n",
      "7/7 [==============================] - 0s 20ms/step - loss: 23.4433 - val_loss: 22.2166\n",
      "Epoch 2/100\n",
      "7/7 [==============================] - 0s 4ms/step - loss: 22.7028 - val_loss: 21.5410\n",
      "Epoch 3/100\n",
      "7/7 [==============================] - 0s 4ms/step - loss: 21.9607 - val_loss: 20.8476\n",
      "Epoch 4/100\n",
      "7/7 [==============================] - 0s 5ms/step - loss: 21.2411 - val_loss: 20.1594\n",
      "Epoch 5/100\n",
      "7/7 [==============================] - 0s 5ms/step - loss: 20.5162 - val_loss: 19.4773\n",
      "Epoch 6/100\n",
      "7/7 [==============================] - 0s 5ms/step - loss: 19.7759 - val_loss: 18.7923\n",
      "Epoch 7/100\n",
      "7/7 [==============================] - 0s 4ms/step - loss: 19.0443 - val_loss: 18.1104\n",
      "Epoch 8/100\n",
      "7/7 [==============================] - 0s 4ms/step - loss: 18.3150 - val_loss: 17.4319\n",
      "Epoch 9/100\n",
      "7/7 [==============================] - 0s 4ms/step - loss: 17.5586 - val_loss: 16.7528\n",
      "Epoch 10/100\n",
      "7/7 [==============================] - 0s 5ms/step - loss: 16.8249 - val_loss: 16.0742\n",
      "Epoch 11/100\n",
      "7/7 [==============================] - 0s 5ms/step - loss: 16.0904 - val_loss: 15.3909\n",
      "Epoch 12/100\n",
      "7/7 [==============================] - 0s 4ms/step - loss: 15.3476 - val_loss: 14.7048\n",
      "Epoch 13/100\n",
      "7/7 [==============================] - 0s 4ms/step - loss: 14.6198 - val_loss: 14.0167\n",
      "Epoch 14/100\n",
      "7/7 [==============================] - 0s 5ms/step - loss: 13.9001 - val_loss: 13.3362\n",
      "Epoch 15/100\n",
      "7/7 [==============================] - 0s 5ms/step - loss: 13.1492 - val_loss: 12.6538\n",
      "Epoch 16/100\n",
      "7/7 [==============================] - 0s 4ms/step - loss: 12.4121 - val_loss: 11.9919\n",
      "Epoch 17/100\n",
      "7/7 [==============================] - 0s 4ms/step - loss: 11.6777 - val_loss: 11.3567\n",
      "Epoch 18/100\n",
      "7/7 [==============================] - 0s 4ms/step - loss: 10.9534 - val_loss: 10.7204\n",
      "Epoch 19/100\n",
      "7/7 [==============================] - 0s 4ms/step - loss: 10.2313 - val_loss: 10.0868\n",
      "Epoch 20/100\n",
      "7/7 [==============================] - 0s 4ms/step - loss: 9.5125 - val_loss: 9.4384\n",
      "Epoch 21/100\n",
      "7/7 [==============================] - 0s 4ms/step - loss: 8.8069 - val_loss: 8.8074\n",
      "Epoch 22/100\n",
      "7/7 [==============================] - 0s 4ms/step - loss: 8.1517 - val_loss: 8.1905\n",
      "Epoch 23/100\n",
      "7/7 [==============================] - 0s 4ms/step - loss: 7.4996 - val_loss: 7.6038\n",
      "Epoch 24/100\n",
      "7/7 [==============================] - 0s 4ms/step - loss: 6.9302 - val_loss: 7.0827\n",
      "Epoch 25/100\n",
      "7/7 [==============================] - 0s 4ms/step - loss: 6.4064 - val_loss: 6.5982\n",
      "Epoch 26/100\n",
      "7/7 [==============================] - 0s 5ms/step - loss: 5.9416 - val_loss: 6.1613\n",
      "Epoch 27/100\n",
      "7/7 [==============================] - 0s 5ms/step - loss: 5.5322 - val_loss: 5.7737\n",
      "Epoch 28/100\n",
      "7/7 [==============================] - 0s 4ms/step - loss: 5.1832 - val_loss: 5.4433\n",
      "Epoch 29/100\n",
      "7/7 [==============================] - 0s 4ms/step - loss: 4.8863 - val_loss: 5.1231\n",
      "Epoch 30/100\n",
      "7/7 [==============================] - 0s 5ms/step - loss: 4.6220 - val_loss: 4.8683\n",
      "Epoch 31/100\n",
      "7/7 [==============================] - 0s 5ms/step - loss: 4.3984 - val_loss: 4.6708\n",
      "Epoch 32/100\n",
      "7/7 [==============================] - 0s 4ms/step - loss: 4.2061 - val_loss: 4.4861\n",
      "Epoch 33/100\n",
      "7/7 [==============================] - 0s 4ms/step - loss: 4.0288 - val_loss: 4.3307\n",
      "Epoch 34/100\n",
      "7/7 [==============================] - 0s 4ms/step - loss: 3.9242 - val_loss: 4.2361\n",
      "Epoch 35/100\n",
      "7/7 [==============================] - 0s 4ms/step - loss: 3.8623 - val_loss: 4.1944\n",
      "Epoch 36/100\n",
      "7/7 [==============================] - 0s 4ms/step - loss: 3.8300 - val_loss: 4.1470\n",
      "Epoch 37/100\n",
      "7/7 [==============================] - 0s 4ms/step - loss: 3.7914 - val_loss: 4.1078\n",
      "Epoch 38/100\n",
      "7/7 [==============================] - 0s 5ms/step - loss: 3.7616 - val_loss: 4.0814\n",
      "Epoch 39/100\n",
      "7/7 [==============================] - 0s 4ms/step - loss: 3.7556 - val_loss: 4.0534\n",
      "Epoch 40/100\n",
      "7/7 [==============================] - 0s 4ms/step - loss: 3.7365 - val_loss: 4.0421\n",
      "Epoch 41/100\n",
      "7/7 [==============================] - 0s 4ms/step - loss: 3.7306 - val_loss: 4.0426\n",
      "Epoch 42/100\n",
      "7/7 [==============================] - 0s 4ms/step - loss: 3.7237 - val_loss: 4.0326\n",
      "Epoch 43/100\n",
      "7/7 [==============================] - 0s 4ms/step - loss: 3.7157 - val_loss: 4.0293\n",
      "Epoch 44/100\n",
      "7/7 [==============================] - 0s 4ms/step - loss: 3.7102 - val_loss: 4.0247\n",
      "Epoch 45/100\n",
      "7/7 [==============================] - 0s 4ms/step - loss: 3.7080 - val_loss: 4.0187\n",
      "Epoch 46/100\n",
      "7/7 [==============================] - 0s 4ms/step - loss: 3.7057 - val_loss: 4.0195\n",
      "Epoch 47/100\n",
      "7/7 [==============================] - 0s 4ms/step - loss: 3.7050 - val_loss: 4.0184\n",
      "Epoch 48/100\n",
      "7/7 [==============================] - 0s 4ms/step - loss: 3.7035 - val_loss: 4.0169\n",
      "Epoch 49/100\n",
      "7/7 [==============================] - 0s 4ms/step - loss: 3.7022 - val_loss: 4.0183\n",
      "Epoch 50/100\n",
      "7/7 [==============================] - 0s 4ms/step - loss: 3.7016 - val_loss: 4.0210\n",
      "Epoch 51/100\n",
      "7/7 [==============================] - 0s 4ms/step - loss: 3.6998 - val_loss: 4.0218\n",
      "Epoch 52/100\n",
      "7/7 [==============================] - 0s 5ms/step - loss: 3.6996 - val_loss: 4.0261\n",
      "Epoch 53/100\n",
      "7/7 [==============================] - 0s 4ms/step - loss: 3.7063 - val_loss: 4.0219\n",
      "Epoch 54/100\n",
      "7/7 [==============================] - 0s 4ms/step - loss: 3.6995 - val_loss: 4.0221\n",
      "Epoch 55/100\n",
      "7/7 [==============================] - 0s 5ms/step - loss: 3.6984 - val_loss: 4.0208\n",
      "Epoch 56/100\n",
      "7/7 [==============================] - 0s 4ms/step - loss: 3.7001 - val_loss: 4.0216\n",
      "Epoch 57/100\n",
      "7/7 [==============================] - 0s 4ms/step - loss: 3.6996 - val_loss: 4.0235\n",
      "Epoch 58/100\n",
      "7/7 [==============================] - 0s 4ms/step - loss: 3.7025 - val_loss: 4.0244\n",
      "Epoch 59/100\n",
      "7/7 [==============================] - 0s 4ms/step - loss: 3.7005 - val_loss: 4.0360\n",
      "Epoch 60/100\n",
      "7/7 [==============================] - 0s 4ms/step - loss: 3.7008 - val_loss: 4.0464\n",
      "Epoch 61/100\n",
      "7/7 [==============================] - 0s 4ms/step - loss: 3.6993 - val_loss: 4.0489\n",
      "Epoch 62/100\n",
      "7/7 [==============================] - 0s 4ms/step - loss: 3.7033 - val_loss: 4.0483\n",
      "Epoch 63/100\n",
      "7/7 [==============================] - 0s 4ms/step - loss: 3.7044 - val_loss: 4.0495\n",
      "Epoch 64/100\n",
      "7/7 [==============================] - 0s 4ms/step - loss: 3.7036 - val_loss: 4.0423\n",
      "Epoch 65/100\n",
      "7/7 [==============================] - 0s 5ms/step - loss: 3.7011 - val_loss: 4.0434\n",
      "Epoch 66/100\n",
      "7/7 [==============================] - 0s 4ms/step - loss: 3.7009 - val_loss: 4.0374\n",
      "Epoch 67/100\n",
      "7/7 [==============================] - 0s 4ms/step - loss: 3.6999 - val_loss: 4.0388\n",
      "Epoch 68/100\n",
      "7/7 [==============================] - 0s 4ms/step - loss: 3.6996 - val_loss: 4.0391\n",
      "Epoch 69/100\n",
      "7/7 [==============================] - 0s 4ms/step - loss: 3.7020 - val_loss: 4.0344\n",
      "Epoch 70/100\n",
      "7/7 [==============================] - 0s 4ms/step - loss: 3.7006 - val_loss: 4.0318\n",
      "Epoch 71/100\n",
      "7/7 [==============================] - 0s 4ms/step - loss: 3.6991 - val_loss: 4.0310\n",
      "Epoch 72/100\n",
      "7/7 [==============================] - 0s 4ms/step - loss: 3.7015 - val_loss: 4.0328\n",
      "Epoch 73/100\n",
      "7/7 [==============================] - 0s 4ms/step - loss: 3.7011 - val_loss: 4.0237\n",
      "Epoch 74/100\n",
      "7/7 [==============================] - 0s 4ms/step - loss: 3.7030 - val_loss: 4.0288\n",
      "Epoch 75/100\n",
      "7/7 [==============================] - 0s 4ms/step - loss: 3.7044 - val_loss: 4.0251\n",
      "Epoch 76/100\n",
      "7/7 [==============================] - 0s 5ms/step - loss: 3.7016 - val_loss: 4.0243\n",
      "Epoch 77/100\n",
      "7/7 [==============================] - 0s 4ms/step - loss: 3.7015 - val_loss: 4.0235\n",
      "Epoch 78/100\n",
      "7/7 [==============================] - 0s 4ms/step - loss: 3.6995 - val_loss: 4.0277\n",
      "Epoch 79/100\n",
      "7/7 [==============================] - 0s 4ms/step - loss: 3.7028 - val_loss: 4.0360\n",
      "Epoch 80/100\n",
      "7/7 [==============================] - 0s 4ms/step - loss: 3.6997 - val_loss: 4.0357\n",
      "Epoch 81/100\n",
      "7/7 [==============================] - 0s 4ms/step - loss: 3.7017 - val_loss: 4.0466\n",
      "Epoch 82/100\n",
      "7/7 [==============================] - 0s 4ms/step - loss: 3.7014 - val_loss: 4.0530\n",
      "Epoch 83/100\n",
      "7/7 [==============================] - 0s 4ms/step - loss: 3.7011 - val_loss: 4.0622\n",
      "Epoch 84/100\n"
     ]
    },
    {
     "name": "stdout",
     "output_type": "stream",
     "text": [
      "7/7 [==============================] - 0s 5ms/step - loss: 3.7010 - val_loss: 4.0675\n",
      "Epoch 85/100\n",
      "7/7 [==============================] - 0s 4ms/step - loss: 3.7010 - val_loss: 4.0728\n",
      "Epoch 86/100\n",
      "7/7 [==============================] - 0s 4ms/step - loss: 3.7072 - val_loss: 4.0721\n",
      "Epoch 87/100\n",
      "7/7 [==============================] - 0s 4ms/step - loss: 3.7070 - val_loss: 4.0681\n",
      "Epoch 88/100\n",
      "7/7 [==============================] - 0s 4ms/step - loss: 3.7016 - val_loss: 4.0642\n",
      "Epoch 89/100\n",
      "7/7 [==============================] - 0s 4ms/step - loss: 3.7078 - val_loss: 4.0507\n",
      "Epoch 90/100\n",
      "7/7 [==============================] - 0s 4ms/step - loss: 3.6998 - val_loss: 4.0448\n",
      "Epoch 91/100\n",
      "7/7 [==============================] - 0s 4ms/step - loss: 3.7006 - val_loss: 4.0427\n",
      "Epoch 92/100\n",
      "7/7 [==============================] - 0s 5ms/step - loss: 3.7031 - val_loss: 4.0382\n",
      "Epoch 93/100\n",
      "7/7 [==============================] - 0s 5ms/step - loss: 3.6992 - val_loss: 4.0403\n",
      "Epoch 94/100\n",
      "7/7 [==============================] - 0s 4ms/step - loss: 3.7002 - val_loss: 4.0497\n",
      "Epoch 95/100\n",
      "7/7 [==============================] - 0s 4ms/step - loss: 3.7014 - val_loss: 4.0554\n",
      "Epoch 96/100\n",
      "7/7 [==============================] - 0s 4ms/step - loss: 3.7011 - val_loss: 4.0601\n",
      "Epoch 97/100\n",
      "7/7 [==============================] - 0s 4ms/step - loss: 3.7022 - val_loss: 4.0643\n",
      "Epoch 98/100\n",
      "7/7 [==============================] - 0s 4ms/step - loss: 3.7001 - val_loss: 4.0680\n",
      "Epoch 99/100\n",
      "7/7 [==============================] - 0s 5ms/step - loss: 3.7029 - val_loss: 4.0678\n",
      "Epoch 100/100\n",
      "7/7 [==============================] - 0s 4ms/step - loss: 3.7065 - val_loss: 4.0730\n",
      "CPU times: total: 3.83 s\n",
      "Wall time: 3.28 s\n"
     ]
    }
   ],
   "source": [
    "%%time\n",
    "history = horsepower_model.fit(\n",
    "    X_train['Horsepower'],\n",
    "    y_train,\n",
    "    epochs=100,\n",
    "    verbose=1,\n",
    "    validation_split = 0.2)"
   ]
  },
  {
   "cell_type": "code",
   "execution_count": 35,
   "metadata": {},
   "outputs": [
    {
     "data": {
      "text/plain": [
       "{'loss': [23.443330764770508,\n",
       "  22.7027587890625,\n",
       "  21.960744857788086,\n",
       "  21.241069793701172,\n",
       "  20.516172409057617,\n",
       "  19.775876998901367,\n",
       "  19.0443115234375,\n",
       "  18.315004348754883,\n",
       "  17.55858039855957,\n",
       "  16.8249454498291,\n",
       "  16.09039878845215,\n",
       "  15.347576141357422,\n",
       "  14.619770050048828,\n",
       "  13.900052070617676,\n",
       "  13.149161338806152,\n",
       "  12.412075996398926,\n",
       "  11.677724838256836,\n",
       "  10.953386306762695,\n",
       "  10.231283187866211,\n",
       "  9.512537956237793,\n",
       "  8.806893348693848,\n",
       "  8.15173053741455,\n",
       "  7.499617099761963,\n",
       "  6.930222034454346,\n",
       "  6.4063944816589355,\n",
       "  5.941585540771484,\n",
       "  5.532222270965576,\n",
       "  5.183230400085449,\n",
       "  4.886334419250488,\n",
       "  4.621982574462891,\n",
       "  4.398397922515869,\n",
       "  4.206082820892334,\n",
       "  4.028814792633057,\n",
       "  3.9242398738861084,\n",
       "  3.862260341644287,\n",
       "  3.8299567699432373,\n",
       "  3.7913739681243896,\n",
       "  3.761554002761841,\n",
       "  3.755610466003418,\n",
       "  3.7365071773529053,\n",
       "  3.730586528778076,\n",
       "  3.7236697673797607,\n",
       "  3.7157137393951416,\n",
       "  3.7102091312408447,\n",
       "  3.707972526550293,\n",
       "  3.705681085586548,\n",
       "  3.7050375938415527,\n",
       "  3.7035024166107178,\n",
       "  3.7022151947021484,\n",
       "  3.7015511989593506,\n",
       "  3.6997525691986084,\n",
       "  3.699601411819458,\n",
       "  3.7063088417053223,\n",
       "  3.699522018432617,\n",
       "  3.698387384414673,\n",
       "  3.7001495361328125,\n",
       "  3.699582099914551,\n",
       "  3.7025482654571533,\n",
       "  3.700521945953369,\n",
       "  3.700778007507324,\n",
       "  3.6993372440338135,\n",
       "  3.7033379077911377,\n",
       "  3.704401969909668,\n",
       "  3.703598976135254,\n",
       "  3.701108932495117,\n",
       "  3.70094633102417,\n",
       "  3.6999270915985107,\n",
       "  3.699594497680664,\n",
       "  3.7019846439361572,\n",
       "  3.700648307800293,\n",
       "  3.6991095542907715,\n",
       "  3.7014660835266113,\n",
       "  3.7010657787323,\n",
       "  3.702967882156372,\n",
       "  3.7043957710266113,\n",
       "  3.7015955448150635,\n",
       "  3.7015368938446045,\n",
       "  3.6995062828063965,\n",
       "  3.7027602195739746,\n",
       "  3.699718713760376,\n",
       "  3.701662063598633,\n",
       "  3.701413631439209,\n",
       "  3.701111078262329,\n",
       "  3.701023578643799,\n",
       "  3.7009758949279785,\n",
       "  3.7071871757507324,\n",
       "  3.707028865814209,\n",
       "  3.701601982116699,\n",
       "  3.7077550888061523,\n",
       "  3.699807643890381,\n",
       "  3.700589656829834,\n",
       "  3.7030723094940186,\n",
       "  3.699192762374878,\n",
       "  3.7001571655273438,\n",
       "  3.701359510421753,\n",
       "  3.7011380195617676,\n",
       "  3.7021942138671875,\n",
       "  3.700077533721924,\n",
       "  3.7029383182525635,\n",
       "  3.70652437210083],\n",
       " 'val_loss': [22.216577529907227,\n",
       "  21.54096221923828,\n",
       "  20.847578048706055,\n",
       "  20.159425735473633,\n",
       "  19.47731590270996,\n",
       "  18.792259216308594,\n",
       "  18.11035919189453,\n",
       "  17.431909561157227,\n",
       "  16.752771377563477,\n",
       "  16.07419204711914,\n",
       "  15.390861511230469,\n",
       "  14.704843521118164,\n",
       "  14.016736030578613,\n",
       "  13.336169242858887,\n",
       "  12.653787612915039,\n",
       "  11.991866111755371,\n",
       "  11.356719017028809,\n",
       "  10.7204008102417,\n",
       "  10.08680534362793,\n",
       "  9.438368797302246,\n",
       "  8.807350158691406,\n",
       "  8.19054889678955,\n",
       "  7.603792667388916,\n",
       "  7.082718372344971,\n",
       "  6.598241806030273,\n",
       "  6.161310195922852,\n",
       "  5.773726940155029,\n",
       "  5.44333028793335,\n",
       "  5.123054027557373,\n",
       "  4.8682637214660645,\n",
       "  4.670769214630127,\n",
       "  4.486149787902832,\n",
       "  4.330673694610596,\n",
       "  4.236057281494141,\n",
       "  4.194350719451904,\n",
       "  4.146968364715576,\n",
       "  4.107790946960449,\n",
       "  4.08144998550415,\n",
       "  4.05338191986084,\n",
       "  4.042136192321777,\n",
       "  4.042570114135742,\n",
       "  4.032649993896484,\n",
       "  4.0292792320251465,\n",
       "  4.0247392654418945,\n",
       "  4.018743515014648,\n",
       "  4.019548416137695,\n",
       "  4.018413543701172,\n",
       "  4.016885757446289,\n",
       "  4.0183000564575195,\n",
       "  4.020950794219971,\n",
       "  4.021818161010742,\n",
       "  4.0260748863220215,\n",
       "  4.021892547607422,\n",
       "  4.022068500518799,\n",
       "  4.020812511444092,\n",
       "  4.021566867828369,\n",
       "  4.0235209465026855,\n",
       "  4.024399280548096,\n",
       "  4.035998344421387,\n",
       "  4.046359062194824,\n",
       "  4.048915863037109,\n",
       "  4.048275947570801,\n",
       "  4.049497127532959,\n",
       "  4.0422868728637695,\n",
       "  4.043410301208496,\n",
       "  4.03739070892334,\n",
       "  4.038839817047119,\n",
       "  4.039069652557373,\n",
       "  4.034438133239746,\n",
       "  4.031796932220459,\n",
       "  4.030961513519287,\n",
       "  4.032769203186035,\n",
       "  4.023670196533203,\n",
       "  4.028807163238525,\n",
       "  4.025110244750977,\n",
       "  4.024292469024658,\n",
       "  4.023504734039307,\n",
       "  4.027663707733154,\n",
       "  4.036034107208252,\n",
       "  4.035659313201904,\n",
       "  4.046574592590332,\n",
       "  4.053013324737549,\n",
       "  4.062200546264648,\n",
       "  4.067509174346924,\n",
       "  4.072751522064209,\n",
       "  4.072140216827393,\n",
       "  4.068110942840576,\n",
       "  4.064201831817627,\n",
       "  4.050698280334473,\n",
       "  4.044788837432861,\n",
       "  4.0427141189575195,\n",
       "  4.038151741027832,\n",
       "  4.04034423828125,\n",
       "  4.049739837646484,\n",
       "  4.055383205413818,\n",
       "  4.060140609741211,\n",
       "  4.064266204833984,\n",
       "  4.068002700805664,\n",
       "  4.067770481109619,\n",
       "  4.0729875564575195]}"
      ]
     },
     "execution_count": 35,
     "metadata": {},
     "output_type": "execute_result"
    }
   ],
   "source": [
    "history.history"
   ]
  },
  {
   "cell_type": "code",
   "execution_count": 36,
   "metadata": {},
   "outputs": [
    {
     "data": {
      "text/html": [
       "<div>\n",
       "<style scoped>\n",
       "    .dataframe tbody tr th:only-of-type {\n",
       "        vertical-align: middle;\n",
       "    }\n",
       "\n",
       "    .dataframe tbody tr th {\n",
       "        vertical-align: top;\n",
       "    }\n",
       "\n",
       "    .dataframe thead th {\n",
       "        text-align: right;\n",
       "    }\n",
       "</style>\n",
       "<table border=\"1\" class=\"dataframe\">\n",
       "  <thead>\n",
       "    <tr style=\"text-align: right;\">\n",
       "      <th></th>\n",
       "      <th>loss</th>\n",
       "      <th>val_loss</th>\n",
       "      <th>epoch</th>\n",
       "    </tr>\n",
       "  </thead>\n",
       "  <tbody>\n",
       "    <tr>\n",
       "      <th>95</th>\n",
       "      <td>3.701138</td>\n",
       "      <td>4.060141</td>\n",
       "      <td>95</td>\n",
       "    </tr>\n",
       "    <tr>\n",
       "      <th>96</th>\n",
       "      <td>3.702194</td>\n",
       "      <td>4.064266</td>\n",
       "      <td>96</td>\n",
       "    </tr>\n",
       "    <tr>\n",
       "      <th>97</th>\n",
       "      <td>3.700078</td>\n",
       "      <td>4.068003</td>\n",
       "      <td>97</td>\n",
       "    </tr>\n",
       "    <tr>\n",
       "      <th>98</th>\n",
       "      <td>3.702938</td>\n",
       "      <td>4.067770</td>\n",
       "      <td>98</td>\n",
       "    </tr>\n",
       "    <tr>\n",
       "      <th>99</th>\n",
       "      <td>3.706524</td>\n",
       "      <td>4.072988</td>\n",
       "      <td>99</td>\n",
       "    </tr>\n",
       "  </tbody>\n",
       "</table>\n",
       "</div>"
      ],
      "text/plain": [
       "        loss  val_loss  epoch\n",
       "95  3.701138  4.060141     95\n",
       "96  3.702194  4.064266     96\n",
       "97  3.700078  4.068003     97\n",
       "98  3.702938  4.067770     98\n",
       "99  3.706524  4.072988     99"
      ]
     },
     "execution_count": 36,
     "metadata": {},
     "output_type": "execute_result"
    }
   ],
   "source": [
    "hist = pd.DataFrame(history.history)\n",
    "hist['epoch'] = history.epoch\n",
    "hist.tail()"
   ]
  },
  {
   "cell_type": "code",
   "execution_count": 37,
   "metadata": {},
   "outputs": [],
   "source": [
    "def plot_loss(history):\n",
    "    plt.plot(history.history['loss'], label='loss')\n",
    "    plt.plot(history.history['val_loss'], label='val_loss')\n",
    "    plt.ylim([0, 10])\n",
    "    plt.xlabel('Эпоха')\n",
    "    plt.ylabel('MAE [MPG]')\n",
    "    plt.legend()\n",
    "    plt.grid(True)"
   ]
  },
  {
   "cell_type": "code",
   "execution_count": 38,
   "metadata": {},
   "outputs": [
    {
     "data": {
      "image/png": "[encoded data removed]",
      "text/plain": [
       "<Figure size 640x480 with 1 Axes>"
      ]
     },
     "metadata": {},
     "output_type": "display_data"
    }
   ],
   "source": [
    "plot_loss(history)"
   ]
  },
  {
   "cell_type": "code",
   "execution_count": 39,
   "metadata": {},
   "outputs": [
    {
     "data": {
      "text/plain": [
       "4.281440258026123"
      ]
     },
     "execution_count": 39,
     "metadata": {},
     "output_type": "execute_result"
    }
   ],
   "source": [
    "horsepower_model.evaluate(X_test['Horsepower'], y_test, verbose=0)"
   ]
  },
  {
   "cell_type": "code",
   "execution_count": 40,
   "metadata": {},
   "outputs": [],
   "source": [
    "test_results = {}\n",
    "\n",
    "test_results['horsepower_model'] = horsepower_model.evaluate(X_test['Horsepower'], \n",
    "                                                             y_test, verbose=0)"
   ]
  },
  {
   "cell_type": "code",
   "execution_count": 41,
   "metadata": {},
   "outputs": [
    {
     "data": {
      "text/plain": [
       "{'horsepower_model': 4.281440258026123}"
      ]
     },
     "execution_count": 41,
     "metadata": {},
     "output_type": "execute_result"
    }
   ],
   "source": [
    "test_results"
   ]
  },
  {
   "cell_type": "code",
   "execution_count": 42,
   "metadata": {
    "scrolled": false
   },
   "outputs": [
    {
     "data": {
      "text/plain": [
       "<tf.Tensor: shape=(251,), dtype=float32, numpy=\n",
       "array([  0.,   1.,   2.,   3.,   4.,   5.,   6.,   7.,   8.,   9.,  10.,\n",
       "        11.,  12.,  13.,  14.,  15.,  16.,  17.,  18.,  19.,  20.,  21.,\n",
       "        22.,  23.,  24.,  25.,  26.,  27.,  28.,  29.,  30.,  31.,  32.,\n",
       "        33.,  34.,  35.,  36.,  37.,  38.,  39.,  40.,  41.,  42.,  43.,\n",
       "        44.,  45.,  46.,  47.,  48.,  49.,  50.,  51.,  52.,  53.,  54.,\n",
       "        55.,  56.,  57.,  58.,  59.,  60.,  61.,  62.,  63.,  64.,  65.,\n",
       "        66.,  67.,  68.,  69.,  70.,  71.,  72.,  73.,  74.,  75.,  76.,\n",
       "        77.,  78.,  79.,  80.,  81.,  82.,  83.,  84.,  85.,  86.,  87.,\n",
       "        88.,  89.,  90.,  91.,  92.,  93.,  94.,  95.,  96.,  97.,  98.,\n",
       "        99., 100., 101., 102., 103., 104., 105., 106., 107., 108., 109.,\n",
       "       110., 111., 112., 113., 114., 115., 116., 117., 118., 119., 120.,\n",
       "       121., 122., 123., 124., 125., 126., 127., 128., 129., 130., 131.,\n",
       "       132., 133., 134., 135., 136., 137., 138., 139., 140., 141., 142.,\n",
       "       143., 144., 145., 146., 147., 148., 149., 150., 151., 152., 153.,\n",
       "       154., 155., 156., 157., 158., 159., 160., 161., 162., 163., 164.,\n",
       "       165., 166., 167., 168., 169., 170., 171., 172., 173., 174., 175.,\n",
       "       176., 177., 178., 179., 180., 181., 182., 183., 184., 185., 186.,\n",
       "       187., 188., 189., 190., 191., 192., 193., 194., 195., 196., 197.,\n",
       "       198., 199., 200., 201., 202., 203., 204., 205., 206., 207., 208.,\n",
       "       209., 210., 211., 212., 213., 214., 215., 216., 217., 218., 219.,\n",
       "       220., 221., 222., 223., 224., 225., 226., 227., 228., 229., 230.,\n",
       "       231., 232., 233., 234., 235., 236., 237., 238., 239., 240., 241.,\n",
       "       242., 243., 244., 245., 246., 247., 248., 249., 250.],\n",
       "      dtype=float32)>"
      ]
     },
     "execution_count": 42,
     "metadata": {},
     "output_type": "execute_result"
    }
   ],
   "source": [
    "tf.linspace(0.0, 250, 251)"
   ]
  },
  {
   "cell_type": "code",
   "execution_count": 43,
   "metadata": {},
   "outputs": [
    {
     "name": "stdout",
     "output_type": "stream",
     "text": [
      "8/8 [==============================] - 0s 720us/step\n"
     ]
    }
   ],
   "source": [
    "x = tf.linspace(0.0, 250, 251)\n",
    "prediction = horsepower_model.predict(x)"
   ]
  },
  {
   "cell_type": "code",
   "execution_count": 44,
   "metadata": {},
   "outputs": [],
   "source": [
    "def plot_horsepower(x_train, y_train, x, prediction):\n",
    "    plt.scatter(x_train, y_train, label='Data')\n",
    "    plt.plot(x, prediction, color='k', label='Predictions')\n",
    "    plt.xlabel('T')\n",
    "    plt.ylabel('MPG')\n",
    "    plt.legend()"
   ]
  },
  {
   "cell_type": "code",
   "execution_count": 45,
   "metadata": {},
   "outputs": [
    {
     "data": {
      "image/png": "[encoded data removed]",
      "text/plain": [
       "<Figure size 640x480 with 1 Axes>"
      ]
     },
     "metadata": {},
     "output_type": "display_data"
    }
   ],
   "source": [
    "plot_horsepower(X['Horsepower'], y, x, prediction)"
   ]
  },
  {
   "cell_type": "code",
   "execution_count": null,
   "metadata": {},
   "outputs": [],
   "source": []
  },
  {
   "cell_type": "code",
   "execution_count": null,
   "metadata": {},
   "outputs": [],
   "source": []
  },
  {
   "cell_type": "markdown",
   "metadata": {},
   "source": [
    "#### Построение линейной модели"
   ]
  },
  {
   "cell_type": "code",
   "execution_count": 46,
   "metadata": {},
   "outputs": [],
   "source": [
    "linear_model = tf.keras.Sequential([\n",
    "    normalizer,\n",
    "    layers.Dense(units=1)\n",
    "])"
   ]
  },
  {
   "cell_type": "code",
   "execution_count": 47,
   "metadata": {},
   "outputs": [
    {
     "name": "stdout",
     "output_type": "stream",
     "text": [
      "1/1 [==============================] - 0s 34ms/step\n"
     ]
    },
    {
     "data": {
      "text/plain": [
       "array([[-1.164],\n",
       "       [-1.496],\n",
       "       [ 0.085],\n",
       "       [ 3.066],\n",
       "       [ 1.02 ],\n",
       "       [-1.004],\n",
       "       [-1.026],\n",
       "       [ 2.734],\n",
       "       [ 0.652],\n",
       "       [-1.72 ]], dtype=float32)"
      ]
     },
     "execution_count": 47,
     "metadata": {},
     "output_type": "execute_result"
    }
   ],
   "source": [
    "linear_model.predict(X_train[:10])"
   ]
  },
  {
   "cell_type": "code",
   "execution_count": 48,
   "metadata": {},
   "outputs": [
    {
     "data": {
      "text/plain": [
       "338    27.2\n",
       "189    15.5\n",
       "100    18.0\n",
       "52     30.0\n",
       "49     23.0\n",
       "271    23.2\n",
       "65     14.0\n",
       "181    33.0\n",
       "33     19.0\n",
       "137    13.0\n",
       "Name: MPG, dtype: float64"
      ]
     },
     "execution_count": 48,
     "metadata": {},
     "output_type": "execute_result"
    }
   ],
   "source": [
    "y_train[:10]"
   ]
  },
  {
   "cell_type": "code",
   "execution_count": 49,
   "metadata": {},
   "outputs": [],
   "source": [
    "linear_model.compile(\n",
    "    optimizer=tf.optimizers.Adam(learning_rate=0.1),\n",
    "    loss='mean_absolute_error')"
   ]
  },
  {
   "cell_type": "code",
   "execution_count": 50,
   "metadata": {},
   "outputs": [
    {
     "name": "stdout",
     "output_type": "stream",
     "text": [
      "Epoch 1/100\n",
      "7/7 [==============================] - 0s 31ms/step - loss: 23.3027 - val_loss: 21.9040\n",
      "Epoch 2/100\n",
      "7/7 [==============================] - 0s 4ms/step - loss: 22.2981 - val_loss: 21.3250\n",
      "Epoch 3/100\n",
      "7/7 [==============================] - 0s 4ms/step - loss: 21.3483 - val_loss: 20.6980\n",
      "Epoch 4/100\n",
      "7/7 [==============================] - 0s 4ms/step - loss: 20.4092 - val_loss: 20.0615\n",
      "Epoch 5/100\n",
      "7/7 [==============================] - 0s 4ms/step - loss: 19.5108 - val_loss: 19.4605\n",
      "Epoch 6/100\n",
      "7/7 [==============================] - 0s 4ms/step - loss: 18.5274 - val_loss: 18.8479\n",
      "Epoch 7/100\n",
      "7/7 [==============================] - 0s 4ms/step - loss: 17.6687 - val_loss: 18.2163\n",
      "Epoch 8/100\n",
      "7/7 [==============================] - 0s 4ms/step - loss: 16.8702 - val_loss: 17.5754\n",
      "Epoch 9/100\n",
      "7/7 [==============================] - 0s 4ms/step - loss: 16.1483 - val_loss: 16.9490\n",
      "Epoch 10/100\n",
      "7/7 [==============================] - 0s 4ms/step - loss: 15.4781 - val_loss: 16.3303\n",
      "Epoch 11/100\n",
      "7/7 [==============================] - 0s 4ms/step - loss: 14.8427 - val_loss: 15.6962\n",
      "Epoch 12/100\n",
      "7/7 [==============================] - 0s 4ms/step - loss: 14.2125 - val_loss: 15.0752\n",
      "Epoch 13/100\n",
      "7/7 [==============================] - 0s 4ms/step - loss: 13.5947 - val_loss: 14.4851\n",
      "Epoch 14/100\n",
      "7/7 [==============================] - 0s 4ms/step - loss: 12.9981 - val_loss: 13.9366\n",
      "Epoch 15/100\n",
      "7/7 [==============================] - 0s 4ms/step - loss: 12.3664 - val_loss: 13.3929\n",
      "Epoch 16/100\n",
      "7/7 [==============================] - 0s 4ms/step - loss: 11.7595 - val_loss: 12.8321\n",
      "Epoch 17/100\n",
      "7/7 [==============================] - 0s 4ms/step - loss: 11.1196 - val_loss: 12.1821\n",
      "Epoch 18/100\n",
      "7/7 [==============================] - 0s 4ms/step - loss: 10.5547 - val_loss: 11.5408\n",
      "Epoch 19/100\n",
      "7/7 [==============================] - 0s 4ms/step - loss: 9.9877 - val_loss: 10.9620\n",
      "Epoch 20/100\n",
      "7/7 [==============================] - 0s 4ms/step - loss: 9.4160 - val_loss: 10.3492\n",
      "Epoch 21/100\n",
      "7/7 [==============================] - 0s 4ms/step - loss: 8.8406 - val_loss: 9.8195\n",
      "Epoch 22/100\n",
      "7/7 [==============================] - 0s 4ms/step - loss: 8.2895 - val_loss: 9.2229\n",
      "Epoch 23/100\n",
      "7/7 [==============================] - 0s 4ms/step - loss: 7.7117 - val_loss: 8.5436\n",
      "Epoch 24/100\n",
      "7/7 [==============================] - 0s 4ms/step - loss: 7.1614 - val_loss: 7.9340\n",
      "Epoch 25/100\n",
      "7/7 [==============================] - 0s 4ms/step - loss: 6.6455 - val_loss: 7.4006\n",
      "Epoch 26/100\n",
      "7/7 [==============================] - 0s 5ms/step - loss: 6.1619 - val_loss: 6.8251\n",
      "Epoch 27/100\n",
      "7/7 [==============================] - 0s 4ms/step - loss: 5.6851 - val_loss: 6.1378\n",
      "Epoch 28/100\n",
      "7/7 [==============================] - 0s 4ms/step - loss: 5.1915 - val_loss: 5.5420\n",
      "Epoch 29/100\n",
      "7/7 [==============================] - 0s 4ms/step - loss: 4.7062 - val_loss: 4.9943\n",
      "Epoch 30/100\n",
      "7/7 [==============================] - 0s 4ms/step - loss: 4.2852 - val_loss: 4.5172\n",
      "Epoch 31/100\n",
      "7/7 [==============================] - 0s 4ms/step - loss: 3.8658 - val_loss: 4.1118\n",
      "Epoch 32/100\n",
      "7/7 [==============================] - 0s 4ms/step - loss: 3.5080 - val_loss: 3.7916\n",
      "Epoch 33/100\n",
      "7/7 [==============================] - 0s 4ms/step - loss: 3.2048 - val_loss: 3.5516\n",
      "Epoch 34/100\n",
      "7/7 [==============================] - 0s 4ms/step - loss: 3.0045 - val_loss: 3.2928\n",
      "Epoch 35/100\n",
      "7/7 [==============================] - 0s 4ms/step - loss: 2.8297 - val_loss: 3.1231\n",
      "Epoch 36/100\n",
      "7/7 [==============================] - 0s 4ms/step - loss: 2.7267 - val_loss: 3.0939\n",
      "Epoch 37/100\n",
      "7/7 [==============================] - 0s 4ms/step - loss: 2.6148 - val_loss: 3.1362\n",
      "Epoch 38/100\n",
      "7/7 [==============================] - 0s 4ms/step - loss: 2.5802 - val_loss: 3.1712\n",
      "Epoch 39/100\n",
      "7/7 [==============================] - 0s 4ms/step - loss: 2.5346 - val_loss: 3.0837\n",
      "Epoch 40/100\n",
      "7/7 [==============================] - 0s 4ms/step - loss: 2.5123 - val_loss: 3.0493\n",
      "Epoch 41/100\n",
      "7/7 [==============================] - 0s 4ms/step - loss: 2.5174 - val_loss: 3.1254\n",
      "Epoch 42/100\n",
      "7/7 [==============================] - 0s 4ms/step - loss: 2.4897 - val_loss: 3.0215\n",
      "Epoch 43/100\n",
      "7/7 [==============================] - 0s 4ms/step - loss: 2.4942 - val_loss: 3.0254\n",
      "Epoch 44/100\n",
      "7/7 [==============================] - 0s 4ms/step - loss: 2.4647 - val_loss: 3.0591\n",
      "Epoch 45/100\n",
      "7/7 [==============================] - 0s 4ms/step - loss: 2.4479 - val_loss: 2.9905\n",
      "Epoch 46/100\n",
      "7/7 [==============================] - 0s 4ms/step - loss: 2.4276 - val_loss: 3.0108\n",
      "Epoch 47/100\n",
      "7/7 [==============================] - 0s 4ms/step - loss: 2.4120 - val_loss: 2.9917\n",
      "Epoch 48/100\n",
      "7/7 [==============================] - 0s 4ms/step - loss: 2.3918 - val_loss: 3.0004\n",
      "Epoch 49/100\n",
      "7/7 [==============================] - 0s 4ms/step - loss: 2.3780 - val_loss: 2.9769\n",
      "Epoch 50/100\n",
      "7/7 [==============================] - 0s 4ms/step - loss: 2.3769 - val_loss: 3.0016\n",
      "Epoch 51/100\n",
      "7/7 [==============================] - 0s 4ms/step - loss: 2.3687 - val_loss: 3.0113\n",
      "Epoch 52/100\n",
      "7/7 [==============================] - 0s 4ms/step - loss: 2.3696 - val_loss: 3.0245\n",
      "Epoch 53/100\n",
      "7/7 [==============================] - 0s 4ms/step - loss: 2.3602 - val_loss: 3.0119\n",
      "Epoch 54/100\n",
      "7/7 [==============================] - 0s 4ms/step - loss: 2.3885 - val_loss: 2.9941\n",
      "Epoch 55/100\n",
      "7/7 [==============================] - 0s 4ms/step - loss: 2.3627 - val_loss: 3.0278\n",
      "Epoch 56/100\n",
      "7/7 [==============================] - 0s 4ms/step - loss: 2.4038 - val_loss: 2.9999\n",
      "Epoch 57/100\n",
      "7/7 [==============================] - 0s 4ms/step - loss: 2.3688 - val_loss: 2.9876\n",
      "Epoch 58/100\n",
      "7/7 [==============================] - 0s 4ms/step - loss: 2.3898 - val_loss: 2.9776\n",
      "Epoch 59/100\n",
      "7/7 [==============================] - 0s 4ms/step - loss: 2.3641 - val_loss: 2.9517\n",
      "Epoch 60/100\n",
      "7/7 [==============================] - 0s 4ms/step - loss: 2.3823 - val_loss: 2.9282\n",
      "Epoch 61/100\n",
      "7/7 [==============================] - 0s 4ms/step - loss: 2.3538 - val_loss: 2.9411\n",
      "Epoch 62/100\n",
      "7/7 [==============================] - 0s 4ms/step - loss: 2.3464 - val_loss: 2.9650\n",
      "Epoch 63/100\n",
      "7/7 [==============================] - 0s 4ms/step - loss: 2.3507 - val_loss: 2.9830\n",
      "Epoch 64/100\n",
      "7/7 [==============================] - 0s 4ms/step - loss: 2.3633 - val_loss: 2.9685\n",
      "Epoch 65/100\n",
      "7/7 [==============================] - 0s 4ms/step - loss: 2.3588 - val_loss: 2.9880\n",
      "Epoch 66/100\n",
      "7/7 [==============================] - 0s 4ms/step - loss: 2.3442 - val_loss: 2.9791\n",
      "Epoch 67/100\n",
      "7/7 [==============================] - 0s 4ms/step - loss: 2.3301 - val_loss: 2.9642\n",
      "Epoch 68/100\n",
      "7/7 [==============================] - 0s 4ms/step - loss: 2.3363 - val_loss: 2.9605\n",
      "Epoch 69/100\n",
      "7/7 [==============================] - 0s 4ms/step - loss: 2.3595 - val_loss: 2.9711\n",
      "Epoch 70/100\n",
      "7/7 [==============================] - 0s 4ms/step - loss: 2.3322 - val_loss: 2.9726\n",
      "Epoch 71/100\n",
      "7/7 [==============================] - 0s 4ms/step - loss: 2.3628 - val_loss: 2.9813\n",
      "Epoch 72/100\n",
      "7/7 [==============================] - 0s 4ms/step - loss: 2.3414 - val_loss: 2.9663\n",
      "Epoch 73/100\n",
      "7/7 [==============================] - 0s 4ms/step - loss: 2.3769 - val_loss: 2.9631\n",
      "Epoch 74/100\n",
      "7/7 [==============================] - 0s 4ms/step - loss: 2.3192 - val_loss: 2.9510\n",
      "Epoch 75/100\n",
      "7/7 [==============================] - 0s 4ms/step - loss: 2.3885 - val_loss: 2.9554\n",
      "Epoch 76/100\n",
      "7/7 [==============================] - 0s 4ms/step - loss: 2.3306 - val_loss: 2.9436\n",
      "Epoch 77/100\n",
      "7/7 [==============================] - 0s 4ms/step - loss: 2.3271 - val_loss: 2.9288\n",
      "Epoch 78/100\n",
      "7/7 [==============================] - 0s 4ms/step - loss: 2.3485 - val_loss: 2.9178\n",
      "Epoch 79/100\n",
      "7/7 [==============================] - 0s 4ms/step - loss: 2.3331 - val_loss: 2.9124\n",
      "Epoch 80/100\n",
      "7/7 [==============================] - 0s 4ms/step - loss: 2.3377 - val_loss: 2.9341\n",
      "Epoch 81/100\n",
      "7/7 [==============================] - 0s 4ms/step - loss: 2.3395 - val_loss: 2.9478\n",
      "Epoch 82/100\n",
      "7/7 [==============================] - 0s 4ms/step - loss: 2.3192 - val_loss: 2.9574\n",
      "Epoch 83/100\n",
      "7/7 [==============================] - 0s 4ms/step - loss: 2.3392 - val_loss: 2.9585\n",
      "Epoch 84/100\n"
     ]
    },
    {
     "name": "stdout",
     "output_type": "stream",
     "text": [
      "7/7 [==============================] - 0s 4ms/step - loss: 2.4144 - val_loss: 2.9825\n",
      "Epoch 85/100\n",
      "7/7 [==============================] - 0s 4ms/step - loss: 2.3320 - val_loss: 2.9774\n",
      "Epoch 86/100\n",
      "7/7 [==============================] - 0s 4ms/step - loss: 2.3730 - val_loss: 2.9616\n",
      "Epoch 87/100\n",
      "7/7 [==============================] - 0s 4ms/step - loss: 2.3390 - val_loss: 2.9387\n",
      "Epoch 88/100\n",
      "7/7 [==============================] - 0s 4ms/step - loss: 2.3601 - val_loss: 2.9280\n",
      "Epoch 89/100\n",
      "7/7 [==============================] - 0s 4ms/step - loss: 2.4119 - val_loss: 2.9556\n",
      "Epoch 90/100\n",
      "7/7 [==============================] - 0s 4ms/step - loss: 2.3227 - val_loss: 2.9563\n",
      "Epoch 91/100\n",
      "7/7 [==============================] - 0s 4ms/step - loss: 2.3385 - val_loss: 2.9620\n",
      "Epoch 92/100\n",
      "7/7 [==============================] - 0s 4ms/step - loss: 2.3529 - val_loss: 2.9310\n",
      "Epoch 93/100\n",
      "7/7 [==============================] - 0s 4ms/step - loss: 2.3414 - val_loss: 2.9251\n",
      "Epoch 94/100\n",
      "7/7 [==============================] - 0s 4ms/step - loss: 2.3113 - val_loss: 2.9185\n",
      "Epoch 95/100\n",
      "7/7 [==============================] - 0s 4ms/step - loss: 2.3343 - val_loss: 2.9244\n",
      "Epoch 96/100\n",
      "7/7 [==============================] - 0s 4ms/step - loss: 2.3211 - val_loss: 2.9411\n",
      "Epoch 97/100\n",
      "7/7 [==============================] - 0s 4ms/step - loss: 2.3195 - val_loss: 2.9426\n",
      "Epoch 98/100\n",
      "7/7 [==============================] - 0s 4ms/step - loss: 2.3256 - val_loss: 2.9408\n",
      "Epoch 99/100\n",
      "7/7 [==============================] - 0s 4ms/step - loss: 2.3358 - val_loss: 2.9454\n",
      "Epoch 100/100\n",
      "7/7 [==============================] - 0s 4ms/step - loss: 2.3361 - val_loss: 2.9270\n",
      "CPU times: total: 3.64 s\n",
      "Wall time: 3.14 s\n"
     ]
    }
   ],
   "source": [
    "%%time\n",
    "history = linear_model.fit(\n",
    "    X_train,\n",
    "    y_train,\n",
    "    epochs=100,\n",
    "    verbose=1,\n",
    "    validation_split = 0.2)"
   ]
  },
  {
   "cell_type": "code",
   "execution_count": 51,
   "metadata": {},
   "outputs": [
    {
     "data": {
      "image/png": "[encoded data removed]",
      "text/plain": [
       "<Figure size 640x480 with 1 Axes>"
      ]
     },
     "metadata": {},
     "output_type": "display_data"
    }
   ],
   "source": [
    "plot_loss(history)"
   ]
  },
  {
   "cell_type": "code",
   "execution_count": 52,
   "metadata": {},
   "outputs": [],
   "source": [
    "test_results['linear_model'] = linear_model.evaluate(X_test, y_test, verbose=0)"
   ]
  },
  {
   "cell_type": "code",
   "execution_count": 53,
   "metadata": {},
   "outputs": [
    {
     "data": {
      "text/plain": [
       "{'horsepower_model': 4.281440258026123, 'linear_model': 2.549293041229248}"
      ]
     },
     "execution_count": 53,
     "metadata": {},
     "output_type": "execute_result"
    }
   ],
   "source": [
    "test_results"
   ]
  },
  {
   "cell_type": "markdown",
   "metadata": {},
   "source": [
    "#### Построение многойлойного персептрона"
   ]
  },
  {
   "cell_type": "code",
   "execution_count": 54,
   "metadata": {},
   "outputs": [],
   "source": [
    "def build_and_compile_model(norm):\n",
    "    model = keras.Sequential([\n",
    "      norm,\n",
    "      layers.Dense(64, activation='relu'),\n",
    "      layers.Dense(64, activation='relu'),\n",
    "      layers.Dense(1)\n",
    "    ])\n",
    "\n",
    "    model.compile(loss='mean_absolute_error',\n",
    "                optimizer=tf.keras.optimizers.Adam(0.001))\n",
    "    return model"
   ]
  },
  {
   "cell_type": "code",
   "execution_count": 55,
   "metadata": {},
   "outputs": [
    {
     "name": "stdout",
     "output_type": "stream",
     "text": [
      "Model: \"sequential_2\"\n",
      "_________________________________________________________________\n",
      " Layer (type)                Output Shape              Param #   \n",
      "=================================================================\n",
      " normalization_1 (Normalizat  (None, 1)                3         \n",
      " ion)                                                            \n",
      "                                                                 \n",
      " dense_2 (Dense)             (None, 64)                128       \n",
      "                                                                 \n",
      " dense_3 (Dense)             (None, 64)                4160      \n",
      "                                                                 \n",
      " dense_4 (Dense)             (None, 1)                 65        \n",
      "                                                                 \n",
      "=================================================================\n",
      "Total params: 4,356\n",
      "Trainable params: 4,353\n",
      "Non-trainable params: 3\n",
      "_________________________________________________________________\n"
     ]
    }
   ],
   "source": [
    "dnn_horsepower_model = build_and_compile_model(horsepower_normalizer)\n",
    "dnn_horsepower_model.summary()"
   ]
  },
  {
   "cell_type": "code",
   "execution_count": 56,
   "metadata": {},
   "outputs": [
    {
     "name": "stdout",
     "output_type": "stream",
     "text": [
      "CPU times: total: 3.67 s\n",
      "Wall time: 2.88 s\n"
     ]
    }
   ],
   "source": [
    "%%time\n",
    "history = dnn_horsepower_model.fit(\n",
    "    X_train['Horsepower'],\n",
    "    y_train,\n",
    "    validation_split=0.2,\n",
    "    verbose=0, epochs=100)"
   ]
  },
  {
   "cell_type": "code",
   "execution_count": 57,
   "metadata": {},
   "outputs": [
    {
     "data": {
      "image/png": "[encoded data removed]",
      "text/plain": [
       "<Figure size 640x480 with 1 Axes>"
      ]
     },
     "metadata": {},
     "output_type": "display_data"
    }
   ],
   "source": [
    "plot_loss(history)"
   ]
  },
  {
   "cell_type": "code",
   "execution_count": 58,
   "metadata": {
    "scrolled": true
   },
   "outputs": [
    {
     "name": "stdout",
     "output_type": "stream",
     "text": [
      "8/8 [==============================] - 0s 710us/step\n"
     ]
    },
    {
     "data": {
      "image/png": "[encoded data removed]",
      "text/plain": [
       "<Figure size 640x480 with 1 Axes>"
      ]
     },
     "metadata": {},
     "output_type": "display_data"
    }
   ],
   "source": [
    "x = tf.linspace(0.0, 250, 251)\n",
    "prediction = dnn_horsepower_model.predict(x)\n",
    "plot_horsepower(X['Horsepower'], y, x, prediction)"
   ]
  },
  {
   "cell_type": "code",
   "execution_count": 59,
   "metadata": {},
   "outputs": [],
   "source": [
    "test_results['dnn_horsepower_model'] = dnn_horsepower_model.evaluate(\n",
    "    X_test['Horsepower'], y_test, verbose=0)"
   ]
  },
  {
   "cell_type": "code",
   "execution_count": 60,
   "metadata": {},
   "outputs": [
    {
     "data": {
      "text/plain": [
       "{'horsepower_model': 4.281440258026123,\n",
       " 'linear_model': 2.549293041229248,\n",
       " 'dnn_horsepower_model': 3.620435953140259}"
      ]
     },
     "execution_count": 60,
     "metadata": {},
     "output_type": "execute_result"
    }
   ],
   "source": [
    "test_results"
   ]
  },
  {
   "cell_type": "code",
   "execution_count": null,
   "metadata": {},
   "outputs": [],
   "source": []
  },
  {
   "cell_type": "code",
   "execution_count": 61,
   "metadata": {},
   "outputs": [
    {
     "name": "stdout",
     "output_type": "stream",
     "text": [
      "Model: \"sequential_3\"\n",
      "_________________________________________________________________\n",
      " Layer (type)                Output Shape              Param #   \n",
      "=================================================================\n",
      " normalization (Normalizatio  (None, 9)                19        \n",
      " n)                                                              \n",
      "                                                                 \n",
      " dense_5 (Dense)             (None, 64)                640       \n",
      "                                                                 \n",
      " dense_6 (Dense)             (None, 64)                4160      \n",
      "                                                                 \n",
      " dense_7 (Dense)             (None, 1)                 65        \n",
      "                                                                 \n",
      "=================================================================\n",
      "Total params: 4,884\n",
      "Trainable params: 4,865\n",
      "Non-trainable params: 19\n",
      "_________________________________________________________________\n"
     ]
    }
   ],
   "source": [
    "dnn_model = build_and_compile_model(normalizer)\n",
    "dnn_model.summary()"
   ]
  },
  {
   "cell_type": "code",
   "execution_count": 62,
   "metadata": {},
   "outputs": [
    {
     "name": "stdout",
     "output_type": "stream",
     "text": [
      "CPU times: total: 9.78 s\n",
      "Wall time: 7.87 s\n"
     ]
    }
   ],
   "source": [
    "%%time\n",
    "history = dnn_model.fit(\n",
    "    X_train,\n",
    "    y_train,\n",
    "    validation_split=0.2,\n",
    "    verbose=0, epochs=300)"
   ]
  },
  {
   "cell_type": "code",
   "execution_count": 63,
   "metadata": {},
   "outputs": [
    {
     "data": {
      "image/png": "[encoded data removed]",
      "text/plain": [
       "<Figure size 640x480 with 1 Axes>"
      ]
     },
     "metadata": {},
     "output_type": "display_data"
    }
   ],
   "source": [
    "plot_loss(history)"
   ]
  },
  {
   "cell_type": "code",
   "execution_count": 64,
   "metadata": {},
   "outputs": [],
   "source": [
    "test_results['dnn_model'] = dnn_model.evaluate(X_test, y_test, verbose=0)"
   ]
  },
  {
   "cell_type": "code",
   "execution_count": 65,
   "metadata": {},
   "outputs": [
    {
     "data": {
      "text/plain": [
       "{'horsepower_model': 4.281440258026123,\n",
       " 'linear_model': 2.549293041229248,\n",
       " 'dnn_horsepower_model': 3.620435953140259,\n",
       " 'dnn_model': 1.9775199890136719}"
      ]
     },
     "execution_count": 65,
     "metadata": {},
     "output_type": "execute_result"
    }
   ],
   "source": [
    "test_results"
   ]
  },
  {
   "cell_type": "code",
   "execution_count": 66,
   "metadata": {},
   "outputs": [
    {
     "data": {
      "text/html": [
       "<div>\n",
       "<style scoped>\n",
       "    .dataframe tbody tr th:only-of-type {\n",
       "        vertical-align: middle;\n",
       "    }\n",
       "\n",
       "    .dataframe tbody tr th {\n",
       "        vertical-align: top;\n",
       "    }\n",
       "\n",
       "    .dataframe thead th {\n",
       "        text-align: right;\n",
       "    }\n",
       "</style>\n",
       "<table border=\"1\" class=\"dataframe\">\n",
       "  <thead>\n",
       "    <tr style=\"text-align: right;\">\n",
       "      <th></th>\n",
       "      <th>Mean absolute error [MPG]</th>\n",
       "    </tr>\n",
       "  </thead>\n",
       "  <tbody>\n",
       "    <tr>\n",
       "      <th>horsepower_model</th>\n",
       "      <td>4.281440</td>\n",
       "    </tr>\n",
       "    <tr>\n",
       "      <th>linear_model</th>\n",
       "      <td>2.549293</td>\n",
       "    </tr>\n",
       "    <tr>\n",
       "      <th>dnn_horsepower_model</th>\n",
       "      <td>3.620436</td>\n",
       "    </tr>\n",
       "    <tr>\n",
       "      <th>dnn_model</th>\n",
       "      <td>1.977520</td>\n",
       "    </tr>\n",
       "  </tbody>\n",
       "</table>\n",
       "</div>"
      ],
      "text/plain": [
       "                      Mean absolute error [MPG]\n",
       "horsepower_model                       4.281440\n",
       "linear_model                           2.549293\n",
       "dnn_horsepower_model                   3.620436\n",
       "dnn_model                              1.977520"
      ]
     },
     "execution_count": 66,
     "metadata": {},
     "output_type": "execute_result"
    }
   ],
   "source": [
    "pd.DataFrame(test_results, index=['Mean absolute error [MPG]']).T"
   ]
  },
  {
   "cell_type": "code",
   "execution_count": 67,
   "metadata": {},
   "outputs": [
    {
     "name": "stdout",
     "output_type": "stream",
     "text": [
      "3/3 [==============================] - 0s 1000us/step\n"
     ]
    },
    {
     "data": {
      "image/png": "[encoded data removed]",
      "text/plain": [
       "<Figure size 640x480 with 1 Axes>"
      ]
     },
     "metadata": {},
     "output_type": "display_data"
    }
   ],
   "source": [
    "test_predictions = dnn_model.predict(X_test).flatten()\n",
    "\n",
    "a = plt.axes(aspect='equal')\n",
    "plt.scatter(y_test, test_predictions)\n",
    "plt.xlabel('True Values [MPG]')\n",
    "plt.ylabel('Predictions [MPG]')\n",
    "lims = [0, 50]\n",
    "plt.xlim(lims)\n",
    "plt.ylim(lims)\n",
    "_ = plt.plot(lims, lims)"
   ]
  },
  {
   "cell_type": "code",
   "execution_count": 68,
   "metadata": {},
   "outputs": [
    {
     "data": {
      "image/png": "[encoded data removed]",
      "text/plain": [
       "<Figure size 640x480 with 1 Axes>"
      ]
     },
     "metadata": {},
     "output_type": "display_data"
    }
   ],
   "source": [
    "error = y_test - test_predictions\n",
    "plt.hist(error, bins=25)\n",
    "plt.xlabel('Prediction Error [MPG]')\n",
    "_ = plt.ylabel('Count')"
   ]
  },
  {
   "cell_type": "markdown",
   "metadata": {},
   "source": [
    "### Эксперименты с моделями"
   ]
  },
  {
   "cell_type": "code",
   "execution_count": 69,
   "metadata": {},
   "outputs": [
    {
     "name": "stdout",
     "output_type": "stream",
     "text": [
      "Model: \"sequential_4\"\n",
      "_________________________________________________________________\n",
      " Layer (type)                Output Shape              Param #   \n",
      "=================================================================\n",
      " normalization (Normalizatio  (None, 9)                19        \n",
      " n)                                                              \n",
      "                                                                 \n",
      " dense_8 (Dense)             (None, 64)                640       \n",
      "                                                                 \n",
      " dense_9 (Dense)             (None, 64)                4160      \n",
      "                                                                 \n",
      " dense_10 (Dense)            (None, 64)                4160      \n",
      "                                                                 \n",
      " dense_11 (Dense)            (None, 1)                 65        \n",
      "                                                                 \n",
      "=================================================================\n",
      "Total params: 9,044\n",
      "Trainable params: 9,025\n",
      "Non-trainable params: 19\n",
      "_________________________________________________________________\n"
     ]
    }
   ],
   "source": [
    "def build_and_compile_model(norm):\n",
    "    model = keras.Sequential([\n",
    "      norm,\n",
    "      layers.Dense(64, activation='relu'),\n",
    "      layers.Dense(64, activation='relu'),\n",
    "      layers.Dense(64, activation='relu'),\n",
    "      layers.Dense(1)\n",
    "    ])\n",
    "\n",
    "    model.compile(loss='mean_absolute_error',\n",
    "                optimizer=tf.keras.optimizers.Adam(0.001))\n",
    "    return model\n",
    "\n",
    "dnn_model = build_and_compile_model(normalizer)\n",
    "dnn_model.summary()"
   ]
  },
  {
   "cell_type": "code",
   "execution_count": 70,
   "metadata": {},
   "outputs": [
    {
     "name": "stdout",
     "output_type": "stream",
     "text": [
      "CPU times: total: 10.7 s\n",
      "Wall time: 8.42 s\n"
     ]
    },
    {
     "data": {
      "text/plain": [
       "2.0281193256378174"
      ]
     },
     "execution_count": 70,
     "metadata": {},
     "output_type": "execute_result"
    },
    {
     "data": {
      "image/png": "[encoded data removed]",
      "text/plain": [
       "<Figure size 640x480 with 1 Axes>"
      ]
     },
     "metadata": {},
     "output_type": "display_data"
    }
   ],
   "source": [
    "%%time\n",
    "history = dnn_model.fit(\n",
    "    X_train,\n",
    "    y_train,\n",
    "    validation_data=(X_val, y_val),\n",
    "    verbose=0, epochs=300)\n",
    "plot_loss(history)\n",
    "dnn_model.evaluate(X_test, y_test, verbose=0)"
   ]
  },
  {
   "cell_type": "markdown",
   "metadata": {},
   "source": [
    "### Можно сделать больше эпох"
   ]
  },
  {
   "cell_type": "code",
   "execution_count": 71,
   "metadata": {},
   "outputs": [],
   "source": [
    "import datetime\n",
    "\n",
    "log_dir = \"logs/fit/\" + datetime.datetime.now().strftime(\"%Y%m%d-%H%M%S\")\n",
    "tensorboard_callback = tf.keras.callbacks.TensorBoard(log_dir=log_dir, histogram_freq=1)"
   ]
  },
  {
   "cell_type": "code",
   "execution_count": 72,
   "metadata": {},
   "outputs": [
    {
     "data": {
      "text/plain": [
       "'logs/fit/20221121-200623'"
      ]
     },
     "execution_count": 72,
     "metadata": {},
     "output_type": "execute_result"
    }
   ],
   "source": [
    "log_dir"
   ]
  },
  {
   "cell_type": "code",
   "execution_count": 73,
   "metadata": {},
   "outputs": [
    {
     "name": "stdout",
     "output_type": "stream",
     "text": [
      "Epoch 1/300\n",
      "8/8 [==============================] - 1s 75ms/step - loss: 23.3985 - val_loss: 22.2993\n",
      "Epoch 2/300\n",
      "8/8 [==============================] - 0s 46ms/step - loss: 22.7133 - val_loss: 21.4443\n",
      "Epoch 3/300\n",
      "8/8 [==============================] - 0s 41ms/step - loss: 21.7294 - val_loss: 20.1163\n",
      "Epoch 4/300\n",
      "8/8 [==============================] - 0s 38ms/step - loss: 20.0908 - val_loss: 17.8479\n",
      "Epoch 5/300\n",
      "8/8 [==============================] - 0s 31ms/step - loss: 17.2841 - val_loss: 14.0391\n",
      "Epoch 6/300\n",
      "8/8 [==============================] - 0s 41ms/step - loss: 12.9786 - val_loss: 9.3318\n",
      "Epoch 7/300\n",
      "8/8 [==============================] - 0s 37ms/step - loss: 7.9520 - val_loss: 6.4520\n",
      "Epoch 8/300\n",
      "8/8 [==============================] - 0s 36ms/step - loss: 6.3186 - val_loss: 5.2954\n",
      "Epoch 9/300\n",
      "8/8 [==============================] - 0s 34ms/step - loss: 4.7650 - val_loss: 3.5908\n",
      "Epoch 10/300\n",
      "8/8 [==============================] - 0s 36ms/step - loss: 3.6814 - val_loss: 3.0178\n",
      "Epoch 11/300\n",
      "8/8 [==============================] - 0s 36ms/step - loss: 3.2375 - val_loss: 2.8245\n",
      "Epoch 12/300\n",
      "8/8 [==============================] - 0s 36ms/step - loss: 3.0273 - val_loss: 2.6520\n",
      "Epoch 13/300\n",
      "8/8 [==============================] - 0s 36ms/step - loss: 2.7922 - val_loss: 2.4536\n",
      "Epoch 14/300\n",
      "8/8 [==============================] - 0s 35ms/step - loss: 2.6067 - val_loss: 2.2870\n",
      "Epoch 15/300\n",
      "8/8 [==============================] - 0s 39ms/step - loss: 2.3998 - val_loss: 2.1668\n",
      "Epoch 16/300\n",
      "8/8 [==============================] - 0s 38ms/step - loss: 2.2870 - val_loss: 2.0695\n",
      "Epoch 17/300\n",
      "8/8 [==============================] - 0s 33ms/step - loss: 2.2230 - val_loss: 2.0277\n",
      "Epoch 18/300\n",
      "8/8 [==============================] - 0s 38ms/step - loss: 2.1672 - val_loss: 1.9437\n",
      "Epoch 19/300\n",
      "8/8 [==============================] - 0s 33ms/step - loss: 2.1571 - val_loss: 1.9131\n",
      "Epoch 20/300\n",
      "8/8 [==============================] - 0s 34ms/step - loss: 2.0701 - val_loss: 1.8850\n",
      "Epoch 21/300\n",
      "8/8 [==============================] - 0s 36ms/step - loss: 2.0545 - val_loss: 1.8535\n",
      "Epoch 22/300\n",
      "8/8 [==============================] - 0s 33ms/step - loss: 2.0287 - val_loss: 1.8231\n",
      "Epoch 23/300\n",
      "8/8 [==============================] - 0s 31ms/step - loss: 1.9861 - val_loss: 1.8021\n",
      "Epoch 24/300\n",
      "8/8 [==============================] - 0s 38ms/step - loss: 1.9728 - val_loss: 1.8060\n",
      "Epoch 25/300\n",
      "8/8 [==============================] - 0s 33ms/step - loss: 1.9686 - val_loss: 1.7703\n",
      "Epoch 26/300\n",
      "8/8 [==============================] - 0s 31ms/step - loss: 1.9558 - val_loss: 1.7544\n",
      "Epoch 27/300\n",
      "8/8 [==============================] - 0s 31ms/step - loss: 1.9534 - val_loss: 1.7795\n",
      "Epoch 28/300\n",
      "8/8 [==============================] - 0s 33ms/step - loss: 1.9246 - val_loss: 1.7679\n",
      "Epoch 29/300\n",
      "8/8 [==============================] - 0s 34ms/step - loss: 1.8683 - val_loss: 1.7516\n",
      "Epoch 30/300\n",
      "8/8 [==============================] - 0s 34ms/step - loss: 1.8518 - val_loss: 1.7547\n",
      "Epoch 31/300\n",
      "8/8 [==============================] - 0s 34ms/step - loss: 1.8397 - val_loss: 1.7406\n",
      "Epoch 32/300\n",
      "8/8 [==============================] - 0s 33ms/step - loss: 1.8389 - val_loss: 1.7741\n",
      "Epoch 33/300\n",
      "8/8 [==============================] - 0s 33ms/step - loss: 1.8719 - val_loss: 1.7700\n",
      "Epoch 34/300\n",
      "8/8 [==============================] - 0s 35ms/step - loss: 1.8050 - val_loss: 1.7830\n",
      "Epoch 35/300\n",
      "8/8 [==============================] - 0s 39ms/step - loss: 1.8014 - val_loss: 1.7284\n",
      "Epoch 36/300\n",
      "8/8 [==============================] - 0s 35ms/step - loss: 1.8000 - val_loss: 1.7436\n",
      "Epoch 37/300\n",
      "8/8 [==============================] - 0s 33ms/step - loss: 1.8234 - val_loss: 1.7675\n",
      "Epoch 38/300\n",
      "8/8 [==============================] - 0s 38ms/step - loss: 1.7735 - val_loss: 1.7522\n",
      "Epoch 39/300\n",
      "8/8 [==============================] - 0s 34ms/step - loss: 1.7694 - val_loss: 1.7634\n",
      "Epoch 40/300\n",
      "8/8 [==============================] - 0s 33ms/step - loss: 1.8157 - val_loss: 1.7471\n",
      "Epoch 41/300\n",
      "8/8 [==============================] - 0s 31ms/step - loss: 1.7833 - val_loss: 1.7908\n",
      "Epoch 42/300\n",
      "8/8 [==============================] - 0s 34ms/step - loss: 1.7619 - val_loss: 1.7305\n",
      "Epoch 43/300\n",
      "8/8 [==============================] - 0s 33ms/step - loss: 1.7845 - val_loss: 1.7364\n",
      "Epoch 44/300\n",
      "8/8 [==============================] - 0s 33ms/step - loss: 1.7543 - val_loss: 1.8626\n",
      "Epoch 45/300\n",
      "8/8 [==============================] - 0s 35ms/step - loss: 1.7394 - val_loss: 1.8219\n",
      "Epoch 46/300\n",
      "8/8 [==============================] - 0s 34ms/step - loss: 1.7548 - val_loss: 1.8002\n",
      "Epoch 47/300\n",
      "8/8 [==============================] - 0s 33ms/step - loss: 1.7621 - val_loss: 1.8243\n",
      "Epoch 48/300\n",
      "8/8 [==============================] - 0s 33ms/step - loss: 1.7526 - val_loss: 1.7076\n",
      "Epoch 49/300\n",
      "8/8 [==============================] - 0s 35ms/step - loss: 1.7171 - val_loss: 1.7279\n",
      "Epoch 50/300\n",
      "8/8 [==============================] - 0s 36ms/step - loss: 1.7169 - val_loss: 1.7314\n",
      "Epoch 51/300\n",
      "8/8 [==============================] - 0s 35ms/step - loss: 1.7212 - val_loss: 1.7940\n",
      "Epoch 52/300\n",
      "8/8 [==============================] - 0s 35ms/step - loss: 1.7503 - val_loss: 1.7635\n",
      "Epoch 53/300\n",
      "8/8 [==============================] - 0s 34ms/step - loss: 1.7417 - val_loss: 1.7793\n",
      "Epoch 54/300\n",
      "8/8 [==============================] - 0s 30ms/step - loss: 1.6595 - val_loss: 1.7233\n",
      "Epoch 55/300\n",
      "8/8 [==============================] - 0s 30ms/step - loss: 1.6486 - val_loss: 1.7360\n",
      "Epoch 56/300\n",
      "8/8 [==============================] - 0s 29ms/step - loss: 1.6913 - val_loss: 1.8021\n",
      "Epoch 57/300\n",
      "8/8 [==============================] - 0s 30ms/step - loss: 1.6361 - val_loss: 1.7203\n",
      "Epoch 58/300\n",
      "8/8 [==============================] - 0s 38ms/step - loss: 1.6348 - val_loss: 1.7090\n",
      "Epoch 59/300\n",
      "8/8 [==============================] - 0s 33ms/step - loss: 1.6691 - val_loss: 1.7699\n",
      "Epoch 60/300\n",
      "8/8 [==============================] - 0s 30ms/step - loss: 1.6317 - val_loss: 1.7248\n",
      "Epoch 61/300\n",
      "8/8 [==============================] - 0s 31ms/step - loss: 1.6435 - val_loss: 1.7567\n",
      "Epoch 62/300\n",
      "8/8 [==============================] - 0s 35ms/step - loss: 1.6513 - val_loss: 1.7125\n",
      "Epoch 63/300\n",
      "8/8 [==============================] - 0s 30ms/step - loss: 1.6284 - val_loss: 1.7437\n",
      "Epoch 64/300\n",
      "8/8 [==============================] - 0s 35ms/step - loss: 1.6305 - val_loss: 1.8152\n",
      "Epoch 65/300\n",
      "8/8 [==============================] - 0s 30ms/step - loss: 1.6062 - val_loss: 1.6890\n",
      "Epoch 66/300\n",
      "8/8 [==============================] - 0s 31ms/step - loss: 1.6155 - val_loss: 1.7216\n",
      "Epoch 67/300\n",
      "8/8 [==============================] - 0s 33ms/step - loss: 1.5904 - val_loss: 1.7595\n",
      "Epoch 68/300\n",
      "8/8 [==============================] - 0s 30ms/step - loss: 1.5863 - val_loss: 1.7928\n",
      "Epoch 69/300\n",
      "8/8 [==============================] - 0s 30ms/step - loss: 1.5679 - val_loss: 1.7117\n",
      "Epoch 70/300\n",
      "8/8 [==============================] - 0s 31ms/step - loss: 1.5988 - val_loss: 1.6754\n",
      "Epoch 71/300\n",
      "8/8 [==============================] - 0s 34ms/step - loss: 1.5755 - val_loss: 1.7170\n",
      "Epoch 72/300\n",
      "8/8 [==============================] - 0s 33ms/step - loss: 1.5878 - val_loss: 1.7034\n",
      "Epoch 73/300\n",
      "8/8 [==============================] - 0s 35ms/step - loss: 1.5785 - val_loss: 1.6962\n",
      "Epoch 74/300\n",
      "8/8 [==============================] - 0s 33ms/step - loss: 1.5481 - val_loss: 1.7516\n",
      "Epoch 75/300\n",
      "8/8 [==============================] - 0s 35ms/step - loss: 1.5423 - val_loss: 1.7495\n",
      "Epoch 76/300\n",
      "8/8 [==============================] - 0s 33ms/step - loss: 1.5632 - val_loss: 1.6876\n",
      "Epoch 77/300\n",
      "8/8 [==============================] - 0s 35ms/step - loss: 1.5374 - val_loss: 1.7596\n",
      "Epoch 78/300\n",
      "8/8 [==============================] - 0s 34ms/step - loss: 1.5718 - val_loss: 1.7332\n",
      "Epoch 79/300\n",
      "8/8 [==============================] - 0s 30ms/step - loss: 1.5748 - val_loss: 1.8312\n",
      "Epoch 80/300\n",
      "8/8 [==============================] - 0s 39ms/step - loss: 1.5247 - val_loss: 1.7311\n",
      "Epoch 81/300\n",
      "8/8 [==============================] - 0s 33ms/step - loss: 1.5133 - val_loss: 1.8100\n",
      "Epoch 82/300\n",
      "8/8 [==============================] - 0s 31ms/step - loss: 1.5492 - val_loss: 1.6768\n",
      "Epoch 83/300\n"
     ]
    },
    {
     "name": "stdout",
     "output_type": "stream",
     "text": [
      "8/8 [==============================] - 0s 33ms/step - loss: 1.5450 - val_loss: 1.7196\n",
      "Epoch 84/300\n",
      "8/8 [==============================] - 0s 33ms/step - loss: 1.5458 - val_loss: 1.8117\n",
      "Epoch 85/300\n",
      "8/8 [==============================] - 0s 33ms/step - loss: 1.5468 - val_loss: 1.7296\n",
      "Epoch 86/300\n",
      "8/8 [==============================] - 0s 33ms/step - loss: 1.5161 - val_loss: 1.7258\n",
      "Epoch 87/300\n",
      "8/8 [==============================] - 0s 36ms/step - loss: 1.4887 - val_loss: 1.7628\n",
      "Epoch 88/300\n",
      "8/8 [==============================] - 0s 36ms/step - loss: 1.5182 - val_loss: 1.7501\n",
      "Epoch 89/300\n",
      "8/8 [==============================] - 0s 31ms/step - loss: 1.4983 - val_loss: 1.7065\n",
      "Epoch 90/300\n",
      "8/8 [==============================] - 0s 30ms/step - loss: 1.5226 - val_loss: 1.7485\n",
      "Epoch 91/300\n",
      "8/8 [==============================] - 0s 31ms/step - loss: 1.4848 - val_loss: 1.8772\n",
      "Epoch 92/300\n",
      "8/8 [==============================] - 0s 31ms/step - loss: 1.5527 - val_loss: 1.7203\n",
      "Epoch 93/300\n",
      "8/8 [==============================] - 0s 36ms/step - loss: 1.4851 - val_loss: 1.7330\n",
      "Epoch 94/300\n",
      "8/8 [==============================] - 0s 31ms/step - loss: 1.4970 - val_loss: 1.7719\n",
      "Epoch 95/300\n",
      "8/8 [==============================] - 0s 31ms/step - loss: 1.4920 - val_loss: 1.7737\n",
      "Epoch 96/300\n",
      "8/8 [==============================] - 0s 31ms/step - loss: 1.4769 - val_loss: 1.6987\n",
      "Epoch 97/300\n",
      "8/8 [==============================] - 0s 33ms/step - loss: 1.4462 - val_loss: 1.7945\n",
      "Epoch 98/300\n",
      "8/8 [==============================] - 0s 33ms/step - loss: 1.4775 - val_loss: 1.7265\n",
      "Epoch 99/300\n",
      "8/8 [==============================] - 0s 31ms/step - loss: 1.4629 - val_loss: 1.7577\n",
      "Epoch 100/300\n",
      "8/8 [==============================] - 0s 35ms/step - loss: 1.4482 - val_loss: 1.7511\n",
      "Epoch 101/300\n",
      "8/8 [==============================] - 0s 31ms/step - loss: 1.4342 - val_loss: 1.7332\n",
      "Epoch 102/300\n",
      "8/8 [==============================] - 0s 33ms/step - loss: 1.4229 - val_loss: 1.7771\n",
      "Epoch 103/300\n",
      "8/8 [==============================] - 0s 30ms/step - loss: 1.4649 - val_loss: 1.7442\n",
      "Epoch 104/300\n",
      "8/8 [==============================] - 0s 35ms/step - loss: 1.4458 - val_loss: 1.7681\n",
      "Epoch 105/300\n",
      "8/8 [==============================] - 0s 29ms/step - loss: 1.4556 - val_loss: 1.7584\n",
      "Epoch 106/300\n",
      "8/8 [==============================] - 0s 30ms/step - loss: 1.4363 - val_loss: 1.7403\n",
      "Epoch 107/300\n",
      "8/8 [==============================] - 0s 31ms/step - loss: 1.4140 - val_loss: 1.8601\n",
      "Epoch 108/300\n",
      "8/8 [==============================] - 0s 30ms/step - loss: 1.4569 - val_loss: 1.7285\n",
      "Epoch 109/300\n",
      "8/8 [==============================] - 0s 31ms/step - loss: 1.4165 - val_loss: 1.7448\n",
      "Epoch 110/300\n",
      "8/8 [==============================] - 0s 33ms/step - loss: 1.4163 - val_loss: 1.7787\n",
      "Epoch 111/300\n",
      "8/8 [==============================] - 0s 31ms/step - loss: 1.4175 - val_loss: 1.7408\n",
      "Epoch 112/300\n",
      "8/8 [==============================] - 0s 28ms/step - loss: 1.4042 - val_loss: 1.8337\n",
      "Epoch 113/300\n",
      "8/8 [==============================] - 0s 28ms/step - loss: 1.5053 - val_loss: 1.8347\n",
      "Epoch 114/300\n",
      "8/8 [==============================] - 0s 28ms/step - loss: 1.4439 - val_loss: 1.7520\n",
      "Epoch 115/300\n",
      "8/8 [==============================] - 0s 28ms/step - loss: 1.4244 - val_loss: 1.7488\n",
      "Epoch 116/300\n",
      "8/8 [==============================] - 0s 28ms/step - loss: 1.4025 - val_loss: 1.7696\n",
      "Epoch 117/300\n",
      "8/8 [==============================] - 0s 28ms/step - loss: 1.4437 - val_loss: 1.7680\n",
      "Epoch 118/300\n",
      "8/8 [==============================] - 0s 31ms/step - loss: 1.3887 - val_loss: 1.7417\n",
      "Epoch 119/300\n",
      "8/8 [==============================] - 0s 35ms/step - loss: 1.4029 - val_loss: 1.8521\n",
      "Epoch 120/300\n",
      "8/8 [==============================] - 0s 31ms/step - loss: 1.4487 - val_loss: 1.8629\n",
      "Epoch 121/300\n",
      "8/8 [==============================] - 0s 33ms/step - loss: 1.4288 - val_loss: 1.7499\n",
      "Epoch 122/300\n",
      "8/8 [==============================] - 0s 30ms/step - loss: 1.3876 - val_loss: 1.8549\n",
      "Epoch 123/300\n",
      "8/8 [==============================] - 0s 31ms/step - loss: 1.3887 - val_loss: 1.7537\n",
      "Epoch 124/300\n",
      "8/8 [==============================] - 0s 28ms/step - loss: 1.4371 - val_loss: 1.7483\n",
      "Epoch 125/300\n",
      "8/8 [==============================] - 0s 34ms/step - loss: 1.4038 - val_loss: 1.8706\n",
      "Epoch 126/300\n",
      "8/8 [==============================] - 0s 30ms/step - loss: 1.3756 - val_loss: 1.7955\n",
      "Epoch 127/300\n",
      "8/8 [==============================] - 0s 37ms/step - loss: 1.3626 - val_loss: 1.8663\n",
      "Epoch 128/300\n",
      "8/8 [==============================] - 0s 31ms/step - loss: 1.4061 - val_loss: 1.7741\n",
      "Epoch 129/300\n",
      "8/8 [==============================] - 0s 33ms/step - loss: 1.4061 - val_loss: 1.7776\n",
      "Epoch 130/300\n",
      "8/8 [==============================] - 0s 31ms/step - loss: 1.3714 - val_loss: 1.7837\n",
      "Epoch 131/300\n",
      "8/8 [==============================] - 0s 33ms/step - loss: 1.3556 - val_loss: 1.7891\n",
      "Epoch 132/300\n",
      "8/8 [==============================] - 0s 41ms/step - loss: 1.3539 - val_loss: 1.7481\n",
      "Epoch 133/300\n",
      "8/8 [==============================] - 0s 40ms/step - loss: 1.4000 - val_loss: 1.7884\n",
      "Epoch 134/300\n",
      "8/8 [==============================] - 0s 34ms/step - loss: 1.3906 - val_loss: 1.7842\n",
      "Epoch 135/300\n",
      "8/8 [==============================] - 0s 34ms/step - loss: 1.3711 - val_loss: 1.8465\n",
      "Epoch 136/300\n",
      "8/8 [==============================] - 0s 35ms/step - loss: 1.3571 - val_loss: 1.8248\n",
      "Epoch 137/300\n",
      "8/8 [==============================] - 0s 36ms/step - loss: 1.3756 - val_loss: 1.7671\n",
      "Epoch 138/300\n",
      "8/8 [==============================] - 0s 36ms/step - loss: 1.4075 - val_loss: 1.7948\n",
      "Epoch 139/300\n",
      "8/8 [==============================] - 0s 35ms/step - loss: 1.3814 - val_loss: 1.8930\n",
      "Epoch 140/300\n",
      "8/8 [==============================] - 0s 33ms/step - loss: 1.3566 - val_loss: 1.7685\n",
      "Epoch 141/300\n",
      "8/8 [==============================] - 0s 36ms/step - loss: 1.3205 - val_loss: 1.7932\n",
      "Epoch 142/300\n",
      "8/8 [==============================] - 0s 35ms/step - loss: 1.3386 - val_loss: 1.8045\n",
      "Epoch 143/300\n",
      "8/8 [==============================] - 0s 33ms/step - loss: 1.3129 - val_loss: 1.7944\n",
      "Epoch 144/300\n",
      "8/8 [==============================] - 0s 35ms/step - loss: 1.3181 - val_loss: 1.7568\n",
      "Epoch 145/300\n",
      "8/8 [==============================] - 0s 34ms/step - loss: 1.3289 - val_loss: 1.7682\n",
      "Epoch 146/300\n",
      "8/8 [==============================] - 0s 36ms/step - loss: 1.3362 - val_loss: 1.8319\n",
      "Epoch 147/300\n",
      "8/8 [==============================] - 0s 36ms/step - loss: 1.3495 - val_loss: 1.8996\n",
      "Epoch 148/300\n",
      "8/8 [==============================] - 0s 33ms/step - loss: 1.3374 - val_loss: 1.7809\n",
      "Epoch 149/300\n",
      "8/8 [==============================] - 0s 33ms/step - loss: 1.3561 - val_loss: 1.8134\n",
      "Epoch 150/300\n",
      "8/8 [==============================] - 0s 34ms/step - loss: 1.3628 - val_loss: 1.8273\n",
      "Epoch 151/300\n",
      "8/8 [==============================] - 0s 35ms/step - loss: 1.3315 - val_loss: 1.7825\n",
      "Epoch 152/300\n",
      "8/8 [==============================] - 0s 34ms/step - loss: 1.3621 - val_loss: 1.7723\n",
      "Epoch 153/300\n",
      "8/8 [==============================] - 0s 33ms/step - loss: 1.3559 - val_loss: 1.8253\n",
      "Epoch 154/300\n",
      "8/8 [==============================] - 0s 33ms/step - loss: 1.2944 - val_loss: 1.7947\n",
      "Epoch 155/300\n",
      "8/8 [==============================] - 0s 35ms/step - loss: 1.3222 - val_loss: 1.8067\n",
      "Epoch 156/300\n",
      "8/8 [==============================] - 0s 36ms/step - loss: 1.3196 - val_loss: 1.8218\n",
      "Epoch 157/300\n",
      "8/8 [==============================] - 0s 36ms/step - loss: 1.3504 - val_loss: 1.7962\n",
      "Epoch 158/300\n",
      "8/8 [==============================] - 0s 36ms/step - loss: 1.3462 - val_loss: 1.9198\n",
      "Epoch 159/300\n",
      "8/8 [==============================] - 0s 31ms/step - loss: 1.3804 - val_loss: 1.8286\n",
      "Epoch 160/300\n",
      "8/8 [==============================] - 0s 31ms/step - loss: 1.3185 - val_loss: 1.7995\n",
      "Epoch 161/300\n",
      "8/8 [==============================] - 0s 36ms/step - loss: 1.2805 - val_loss: 1.8097\n",
      "Epoch 162/300\n",
      "8/8 [==============================] - 0s 31ms/step - loss: 1.3306 - val_loss: 2.0366\n",
      "Epoch 163/300\n",
      "8/8 [==============================] - 0s 33ms/step - loss: 1.4148 - val_loss: 1.7924\n",
      "Epoch 164/300\n",
      "8/8 [==============================] - 0s 35ms/step - loss: 1.2816 - val_loss: 1.8792\n",
      "Epoch 165/300\n"
     ]
    },
    {
     "name": "stdout",
     "output_type": "stream",
     "text": [
      "8/8 [==============================] - 0s 38ms/step - loss: 1.3227 - val_loss: 1.7809\n",
      "Epoch 166/300\n",
      "8/8 [==============================] - 0s 41ms/step - loss: 1.3192 - val_loss: 1.8069\n",
      "Epoch 167/300\n",
      "8/8 [==============================] - 0s 33ms/step - loss: 1.2864 - val_loss: 1.8882\n",
      "Epoch 168/300\n",
      "8/8 [==============================] - 0s 36ms/step - loss: 1.2794 - val_loss: 1.8948\n",
      "Epoch 169/300\n",
      "8/8 [==============================] - 0s 36ms/step - loss: 1.3022 - val_loss: 1.8127\n",
      "Epoch 170/300\n",
      "8/8 [==============================] - 0s 39ms/step - loss: 1.2920 - val_loss: 1.8169\n",
      "Epoch 171/300\n",
      "8/8 [==============================] - 0s 36ms/step - loss: 1.2911 - val_loss: 1.8159\n",
      "Epoch 172/300\n",
      "8/8 [==============================] - 0s 38ms/step - loss: 1.3147 - val_loss: 1.8591\n",
      "Epoch 173/300\n",
      "8/8 [==============================] - 0s 36ms/step - loss: 1.2345 - val_loss: 1.8529\n",
      "Epoch 174/300\n",
      "8/8 [==============================] - 0s 36ms/step - loss: 1.2749 - val_loss: 1.8109\n",
      "Epoch 175/300\n",
      "8/8 [==============================] - 0s 35ms/step - loss: 1.2790 - val_loss: 1.9839\n",
      "Epoch 176/300\n",
      "8/8 [==============================] - 0s 36ms/step - loss: 1.2954 - val_loss: 1.8009\n",
      "Epoch 177/300\n",
      "8/8 [==============================] - 0s 36ms/step - loss: 1.2768 - val_loss: 1.8283\n",
      "Epoch 178/300\n",
      "8/8 [==============================] - 0s 33ms/step - loss: 1.2656 - val_loss: 1.9265\n",
      "Epoch 179/300\n",
      "8/8 [==============================] - 0s 33ms/step - loss: 1.2760 - val_loss: 1.8380\n",
      "Epoch 180/300\n",
      "8/8 [==============================] - 0s 33ms/step - loss: 1.2736 - val_loss: 1.8472\n",
      "Epoch 181/300\n",
      "8/8 [==============================] - 0s 33ms/step - loss: 1.2755 - val_loss: 1.8047\n",
      "Epoch 182/300\n",
      "8/8 [==============================] - 0s 33ms/step - loss: 1.2484 - val_loss: 1.8295\n",
      "Epoch 183/300\n",
      "8/8 [==============================] - 0s 33ms/step - loss: 1.3015 - val_loss: 1.8790\n",
      "Epoch 184/300\n",
      "8/8 [==============================] - 0s 44ms/step - loss: 1.2953 - val_loss: 1.8878\n",
      "Epoch 185/300\n",
      "8/8 [==============================] - 0s 36ms/step - loss: 1.2476 - val_loss: 1.8265\n",
      "Epoch 186/300\n",
      "8/8 [==============================] - 0s 36ms/step - loss: 1.2973 - val_loss: 1.8366\n",
      "Epoch 187/300\n",
      "8/8 [==============================] - 0s 34ms/step - loss: 1.2844 - val_loss: 1.8447\n",
      "Epoch 188/300\n",
      "8/8 [==============================] - 0s 44ms/step - loss: 1.2371 - val_loss: 1.8780\n",
      "Epoch 189/300\n",
      "8/8 [==============================] - 0s 39ms/step - loss: 1.2359 - val_loss: 1.8578\n",
      "Epoch 190/300\n",
      "8/8 [==============================] - 0s 36ms/step - loss: 1.2238 - val_loss: 1.8467\n",
      "Epoch 191/300\n",
      "8/8 [==============================] - 0s 34ms/step - loss: 1.2656 - val_loss: 1.8094\n",
      "Epoch 192/300\n",
      "8/8 [==============================] - 0s 33ms/step - loss: 1.3638 - val_loss: 1.8093\n",
      "Epoch 193/300\n",
      "8/8 [==============================] - 0s 33ms/step - loss: 1.2691 - val_loss: 1.8504\n",
      "Epoch 194/300\n",
      "8/8 [==============================] - 0s 33ms/step - loss: 1.2595 - val_loss: 1.8735\n",
      "Epoch 195/300\n",
      "8/8 [==============================] - 0s 33ms/step - loss: 1.2614 - val_loss: 1.8547\n",
      "Epoch 196/300\n",
      "8/8 [==============================] - 0s 36ms/step - loss: 1.2954 - val_loss: 1.8316\n",
      "Epoch 197/300\n",
      "8/8 [==============================] - 0s 33ms/step - loss: 1.2554 - val_loss: 1.8125\n",
      "Epoch 198/300\n",
      "8/8 [==============================] - 0s 36ms/step - loss: 1.2308 - val_loss: 1.7990\n",
      "Epoch 199/300\n",
      "8/8 [==============================] - 0s 36ms/step - loss: 1.2262 - val_loss: 1.7850\n",
      "Epoch 200/300\n",
      "8/8 [==============================] - 0s 36ms/step - loss: 1.2338 - val_loss: 1.8849\n",
      "Epoch 201/300\n",
      "8/8 [==============================] - 0s 36ms/step - loss: 1.2241 - val_loss: 1.8179\n",
      "Epoch 202/300\n",
      "8/8 [==============================] - 0s 36ms/step - loss: 1.2630 - val_loss: 1.7784\n",
      "Epoch 203/300\n",
      "8/8 [==============================] - 0s 33ms/step - loss: 1.2413 - val_loss: 1.8258\n",
      "Epoch 204/300\n",
      "8/8 [==============================] - 0s 39ms/step - loss: 1.2931 - val_loss: 1.8496\n",
      "Epoch 205/300\n",
      "8/8 [==============================] - 0s 36ms/step - loss: 1.2393 - val_loss: 1.8754\n",
      "Epoch 206/300\n",
      "8/8 [==============================] - 0s 33ms/step - loss: 1.2903 - val_loss: 1.8123\n",
      "Epoch 207/300\n",
      "8/8 [==============================] - 0s 36ms/step - loss: 1.3264 - val_loss: 1.8370\n",
      "Epoch 208/300\n",
      "8/8 [==============================] - 0s 36ms/step - loss: 1.3823 - val_loss: 1.8443\n",
      "Epoch 209/300\n",
      "8/8 [==============================] - 0s 38ms/step - loss: 1.3713 - val_loss: 1.7771\n",
      "Epoch 210/300\n",
      "8/8 [==============================] - 0s 49ms/step - loss: 1.2422 - val_loss: 1.8072\n",
      "Epoch 211/300\n",
      "8/8 [==============================] - 0s 38ms/step - loss: 1.2254 - val_loss: 1.8415\n",
      "Epoch 212/300\n",
      "8/8 [==============================] - 0s 36ms/step - loss: 1.2088 - val_loss: 1.8231\n",
      "Epoch 213/300\n",
      "8/8 [==============================] - 0s 33ms/step - loss: 1.1943 - val_loss: 1.8556\n",
      "Epoch 214/300\n",
      "8/8 [==============================] - 0s 38ms/step - loss: 1.2377 - val_loss: 1.8044\n",
      "Epoch 215/300\n",
      "8/8 [==============================] - 0s 34ms/step - loss: 1.1993 - val_loss: 1.8068\n",
      "Epoch 216/300\n",
      "8/8 [==============================] - 0s 34ms/step - loss: 1.1937 - val_loss: 1.8886\n",
      "Epoch 217/300\n",
      "8/8 [==============================] - 0s 36ms/step - loss: 1.2238 - val_loss: 1.8250\n",
      "Epoch 218/300\n",
      "8/8 [==============================] - 0s 33ms/step - loss: 1.2182 - val_loss: 1.8484\n",
      "Epoch 219/300\n",
      "8/8 [==============================] - 0s 36ms/step - loss: 1.2662 - val_loss: 1.8391\n",
      "Epoch 220/300\n",
      "8/8 [==============================] - 0s 33ms/step - loss: 1.2119 - val_loss: 1.7916\n",
      "Epoch 221/300\n",
      "8/8 [==============================] - 0s 38ms/step - loss: 1.2115 - val_loss: 1.8803\n",
      "Epoch 222/300\n",
      "8/8 [==============================] - 0s 44ms/step - loss: 1.2358 - val_loss: 1.8338\n",
      "Epoch 223/300\n",
      "8/8 [==============================] - 0s 37ms/step - loss: 1.2152 - val_loss: 1.8766\n",
      "Epoch 224/300\n",
      "8/8 [==============================] - 0s 38ms/step - loss: 1.2885 - val_loss: 1.8736\n",
      "Epoch 225/300\n",
      "8/8 [==============================] - 0s 39ms/step - loss: 1.2618 - val_loss: 1.8359\n",
      "Epoch 226/300\n",
      "8/8 [==============================] - 0s 38ms/step - loss: 1.2571 - val_loss: 1.8623\n",
      "Epoch 227/300\n",
      "8/8 [==============================] - 0s 43ms/step - loss: 1.2266 - val_loss: 1.9246\n",
      "Epoch 228/300\n",
      "8/8 [==============================] - 0s 39ms/step - loss: 1.2532 - val_loss: 1.8015\n",
      "Epoch 229/300\n",
      "8/8 [==============================] - 0s 39ms/step - loss: 1.2490 - val_loss: 1.8496\n",
      "Epoch 230/300\n",
      "8/8 [==============================] - 0s 40ms/step - loss: 1.2649 - val_loss: 1.8198\n",
      "Epoch 231/300\n",
      "8/8 [==============================] - 0s 38ms/step - loss: 1.2697 - val_loss: 1.9112\n",
      "Epoch 232/300\n",
      "8/8 [==============================] - 0s 38ms/step - loss: 1.2545 - val_loss: 1.8623\n",
      "Epoch 233/300\n",
      "8/8 [==============================] - 0s 38ms/step - loss: 1.2964 - val_loss: 1.8456\n",
      "Epoch 234/300\n",
      "8/8 [==============================] - 0s 38ms/step - loss: 1.2966 - val_loss: 1.8913\n",
      "Epoch 235/300\n",
      "8/8 [==============================] - 0s 38ms/step - loss: 1.3186 - val_loss: 1.8274\n",
      "Epoch 236/300\n",
      "8/8 [==============================] - 0s 36ms/step - loss: 1.2553 - val_loss: 1.8097\n",
      "Epoch 237/300\n",
      "8/8 [==============================] - 0s 39ms/step - loss: 1.2739 - val_loss: 1.9158\n",
      "Epoch 238/300\n",
      "8/8 [==============================] - 0s 38ms/step - loss: 1.2325 - val_loss: 1.8611\n",
      "Epoch 239/300\n",
      "8/8 [==============================] - 0s 38ms/step - loss: 1.3361 - val_loss: 1.8253\n",
      "Epoch 240/300\n",
      "8/8 [==============================] - 0s 34ms/step - loss: 1.3039 - val_loss: 1.8297\n",
      "Epoch 241/300\n",
      "8/8 [==============================] - 0s 33ms/step - loss: 1.2508 - val_loss: 1.9096\n",
      "Epoch 242/300\n",
      "8/8 [==============================] - 0s 33ms/step - loss: 1.2301 - val_loss: 1.8333\n",
      "Epoch 243/300\n",
      "8/8 [==============================] - 0s 33ms/step - loss: 1.1979 - val_loss: 1.8805\n",
      "Epoch 244/300\n",
      "8/8 [==============================] - 0s 33ms/step - loss: 1.1707 - val_loss: 1.8156\n",
      "Epoch 245/300\n",
      "8/8 [==============================] - 0s 33ms/step - loss: 1.1760 - val_loss: 1.8228\n",
      "Epoch 246/300\n",
      "8/8 [==============================] - 0s 37ms/step - loss: 1.1681 - val_loss: 1.8306\n",
      "Epoch 247/300\n"
     ]
    },
    {
     "name": "stdout",
     "output_type": "stream",
     "text": [
      "8/8 [==============================] - 0s 35ms/step - loss: 1.1829 - val_loss: 1.8363\n",
      "Epoch 248/300\n",
      "8/8 [==============================] - 0s 36ms/step - loss: 1.2239 - val_loss: 1.7898\n",
      "Epoch 249/300\n",
      "8/8 [==============================] - 0s 35ms/step - loss: 1.2079 - val_loss: 1.8404\n",
      "Epoch 250/300\n",
      "8/8 [==============================] - 0s 39ms/step - loss: 1.2942 - val_loss: 1.8800\n",
      "Epoch 251/300\n",
      "8/8 [==============================] - 0s 39ms/step - loss: 1.2326 - val_loss: 1.8046\n",
      "Epoch 252/300\n",
      "8/8 [==============================] - 0s 36ms/step - loss: 1.2426 - val_loss: 1.8267\n",
      "Epoch 253/300\n",
      "8/8 [==============================] - 0s 39ms/step - loss: 1.1735 - val_loss: 1.9491\n",
      "Epoch 254/300\n",
      "8/8 [==============================] - 0s 39ms/step - loss: 1.2106 - val_loss: 1.8987\n",
      "Epoch 255/300\n",
      "8/8 [==============================] - 0s 38ms/step - loss: 1.2234 - val_loss: 1.8006\n",
      "Epoch 256/300\n",
      "8/8 [==============================] - 0s 36ms/step - loss: 1.1527 - val_loss: 1.8372\n",
      "Epoch 257/300\n",
      "8/8 [==============================] - 0s 39ms/step - loss: 1.1911 - val_loss: 1.8187\n",
      "Epoch 258/300\n",
      "8/8 [==============================] - 0s 36ms/step - loss: 1.1816 - val_loss: 1.9017\n",
      "Epoch 259/300\n",
      "8/8 [==============================] - 0s 40ms/step - loss: 1.2127 - val_loss: 1.8604\n",
      "Epoch 260/300\n",
      "8/8 [==============================] - 0s 38ms/step - loss: 1.1638 - val_loss: 1.8193\n",
      "Epoch 261/300\n",
      "8/8 [==============================] - 0s 38ms/step - loss: 1.1956 - val_loss: 1.8501\n",
      "Epoch 262/300\n",
      "8/8 [==============================] - 0s 36ms/step - loss: 1.1539 - val_loss: 1.8805\n",
      "Epoch 263/300\n",
      "8/8 [==============================] - 0s 36ms/step - loss: 1.1687 - val_loss: 1.8626\n",
      "Epoch 264/300\n",
      "8/8 [==============================] - 0s 36ms/step - loss: 1.1533 - val_loss: 1.8136\n",
      "Epoch 265/300\n",
      "8/8 [==============================] - 0s 39ms/step - loss: 1.1502 - val_loss: 1.8231\n",
      "Epoch 266/300\n",
      "8/8 [==============================] - 0s 35ms/step - loss: 1.1788 - val_loss: 1.8699\n",
      "Epoch 267/300\n",
      "8/8 [==============================] - 0s 35ms/step - loss: 1.1871 - val_loss: 1.8398\n",
      "Epoch 268/300\n",
      "8/8 [==============================] - 0s 36ms/step - loss: 1.1818 - val_loss: 1.8973\n",
      "Epoch 269/300\n",
      "8/8 [==============================] - 0s 36ms/step - loss: 1.1685 - val_loss: 1.8279\n",
      "Epoch 270/300\n",
      "8/8 [==============================] - 0s 34ms/step - loss: 1.1618 - val_loss: 1.9121\n",
      "Epoch 271/300\n",
      "8/8 [==============================] - 0s 34ms/step - loss: 1.2058 - val_loss: 1.8538\n",
      "Epoch 272/300\n",
      "8/8 [==============================] - 0s 33ms/step - loss: 1.1587 - val_loss: 1.9039\n",
      "Epoch 273/300\n",
      "8/8 [==============================] - 0s 33ms/step - loss: 1.2011 - val_loss: 1.8840\n",
      "Epoch 274/300\n",
      "8/8 [==============================] - 0s 33ms/step - loss: 1.1894 - val_loss: 1.8359\n",
      "Epoch 275/300\n",
      "8/8 [==============================] - 0s 39ms/step - loss: 1.2086 - val_loss: 1.8784\n",
      "Epoch 276/300\n",
      "8/8 [==============================] - 0s 34ms/step - loss: 1.1574 - val_loss: 1.8215\n",
      "Epoch 277/300\n",
      "8/8 [==============================] - 0s 33ms/step - loss: 1.1648 - val_loss: 1.8483\n",
      "Epoch 278/300\n",
      "8/8 [==============================] - 0s 37ms/step - loss: 1.1639 - val_loss: 1.8562\n",
      "Epoch 279/300\n",
      "8/8 [==============================] - 0s 34ms/step - loss: 1.1812 - val_loss: 1.8361\n",
      "Epoch 280/300\n",
      "8/8 [==============================] - 0s 31ms/step - loss: 1.1554 - val_loss: 1.9040\n",
      "Epoch 281/300\n",
      "8/8 [==============================] - 0s 36ms/step - loss: 1.1910 - val_loss: 1.8570\n",
      "Epoch 282/300\n",
      "8/8 [==============================] - 0s 31ms/step - loss: 1.1781 - val_loss: 1.8330\n",
      "Epoch 283/300\n",
      "8/8 [==============================] - 0s 31ms/step - loss: 1.1721 - val_loss: 1.8438\n",
      "Epoch 284/300\n",
      "8/8 [==============================] - 0s 31ms/step - loss: 1.1801 - val_loss: 1.9331\n",
      "Epoch 285/300\n",
      "8/8 [==============================] - 0s 35ms/step - loss: 1.1763 - val_loss: 1.8702\n",
      "Epoch 286/300\n",
      "8/8 [==============================] - 0s 41ms/step - loss: 1.1683 - val_loss: 1.9156\n",
      "Epoch 287/300\n",
      "8/8 [==============================] - 0s 39ms/step - loss: 1.1713 - val_loss: 1.8565\n",
      "Epoch 288/300\n",
      "8/8 [==============================] - 0s 34ms/step - loss: 1.1292 - val_loss: 1.8556\n",
      "Epoch 289/300\n",
      "8/8 [==============================] - 0s 39ms/step - loss: 1.1385 - val_loss: 1.8259\n",
      "Epoch 290/300\n",
      "8/8 [==============================] - 0s 38ms/step - loss: 1.1685 - val_loss: 1.8568\n",
      "Epoch 291/300\n",
      "8/8 [==============================] - 0s 35ms/step - loss: 1.1507 - val_loss: 1.8751\n",
      "Epoch 292/300\n",
      "8/8 [==============================] - 0s 36ms/step - loss: 1.1571 - val_loss: 1.8317\n",
      "Epoch 293/300\n",
      "8/8 [==============================] - 0s 38ms/step - loss: 1.1330 - val_loss: 1.8616\n",
      "Epoch 294/300\n",
      "8/8 [==============================] - 0s 36ms/step - loss: 1.1204 - val_loss: 1.9367\n",
      "Epoch 295/300\n",
      "8/8 [==============================] - 0s 42ms/step - loss: 1.2169 - val_loss: 1.8962\n",
      "Epoch 296/300\n",
      "8/8 [==============================] - 0s 33ms/step - loss: 1.1670 - val_loss: 1.8564\n",
      "Epoch 297/300\n",
      "8/8 [==============================] - 0s 36ms/step - loss: 1.1499 - val_loss: 1.9286\n",
      "Epoch 298/300\n",
      "8/8 [==============================] - 0s 33ms/step - loss: 1.1979 - val_loss: 1.9017\n",
      "Epoch 299/300\n",
      "8/8 [==============================] - 0s 34ms/step - loss: 1.2441 - val_loss: 1.8882\n",
      "Epoch 300/300\n",
      "8/8 [==============================] - 0s 34ms/step - loss: 1.1833 - val_loss: 1.8509\n"
     ]
    },
    {
     "data": {
      "text/plain": [
       "2.018278121948242"
      ]
     },
     "execution_count": 73,
     "metadata": {},
     "output_type": "execute_result"
    },
    {
     "data": {
      "image/png": "[encoded data removed]",
      "text/plain": [
       "<Figure size 640x480 with 1 Axes>"
      ]
     },
     "metadata": {},
     "output_type": "display_data"
    }
   ],
   "source": [
    "dnn_model = build_and_compile_model(normalizer)\n",
    "history = dnn_model.fit(\n",
    "    X_train,\n",
    "    y_train,\n",
    "    validation_data=(X_val, y_val),\n",
    "    verbose=1, epochs=300, \n",
    "    callbacks=[tensorboard_callback])\n",
    "\n",
    "plot_loss(history)\n",
    "dnn_model.evaluate(X_test, y_test, verbose=0)"
   ]
  },
  {
   "cell_type": "code",
   "execution_count": 74,
   "metadata": {},
   "outputs": [
    {
     "name": "stdout",
     "output_type": "stream",
     "text": [
      "Model: \"sequential_6\"\n",
      "_________________________________________________________________\n",
      " Layer (type)                Output Shape              Param #   \n",
      "=================================================================\n",
      " normalization (Normalizatio  (None, 9)                19        \n",
      " n)                                                              \n",
      "                                                                 \n",
      " dense_16 (Dense)            (None, 128)               1280      \n",
      "                                                                 \n",
      " dense_17 (Dense)            (None, 64)                8256      \n",
      "                                                                 \n",
      " dense_18 (Dense)            (None, 1)                 65        \n",
      "                                                                 \n",
      "=================================================================\n",
      "Total params: 9,620\n",
      "Trainable params: 9,601\n",
      "Non-trainable params: 19\n",
      "_________________________________________________________________\n"
     ]
    }
   ],
   "source": [
    "def build_and_compile_model(norm):\n",
    "    model = keras.Sequential([\n",
    "      norm,\n",
    "      layers.Dense(128, activation='relu'),\n",
    "      layers.Dense(64, activation='relu'),\n",
    "      layers.Dense(1)\n",
    "    ])\n",
    "\n",
    "    model.compile(loss='mean_absolute_error',\n",
    "                optimizer=tf.keras.optimizers.Adam(0.001))\n",
    "    return model\n",
    "\n",
    "dnn_model = build_and_compile_model(normalizer)\n",
    "dnn_model.summary()"
   ]
  },
  {
   "cell_type": "code",
   "execution_count": 75,
   "metadata": {
    "scrolled": true
   },
   "outputs": [
    {
     "data": {
      "text/plain": [
       "1.9118101596832275"
      ]
     },
     "execution_count": 75,
     "metadata": {},
     "output_type": "execute_result"
    },
    {
     "data": {
      "image/png": "[encoded data removed]",
      "text/plain": [
       "<Figure size 640x480 with 1 Axes>"
      ]
     },
     "metadata": {},
     "output_type": "display_data"
    }
   ],
   "source": [
    "log_dir = \"logs/fit/128-43-relu\"\n",
    "tensorboard_callback = tf.keras.callbacks.TensorBoard(log_dir=log_dir, histogram_freq=1)\n",
    "\n",
    "dnn_model = build_and_compile_model(normalizer)\n",
    "history = dnn_model.fit(\n",
    "    X_train,\n",
    "    y_train,\n",
    "    validation_data=(X_val, y_val),\n",
    "    verbose=0, epochs=300, \n",
    "    callbacks=[tensorboard_callback])\n",
    "\n",
    "plot_loss(history)\n",
    "dnn_model.evaluate(X_test, y_test, verbose=0)"
   ]
  },
  {
   "cell_type": "markdown",
   "metadata": {},
   "source": [
    "### Добавление dropout"
   ]
  },
  {
   "cell_type": "code",
   "execution_count": null,
   "metadata": {},
   "outputs": [],
   "source": [
    "dnn_model = keras.Sequential([\n",
    "    layers.Dense(128, activation='relu'),\n",
    "    layers.Dropout(0.6),\n",
    "    layers.Dense(64, activation='relu'),\n",
    "    layers.Dropout(0.6),\n",
    "    layers.Dense(1)\n",
    "])\n",
    "\n",
    "dnn_model.compile(loss='mean_squared_error',\n",
    "            optimizer=tf.keras.optimizers.Adam(0.001))\n",
    "\n",
    "log_dir = \"logs/fit/128-do-64do\"\n",
    "tensorboard_callback = tf.keras.callbacks.TensorBoard(log_dir=log_dir, histogram_freq=1)\n",
    "\n",
    "dnn_model = build_and_compile_model(normalizer)\n",
    "history = dnn_model.fit(\n",
    "    X_train,\n",
    "    y_train,\n",
    "    validation_data=(X_val, y_val),\n",
    "    verbose=0, epochs=300, \n",
    "    callbacks=[tensorboard_callback])\n",
    "\n",
    "plot_loss(history)\n",
    "dnn_model.evaluate(X_test, y_test, verbose=0)"
   ]
  },
  {
   "cell_type": "code",
   "execution_count": 77,
   "metadata": {},
   "outputs": [
    {
     "data": {
      "text/plain": [
       "2.0171573162078857"
      ]
     },
     "execution_count": 77,
     "metadata": {},
     "output_type": "execute_result"
    },
    {
     "data": {
      "image/png": "[encoded data removed]",
      "text/plain": [
       "<Figure size 640x480 with 1 Axes>"
      ]
     },
     "metadata": {},
     "output_type": "display_data"
    }
   ],
   "source": [
    "dnn_model = keras.Sequential([\n",
    "    layers.Dense(24, activation='relu'),\n",
    "    layers.Dropout(0.8),\n",
    "    layers.Dense(1)\n",
    "])\n",
    "\n",
    "dnn_model.compile(loss='mean_absolute_error',\n",
    "            optimizer=tf.keras.optimizers.Adam(0.001))\n",
    "\n",
    "log_dir = \"logs/fit/\" + datetime.datetime.now().strftime(\"%Y%m%d-%H%M%S\")\n",
    "tensorboard_callback = tf.keras.callbacks.TensorBoard(log_dir=log_dir, histogram_freq=1)\n",
    "\n",
    "dnn_model = build_and_compile_model(normalizer)\n",
    "history = dnn_model.fit(\n",
    "    X_train,\n",
    "    y_train,\n",
    "    validation_data=(X_val, y_val),\n",
    "    verbose=0, epochs=300, \n",
    "    callbacks=[tensorboard_callback])\n",
    "\n",
    "plot_loss(history)\n",
    "dnn_model.evaluate(X_test, y_test, verbose=0)"
   ]
  },
  {
   "cell_type": "code",
   "execution_count": 78,
   "metadata": {},
   "outputs": [
    {
     "data": {
      "text/plain": [
       "1.9277966022491455"
      ]
     },
     "execution_count": 78,
     "metadata": {},
     "output_type": "execute_result"
    },
    {
     "data": {
      "image/png": "[encoded data removed]",
      "text/plain": [
       "<Figure size 640x480 with 1 Axes>"
      ]
     },
     "metadata": {},
     "output_type": "display_data"
    }
   ],
   "source": [
    "dnn_model = keras.Sequential([\n",
    "    layers.Dense(24, activation='relu'),\n",
    "    layers.Dropout(0.8),\n",
    "    layers.Dense(1)\n",
    "])\n",
    "\n",
    "dnn_model.compile(loss='mean_absolute_error',\n",
    "            optimizer=tf.keras.optimizers.RMSprop(0.01) )\n",
    "\n",
    "log_dir = \"logs/fit/\" + datetime.datetime.now().strftime(\"%Y%m%d-%H%M%S\")\n",
    "tensorboard_callback = tf.keras.callbacks.TensorBoard(log_dir=log_dir, histogram_freq=1)\n",
    "\n",
    "dnn_model = build_and_compile_model(normalizer)\n",
    "history = dnn_model.fit(\n",
    "    X_train,\n",
    "    y_train,\n",
    "    validation_data=(X_val, y_val),\n",
    "    verbose=0, epochs=300, \n",
    "    callbacks=[tensorboard_callback])\n",
    "\n",
    "plot_loss(history)\n",
    "dnn_model.evaluate(X_test, y_test, verbose=0)"
   ]
  },
  {
   "cell_type": "code",
   "execution_count": null,
   "metadata": {},
   "outputs": [],
   "source": []
  },
  {
   "cell_type": "markdown",
   "metadata": {},
   "source": [
    "## Случайный лес"
   ]
  },
  {
   "cell_type": "code",
   "execution_count": 79,
   "metadata": {},
   "outputs": [],
   "source": [
    "from sklearn.ensemble import RandomForestRegressor\n",
    "from sklearn.linear_model import Lasso\n",
    "from sklearn.model_selection import GridSearchCV\n",
    "from sklearn.neighbors import KNeighborsRegressor\n",
    "from sklearn.model_selection import train_test_split"
   ]
  },
  {
   "cell_type": "code",
   "execution_count": 80,
   "metadata": {},
   "outputs": [],
   "source": [
    "X_train, X_test, y_train, y_test = train_test_split(X, y, test_size=0.2, random_state=1)"
   ]
  },
  {
   "cell_type": "code",
   "execution_count": 81,
   "metadata": {
    "scrolled": true
   },
   "outputs": [
    {
     "name": "stdout",
     "output_type": "stream",
     "text": [
      "Fitting 5 folds for each of 27 candidates, totalling 135 fits\n",
      "[CV] criterion=squared_error, max_depth=4, max_features=auto, n_estimators=100 \n",
      "[CV]  criterion=squared_error, max_depth=4, max_features=auto, n_estimators=100, total=   0.0s\n",
      "[CV] criterion=squared_error, max_depth=4, max_features=auto, n_estimators=100 \n",
      "[CV]  criterion=squared_error, max_depth=4, max_features=auto, n_estimators=100, total=   0.0s\n",
      "[CV] criterion=squared_error, max_depth=4, max_features=auto, n_estimators=100 \n",
      "[CV]  criterion=squared_error, max_depth=4, max_features=auto, n_estimators=100, total=   0.0s\n",
      "[CV] criterion=squared_error, max_depth=4, max_features=auto, n_estimators=100 \n",
      "[CV]  criterion=squared_error, max_depth=4, max_features=auto, n_estimators=100, total=   0.0s\n",
      "[CV] criterion=squared_error, max_depth=4, max_features=auto, n_estimators=100 \n",
      "[CV]  criterion=squared_error, max_depth=4, max_features=auto, n_estimators=100, total=   0.0s\n",
      "[CV] criterion=squared_error, max_depth=4, max_features=auto, n_estimators=200 \n",
      "[CV]  criterion=squared_error, max_depth=4, max_features=auto, n_estimators=200, total=   0.0s\n",
      "[CV] criterion=squared_error, max_depth=4, max_features=auto, n_estimators=200 \n",
      "[CV]  criterion=squared_error, max_depth=4, max_features=auto, n_estimators=200, total=   0.1s\n",
      "[CV] criterion=squared_error, max_depth=4, max_features=auto, n_estimators=200 \n"
     ]
    },
    {
     "name": "stderr",
     "output_type": "stream",
     "text": [
      "[Parallel(n_jobs=1)]: Using backend SequentialBackend with 1 concurrent workers.\n",
      "C:\\Users\\VA\\anaconda3\\lib\\site-packages\\sklearn\\model_selection\\_validation.py:532: FitFailedWarning: Estimator fit failed. The score on this train-test partition for these parameters will be set to nan. Details: \n",
      "KeyError: 'squared_error'\n",
      "\n",
      "  warnings.warn(\"Estimator fit failed. The score on this train-test\"\n",
      "[Parallel(n_jobs=1)]: Done   1 out of   1 | elapsed:    0.0s remaining:    0.0s\n",
      "C:\\Users\\VA\\anaconda3\\lib\\site-packages\\sklearn\\model_selection\\_validation.py:532: FitFailedWarning: Estimator fit failed. The score on this train-test partition for these parameters will be set to nan. Details: \n",
      "KeyError: 'squared_error'\n",
      "\n",
      "  warnings.warn(\"Estimator fit failed. The score on this train-test\"\n",
      "C:\\Users\\VA\\anaconda3\\lib\\site-packages\\sklearn\\model_selection\\_validation.py:532: FitFailedWarning: Estimator fit failed. The score on this train-test partition for these parameters will be set to nan. Details: \n",
      "KeyError: 'squared_error'\n",
      "\n",
      "  warnings.warn(\"Estimator fit failed. The score on this train-test\"\n",
      "C:\\Users\\VA\\anaconda3\\lib\\site-packages\\sklearn\\model_selection\\_validation.py:532: FitFailedWarning: Estimator fit failed. The score on this train-test partition for these parameters will be set to nan. Details: \n",
      "KeyError: 'squared_error'\n",
      "\n",
      "  warnings.warn(\"Estimator fit failed. The score on this train-test\"\n",
      "C:\\Users\\VA\\anaconda3\\lib\\site-packages\\sklearn\\model_selection\\_validation.py:532: FitFailedWarning: Estimator fit failed. The score on this train-test partition for these parameters will be set to nan. Details: \n",
      "KeyError: 'squared_error'\n",
      "\n",
      "  warnings.warn(\"Estimator fit failed. The score on this train-test\"\n",
      "C:\\Users\\VA\\anaconda3\\lib\\site-packages\\sklearn\\model_selection\\_validation.py:532: FitFailedWarning: Estimator fit failed. The score on this train-test partition for these parameters will be set to nan. Details: \n",
      "KeyError: 'squared_error'\n",
      "\n",
      "  warnings.warn(\"Estimator fit failed. The score on this train-test\"\n",
      "C:\\Users\\VA\\anaconda3\\lib\\site-packages\\sklearn\\model_selection\\_validation.py:532: FitFailedWarning: Estimator fit failed. The score on this train-test partition for these parameters will be set to nan. Details: \n",
      "KeyError: 'squared_error'\n",
      "\n",
      "  warnings.warn(\"Estimator fit failed. The score on this train-test\"\n",
      "C:\\Users\\VA\\anaconda3\\lib\\site-packages\\sklearn\\model_selection\\_validation.py:532: FitFailedWarning: Estimator fit failed. The score on this train-test partition for these parameters will be set to nan. Details: \n",
      "KeyError: 'squared_error'\n",
      "\n",
      "  warnings.warn(\"Estimator fit failed. The score on this train-test\"\n",
      "C:\\Users\\VA\\anaconda3\\lib\\site-packages\\sklearn\\model_selection\\_validation.py:532: FitFailedWarning: Estimator fit failed. The score on this train-test partition for these parameters will be set to nan. Details: \n",
      "KeyError: 'squared_error'\n",
      "\n",
      "  warnings.warn(\"Estimator fit failed. The score on this train-test\"\n",
      "C:\\Users\\VA\\anaconda3\\lib\\site-packages\\sklearn\\model_selection\\_validation.py:532: FitFailedWarning: Estimator fit failed. The score on this train-test partition for these parameters will be set to nan. Details: \n",
      "KeyError: 'squared_error'\n",
      "\n",
      "  warnings.warn(\"Estimator fit failed. The score on this train-test\"\n",
      "C:\\Users\\VA\\anaconda3\\lib\\site-packages\\sklearn\\model_selection\\_validation.py:532: FitFailedWarning: Estimator fit failed. The score on this train-test partition for these parameters will be set to nan. Details: \n",
      "KeyError: 'squared_error'\n",
      "\n",
      "  warnings.warn(\"Estimator fit failed. The score on this train-test\"\n"
     ]
    },
    {
     "name": "stdout",
     "output_type": "stream",
     "text": [
      "[CV]  criterion=squared_error, max_depth=4, max_features=auto, n_estimators=200, total=   0.1s\n",
      "[CV] criterion=squared_error, max_depth=4, max_features=auto, n_estimators=200 \n",
      "[CV]  criterion=squared_error, max_depth=4, max_features=auto, n_estimators=200, total=   0.0s\n",
      "[CV] criterion=squared_error, max_depth=4, max_features=auto, n_estimators=200 \n",
      "[CV]  criterion=squared_error, max_depth=4, max_features=auto, n_estimators=200, total=   0.0s\n",
      "[CV] criterion=squared_error, max_depth=4, max_features=auto, n_estimators=500 \n",
      "[CV]  criterion=squared_error, max_depth=4, max_features=auto, n_estimators=500, total=   0.1s\n",
      "[CV] criterion=squared_error, max_depth=4, max_features=auto, n_estimators=500 \n"
     ]
    },
    {
     "name": "stderr",
     "output_type": "stream",
     "text": [
      "C:\\Users\\VA\\anaconda3\\lib\\site-packages\\sklearn\\model_selection\\_validation.py:532: FitFailedWarning: Estimator fit failed. The score on this train-test partition for these parameters will be set to nan. Details: \n",
      "KeyError: 'squared_error'\n",
      "\n",
      "  warnings.warn(\"Estimator fit failed. The score on this train-test\"\n",
      "C:\\Users\\VA\\anaconda3\\lib\\site-packages\\sklearn\\model_selection\\_validation.py:532: FitFailedWarning: Estimator fit failed. The score on this train-test partition for these parameters will be set to nan. Details: \n",
      "KeyError: 'squared_error'\n",
      "\n",
      "  warnings.warn(\"Estimator fit failed. The score on this train-test\"\n"
     ]
    },
    {
     "name": "stdout",
     "output_type": "stream",
     "text": [
      "[CV]  criterion=squared_error, max_depth=4, max_features=auto, n_estimators=500, total=   0.1s\n",
      "[CV] criterion=squared_error, max_depth=4, max_features=auto, n_estimators=500 \n",
      "[CV]  criterion=squared_error, max_depth=4, max_features=auto, n_estimators=500, total=   0.1s\n",
      "[CV] criterion=squared_error, max_depth=4, max_features=auto, n_estimators=500 \n"
     ]
    },
    {
     "name": "stderr",
     "output_type": "stream",
     "text": [
      "C:\\Users\\VA\\anaconda3\\lib\\site-packages\\sklearn\\model_selection\\_validation.py:532: FitFailedWarning: Estimator fit failed. The score on this train-test partition for these parameters will be set to nan. Details: \n",
      "KeyError: 'squared_error'\n",
      "\n",
      "  warnings.warn(\"Estimator fit failed. The score on this train-test\"\n",
      "C:\\Users\\VA\\anaconda3\\lib\\site-packages\\sklearn\\model_selection\\_validation.py:532: FitFailedWarning: Estimator fit failed. The score on this train-test partition for these parameters will be set to nan. Details: \n",
      "KeyError: 'squared_error'\n",
      "\n",
      "  warnings.warn(\"Estimator fit failed. The score on this train-test\"\n",
      "C:\\Users\\VA\\anaconda3\\lib\\site-packages\\sklearn\\model_selection\\_validation.py:532: FitFailedWarning: Estimator fit failed. The score on this train-test partition for these parameters will be set to nan. Details: \n",
      "KeyError: 'squared_error'\n",
      "\n",
      "  warnings.warn(\"Estimator fit failed. The score on this train-test\"\n",
      "C:\\Users\\VA\\anaconda3\\lib\\site-packages\\sklearn\\model_selection\\_validation.py:532: FitFailedWarning: Estimator fit failed. The score on this train-test partition for these parameters will be set to nan. Details: \n",
      "KeyError: 'squared_error'\n",
      "\n",
      "  warnings.warn(\"Estimator fit failed. The score on this train-test\"\n",
      "C:\\Users\\VA\\anaconda3\\lib\\site-packages\\sklearn\\model_selection\\_validation.py:532: FitFailedWarning: Estimator fit failed. The score on this train-test partition for these parameters will be set to nan. Details: \n",
      "KeyError: 'squared_error'\n",
      "\n",
      "  warnings.warn(\"Estimator fit failed. The score on this train-test\"\n",
      "C:\\Users\\VA\\anaconda3\\lib\\site-packages\\sklearn\\model_selection\\_validation.py:532: FitFailedWarning: Estimator fit failed. The score on this train-test partition for these parameters will be set to nan. Details: \n",
      "KeyError: 'squared_error'\n",
      "\n",
      "  warnings.warn(\"Estimator fit failed. The score on this train-test\"\n",
      "C:\\Users\\VA\\anaconda3\\lib\\site-packages\\sklearn\\model_selection\\_validation.py:532: FitFailedWarning: Estimator fit failed. The score on this train-test partition for these parameters will be set to nan. Details: \n",
      "KeyError: 'squared_error'\n",
      "\n",
      "  warnings.warn(\"Estimator fit failed. The score on this train-test\"\n"
     ]
    },
    {
     "name": "stdout",
     "output_type": "stream",
     "text": [
      "[CV]  criterion=squared_error, max_depth=4, max_features=auto, n_estimators=500, total=   0.1s\n",
      "[CV] criterion=squared_error, max_depth=4, max_features=auto, n_estimators=500 \n",
      "[CV]  criterion=squared_error, max_depth=4, max_features=auto, n_estimators=500, total=   0.1s\n",
      "[CV] criterion=squared_error, max_depth=4, max_features=sqrt, n_estimators=100 \n",
      "[CV]  criterion=squared_error, max_depth=4, max_features=sqrt, n_estimators=100, total=   0.0s\n",
      "[CV] criterion=squared_error, max_depth=4, max_features=sqrt, n_estimators=100 \n",
      "[CV]  criterion=squared_error, max_depth=4, max_features=sqrt, n_estimators=100, total=   0.0s\n",
      "[CV] criterion=squared_error, max_depth=4, max_features=sqrt, n_estimators=100 \n",
      "[CV]  criterion=squared_error, max_depth=4, max_features=sqrt, n_estimators=100, total=   0.0s\n",
      "[CV] criterion=squared_error, max_depth=4, max_features=sqrt, n_estimators=100 \n",
      "[CV]  criterion=squared_error, max_depth=4, max_features=sqrt, n_estimators=100, total=   0.0s\n",
      "[CV] criterion=squared_error, max_depth=4, max_features=sqrt, n_estimators=100 \n",
      "[CV]  criterion=squared_error, max_depth=4, max_features=sqrt, n_estimators=100, total=   0.0s\n",
      "[CV] criterion=squared_error, max_depth=4, max_features=sqrt, n_estimators=200 \n"
     ]
    },
    {
     "name": "stderr",
     "output_type": "stream",
     "text": [
      "C:\\Users\\VA\\anaconda3\\lib\\site-packages\\sklearn\\model_selection\\_validation.py:532: FitFailedWarning: Estimator fit failed. The score on this train-test partition for these parameters will be set to nan. Details: \n",
      "KeyError: 'squared_error'\n",
      "\n",
      "  warnings.warn(\"Estimator fit failed. The score on this train-test\"\n",
      "C:\\Users\\VA\\anaconda3\\lib\\site-packages\\sklearn\\model_selection\\_validation.py:532: FitFailedWarning: Estimator fit failed. The score on this train-test partition for these parameters will be set to nan. Details: \n",
      "KeyError: 'squared_error'\n",
      "\n",
      "  warnings.warn(\"Estimator fit failed. The score on this train-test\"\n",
      "C:\\Users\\VA\\anaconda3\\lib\\site-packages\\sklearn\\model_selection\\_validation.py:532: FitFailedWarning: Estimator fit failed. The score on this train-test partition for these parameters will be set to nan. Details: \n",
      "KeyError: 'squared_error'\n",
      "\n",
      "  warnings.warn(\"Estimator fit failed. The score on this train-test\"\n",
      "C:\\Users\\VA\\anaconda3\\lib\\site-packages\\sklearn\\model_selection\\_validation.py:532: FitFailedWarning: Estimator fit failed. The score on this train-test partition for these parameters will be set to nan. Details: \n",
      "KeyError: 'squared_error'\n",
      "\n",
      "  warnings.warn(\"Estimator fit failed. The score on this train-test\"\n",
      "C:\\Users\\VA\\anaconda3\\lib\\site-packages\\sklearn\\model_selection\\_validation.py:532: FitFailedWarning: Estimator fit failed. The score on this train-test partition for these parameters will be set to nan. Details: \n",
      "KeyError: 'squared_error'\n",
      "\n",
      "  warnings.warn(\"Estimator fit failed. The score on this train-test\"\n"
     ]
    },
    {
     "name": "stdout",
     "output_type": "stream",
     "text": [
      "[CV]  criterion=squared_error, max_depth=4, max_features=sqrt, n_estimators=200, total=   0.1s\n",
      "[CV] criterion=squared_error, max_depth=4, max_features=sqrt, n_estimators=200 \n",
      "[CV]  criterion=squared_error, max_depth=4, max_features=sqrt, n_estimators=200, total=   0.1s\n",
      "[CV] criterion=squared_error, max_depth=4, max_features=sqrt, n_estimators=200 \n",
      "[CV]  criterion=squared_error, max_depth=4, max_features=sqrt, n_estimators=200, total=   0.0s\n",
      "[CV] criterion=squared_error, max_depth=4, max_features=sqrt, n_estimators=200 \n",
      "[CV]  criterion=squared_error, max_depth=4, max_features=sqrt, n_estimators=200, total=   0.1s\n",
      "[CV] criterion=squared_error, max_depth=4, max_features=sqrt, n_estimators=200 \n",
      "[CV]  criterion=squared_error, max_depth=4, max_features=sqrt, n_estimators=200, total=   0.1s\n",
      "[CV] criterion=squared_error, max_depth=4, max_features=sqrt, n_estimators=500 \n"
     ]
    },
    {
     "name": "stderr",
     "output_type": "stream",
     "text": [
      "C:\\Users\\VA\\anaconda3\\lib\\site-packages\\sklearn\\model_selection\\_validation.py:532: FitFailedWarning: Estimator fit failed. The score on this train-test partition for these parameters will be set to nan. Details: \n",
      "KeyError: 'squared_error'\n",
      "\n",
      "  warnings.warn(\"Estimator fit failed. The score on this train-test\"\n",
      "C:\\Users\\VA\\anaconda3\\lib\\site-packages\\sklearn\\model_selection\\_validation.py:532: FitFailedWarning: Estimator fit failed. The score on this train-test partition for these parameters will be set to nan. Details: \n",
      "KeyError: 'squared_error'\n",
      "\n",
      "  warnings.warn(\"Estimator fit failed. The score on this train-test\"\n",
      "C:\\Users\\VA\\anaconda3\\lib\\site-packages\\sklearn\\model_selection\\_validation.py:532: FitFailedWarning: Estimator fit failed. The score on this train-test partition for these parameters will be set to nan. Details: \n",
      "KeyError: 'squared_error'\n",
      "\n",
      "  warnings.warn(\"Estimator fit failed. The score on this train-test\"\n"
     ]
    },
    {
     "name": "stdout",
     "output_type": "stream",
     "text": [
      "[CV]  criterion=squared_error, max_depth=4, max_features=sqrt, n_estimators=500, total=   0.1s\n",
      "[CV] criterion=squared_error, max_depth=4, max_features=sqrt, n_estimators=500 \n",
      "[CV]  criterion=squared_error, max_depth=4, max_features=sqrt, n_estimators=500, total=   0.1s\n",
      "[CV] criterion=squared_error, max_depth=4, max_features=sqrt, n_estimators=500 \n",
      "[CV]  criterion=squared_error, max_depth=4, max_features=sqrt, n_estimators=500, total=   0.1s\n",
      "[CV] criterion=squared_error, max_depth=4, max_features=sqrt, n_estimators=500 \n"
     ]
    },
    {
     "name": "stderr",
     "output_type": "stream",
     "text": [
      "C:\\Users\\VA\\anaconda3\\lib\\site-packages\\sklearn\\model_selection\\_validation.py:532: FitFailedWarning: Estimator fit failed. The score on this train-test partition for these parameters will be set to nan. Details: \n",
      "KeyError: 'squared_error'\n",
      "\n",
      "  warnings.warn(\"Estimator fit failed. The score on this train-test\"\n",
      "C:\\Users\\VA\\anaconda3\\lib\\site-packages\\sklearn\\model_selection\\_validation.py:532: FitFailedWarning: Estimator fit failed. The score on this train-test partition for these parameters will be set to nan. Details: \n",
      "KeyError: 'squared_error'\n",
      "\n",
      "  warnings.warn(\"Estimator fit failed. The score on this train-test\"\n",
      "C:\\Users\\VA\\anaconda3\\lib\\site-packages\\sklearn\\model_selection\\_validation.py:532: FitFailedWarning: Estimator fit failed. The score on this train-test partition for these parameters will be set to nan. Details: \n",
      "KeyError: 'squared_error'\n",
      "\n",
      "  warnings.warn(\"Estimator fit failed. The score on this train-test\"\n",
      "C:\\Users\\VA\\anaconda3\\lib\\site-packages\\sklearn\\model_selection\\_validation.py:532: FitFailedWarning: Estimator fit failed. The score on this train-test partition for these parameters will be set to nan. Details: \n",
      "KeyError: 'squared_error'\n",
      "\n",
      "  warnings.warn(\"Estimator fit failed. The score on this train-test\"\n",
      "C:\\Users\\VA\\anaconda3\\lib\\site-packages\\sklearn\\model_selection\\_validation.py:532: FitFailedWarning: Estimator fit failed. The score on this train-test partition for these parameters will be set to nan. Details: \n",
      "KeyError: 'squared_error'\n",
      "\n",
      "  warnings.warn(\"Estimator fit failed. The score on this train-test\"\n",
      "C:\\Users\\VA\\anaconda3\\lib\\site-packages\\sklearn\\model_selection\\_validation.py:532: FitFailedWarning: Estimator fit failed. The score on this train-test partition for these parameters will be set to nan. Details: \n",
      "KeyError: 'squared_error'\n",
      "\n",
      "  warnings.warn(\"Estimator fit failed. The score on this train-test\"\n"
     ]
    },
    {
     "name": "stdout",
     "output_type": "stream",
     "text": [
      "[CV]  criterion=squared_error, max_depth=4, max_features=sqrt, n_estimators=500, total=   0.1s\n",
      "[CV] criterion=squared_error, max_depth=4, max_features=sqrt, n_estimators=500 \n",
      "[CV]  criterion=squared_error, max_depth=4, max_features=sqrt, n_estimators=500, total=   0.1s\n",
      "[CV] criterion=squared_error, max_depth=4, max_features=log2, n_estimators=100 \n",
      "[CV]  criterion=squared_error, max_depth=4, max_features=log2, n_estimators=100, total=   0.0s\n",
      "[CV] criterion=squared_error, max_depth=4, max_features=log2, n_estimators=100 \n",
      "[CV]  criterion=squared_error, max_depth=4, max_features=log2, n_estimators=100, total=   0.0s\n",
      "[CV] criterion=squared_error, max_depth=4, max_features=log2, n_estimators=100 \n",
      "[CV]  criterion=squared_error, max_depth=4, max_features=log2, n_estimators=100, total=   0.0s\n",
      "[CV] criterion=squared_error, max_depth=4, max_features=log2, n_estimators=100 \n",
      "[CV]  criterion=squared_error, max_depth=4, max_features=log2, n_estimators=100, total=   0.0s\n",
      "[CV] criterion=squared_error, max_depth=4, max_features=log2, n_estimators=100 \n"
     ]
    },
    {
     "name": "stderr",
     "output_type": "stream",
     "text": [
      "C:\\Users\\VA\\anaconda3\\lib\\site-packages\\sklearn\\model_selection\\_validation.py:532: FitFailedWarning: Estimator fit failed. The score on this train-test partition for these parameters will be set to nan. Details: \n",
      "KeyError: 'squared_error'\n",
      "\n",
      "  warnings.warn(\"Estimator fit failed. The score on this train-test\"\n",
      "C:\\Users\\VA\\anaconda3\\lib\\site-packages\\sklearn\\model_selection\\_validation.py:532: FitFailedWarning: Estimator fit failed. The score on this train-test partition for these parameters will be set to nan. Details: \n",
      "KeyError: 'squared_error'\n",
      "\n",
      "  warnings.warn(\"Estimator fit failed. The score on this train-test\"\n",
      "C:\\Users\\VA\\anaconda3\\lib\\site-packages\\sklearn\\model_selection\\_validation.py:532: FitFailedWarning: Estimator fit failed. The score on this train-test partition for these parameters will be set to nan. Details: \n",
      "KeyError: 'squared_error'\n",
      "\n",
      "  warnings.warn(\"Estimator fit failed. The score on this train-test\"\n",
      "C:\\Users\\VA\\anaconda3\\lib\\site-packages\\sklearn\\model_selection\\_validation.py:532: FitFailedWarning: Estimator fit failed. The score on this train-test partition for these parameters will be set to nan. Details: \n",
      "KeyError: 'squared_error'\n",
      "\n",
      "  warnings.warn(\"Estimator fit failed. The score on this train-test\"\n",
      "C:\\Users\\VA\\anaconda3\\lib\\site-packages\\sklearn\\model_selection\\_validation.py:532: FitFailedWarning: Estimator fit failed. The score on this train-test partition for these parameters will be set to nan. Details: \n",
      "KeyError: 'squared_error'\n",
      "\n",
      "  warnings.warn(\"Estimator fit failed. The score on this train-test\"\n",
      "C:\\Users\\VA\\anaconda3\\lib\\site-packages\\sklearn\\model_selection\\_validation.py:532: FitFailedWarning: Estimator fit failed. The score on this train-test partition for these parameters will be set to nan. Details: \n",
      "KeyError: 'squared_error'\n",
      "\n",
      "  warnings.warn(\"Estimator fit failed. The score on this train-test\"\n"
     ]
    },
    {
     "name": "stdout",
     "output_type": "stream",
     "text": [
      "[CV]  criterion=squared_error, max_depth=4, max_features=log2, n_estimators=100, total=   0.0s\n",
      "[CV] criterion=squared_error, max_depth=4, max_features=log2, n_estimators=200 \n",
      "[CV]  criterion=squared_error, max_depth=4, max_features=log2, n_estimators=200, total=   0.0s\n",
      "[CV] criterion=squared_error, max_depth=4, max_features=log2, n_estimators=200 \n",
      "[CV]  criterion=squared_error, max_depth=4, max_features=log2, n_estimators=200, total=   0.0s\n",
      "[CV] criterion=squared_error, max_depth=4, max_features=log2, n_estimators=200 \n",
      "[CV]  criterion=squared_error, max_depth=4, max_features=log2, n_estimators=200, total=   0.0s\n",
      "[CV] criterion=squared_error, max_depth=4, max_features=log2, n_estimators=200 \n",
      "[CV]  criterion=squared_error, max_depth=4, max_features=log2, n_estimators=200, total=   0.0s\n",
      "[CV] criterion=squared_error, max_depth=4, max_features=log2, n_estimators=200 \n",
      "[CV]  criterion=squared_error, max_depth=4, max_features=log2, n_estimators=200, total=   0.0s\n",
      "[CV] criterion=squared_error, max_depth=4, max_features=log2, n_estimators=500 \n"
     ]
    },
    {
     "name": "stderr",
     "output_type": "stream",
     "text": [
      "C:\\Users\\VA\\anaconda3\\lib\\site-packages\\sklearn\\model_selection\\_validation.py:532: FitFailedWarning: Estimator fit failed. The score on this train-test partition for these parameters will be set to nan. Details: \n",
      "KeyError: 'squared_error'\n",
      "\n",
      "  warnings.warn(\"Estimator fit failed. The score on this train-test\"\n",
      "C:\\Users\\VA\\anaconda3\\lib\\site-packages\\sklearn\\model_selection\\_validation.py:532: FitFailedWarning: Estimator fit failed. The score on this train-test partition for these parameters will be set to nan. Details: \n",
      "KeyError: 'squared_error'\n",
      "\n",
      "  warnings.warn(\"Estimator fit failed. The score on this train-test\"\n"
     ]
    },
    {
     "name": "stdout",
     "output_type": "stream",
     "text": [
      "[CV]  criterion=squared_error, max_depth=4, max_features=log2, n_estimators=500, total=   0.1s\n",
      "[CV] criterion=squared_error, max_depth=4, max_features=log2, n_estimators=500 \n",
      "[CV]  criterion=squared_error, max_depth=4, max_features=log2, n_estimators=500, total=   0.1s\n",
      "[CV] criterion=squared_error, max_depth=4, max_features=log2, n_estimators=500 \n"
     ]
    },
    {
     "name": "stderr",
     "output_type": "stream",
     "text": [
      "C:\\Users\\VA\\anaconda3\\lib\\site-packages\\sklearn\\model_selection\\_validation.py:532: FitFailedWarning: Estimator fit failed. The score on this train-test partition for these parameters will be set to nan. Details: \n",
      "KeyError: 'squared_error'\n",
      "\n",
      "  warnings.warn(\"Estimator fit failed. The score on this train-test\"\n",
      "C:\\Users\\VA\\anaconda3\\lib\\site-packages\\sklearn\\model_selection\\_validation.py:532: FitFailedWarning: Estimator fit failed. The score on this train-test partition for these parameters will be set to nan. Details: \n",
      "KeyError: 'squared_error'\n",
      "\n",
      "  warnings.warn(\"Estimator fit failed. The score on this train-test\"\n",
      "C:\\Users\\VA\\anaconda3\\lib\\site-packages\\sklearn\\model_selection\\_validation.py:532: FitFailedWarning: Estimator fit failed. The score on this train-test partition for these parameters will be set to nan. Details: \n",
      "KeyError: 'squared_error'\n",
      "\n",
      "  warnings.warn(\"Estimator fit failed. The score on this train-test\"\n",
      "C:\\Users\\VA\\anaconda3\\lib\\site-packages\\sklearn\\model_selection\\_validation.py:532: FitFailedWarning: Estimator fit failed. The score on this train-test partition for these parameters will be set to nan. Details: \n",
      "KeyError: 'squared_error'\n",
      "\n",
      "  warnings.warn(\"Estimator fit failed. The score on this train-test\"\n"
     ]
    },
    {
     "name": "stdout",
     "output_type": "stream",
     "text": [
      "[CV]  criterion=squared_error, max_depth=4, max_features=log2, n_estimators=500, total=   0.1s\n",
      "[CV] criterion=squared_error, max_depth=4, max_features=log2, n_estimators=500 \n",
      "[CV]  criterion=squared_error, max_depth=4, max_features=log2, n_estimators=500, total=   0.1s\n",
      "[CV] criterion=squared_error, max_depth=4, max_features=log2, n_estimators=500 \n",
      "[CV]  criterion=squared_error, max_depth=4, max_features=log2, n_estimators=500, total=   0.1s\n",
      "[CV] criterion=squared_error, max_depth=5, max_features=auto, n_estimators=100 \n",
      "[CV]  criterion=squared_error, max_depth=5, max_features=auto, n_estimators=100, total=   0.0s\n",
      "[CV] criterion=squared_error, max_depth=5, max_features=auto, n_estimators=100 \n"
     ]
    },
    {
     "name": "stderr",
     "output_type": "stream",
     "text": [
      "C:\\Users\\VA\\anaconda3\\lib\\site-packages\\sklearn\\model_selection\\_validation.py:532: FitFailedWarning: Estimator fit failed. The score on this train-test partition for these parameters will be set to nan. Details: \n",
      "KeyError: 'squared_error'\n",
      "\n",
      "  warnings.warn(\"Estimator fit failed. The score on this train-test\"\n",
      "C:\\Users\\VA\\anaconda3\\lib\\site-packages\\sklearn\\model_selection\\_validation.py:532: FitFailedWarning: Estimator fit failed. The score on this train-test partition for these parameters will be set to nan. Details: \n",
      "KeyError: 'squared_error'\n",
      "\n",
      "  warnings.warn(\"Estimator fit failed. The score on this train-test\"\n",
      "C:\\Users\\VA\\anaconda3\\lib\\site-packages\\sklearn\\model_selection\\_validation.py:532: FitFailedWarning: Estimator fit failed. The score on this train-test partition for these parameters will be set to nan. Details: \n",
      "KeyError: 'squared_error'\n",
      "\n",
      "  warnings.warn(\"Estimator fit failed. The score on this train-test\"\n",
      "C:\\Users\\VA\\anaconda3\\lib\\site-packages\\sklearn\\model_selection\\_validation.py:532: FitFailedWarning: Estimator fit failed. The score on this train-test partition for these parameters will be set to nan. Details: \n",
      "KeyError: 'squared_error'\n",
      "\n",
      "  warnings.warn(\"Estimator fit failed. The score on this train-test\"\n",
      "C:\\Users\\VA\\anaconda3\\lib\\site-packages\\sklearn\\model_selection\\_validation.py:532: FitFailedWarning: Estimator fit failed. The score on this train-test partition for these parameters will be set to nan. Details: \n",
      "KeyError: 'squared_error'\n",
      "\n",
      "  warnings.warn(\"Estimator fit failed. The score on this train-test\"\n",
      "C:\\Users\\VA\\anaconda3\\lib\\site-packages\\sklearn\\model_selection\\_validation.py:532: FitFailedWarning: Estimator fit failed. The score on this train-test partition for these parameters will be set to nan. Details: \n",
      "KeyError: 'squared_error'\n",
      "\n",
      "  warnings.warn(\"Estimator fit failed. The score on this train-test\"\n",
      "C:\\Users\\VA\\anaconda3\\lib\\site-packages\\sklearn\\model_selection\\_validation.py:532: FitFailedWarning: Estimator fit failed. The score on this train-test partition for these parameters will be set to nan. Details: \n",
      "KeyError: 'squared_error'\n",
      "\n",
      "  warnings.warn(\"Estimator fit failed. The score on this train-test\"\n",
      "C:\\Users\\VA\\anaconda3\\lib\\site-packages\\sklearn\\model_selection\\_validation.py:532: FitFailedWarning: Estimator fit failed. The score on this train-test partition for these parameters will be set to nan. Details: \n",
      "KeyError: 'squared_error'\n",
      "\n",
      "  warnings.warn(\"Estimator fit failed. The score on this train-test\"\n",
      "C:\\Users\\VA\\anaconda3\\lib\\site-packages\\sklearn\\model_selection\\_validation.py:532: FitFailedWarning: Estimator fit failed. The score on this train-test partition for these parameters will be set to nan. Details: \n",
      "KeyError: 'squared_error'\n",
      "\n",
      "  warnings.warn(\"Estimator fit failed. The score on this train-test\"\n"
     ]
    },
    {
     "name": "stdout",
     "output_type": "stream",
     "text": [
      "[CV]  criterion=squared_error, max_depth=5, max_features=auto, n_estimators=100, total=   0.0s\n",
      "[CV] criterion=squared_error, max_depth=5, max_features=auto, n_estimators=100 \n",
      "[CV]  criterion=squared_error, max_depth=5, max_features=auto, n_estimators=100, total=   0.0s\n",
      "[CV] criterion=squared_error, max_depth=5, max_features=auto, n_estimators=100 \n",
      "[CV]  criterion=squared_error, max_depth=5, max_features=auto, n_estimators=100, total=   0.0s\n",
      "[CV] criterion=squared_error, max_depth=5, max_features=auto, n_estimators=100 \n",
      "[CV]  criterion=squared_error, max_depth=5, max_features=auto, n_estimators=100, total=   0.0s\n",
      "[CV] criterion=squared_error, max_depth=5, max_features=auto, n_estimators=200 \n",
      "[CV]  criterion=squared_error, max_depth=5, max_features=auto, n_estimators=200, total=   0.0s\n",
      "[CV] criterion=squared_error, max_depth=5, max_features=auto, n_estimators=200 \n",
      "[CV]  criterion=squared_error, max_depth=5, max_features=auto, n_estimators=200, total=   0.0s\n",
      "[CV] criterion=squared_error, max_depth=5, max_features=auto, n_estimators=200 \n",
      "[CV]  criterion=squared_error, max_depth=5, max_features=auto, n_estimators=200, total=   0.0s\n",
      "[CV] criterion=squared_error, max_depth=5, max_features=auto, n_estimators=200 \n",
      "[CV]  criterion=squared_error, max_depth=5, max_features=auto, n_estimators=200, total=   0.0s\n",
      "[CV] criterion=squared_error, max_depth=5, max_features=auto, n_estimators=200 \n",
      "[CV]  criterion=squared_error, max_depth=5, max_features=auto, n_estimators=200, total=   0.0s\n",
      "[CV] criterion=squared_error, max_depth=5, max_features=auto, n_estimators=500 \n"
     ]
    },
    {
     "name": "stderr",
     "output_type": "stream",
     "text": [
      "C:\\Users\\VA\\anaconda3\\lib\\site-packages\\sklearn\\model_selection\\_validation.py:532: FitFailedWarning: Estimator fit failed. The score on this train-test partition for these parameters will be set to nan. Details: \n",
      "KeyError: 'squared_error'\n",
      "\n",
      "  warnings.warn(\"Estimator fit failed. The score on this train-test\"\n",
      "C:\\Users\\VA\\anaconda3\\lib\\site-packages\\sklearn\\model_selection\\_validation.py:532: FitFailedWarning: Estimator fit failed. The score on this train-test partition for these parameters will be set to nan. Details: \n",
      "KeyError: 'squared_error'\n",
      "\n",
      "  warnings.warn(\"Estimator fit failed. The score on this train-test\"\n",
      "C:\\Users\\VA\\anaconda3\\lib\\site-packages\\sklearn\\model_selection\\_validation.py:532: FitFailedWarning: Estimator fit failed. The score on this train-test partition for these parameters will be set to nan. Details: \n",
      "KeyError: 'squared_error'\n",
      "\n",
      "  warnings.warn(\"Estimator fit failed. The score on this train-test\"\n"
     ]
    },
    {
     "name": "stdout",
     "output_type": "stream",
     "text": [
      "[CV]  criterion=squared_error, max_depth=5, max_features=auto, n_estimators=500, total=   0.1s\n",
      "[CV] criterion=squared_error, max_depth=5, max_features=auto, n_estimators=500 \n",
      "[CV]  criterion=squared_error, max_depth=5, max_features=auto, n_estimators=500, total=   0.1s\n",
      "[CV] criterion=squared_error, max_depth=5, max_features=auto, n_estimators=500 \n",
      "[CV]  criterion=squared_error, max_depth=5, max_features=auto, n_estimators=500, total=   0.1s\n",
      "[CV] criterion=squared_error, max_depth=5, max_features=auto, n_estimators=500 \n"
     ]
    },
    {
     "name": "stderr",
     "output_type": "stream",
     "text": [
      "C:\\Users\\VA\\anaconda3\\lib\\site-packages\\sklearn\\model_selection\\_validation.py:532: FitFailedWarning: Estimator fit failed. The score on this train-test partition for these parameters will be set to nan. Details: \n",
      "KeyError: 'squared_error'\n",
      "\n",
      "  warnings.warn(\"Estimator fit failed. The score on this train-test\"\n",
      "C:\\Users\\VA\\anaconda3\\lib\\site-packages\\sklearn\\model_selection\\_validation.py:532: FitFailedWarning: Estimator fit failed. The score on this train-test partition for these parameters will be set to nan. Details: \n",
      "KeyError: 'squared_error'\n",
      "\n",
      "  warnings.warn(\"Estimator fit failed. The score on this train-test\"\n",
      "C:\\Users\\VA\\anaconda3\\lib\\site-packages\\sklearn\\model_selection\\_validation.py:532: FitFailedWarning: Estimator fit failed. The score on this train-test partition for these parameters will be set to nan. Details: \n",
      "KeyError: 'squared_error'\n",
      "\n",
      "  warnings.warn(\"Estimator fit failed. The score on this train-test\"\n",
      "C:\\Users\\VA\\anaconda3\\lib\\site-packages\\sklearn\\model_selection\\_validation.py:532: FitFailedWarning: Estimator fit failed. The score on this train-test partition for these parameters will be set to nan. Details: \n",
      "KeyError: 'squared_error'\n",
      "\n",
      "  warnings.warn(\"Estimator fit failed. The score on this train-test\"\n",
      "C:\\Users\\VA\\anaconda3\\lib\\site-packages\\sklearn\\model_selection\\_validation.py:532: FitFailedWarning: Estimator fit failed. The score on this train-test partition for these parameters will be set to nan. Details: \n",
      "KeyError: 'squared_error'\n",
      "\n",
      "  warnings.warn(\"Estimator fit failed. The score on this train-test\"\n",
      "C:\\Users\\VA\\anaconda3\\lib\\site-packages\\sklearn\\model_selection\\_validation.py:532: FitFailedWarning: Estimator fit failed. The score on this train-test partition for these parameters will be set to nan. Details: \n",
      "KeyError: 'squared_error'\n",
      "\n",
      "  warnings.warn(\"Estimator fit failed. The score on this train-test\"\n"
     ]
    },
    {
     "name": "stdout",
     "output_type": "stream",
     "text": [
      "[CV]  criterion=squared_error, max_depth=5, max_features=auto, n_estimators=500, total=   0.1s\n",
      "[CV] criterion=squared_error, max_depth=5, max_features=auto, n_estimators=500 \n",
      "[CV]  criterion=squared_error, max_depth=5, max_features=auto, n_estimators=500, total=   0.1s\n",
      "[CV] criterion=squared_error, max_depth=5, max_features=sqrt, n_estimators=100 \n",
      "[CV]  criterion=squared_error, max_depth=5, max_features=sqrt, n_estimators=100, total=   0.0s\n",
      "[CV] criterion=squared_error, max_depth=5, max_features=sqrt, n_estimators=100 \n",
      "[CV]  criterion=squared_error, max_depth=5, max_features=sqrt, n_estimators=100, total=   0.0s\n",
      "[CV] criterion=squared_error, max_depth=5, max_features=sqrt, n_estimators=100 \n",
      "[CV]  criterion=squared_error, max_depth=5, max_features=sqrt, n_estimators=100, total=   0.0s\n",
      "[CV] criterion=squared_error, max_depth=5, max_features=sqrt, n_estimators=100 \n",
      "[CV]  criterion=squared_error, max_depth=5, max_features=sqrt, n_estimators=100, total=   0.0s\n",
      "[CV] criterion=squared_error, max_depth=5, max_features=sqrt, n_estimators=100 \n"
     ]
    },
    {
     "name": "stderr",
     "output_type": "stream",
     "text": [
      "C:\\Users\\VA\\anaconda3\\lib\\site-packages\\sklearn\\model_selection\\_validation.py:532: FitFailedWarning: Estimator fit failed. The score on this train-test partition for these parameters will be set to nan. Details: \n",
      "KeyError: 'squared_error'\n",
      "\n",
      "  warnings.warn(\"Estimator fit failed. The score on this train-test\"\n",
      "C:\\Users\\VA\\anaconda3\\lib\\site-packages\\sklearn\\model_selection\\_validation.py:532: FitFailedWarning: Estimator fit failed. The score on this train-test partition for these parameters will be set to nan. Details: \n",
      "KeyError: 'squared_error'\n",
      "\n",
      "  warnings.warn(\"Estimator fit failed. The score on this train-test\"\n",
      "C:\\Users\\VA\\anaconda3\\lib\\site-packages\\sklearn\\model_selection\\_validation.py:532: FitFailedWarning: Estimator fit failed. The score on this train-test partition for these parameters will be set to nan. Details: \n",
      "KeyError: 'squared_error'\n",
      "\n",
      "  warnings.warn(\"Estimator fit failed. The score on this train-test\"\n",
      "C:\\Users\\VA\\anaconda3\\lib\\site-packages\\sklearn\\model_selection\\_validation.py:532: FitFailedWarning: Estimator fit failed. The score on this train-test partition for these parameters will be set to nan. Details: \n",
      "KeyError: 'squared_error'\n",
      "\n",
      "  warnings.warn(\"Estimator fit failed. The score on this train-test\"\n",
      "C:\\Users\\VA\\anaconda3\\lib\\site-packages\\sklearn\\model_selection\\_validation.py:532: FitFailedWarning: Estimator fit failed. The score on this train-test partition for these parameters will be set to nan. Details: \n",
      "KeyError: 'squared_error'\n",
      "\n",
      "  warnings.warn(\"Estimator fit failed. The score on this train-test\"\n"
     ]
    },
    {
     "name": "stdout",
     "output_type": "stream",
     "text": [
      "[CV]  criterion=squared_error, max_depth=5, max_features=sqrt, n_estimators=100, total=   0.0s\n",
      "[CV] criterion=squared_error, max_depth=5, max_features=sqrt, n_estimators=200 \n",
      "[CV]  criterion=squared_error, max_depth=5, max_features=sqrt, n_estimators=200, total=   0.0s\n",
      "[CV] criterion=squared_error, max_depth=5, max_features=sqrt, n_estimators=200 \n",
      "[CV]  criterion=squared_error, max_depth=5, max_features=sqrt, n_estimators=200, total=   0.0s\n",
      "[CV] criterion=squared_error, max_depth=5, max_features=sqrt, n_estimators=200 \n",
      "[CV]  criterion=squared_error, max_depth=5, max_features=sqrt, n_estimators=200, total=   0.0s\n",
      "[CV] criterion=squared_error, max_depth=5, max_features=sqrt, n_estimators=200 \n",
      "[CV]  criterion=squared_error, max_depth=5, max_features=sqrt, n_estimators=200, total=   0.1s\n",
      "[CV] criterion=squared_error, max_depth=5, max_features=sqrt, n_estimators=200 \n"
     ]
    },
    {
     "name": "stderr",
     "output_type": "stream",
     "text": [
      "C:\\Users\\VA\\anaconda3\\lib\\site-packages\\sklearn\\model_selection\\_validation.py:532: FitFailedWarning: Estimator fit failed. The score on this train-test partition for these parameters will be set to nan. Details: \n",
      "KeyError: 'squared_error'\n",
      "\n",
      "  warnings.warn(\"Estimator fit failed. The score on this train-test\"\n",
      "C:\\Users\\VA\\anaconda3\\lib\\site-packages\\sklearn\\model_selection\\_validation.py:532: FitFailedWarning: Estimator fit failed. The score on this train-test partition for these parameters will be set to nan. Details: \n",
      "KeyError: 'squared_error'\n",
      "\n",
      "  warnings.warn(\"Estimator fit failed. The score on this train-test\"\n",
      "C:\\Users\\VA\\anaconda3\\lib\\site-packages\\sklearn\\model_selection\\_validation.py:532: FitFailedWarning: Estimator fit failed. The score on this train-test partition for these parameters will be set to nan. Details: \n",
      "KeyError: 'squared_error'\n",
      "\n",
      "  warnings.warn(\"Estimator fit failed. The score on this train-test\"\n"
     ]
    },
    {
     "name": "stdout",
     "output_type": "stream",
     "text": [
      "[CV]  criterion=squared_error, max_depth=5, max_features=sqrt, n_estimators=200, total=   0.1s\n",
      "[CV] criterion=squared_error, max_depth=5, max_features=sqrt, n_estimators=500 \n",
      "[CV]  criterion=squared_error, max_depth=5, max_features=sqrt, n_estimators=500, total=   0.1s\n",
      "[CV] criterion=squared_error, max_depth=5, max_features=sqrt, n_estimators=500 \n",
      "[CV]  criterion=squared_error, max_depth=5, max_features=sqrt, n_estimators=500, total=   0.1s\n",
      "[CV] criterion=squared_error, max_depth=5, max_features=sqrt, n_estimators=500 \n"
     ]
    },
    {
     "name": "stderr",
     "output_type": "stream",
     "text": [
      "C:\\Users\\VA\\anaconda3\\lib\\site-packages\\sklearn\\model_selection\\_validation.py:532: FitFailedWarning: Estimator fit failed. The score on this train-test partition for these parameters will be set to nan. Details: \n",
      "KeyError: 'squared_error'\n",
      "\n",
      "  warnings.warn(\"Estimator fit failed. The score on this train-test\"\n",
      "C:\\Users\\VA\\anaconda3\\lib\\site-packages\\sklearn\\model_selection\\_validation.py:532: FitFailedWarning: Estimator fit failed. The score on this train-test partition for these parameters will be set to nan. Details: \n",
      "KeyError: 'squared_error'\n",
      "\n",
      "  warnings.warn(\"Estimator fit failed. The score on this train-test\"\n",
      "C:\\Users\\VA\\anaconda3\\lib\\site-packages\\sklearn\\model_selection\\_validation.py:532: FitFailedWarning: Estimator fit failed. The score on this train-test partition for these parameters will be set to nan. Details: \n",
      "KeyError: 'squared_error'\n",
      "\n",
      "  warnings.warn(\"Estimator fit failed. The score on this train-test\"\n"
     ]
    },
    {
     "name": "stdout",
     "output_type": "stream",
     "text": [
      "[CV]  criterion=squared_error, max_depth=5, max_features=sqrt, n_estimators=500, total=   0.1s\n",
      "[CV] criterion=squared_error, max_depth=5, max_features=sqrt, n_estimators=500 \n",
      "[CV]  criterion=squared_error, max_depth=5, max_features=sqrt, n_estimators=500, total=   0.1s\n",
      "[CV] criterion=squared_error, max_depth=5, max_features=sqrt, n_estimators=500 \n",
      "[CV]  criterion=squared_error, max_depth=5, max_features=sqrt, n_estimators=500, total=   0.1s\n",
      "[CV] criterion=squared_error, max_depth=5, max_features=log2, n_estimators=100 \n"
     ]
    },
    {
     "name": "stderr",
     "output_type": "stream",
     "text": [
      "C:\\Users\\VA\\anaconda3\\lib\\site-packages\\sklearn\\model_selection\\_validation.py:532: FitFailedWarning: Estimator fit failed. The score on this train-test partition for these parameters will be set to nan. Details: \n",
      "KeyError: 'squared_error'\n",
      "\n",
      "  warnings.warn(\"Estimator fit failed. The score on this train-test\"\n",
      "C:\\Users\\VA\\anaconda3\\lib\\site-packages\\sklearn\\model_selection\\_validation.py:532: FitFailedWarning: Estimator fit failed. The score on this train-test partition for these parameters will be set to nan. Details: \n",
      "KeyError: 'squared_error'\n",
      "\n",
      "  warnings.warn(\"Estimator fit failed. The score on this train-test\"\n",
      "C:\\Users\\VA\\anaconda3\\lib\\site-packages\\sklearn\\model_selection\\_validation.py:532: FitFailedWarning: Estimator fit failed. The score on this train-test partition for these parameters will be set to nan. Details: \n",
      "KeyError: 'squared_error'\n",
      "\n",
      "  warnings.warn(\"Estimator fit failed. The score on this train-test\"\n",
      "C:\\Users\\VA\\anaconda3\\lib\\site-packages\\sklearn\\model_selection\\_validation.py:532: FitFailedWarning: Estimator fit failed. The score on this train-test partition for these parameters will be set to nan. Details: \n",
      "KeyError: 'squared_error'\n",
      "\n",
      "  warnings.warn(\"Estimator fit failed. The score on this train-test\"\n",
      "C:\\Users\\VA\\anaconda3\\lib\\site-packages\\sklearn\\model_selection\\_validation.py:532: FitFailedWarning: Estimator fit failed. The score on this train-test partition for these parameters will be set to nan. Details: \n",
      "KeyError: 'squared_error'\n",
      "\n",
      "  warnings.warn(\"Estimator fit failed. The score on this train-test\"\n",
      "C:\\Users\\VA\\anaconda3\\lib\\site-packages\\sklearn\\model_selection\\_validation.py:532: FitFailedWarning: Estimator fit failed. The score on this train-test partition for these parameters will be set to nan. Details: \n",
      "KeyError: 'squared_error'\n",
      "\n",
      "  warnings.warn(\"Estimator fit failed. The score on this train-test\"\n",
      "C:\\Users\\VA\\anaconda3\\lib\\site-packages\\sklearn\\model_selection\\_validation.py:532: FitFailedWarning: Estimator fit failed. The score on this train-test partition for these parameters will be set to nan. Details: \n",
      "KeyError: 'squared_error'\n",
      "\n",
      "  warnings.warn(\"Estimator fit failed. The score on this train-test\"\n",
      "C:\\Users\\VA\\anaconda3\\lib\\site-packages\\sklearn\\model_selection\\_validation.py:532: FitFailedWarning: Estimator fit failed. The score on this train-test partition for these parameters will be set to nan. Details: \n",
      "KeyError: 'squared_error'\n",
      "\n",
      "  warnings.warn(\"Estimator fit failed. The score on this train-test\"\n"
     ]
    },
    {
     "name": "stdout",
     "output_type": "stream",
     "text": [
      "[CV]  criterion=squared_error, max_depth=5, max_features=log2, n_estimators=100, total=   0.0s\n",
      "[CV] criterion=squared_error, max_depth=5, max_features=log2, n_estimators=100 \n",
      "[CV]  criterion=squared_error, max_depth=5, max_features=log2, n_estimators=100, total=   0.0s\n",
      "[CV] criterion=squared_error, max_depth=5, max_features=log2, n_estimators=100 \n",
      "[CV]  criterion=squared_error, max_depth=5, max_features=log2, n_estimators=100, total=   0.0s\n",
      "[CV] criterion=squared_error, max_depth=5, max_features=log2, n_estimators=100 \n",
      "[CV]  criterion=squared_error, max_depth=5, max_features=log2, n_estimators=100, total=   0.0s\n",
      "[CV] criterion=squared_error, max_depth=5, max_features=log2, n_estimators=100 \n",
      "[CV]  criterion=squared_error, max_depth=5, max_features=log2, n_estimators=100, total=   0.0s\n",
      "[CV] criterion=squared_error, max_depth=5, max_features=log2, n_estimators=200 \n",
      "[CV]  criterion=squared_error, max_depth=5, max_features=log2, n_estimators=200, total=   0.0s\n",
      "[CV] criterion=squared_error, max_depth=5, max_features=log2, n_estimators=200 \n",
      "[CV]  criterion=squared_error, max_depth=5, max_features=log2, n_estimators=200, total=   0.0s\n",
      "[CV] criterion=squared_error, max_depth=5, max_features=log2, n_estimators=200 \n",
      "[CV]  criterion=squared_error, max_depth=5, max_features=log2, n_estimators=200, total=   0.0s\n",
      "[CV] criterion=squared_error, max_depth=5, max_features=log2, n_estimators=200 \n"
     ]
    },
    {
     "name": "stderr",
     "output_type": "stream",
     "text": [
      "C:\\Users\\VA\\anaconda3\\lib\\site-packages\\sklearn\\model_selection\\_validation.py:532: FitFailedWarning: Estimator fit failed. The score on this train-test partition for these parameters will be set to nan. Details: \n",
      "KeyError: 'squared_error'\n",
      "\n",
      "  warnings.warn(\"Estimator fit failed. The score on this train-test\"\n",
      "C:\\Users\\VA\\anaconda3\\lib\\site-packages\\sklearn\\model_selection\\_validation.py:532: FitFailedWarning: Estimator fit failed. The score on this train-test partition for these parameters will be set to nan. Details: \n",
      "KeyError: 'squared_error'\n",
      "\n",
      "  warnings.warn(\"Estimator fit failed. The score on this train-test\"\n",
      "C:\\Users\\VA\\anaconda3\\lib\\site-packages\\sklearn\\model_selection\\_validation.py:532: FitFailedWarning: Estimator fit failed. The score on this train-test partition for these parameters will be set to nan. Details: \n",
      "KeyError: 'squared_error'\n",
      "\n",
      "  warnings.warn(\"Estimator fit failed. The score on this train-test\"\n"
     ]
    },
    {
     "name": "stdout",
     "output_type": "stream",
     "text": [
      "[CV]  criterion=squared_error, max_depth=5, max_features=log2, n_estimators=200, total=   0.0s\n",
      "[CV] criterion=squared_error, max_depth=5, max_features=log2, n_estimators=200 \n",
      "[CV]  criterion=squared_error, max_depth=5, max_features=log2, n_estimators=200, total=   0.0s\n",
      "[CV] criterion=squared_error, max_depth=5, max_features=log2, n_estimators=500 \n",
      "[CV]  criterion=squared_error, max_depth=5, max_features=log2, n_estimators=500, total=   0.1s\n",
      "[CV] criterion=squared_error, max_depth=5, max_features=log2, n_estimators=500 \n"
     ]
    },
    {
     "name": "stderr",
     "output_type": "stream",
     "text": [
      "C:\\Users\\VA\\anaconda3\\lib\\site-packages\\sklearn\\model_selection\\_validation.py:532: FitFailedWarning: Estimator fit failed. The score on this train-test partition for these parameters will be set to nan. Details: \n",
      "KeyError: 'squared_error'\n",
      "\n",
      "  warnings.warn(\"Estimator fit failed. The score on this train-test\"\n",
      "C:\\Users\\VA\\anaconda3\\lib\\site-packages\\sklearn\\model_selection\\_validation.py:532: FitFailedWarning: Estimator fit failed. The score on this train-test partition for these parameters will be set to nan. Details: \n",
      "KeyError: 'squared_error'\n",
      "\n",
      "  warnings.warn(\"Estimator fit failed. The score on this train-test\"\n"
     ]
    },
    {
     "name": "stdout",
     "output_type": "stream",
     "text": [
      "[CV]  criterion=squared_error, max_depth=5, max_features=log2, n_estimators=500, total=   0.1s\n",
      "[CV] criterion=squared_error, max_depth=5, max_features=log2, n_estimators=500 \n",
      "[CV]  criterion=squared_error, max_depth=5, max_features=log2, n_estimators=500, total=   0.1s\n",
      "[CV] criterion=squared_error, max_depth=5, max_features=log2, n_estimators=500 \n"
     ]
    },
    {
     "name": "stderr",
     "output_type": "stream",
     "text": [
      "C:\\Users\\VA\\anaconda3\\lib\\site-packages\\sklearn\\model_selection\\_validation.py:532: FitFailedWarning: Estimator fit failed. The score on this train-test partition for these parameters will be set to nan. Details: \n",
      "KeyError: 'squared_error'\n",
      "\n",
      "  warnings.warn(\"Estimator fit failed. The score on this train-test\"\n",
      "C:\\Users\\VA\\anaconda3\\lib\\site-packages\\sklearn\\model_selection\\_validation.py:532: FitFailedWarning: Estimator fit failed. The score on this train-test partition for these parameters will be set to nan. Details: \n",
      "KeyError: 'squared_error'\n",
      "\n",
      "  warnings.warn(\"Estimator fit failed. The score on this train-test\"\n",
      "C:\\Users\\VA\\anaconda3\\lib\\site-packages\\sklearn\\model_selection\\_validation.py:532: FitFailedWarning: Estimator fit failed. The score on this train-test partition for these parameters will be set to nan. Details: \n",
      "KeyError: 'squared_error'\n",
      "\n",
      "  warnings.warn(\"Estimator fit failed. The score on this train-test\"\n",
      "C:\\Users\\VA\\anaconda3\\lib\\site-packages\\sklearn\\model_selection\\_validation.py:532: FitFailedWarning: Estimator fit failed. The score on this train-test partition for these parameters will be set to nan. Details: \n",
      "KeyError: 'squared_error'\n",
      "\n",
      "  warnings.warn(\"Estimator fit failed. The score on this train-test\"\n",
      "C:\\Users\\VA\\anaconda3\\lib\\site-packages\\sklearn\\model_selection\\_validation.py:532: FitFailedWarning: Estimator fit failed. The score on this train-test partition for these parameters will be set to nan. Details: \n",
      "KeyError: 'squared_error'\n",
      "\n",
      "  warnings.warn(\"Estimator fit failed. The score on this train-test\"\n",
      "C:\\Users\\VA\\anaconda3\\lib\\site-packages\\sklearn\\model_selection\\_validation.py:532: FitFailedWarning: Estimator fit failed. The score on this train-test partition for these parameters will be set to nan. Details: \n",
      "KeyError: 'squared_error'\n",
      "\n",
      "  warnings.warn(\"Estimator fit failed. The score on this train-test\"\n"
     ]
    },
    {
     "name": "stdout",
     "output_type": "stream",
     "text": [
      "[CV]  criterion=squared_error, max_depth=5, max_features=log2, n_estimators=500, total=   0.1s\n",
      "[CV] criterion=squared_error, max_depth=5, max_features=log2, n_estimators=500 \n",
      "[CV]  criterion=squared_error, max_depth=5, max_features=log2, n_estimators=500, total=   0.1s\n",
      "[CV] criterion=squared_error, max_depth=6, max_features=auto, n_estimators=100 \n",
      "[CV]  criterion=squared_error, max_depth=6, max_features=auto, n_estimators=100, total=   0.0s\n",
      "[CV] criterion=squared_error, max_depth=6, max_features=auto, n_estimators=100 \n",
      "[CV]  criterion=squared_error, max_depth=6, max_features=auto, n_estimators=100, total=   0.0s\n",
      "[CV] criterion=squared_error, max_depth=6, max_features=auto, n_estimators=100 \n",
      "[CV]  criterion=squared_error, max_depth=6, max_features=auto, n_estimators=100, total=   0.0s\n",
      "[CV] criterion=squared_error, max_depth=6, max_features=auto, n_estimators=100 \n",
      "[CV]  criterion=squared_error, max_depth=6, max_features=auto, n_estimators=100, total=   0.0s\n",
      "[CV] criterion=squared_error, max_depth=6, max_features=auto, n_estimators=100 \n"
     ]
    },
    {
     "name": "stderr",
     "output_type": "stream",
     "text": [
      "C:\\Users\\VA\\anaconda3\\lib\\site-packages\\sklearn\\model_selection\\_validation.py:532: FitFailedWarning: Estimator fit failed. The score on this train-test partition for these parameters will be set to nan. Details: \n",
      "KeyError: 'squared_error'\n",
      "\n",
      "  warnings.warn(\"Estimator fit failed. The score on this train-test\"\n",
      "C:\\Users\\VA\\anaconda3\\lib\\site-packages\\sklearn\\model_selection\\_validation.py:532: FitFailedWarning: Estimator fit failed. The score on this train-test partition for these parameters will be set to nan. Details: \n",
      "KeyError: 'squared_error'\n",
      "\n",
      "  warnings.warn(\"Estimator fit failed. The score on this train-test\"\n",
      "C:\\Users\\VA\\anaconda3\\lib\\site-packages\\sklearn\\model_selection\\_validation.py:532: FitFailedWarning: Estimator fit failed. The score on this train-test partition for these parameters will be set to nan. Details: \n",
      "KeyError: 'squared_error'\n",
      "\n",
      "  warnings.warn(\"Estimator fit failed. The score on this train-test\"\n",
      "C:\\Users\\VA\\anaconda3\\lib\\site-packages\\sklearn\\model_selection\\_validation.py:532: FitFailedWarning: Estimator fit failed. The score on this train-test partition for these parameters will be set to nan. Details: \n",
      "KeyError: 'squared_error'\n",
      "\n",
      "  warnings.warn(\"Estimator fit failed. The score on this train-test\"\n",
      "C:\\Users\\VA\\anaconda3\\lib\\site-packages\\sklearn\\model_selection\\_validation.py:532: FitFailedWarning: Estimator fit failed. The score on this train-test partition for these parameters will be set to nan. Details: \n",
      "KeyError: 'squared_error'\n",
      "\n",
      "  warnings.warn(\"Estimator fit failed. The score on this train-test\"\n"
     ]
    },
    {
     "name": "stdout",
     "output_type": "stream",
     "text": [
      "[CV]  criterion=squared_error, max_depth=6, max_features=auto, n_estimators=100, total=   0.0s\n",
      "[CV] criterion=squared_error, max_depth=6, max_features=auto, n_estimators=200 \n",
      "[CV]  criterion=squared_error, max_depth=6, max_features=auto, n_estimators=200, total=   0.0s\n",
      "[CV] criterion=squared_error, max_depth=6, max_features=auto, n_estimators=200 \n",
      "[CV]  criterion=squared_error, max_depth=6, max_features=auto, n_estimators=200, total=   0.0s\n",
      "[CV] criterion=squared_error, max_depth=6, max_features=auto, n_estimators=200 \n",
      "[CV]  criterion=squared_error, max_depth=6, max_features=auto, n_estimators=200, total=   0.0s\n",
      "[CV] criterion=squared_error, max_depth=6, max_features=auto, n_estimators=200 \n",
      "[CV]  criterion=squared_error, max_depth=6, max_features=auto, n_estimators=200, total=   0.0s\n",
      "[CV] criterion=squared_error, max_depth=6, max_features=auto, n_estimators=200 \n"
     ]
    },
    {
     "name": "stderr",
     "output_type": "stream",
     "text": [
      "C:\\Users\\VA\\anaconda3\\lib\\site-packages\\sklearn\\model_selection\\_validation.py:532: FitFailedWarning: Estimator fit failed. The score on this train-test partition for these parameters will be set to nan. Details: \n",
      "KeyError: 'squared_error'\n",
      "\n",
      "  warnings.warn(\"Estimator fit failed. The score on this train-test\"\n",
      "C:\\Users\\VA\\anaconda3\\lib\\site-packages\\sklearn\\model_selection\\_validation.py:532: FitFailedWarning: Estimator fit failed. The score on this train-test partition for these parameters will be set to nan. Details: \n",
      "KeyError: 'squared_error'\n",
      "\n",
      "  warnings.warn(\"Estimator fit failed. The score on this train-test\"\n"
     ]
    },
    {
     "name": "stdout",
     "output_type": "stream",
     "text": [
      "[CV]  criterion=squared_error, max_depth=6, max_features=auto, n_estimators=200, total=   0.0s\n",
      "[CV] criterion=squared_error, max_depth=6, max_features=auto, n_estimators=500 \n",
      "[CV]  criterion=squared_error, max_depth=6, max_features=auto, n_estimators=500, total=   0.1s\n",
      "[CV] criterion=squared_error, max_depth=6, max_features=auto, n_estimators=500 \n"
     ]
    },
    {
     "name": "stderr",
     "output_type": "stream",
     "text": [
      "C:\\Users\\VA\\anaconda3\\lib\\site-packages\\sklearn\\model_selection\\_validation.py:532: FitFailedWarning: Estimator fit failed. The score on this train-test partition for these parameters will be set to nan. Details: \n",
      "KeyError: 'squared_error'\n",
      "\n",
      "  warnings.warn(\"Estimator fit failed. The score on this train-test\"\n",
      "C:\\Users\\VA\\anaconda3\\lib\\site-packages\\sklearn\\model_selection\\_validation.py:532: FitFailedWarning: Estimator fit failed. The score on this train-test partition for these parameters will be set to nan. Details: \n",
      "KeyError: 'squared_error'\n",
      "\n",
      "  warnings.warn(\"Estimator fit failed. The score on this train-test\"\n",
      "C:\\Users\\VA\\anaconda3\\lib\\site-packages\\sklearn\\model_selection\\_validation.py:532: FitFailedWarning: Estimator fit failed. The score on this train-test partition for these parameters will be set to nan. Details: \n",
      "KeyError: 'squared_error'\n",
      "\n",
      "  warnings.warn(\"Estimator fit failed. The score on this train-test\"\n"
     ]
    },
    {
     "name": "stdout",
     "output_type": "stream",
     "text": [
      "[CV]  criterion=squared_error, max_depth=6, max_features=auto, n_estimators=500, total=   0.1s\n",
      "[CV] criterion=squared_error, max_depth=6, max_features=auto, n_estimators=500 \n",
      "[CV]  criterion=squared_error, max_depth=6, max_features=auto, n_estimators=500, total=   0.1s\n",
      "[CV] criterion=squared_error, max_depth=6, max_features=auto, n_estimators=500 \n",
      "[CV]  criterion=squared_error, max_depth=6, max_features=auto, n_estimators=500, total=   0.1s\n",
      "[CV] criterion=squared_error, max_depth=6, max_features=auto, n_estimators=500 \n"
     ]
    },
    {
     "name": "stderr",
     "output_type": "stream",
     "text": [
      "C:\\Users\\VA\\anaconda3\\lib\\site-packages\\sklearn\\model_selection\\_validation.py:532: FitFailedWarning: Estimator fit failed. The score on this train-test partition for these parameters will be set to nan. Details: \n",
      "KeyError: 'squared_error'\n",
      "\n",
      "  warnings.warn(\"Estimator fit failed. The score on this train-test\"\n",
      "C:\\Users\\VA\\anaconda3\\lib\\site-packages\\sklearn\\model_selection\\_validation.py:532: FitFailedWarning: Estimator fit failed. The score on this train-test partition for these parameters will be set to nan. Details: \n",
      "KeyError: 'squared_error'\n",
      "\n",
      "  warnings.warn(\"Estimator fit failed. The score on this train-test\"\n",
      "C:\\Users\\VA\\anaconda3\\lib\\site-packages\\sklearn\\model_selection\\_validation.py:532: FitFailedWarning: Estimator fit failed. The score on this train-test partition for these parameters will be set to nan. Details: \n",
      "KeyError: 'squared_error'\n",
      "\n",
      "  warnings.warn(\"Estimator fit failed. The score on this train-test\"\n",
      "C:\\Users\\VA\\anaconda3\\lib\\site-packages\\sklearn\\model_selection\\_validation.py:532: FitFailedWarning: Estimator fit failed. The score on this train-test partition for these parameters will be set to nan. Details: \n",
      "KeyError: 'squared_error'\n",
      "\n",
      "  warnings.warn(\"Estimator fit failed. The score on this train-test\"\n",
      "C:\\Users\\VA\\anaconda3\\lib\\site-packages\\sklearn\\model_selection\\_validation.py:532: FitFailedWarning: Estimator fit failed. The score on this train-test partition for these parameters will be set to nan. Details: \n",
      "KeyError: 'squared_error'\n",
      "\n",
      "  warnings.warn(\"Estimator fit failed. The score on this train-test\"\n",
      "C:\\Users\\VA\\anaconda3\\lib\\site-packages\\sklearn\\model_selection\\_validation.py:532: FitFailedWarning: Estimator fit failed. The score on this train-test partition for these parameters will be set to nan. Details: \n",
      "KeyError: 'squared_error'\n",
      "\n",
      "  warnings.warn(\"Estimator fit failed. The score on this train-test\"\n",
      "C:\\Users\\VA\\anaconda3\\lib\\site-packages\\sklearn\\model_selection\\_validation.py:532: FitFailedWarning: Estimator fit failed. The score on this train-test partition for these parameters will be set to nan. Details: \n",
      "KeyError: 'squared_error'\n",
      "\n",
      "  warnings.warn(\"Estimator fit failed. The score on this train-test\"\n"
     ]
    },
    {
     "name": "stdout",
     "output_type": "stream",
     "text": [
      "[CV]  criterion=squared_error, max_depth=6, max_features=auto, n_estimators=500, total=   0.1s\n",
      "[CV] criterion=squared_error, max_depth=6, max_features=sqrt, n_estimators=100 \n",
      "[CV]  criterion=squared_error, max_depth=6, max_features=sqrt, n_estimators=100, total=   0.0s\n",
      "[CV] criterion=squared_error, max_depth=6, max_features=sqrt, n_estimators=100 \n",
      "[CV]  criterion=squared_error, max_depth=6, max_features=sqrt, n_estimators=100, total=   0.0s\n",
      "[CV] criterion=squared_error, max_depth=6, max_features=sqrt, n_estimators=100 \n",
      "[CV]  criterion=squared_error, max_depth=6, max_features=sqrt, n_estimators=100, total=   0.0s\n",
      "[CV] criterion=squared_error, max_depth=6, max_features=sqrt, n_estimators=100 \n",
      "[CV]  criterion=squared_error, max_depth=6, max_features=sqrt, n_estimators=100, total=   0.0s\n",
      "[CV] criterion=squared_error, max_depth=6, max_features=sqrt, n_estimators=100 \n",
      "[CV]  criterion=squared_error, max_depth=6, max_features=sqrt, n_estimators=100, total=   0.0s\n",
      "[CV] criterion=squared_error, max_depth=6, max_features=sqrt, n_estimators=200 \n",
      "[CV]  criterion=squared_error, max_depth=6, max_features=sqrt, n_estimators=200, total=   0.0s\n",
      "[CV] criterion=squared_error, max_depth=6, max_features=sqrt, n_estimators=200 \n",
      "[CV]  criterion=squared_error, max_depth=6, max_features=sqrt, n_estimators=200, total=   0.1s\n",
      "[CV] criterion=squared_error, max_depth=6, max_features=sqrt, n_estimators=200 \n"
     ]
    },
    {
     "name": "stderr",
     "output_type": "stream",
     "text": [
      "C:\\Users\\VA\\anaconda3\\lib\\site-packages\\sklearn\\model_selection\\_validation.py:532: FitFailedWarning: Estimator fit failed. The score on this train-test partition for these parameters will be set to nan. Details: \n",
      "KeyError: 'squared_error'\n",
      "\n",
      "  warnings.warn(\"Estimator fit failed. The score on this train-test\"\n",
      "C:\\Users\\VA\\anaconda3\\lib\\site-packages\\sklearn\\model_selection\\_validation.py:532: FitFailedWarning: Estimator fit failed. The score on this train-test partition for these parameters will be set to nan. Details: \n",
      "KeyError: 'squared_error'\n",
      "\n",
      "  warnings.warn(\"Estimator fit failed. The score on this train-test\"\n",
      "C:\\Users\\VA\\anaconda3\\lib\\site-packages\\sklearn\\model_selection\\_validation.py:532: FitFailedWarning: Estimator fit failed. The score on this train-test partition for these parameters will be set to nan. Details: \n",
      "KeyError: 'squared_error'\n",
      "\n",
      "  warnings.warn(\"Estimator fit failed. The score on this train-test\"\n",
      "C:\\Users\\VA\\anaconda3\\lib\\site-packages\\sklearn\\model_selection\\_validation.py:532: FitFailedWarning: Estimator fit failed. The score on this train-test partition for these parameters will be set to nan. Details: \n",
      "KeyError: 'squared_error'\n",
      "\n",
      "  warnings.warn(\"Estimator fit failed. The score on this train-test\"\n"
     ]
    },
    {
     "name": "stdout",
     "output_type": "stream",
     "text": [
      "[CV]  criterion=squared_error, max_depth=6, max_features=sqrt, n_estimators=200, total=   0.0s\n",
      "[CV] criterion=squared_error, max_depth=6, max_features=sqrt, n_estimators=200 \n",
      "[CV]  criterion=squared_error, max_depth=6, max_features=sqrt, n_estimators=200, total=   0.0s\n",
      "[CV] criterion=squared_error, max_depth=6, max_features=sqrt, n_estimators=200 \n",
      "[CV]  criterion=squared_error, max_depth=6, max_features=sqrt, n_estimators=200, total=   0.0s\n",
      "[CV] criterion=squared_error, max_depth=6, max_features=sqrt, n_estimators=500 \n",
      "[CV]  criterion=squared_error, max_depth=6, max_features=sqrt, n_estimators=500, total=   0.1s\n",
      "[CV] criterion=squared_error, max_depth=6, max_features=sqrt, n_estimators=500 \n"
     ]
    },
    {
     "name": "stderr",
     "output_type": "stream",
     "text": [
      "C:\\Users\\VA\\anaconda3\\lib\\site-packages\\sklearn\\model_selection\\_validation.py:532: FitFailedWarning: Estimator fit failed. The score on this train-test partition for these parameters will be set to nan. Details: \n",
      "KeyError: 'squared_error'\n",
      "\n",
      "  warnings.warn(\"Estimator fit failed. The score on this train-test\"\n",
      "C:\\Users\\VA\\anaconda3\\lib\\site-packages\\sklearn\\model_selection\\_validation.py:532: FitFailedWarning: Estimator fit failed. The score on this train-test partition for these parameters will be set to nan. Details: \n",
      "KeyError: 'squared_error'\n",
      "\n",
      "  warnings.warn(\"Estimator fit failed. The score on this train-test\"\n"
     ]
    },
    {
     "name": "stdout",
     "output_type": "stream",
     "text": [
      "[CV]  criterion=squared_error, max_depth=6, max_features=sqrt, n_estimators=500, total=   0.1s\n",
      "[CV] criterion=squared_error, max_depth=6, max_features=sqrt, n_estimators=500 \n",
      "[CV]  criterion=squared_error, max_depth=6, max_features=sqrt, n_estimators=500, total=   0.1s\n",
      "[CV] criterion=squared_error, max_depth=6, max_features=sqrt, n_estimators=500 \n"
     ]
    },
    {
     "name": "stderr",
     "output_type": "stream",
     "text": [
      "C:\\Users\\VA\\anaconda3\\lib\\site-packages\\sklearn\\model_selection\\_validation.py:532: FitFailedWarning: Estimator fit failed. The score on this train-test partition for these parameters will be set to nan. Details: \n",
      "KeyError: 'squared_error'\n",
      "\n",
      "  warnings.warn(\"Estimator fit failed. The score on this train-test\"\n",
      "C:\\Users\\VA\\anaconda3\\lib\\site-packages\\sklearn\\model_selection\\_validation.py:532: FitFailedWarning: Estimator fit failed. The score on this train-test partition for these parameters will be set to nan. Details: \n",
      "KeyError: 'squared_error'\n",
      "\n",
      "  warnings.warn(\"Estimator fit failed. The score on this train-test\"\n",
      "C:\\Users\\VA\\anaconda3\\lib\\site-packages\\sklearn\\model_selection\\_validation.py:532: FitFailedWarning: Estimator fit failed. The score on this train-test partition for these parameters will be set to nan. Details: \n",
      "KeyError: 'squared_error'\n",
      "\n",
      "  warnings.warn(\"Estimator fit failed. The score on this train-test\"\n"
     ]
    },
    {
     "name": "stdout",
     "output_type": "stream",
     "text": [
      "[CV]  criterion=squared_error, max_depth=6, max_features=sqrt, n_estimators=500, total=   0.1s\n",
      "[CV] criterion=squared_error, max_depth=6, max_features=sqrt, n_estimators=500 \n",
      "[CV]  criterion=squared_error, max_depth=6, max_features=sqrt, n_estimators=500, total=   0.1s\n",
      "[CV] criterion=squared_error, max_depth=6, max_features=log2, n_estimators=100 \n",
      "[CV]  criterion=squared_error, max_depth=6, max_features=log2, n_estimators=100, total=   0.0s\n",
      "[CV] criterion=squared_error, max_depth=6, max_features=log2, n_estimators=100 \n",
      "[CV]  criterion=squared_error, max_depth=6, max_features=log2, n_estimators=100, total=   0.0s\n",
      "[CV] criterion=squared_error, max_depth=6, max_features=log2, n_estimators=100 \n",
      "[CV]  criterion=squared_error, max_depth=6, max_features=log2, n_estimators=100, total=   0.0s\n",
      "[CV] criterion=squared_error, max_depth=6, max_features=log2, n_estimators=100 \n",
      "[CV]  criterion=squared_error, max_depth=6, max_features=log2, n_estimators=100, total=   0.0s\n",
      "[CV] criterion=squared_error, max_depth=6, max_features=log2, n_estimators=100 \n",
      "[CV]  criterion=squared_error, max_depth=6, max_features=log2, n_estimators=100, total=   0.0s\n",
      "[CV] criterion=squared_error, max_depth=6, max_features=log2, n_estimators=200 \n",
      "[CV]  criterion=squared_error, max_depth=6, max_features=log2, n_estimators=200, total=   0.0s\n",
      "[CV] criterion=squared_error, max_depth=6, max_features=log2, n_estimators=200 \n"
     ]
    },
    {
     "name": "stderr",
     "output_type": "stream",
     "text": [
      "C:\\Users\\VA\\anaconda3\\lib\\site-packages\\sklearn\\model_selection\\_validation.py:532: FitFailedWarning: Estimator fit failed. The score on this train-test partition for these parameters will be set to nan. Details: \n",
      "KeyError: 'squared_error'\n",
      "\n",
      "  warnings.warn(\"Estimator fit failed. The score on this train-test\"\n",
      "C:\\Users\\VA\\anaconda3\\lib\\site-packages\\sklearn\\model_selection\\_validation.py:532: FitFailedWarning: Estimator fit failed. The score on this train-test partition for these parameters will be set to nan. Details: \n",
      "KeyError: 'squared_error'\n",
      "\n",
      "  warnings.warn(\"Estimator fit failed. The score on this train-test\"\n",
      "C:\\Users\\VA\\anaconda3\\lib\\site-packages\\sklearn\\model_selection\\_validation.py:532: FitFailedWarning: Estimator fit failed. The score on this train-test partition for these parameters will be set to nan. Details: \n",
      "KeyError: 'squared_error'\n",
      "\n",
      "  warnings.warn(\"Estimator fit failed. The score on this train-test\"\n",
      "C:\\Users\\VA\\anaconda3\\lib\\site-packages\\sklearn\\model_selection\\_validation.py:532: FitFailedWarning: Estimator fit failed. The score on this train-test partition for these parameters will be set to nan. Details: \n",
      "KeyError: 'squared_error'\n",
      "\n",
      "  warnings.warn(\"Estimator fit failed. The score on this train-test\"\n",
      "C:\\Users\\VA\\anaconda3\\lib\\site-packages\\sklearn\\model_selection\\_validation.py:532: FitFailedWarning: Estimator fit failed. The score on this train-test partition for these parameters will be set to nan. Details: \n",
      "KeyError: 'squared_error'\n",
      "\n",
      "  warnings.warn(\"Estimator fit failed. The score on this train-test\"\n",
      "C:\\Users\\VA\\anaconda3\\lib\\site-packages\\sklearn\\model_selection\\_validation.py:532: FitFailedWarning: Estimator fit failed. The score on this train-test partition for these parameters will be set to nan. Details: \n",
      "KeyError: 'squared_error'\n",
      "\n",
      "  warnings.warn(\"Estimator fit failed. The score on this train-test\"\n",
      "C:\\Users\\VA\\anaconda3\\lib\\site-packages\\sklearn\\model_selection\\_validation.py:532: FitFailedWarning: Estimator fit failed. The score on this train-test partition for these parameters will be set to nan. Details: \n",
      "KeyError: 'squared_error'\n",
      "\n",
      "  warnings.warn(\"Estimator fit failed. The score on this train-test\"\n"
     ]
    },
    {
     "name": "stdout",
     "output_type": "stream",
     "text": [
      "[CV]  criterion=squared_error, max_depth=6, max_features=log2, n_estimators=200, total=   0.0s\n",
      "[CV] criterion=squared_error, max_depth=6, max_features=log2, n_estimators=200 \n",
      "[CV]  criterion=squared_error, max_depth=6, max_features=log2, n_estimators=200, total=   0.0s\n",
      "[CV] criterion=squared_error, max_depth=6, max_features=log2, n_estimators=200 \n",
      "[CV]  criterion=squared_error, max_depth=6, max_features=log2, n_estimators=200, total=   0.0s\n",
      "[CV] criterion=squared_error, max_depth=6, max_features=log2, n_estimators=200 \n",
      "[CV]  criterion=squared_error, max_depth=6, max_features=log2, n_estimators=200, total=   0.0s\n",
      "[CV] criterion=squared_error, max_depth=6, max_features=log2, n_estimators=500 \n"
     ]
    },
    {
     "name": "stderr",
     "output_type": "stream",
     "text": [
      "C:\\Users\\VA\\anaconda3\\lib\\site-packages\\sklearn\\model_selection\\_validation.py:532: FitFailedWarning: Estimator fit failed. The score on this train-test partition for these parameters will be set to nan. Details: \n",
      "KeyError: 'squared_error'\n",
      "\n",
      "  warnings.warn(\"Estimator fit failed. The score on this train-test\"\n",
      "C:\\Users\\VA\\anaconda3\\lib\\site-packages\\sklearn\\model_selection\\_validation.py:532: FitFailedWarning: Estimator fit failed. The score on this train-test partition for these parameters will be set to nan. Details: \n",
      "KeyError: 'squared_error'\n",
      "\n",
      "  warnings.warn(\"Estimator fit failed. The score on this train-test\"\n",
      "C:\\Users\\VA\\anaconda3\\lib\\site-packages\\sklearn\\model_selection\\_validation.py:532: FitFailedWarning: Estimator fit failed. The score on this train-test partition for these parameters will be set to nan. Details: \n",
      "KeyError: 'squared_error'\n",
      "\n",
      "  warnings.warn(\"Estimator fit failed. The score on this train-test\"\n",
      "C:\\Users\\VA\\anaconda3\\lib\\site-packages\\sklearn\\model_selection\\_validation.py:532: FitFailedWarning: Estimator fit failed. The score on this train-test partition for these parameters will be set to nan. Details: \n",
      "KeyError: 'squared_error'\n",
      "\n",
      "  warnings.warn(\"Estimator fit failed. The score on this train-test\"\n"
     ]
    },
    {
     "name": "stdout",
     "output_type": "stream",
     "text": [
      "[CV]  criterion=squared_error, max_depth=6, max_features=log2, n_estimators=500, total=   0.1s\n",
      "[CV] criterion=squared_error, max_depth=6, max_features=log2, n_estimators=500 \n"
     ]
    },
    {
     "name": "stderr",
     "output_type": "stream",
     "text": [
      "C:\\Users\\VA\\anaconda3\\lib\\site-packages\\sklearn\\model_selection\\_validation.py:532: FitFailedWarning: Estimator fit failed. The score on this train-test partition for these parameters will be set to nan. Details: \n",
      "KeyError: 'squared_error'\n",
      "\n",
      "  warnings.warn(\"Estimator fit failed. The score on this train-test\"\n",
      "C:\\Users\\VA\\anaconda3\\lib\\site-packages\\sklearn\\model_selection\\_validation.py:532: FitFailedWarning: Estimator fit failed. The score on this train-test partition for these parameters will be set to nan. Details: \n",
      "KeyError: 'squared_error'\n",
      "\n",
      "  warnings.warn(\"Estimator fit failed. The score on this train-test\"\n",
      "C:\\Users\\VA\\anaconda3\\lib\\site-packages\\sklearn\\model_selection\\_validation.py:532: FitFailedWarning: Estimator fit failed. The score on this train-test partition for these parameters will be set to nan. Details: \n",
      "KeyError: 'squared_error'\n",
      "\n",
      "  warnings.warn(\"Estimator fit failed. The score on this train-test\"\n"
     ]
    },
    {
     "name": "stdout",
     "output_type": "stream",
     "text": [
      "[CV]  criterion=squared_error, max_depth=6, max_features=log2, n_estimators=500, total=   0.3s\n",
      "[CV] criterion=squared_error, max_depth=6, max_features=log2, n_estimators=500 \n",
      "[CV]  criterion=squared_error, max_depth=6, max_features=log2, n_estimators=500, total=   0.1s\n",
      "[CV] criterion=squared_error, max_depth=6, max_features=log2, n_estimators=500 \n",
      "[CV]  criterion=squared_error, max_depth=6, max_features=log2, n_estimators=500, total=   0.1s\n",
      "[CV] criterion=squared_error, max_depth=6, max_features=log2, n_estimators=500 \n"
     ]
    },
    {
     "name": "stderr",
     "output_type": "stream",
     "text": [
      "C:\\Users\\VA\\anaconda3\\lib\\site-packages\\sklearn\\model_selection\\_validation.py:532: FitFailedWarning: Estimator fit failed. The score on this train-test partition for these parameters will be set to nan. Details: \n",
      "KeyError: 'squared_error'\n",
      "\n",
      "  warnings.warn(\"Estimator fit failed. The score on this train-test\"\n",
      "[Parallel(n_jobs=1)]: Done 135 out of 135 | elapsed:    8.7s finished\n"
     ]
    },
    {
     "name": "stdout",
     "output_type": "stream",
     "text": [
      "[CV]  criterion=squared_error, max_depth=6, max_features=log2, n_estimators=500, total=   0.1s\n"
     ]
    },
    {
     "ename": "KeyError",
     "evalue": "'squared_error'",
     "output_type": "error",
     "traceback": [
      "\u001b[1;31m---------------------------------------------------------------------------\u001b[0m",
      "\u001b[1;31mKeyError\u001b[0m                                  Traceback (most recent call last)",
      "Input \u001b[1;32mIn [81]\u001b[0m, in \u001b[0;36m<cell line: 9>\u001b[1;34m()\u001b[0m\n\u001b[0;32m      2\u001b[0m param_grid \u001b[38;5;241m=\u001b[39m {\n\u001b[0;32m      3\u001b[0m    \u001b[38;5;124m'\u001b[39m\u001b[38;5;124mn_estimators\u001b[39m\u001b[38;5;124m'\u001b[39m: [\u001b[38;5;241m100\u001b[39m, \u001b[38;5;241m200\u001b[39m, \u001b[38;5;241m500\u001b[39m],\n\u001b[0;32m      4\u001b[0m    \u001b[38;5;124m'\u001b[39m\u001b[38;5;124mmax_features\u001b[39m\u001b[38;5;124m'\u001b[39m: [\u001b[38;5;124m'\u001b[39m\u001b[38;5;124mauto\u001b[39m\u001b[38;5;124m'\u001b[39m, \u001b[38;5;124m'\u001b[39m\u001b[38;5;124msqrt\u001b[39m\u001b[38;5;124m'\u001b[39m, \u001b[38;5;124m'\u001b[39m\u001b[38;5;124mlog2\u001b[39m\u001b[38;5;124m'\u001b[39m],\n\u001b[0;32m      5\u001b[0m    \u001b[38;5;124m'\u001b[39m\u001b[38;5;124mmax_depth\u001b[39m\u001b[38;5;124m'\u001b[39m : [\u001b[38;5;241m4\u001b[39m,\u001b[38;5;241m5\u001b[39m,\u001b[38;5;241m6\u001b[39m],\n\u001b[0;32m      6\u001b[0m    \u001b[38;5;124m'\u001b[39m\u001b[38;5;124mcriterion\u001b[39m\u001b[38;5;124m'\u001b[39m :[\u001b[38;5;124m'\u001b[39m\u001b[38;5;124msquared_error\u001b[39m\u001b[38;5;124m'\u001b[39m]\n\u001b[0;32m      7\u001b[0m }\n\u001b[0;32m      8\u001b[0m GSCV \u001b[38;5;241m=\u001b[39m GridSearchCV(estimator\u001b[38;5;241m=\u001b[39mrandom_forest_tuning, param_grid\u001b[38;5;241m=\u001b[39mparam_grid, cv\u001b[38;5;241m=\u001b[39m\u001b[38;5;241m5\u001b[39m, verbose\u001b[38;5;241m=\u001b[39m\u001b[38;5;241m2\u001b[39m)\n\u001b[1;32m----> 9\u001b[0m \u001b[43mGSCV\u001b[49m\u001b[38;5;241;43m.\u001b[39;49m\u001b[43mfit\u001b[49m\u001b[43m(\u001b[49m\u001b[43mX_train\u001b[49m\u001b[43m,\u001b[49m\u001b[43m \u001b[49m\u001b[43my_train\u001b[49m\u001b[43m)\u001b[49m\n\u001b[0;32m     10\u001b[0m GSCV\u001b[38;5;241m.\u001b[39mbest_params_\n",
      "File \u001b[1;32m~\\anaconda3\\lib\\site-packages\\sklearn\\model_selection\\_search.py:739\u001b[0m, in \u001b[0;36mBaseSearchCV.fit\u001b[1;34m(self, X, y, groups, **fit_params)\u001b[0m\n\u001b[0;32m    737\u001b[0m refit_start_time \u001b[38;5;241m=\u001b[39m time\u001b[38;5;241m.\u001b[39mtime()\n\u001b[0;32m    738\u001b[0m \u001b[38;5;28;01mif\u001b[39;00m y \u001b[38;5;129;01mis\u001b[39;00m \u001b[38;5;129;01mnot\u001b[39;00m \u001b[38;5;28;01mNone\u001b[39;00m:\n\u001b[1;32m--> 739\u001b[0m     \u001b[38;5;28mself\u001b[39m\u001b[38;5;241m.\u001b[39mbest_estimator_\u001b[38;5;241m.\u001b[39mfit(X, y, \u001b[38;5;241m*\u001b[39m\u001b[38;5;241m*\u001b[39mfit_params)\n\u001b[0;32m    740\u001b[0m \u001b[38;5;28;01melse\u001b[39;00m:\n\u001b[0;32m    741\u001b[0m     \u001b[38;5;28mself\u001b[39m\u001b[38;5;241m.\u001b[39mbest_estimator_\u001b[38;5;241m.\u001b[39mfit(X, \u001b[38;5;241m*\u001b[39m\u001b[38;5;241m*\u001b[39mfit_params)\n",
      "File \u001b[1;32m~\\anaconda3\\lib\\site-packages\\sklearn\\ensemble\\_forest.py:377\u001b[0m, in \u001b[0;36mBaseForest.fit\u001b[1;34m(self, X, y, sample_weight)\u001b[0m\n\u001b[0;32m    367\u001b[0m trees \u001b[38;5;241m=\u001b[39m [\u001b[38;5;28mself\u001b[39m\u001b[38;5;241m.\u001b[39m_make_estimator(append\u001b[38;5;241m=\u001b[39m\u001b[38;5;28;01mFalse\u001b[39;00m,\n\u001b[0;32m    368\u001b[0m                               random_state\u001b[38;5;241m=\u001b[39mrandom_state)\n\u001b[0;32m    369\u001b[0m          \u001b[38;5;28;01mfor\u001b[39;00m i \u001b[38;5;129;01min\u001b[39;00m \u001b[38;5;28mrange\u001b[39m(n_more_estimators)]\n\u001b[0;32m    371\u001b[0m \u001b[38;5;66;03m# Parallel loop: we prefer the threading backend as the Cython code\u001b[39;00m\n\u001b[0;32m    372\u001b[0m \u001b[38;5;66;03m# for fitting the trees is internally releasing the Python GIL\u001b[39;00m\n\u001b[0;32m    373\u001b[0m \u001b[38;5;66;03m# making threading more efficient than multiprocessing in\u001b[39;00m\n\u001b[0;32m    374\u001b[0m \u001b[38;5;66;03m# that case. However, for joblib 0.12+ we respect any\u001b[39;00m\n\u001b[0;32m    375\u001b[0m \u001b[38;5;66;03m# parallel_backend contexts set at a higher level,\u001b[39;00m\n\u001b[0;32m    376\u001b[0m \u001b[38;5;66;03m# since correctness does not rely on using threads.\u001b[39;00m\n\u001b[1;32m--> 377\u001b[0m trees \u001b[38;5;241m=\u001b[39m \u001b[43mParallel\u001b[49m\u001b[43m(\u001b[49m\u001b[43mn_jobs\u001b[49m\u001b[38;5;241;43m=\u001b[39;49m\u001b[38;5;28;43mself\u001b[39;49m\u001b[38;5;241;43m.\u001b[39;49m\u001b[43mn_jobs\u001b[49m\u001b[43m,\u001b[49m\u001b[43m \u001b[49m\u001b[43mverbose\u001b[49m\u001b[38;5;241;43m=\u001b[39;49m\u001b[38;5;28;43mself\u001b[39;49m\u001b[38;5;241;43m.\u001b[39;49m\u001b[43mverbose\u001b[49m\u001b[43m,\u001b[49m\n\u001b[0;32m    378\u001b[0m \u001b[43m                 \u001b[49m\u001b[38;5;241;43m*\u001b[39;49m\u001b[38;5;241;43m*\u001b[39;49m\u001b[43m_joblib_parallel_args\u001b[49m\u001b[43m(\u001b[49m\u001b[43mprefer\u001b[49m\u001b[38;5;241;43m=\u001b[39;49m\u001b[38;5;124;43m'\u001b[39;49m\u001b[38;5;124;43mthreads\u001b[39;49m\u001b[38;5;124;43m'\u001b[39;49m\u001b[43m)\u001b[49m\u001b[43m)\u001b[49m\u001b[43m(\u001b[49m\n\u001b[0;32m    379\u001b[0m \u001b[43m    \u001b[49m\u001b[43mdelayed\u001b[49m\u001b[43m(\u001b[49m\u001b[43m_parallel_build_trees\u001b[49m\u001b[43m)\u001b[49m\u001b[43m(\u001b[49m\n\u001b[0;32m    380\u001b[0m \u001b[43m        \u001b[49m\u001b[43mt\u001b[49m\u001b[43m,\u001b[49m\u001b[43m \u001b[49m\u001b[38;5;28;43mself\u001b[39;49m\u001b[43m,\u001b[49m\u001b[43m \u001b[49m\u001b[43mX\u001b[49m\u001b[43m,\u001b[49m\u001b[43m \u001b[49m\u001b[43my\u001b[49m\u001b[43m,\u001b[49m\u001b[43m \u001b[49m\u001b[43msample_weight\u001b[49m\u001b[43m,\u001b[49m\u001b[43m \u001b[49m\u001b[43mi\u001b[49m\u001b[43m,\u001b[49m\u001b[43m \u001b[49m\u001b[38;5;28;43mlen\u001b[39;49m\u001b[43m(\u001b[49m\u001b[43mtrees\u001b[49m\u001b[43m)\u001b[49m\u001b[43m,\u001b[49m\n\u001b[0;32m    381\u001b[0m \u001b[43m        \u001b[49m\u001b[43mverbose\u001b[49m\u001b[38;5;241;43m=\u001b[39;49m\u001b[38;5;28;43mself\u001b[39;49m\u001b[38;5;241;43m.\u001b[39;49m\u001b[43mverbose\u001b[49m\u001b[43m,\u001b[49m\u001b[43m \u001b[49m\u001b[43mclass_weight\u001b[49m\u001b[38;5;241;43m=\u001b[39;49m\u001b[38;5;28;43mself\u001b[39;49m\u001b[38;5;241;43m.\u001b[39;49m\u001b[43mclass_weight\u001b[49m\u001b[43m,\u001b[49m\n\u001b[0;32m    382\u001b[0m \u001b[43m        \u001b[49m\u001b[43mn_samples_bootstrap\u001b[49m\u001b[38;5;241;43m=\u001b[39;49m\u001b[43mn_samples_bootstrap\u001b[49m\u001b[43m)\u001b[49m\n\u001b[0;32m    383\u001b[0m \u001b[43m    \u001b[49m\u001b[38;5;28;43;01mfor\u001b[39;49;00m\u001b[43m \u001b[49m\u001b[43mi\u001b[49m\u001b[43m,\u001b[49m\u001b[43m \u001b[49m\u001b[43mt\u001b[49m\u001b[43m \u001b[49m\u001b[38;5;129;43;01min\u001b[39;49;00m\u001b[43m \u001b[49m\u001b[38;5;28;43menumerate\u001b[39;49m\u001b[43m(\u001b[49m\u001b[43mtrees\u001b[49m\u001b[43m)\u001b[49m\u001b[43m)\u001b[49m\n\u001b[0;32m    385\u001b[0m \u001b[38;5;66;03m# Collect newly grown trees\u001b[39;00m\n\u001b[0;32m    386\u001b[0m \u001b[38;5;28mself\u001b[39m\u001b[38;5;241m.\u001b[39mestimators_\u001b[38;5;241m.\u001b[39mextend(trees)\n",
      "File \u001b[1;32m~\\anaconda3\\lib\\site-packages\\joblib\\parallel.py:1048\u001b[0m, in \u001b[0;36mParallel.__call__\u001b[1;34m(self, iterable)\u001b[0m\n\u001b[0;32m   1039\u001b[0m \u001b[38;5;28;01mtry\u001b[39;00m:\n\u001b[0;32m   1040\u001b[0m     \u001b[38;5;66;03m# Only set self._iterating to True if at least a batch\u001b[39;00m\n\u001b[0;32m   1041\u001b[0m     \u001b[38;5;66;03m# was dispatched. In particular this covers the edge\u001b[39;00m\n\u001b[1;32m   (...)\u001b[0m\n\u001b[0;32m   1045\u001b[0m     \u001b[38;5;66;03m# was very quick and its callback already dispatched all the\u001b[39;00m\n\u001b[0;32m   1046\u001b[0m     \u001b[38;5;66;03m# remaining jobs.\u001b[39;00m\n\u001b[0;32m   1047\u001b[0m     \u001b[38;5;28mself\u001b[39m\u001b[38;5;241m.\u001b[39m_iterating \u001b[38;5;241m=\u001b[39m \u001b[38;5;28;01mFalse\u001b[39;00m\n\u001b[1;32m-> 1048\u001b[0m     \u001b[38;5;28;01mif\u001b[39;00m \u001b[38;5;28;43mself\u001b[39;49m\u001b[38;5;241;43m.\u001b[39;49m\u001b[43mdispatch_one_batch\u001b[49m\u001b[43m(\u001b[49m\u001b[43miterator\u001b[49m\u001b[43m)\u001b[49m:\n\u001b[0;32m   1049\u001b[0m         \u001b[38;5;28mself\u001b[39m\u001b[38;5;241m.\u001b[39m_iterating \u001b[38;5;241m=\u001b[39m \u001b[38;5;28mself\u001b[39m\u001b[38;5;241m.\u001b[39m_original_iterator \u001b[38;5;129;01mis\u001b[39;00m \u001b[38;5;129;01mnot\u001b[39;00m \u001b[38;5;28;01mNone\u001b[39;00m\n\u001b[0;32m   1051\u001b[0m     \u001b[38;5;28;01mwhile\u001b[39;00m \u001b[38;5;28mself\u001b[39m\u001b[38;5;241m.\u001b[39mdispatch_one_batch(iterator):\n",
      "File \u001b[1;32m~\\anaconda3\\lib\\site-packages\\joblib\\parallel.py:864\u001b[0m, in \u001b[0;36mParallel.dispatch_one_batch\u001b[1;34m(self, iterator)\u001b[0m\n\u001b[0;32m    862\u001b[0m     \u001b[38;5;28;01mreturn\u001b[39;00m \u001b[38;5;28;01mFalse\u001b[39;00m\n\u001b[0;32m    863\u001b[0m \u001b[38;5;28;01melse\u001b[39;00m:\n\u001b[1;32m--> 864\u001b[0m     \u001b[38;5;28;43mself\u001b[39;49m\u001b[38;5;241;43m.\u001b[39;49m\u001b[43m_dispatch\u001b[49m\u001b[43m(\u001b[49m\u001b[43mtasks\u001b[49m\u001b[43m)\u001b[49m\n\u001b[0;32m    865\u001b[0m     \u001b[38;5;28;01mreturn\u001b[39;00m \u001b[38;5;28;01mTrue\u001b[39;00m\n",
      "File \u001b[1;32m~\\anaconda3\\lib\\site-packages\\joblib\\parallel.py:782\u001b[0m, in \u001b[0;36mParallel._dispatch\u001b[1;34m(self, batch)\u001b[0m\n\u001b[0;32m    780\u001b[0m \u001b[38;5;28;01mwith\u001b[39;00m \u001b[38;5;28mself\u001b[39m\u001b[38;5;241m.\u001b[39m_lock:\n\u001b[0;32m    781\u001b[0m     job_idx \u001b[38;5;241m=\u001b[39m \u001b[38;5;28mlen\u001b[39m(\u001b[38;5;28mself\u001b[39m\u001b[38;5;241m.\u001b[39m_jobs)\n\u001b[1;32m--> 782\u001b[0m     job \u001b[38;5;241m=\u001b[39m \u001b[38;5;28;43mself\u001b[39;49m\u001b[38;5;241;43m.\u001b[39;49m\u001b[43m_backend\u001b[49m\u001b[38;5;241;43m.\u001b[39;49m\u001b[43mapply_async\u001b[49m\u001b[43m(\u001b[49m\u001b[43mbatch\u001b[49m\u001b[43m,\u001b[49m\u001b[43m \u001b[49m\u001b[43mcallback\u001b[49m\u001b[38;5;241;43m=\u001b[39;49m\u001b[43mcb\u001b[49m\u001b[43m)\u001b[49m\n\u001b[0;32m    783\u001b[0m     \u001b[38;5;66;03m# A job can complete so quickly than its callback is\u001b[39;00m\n\u001b[0;32m    784\u001b[0m     \u001b[38;5;66;03m# called before we get here, causing self._jobs to\u001b[39;00m\n\u001b[0;32m    785\u001b[0m     \u001b[38;5;66;03m# grow. To ensure correct results ordering, .insert is\u001b[39;00m\n\u001b[0;32m    786\u001b[0m     \u001b[38;5;66;03m# used (rather than .append) in the following line\u001b[39;00m\n\u001b[0;32m    787\u001b[0m     \u001b[38;5;28mself\u001b[39m\u001b[38;5;241m.\u001b[39m_jobs\u001b[38;5;241m.\u001b[39minsert(job_idx, job)\n",
      "File \u001b[1;32m~\\anaconda3\\lib\\site-packages\\joblib\\_parallel_backends.py:208\u001b[0m, in \u001b[0;36mSequentialBackend.apply_async\u001b[1;34m(self, func, callback)\u001b[0m\n\u001b[0;32m    206\u001b[0m \u001b[38;5;28;01mdef\u001b[39;00m \u001b[38;5;21mapply_async\u001b[39m(\u001b[38;5;28mself\u001b[39m, func, callback\u001b[38;5;241m=\u001b[39m\u001b[38;5;28;01mNone\u001b[39;00m):\n\u001b[0;32m    207\u001b[0m     \u001b[38;5;124;03m\"\"\"Schedule a func to be run\"\"\"\u001b[39;00m\n\u001b[1;32m--> 208\u001b[0m     result \u001b[38;5;241m=\u001b[39m \u001b[43mImmediateResult\u001b[49m\u001b[43m(\u001b[49m\u001b[43mfunc\u001b[49m\u001b[43m)\u001b[49m\n\u001b[0;32m    209\u001b[0m     \u001b[38;5;28;01mif\u001b[39;00m callback:\n\u001b[0;32m    210\u001b[0m         callback(result)\n",
      "File \u001b[1;32m~\\anaconda3\\lib\\site-packages\\joblib\\_parallel_backends.py:572\u001b[0m, in \u001b[0;36mImmediateResult.__init__\u001b[1;34m(self, batch)\u001b[0m\n\u001b[0;32m    569\u001b[0m \u001b[38;5;28;01mdef\u001b[39;00m \u001b[38;5;21m__init__\u001b[39m(\u001b[38;5;28mself\u001b[39m, batch):\n\u001b[0;32m    570\u001b[0m     \u001b[38;5;66;03m# Don't delay the application, to avoid keeping the input\u001b[39;00m\n\u001b[0;32m    571\u001b[0m     \u001b[38;5;66;03m# arguments in memory\u001b[39;00m\n\u001b[1;32m--> 572\u001b[0m     \u001b[38;5;28mself\u001b[39m\u001b[38;5;241m.\u001b[39mresults \u001b[38;5;241m=\u001b[39m \u001b[43mbatch\u001b[49m\u001b[43m(\u001b[49m\u001b[43m)\u001b[49m\n",
      "File \u001b[1;32m~\\anaconda3\\lib\\site-packages\\joblib\\parallel.py:263\u001b[0m, in \u001b[0;36mBatchedCalls.__call__\u001b[1;34m(self)\u001b[0m\n\u001b[0;32m    259\u001b[0m \u001b[38;5;28;01mdef\u001b[39;00m \u001b[38;5;21m__call__\u001b[39m(\u001b[38;5;28mself\u001b[39m):\n\u001b[0;32m    260\u001b[0m     \u001b[38;5;66;03m# Set the default nested backend to self._backend but do not set the\u001b[39;00m\n\u001b[0;32m    261\u001b[0m     \u001b[38;5;66;03m# change the default number of processes to -1\u001b[39;00m\n\u001b[0;32m    262\u001b[0m     \u001b[38;5;28;01mwith\u001b[39;00m parallel_backend(\u001b[38;5;28mself\u001b[39m\u001b[38;5;241m.\u001b[39m_backend, n_jobs\u001b[38;5;241m=\u001b[39m\u001b[38;5;28mself\u001b[39m\u001b[38;5;241m.\u001b[39m_n_jobs):\n\u001b[1;32m--> 263\u001b[0m         \u001b[38;5;28;01mreturn\u001b[39;00m [func(\u001b[38;5;241m*\u001b[39margs, \u001b[38;5;241m*\u001b[39m\u001b[38;5;241m*\u001b[39mkwargs)\n\u001b[0;32m    264\u001b[0m                 \u001b[38;5;28;01mfor\u001b[39;00m func, args, kwargs \u001b[38;5;129;01min\u001b[39;00m \u001b[38;5;28mself\u001b[39m\u001b[38;5;241m.\u001b[39mitems]\n",
      "File \u001b[1;32m~\\anaconda3\\lib\\site-packages\\joblib\\parallel.py:263\u001b[0m, in \u001b[0;36m<listcomp>\u001b[1;34m(.0)\u001b[0m\n\u001b[0;32m    259\u001b[0m \u001b[38;5;28;01mdef\u001b[39;00m \u001b[38;5;21m__call__\u001b[39m(\u001b[38;5;28mself\u001b[39m):\n\u001b[0;32m    260\u001b[0m     \u001b[38;5;66;03m# Set the default nested backend to self._backend but do not set the\u001b[39;00m\n\u001b[0;32m    261\u001b[0m     \u001b[38;5;66;03m# change the default number of processes to -1\u001b[39;00m\n\u001b[0;32m    262\u001b[0m     \u001b[38;5;28;01mwith\u001b[39;00m parallel_backend(\u001b[38;5;28mself\u001b[39m\u001b[38;5;241m.\u001b[39m_backend, n_jobs\u001b[38;5;241m=\u001b[39m\u001b[38;5;28mself\u001b[39m\u001b[38;5;241m.\u001b[39m_n_jobs):\n\u001b[1;32m--> 263\u001b[0m         \u001b[38;5;28;01mreturn\u001b[39;00m [func(\u001b[38;5;241m*\u001b[39margs, \u001b[38;5;241m*\u001b[39m\u001b[38;5;241m*\u001b[39mkwargs)\n\u001b[0;32m    264\u001b[0m                 \u001b[38;5;28;01mfor\u001b[39;00m func, args, kwargs \u001b[38;5;129;01min\u001b[39;00m \u001b[38;5;28mself\u001b[39m\u001b[38;5;241m.\u001b[39mitems]\n",
      "File \u001b[1;32m~\\anaconda3\\lib\\site-packages\\sklearn\\ensemble\\_forest.py:165\u001b[0m, in \u001b[0;36m_parallel_build_trees\u001b[1;34m(tree, forest, X, y, sample_weight, tree_idx, n_trees, verbose, class_weight, n_samples_bootstrap)\u001b[0m\n\u001b[0;32m    162\u001b[0m     \u001b[38;5;28;01melif\u001b[39;00m class_weight \u001b[38;5;241m==\u001b[39m \u001b[38;5;124m'\u001b[39m\u001b[38;5;124mbalanced_subsample\u001b[39m\u001b[38;5;124m'\u001b[39m:\n\u001b[0;32m    163\u001b[0m         curr_sample_weight \u001b[38;5;241m*\u001b[39m\u001b[38;5;241m=\u001b[39m compute_sample_weight(\u001b[38;5;124m'\u001b[39m\u001b[38;5;124mbalanced\u001b[39m\u001b[38;5;124m'\u001b[39m, y, indices)\n\u001b[1;32m--> 165\u001b[0m     \u001b[43mtree\u001b[49m\u001b[38;5;241;43m.\u001b[39;49m\u001b[43mfit\u001b[49m\u001b[43m(\u001b[49m\u001b[43mX\u001b[49m\u001b[43m,\u001b[49m\u001b[43m \u001b[49m\u001b[43my\u001b[49m\u001b[43m,\u001b[49m\u001b[43m \u001b[49m\u001b[43msample_weight\u001b[49m\u001b[38;5;241;43m=\u001b[39;49m\u001b[43mcurr_sample_weight\u001b[49m\u001b[43m,\u001b[49m\u001b[43m \u001b[49m\u001b[43mcheck_input\u001b[49m\u001b[38;5;241;43m=\u001b[39;49m\u001b[38;5;28;43;01mFalse\u001b[39;49;00m\u001b[43m)\u001b[49m\n\u001b[0;32m    166\u001b[0m \u001b[38;5;28;01melse\u001b[39;00m:\n\u001b[0;32m    167\u001b[0m     tree\u001b[38;5;241m.\u001b[39mfit(X, y, sample_weight\u001b[38;5;241m=\u001b[39msample_weight, check_input\u001b[38;5;241m=\u001b[39m\u001b[38;5;28;01mFalse\u001b[39;00m)\n",
      "File \u001b[1;32m~\\anaconda3\\lib\\site-packages\\sklearn\\tree\\_classes.py:1221\u001b[0m, in \u001b[0;36mDecisionTreeRegressor.fit\u001b[1;34m(self, X, y, sample_weight, check_input, X_idx_sorted)\u001b[0m\n\u001b[0;32m   1184\u001b[0m \u001b[38;5;28;01mdef\u001b[39;00m \u001b[38;5;21mfit\u001b[39m(\u001b[38;5;28mself\u001b[39m, X, y, sample_weight\u001b[38;5;241m=\u001b[39m\u001b[38;5;28;01mNone\u001b[39;00m, check_input\u001b[38;5;241m=\u001b[39m\u001b[38;5;28;01mTrue\u001b[39;00m,\n\u001b[0;32m   1185\u001b[0m         X_idx_sorted\u001b[38;5;241m=\u001b[39m\u001b[38;5;28;01mNone\u001b[39;00m):\n\u001b[0;32m   1186\u001b[0m     \u001b[38;5;124;03m\"\"\"Build a decision tree regressor from the training set (X, y).\u001b[39;00m\n\u001b[0;32m   1187\u001b[0m \n\u001b[0;32m   1188\u001b[0m \u001b[38;5;124;03m    Parameters\u001b[39;00m\n\u001b[1;32m   (...)\u001b[0m\n\u001b[0;32m   1218\u001b[0m \u001b[38;5;124;03m        Fitted estimator.\u001b[39;00m\n\u001b[0;32m   1219\u001b[0m \u001b[38;5;124;03m    \"\"\"\u001b[39;00m\n\u001b[1;32m-> 1221\u001b[0m     \u001b[38;5;28;43msuper\u001b[39;49m\u001b[43m(\u001b[49m\u001b[43m)\u001b[49m\u001b[38;5;241;43m.\u001b[39;49m\u001b[43mfit\u001b[49m\u001b[43m(\u001b[49m\n\u001b[0;32m   1222\u001b[0m \u001b[43m        \u001b[49m\u001b[43mX\u001b[49m\u001b[43m,\u001b[49m\u001b[43m \u001b[49m\u001b[43my\u001b[49m\u001b[43m,\u001b[49m\n\u001b[0;32m   1223\u001b[0m \u001b[43m        \u001b[49m\u001b[43msample_weight\u001b[49m\u001b[38;5;241;43m=\u001b[39;49m\u001b[43msample_weight\u001b[49m\u001b[43m,\u001b[49m\n\u001b[0;32m   1224\u001b[0m \u001b[43m        \u001b[49m\u001b[43mcheck_input\u001b[49m\u001b[38;5;241;43m=\u001b[39;49m\u001b[43mcheck_input\u001b[49m\u001b[43m,\u001b[49m\n\u001b[0;32m   1225\u001b[0m \u001b[43m        \u001b[49m\u001b[43mX_idx_sorted\u001b[49m\u001b[38;5;241;43m=\u001b[39;49m\u001b[43mX_idx_sorted\u001b[49m\u001b[43m)\u001b[49m\n\u001b[0;32m   1226\u001b[0m     \u001b[38;5;28;01mreturn\u001b[39;00m \u001b[38;5;28mself\u001b[39m\n",
      "File \u001b[1;32m~\\anaconda3\\lib\\site-packages\\sklearn\\tree\\_classes.py:328\u001b[0m, in \u001b[0;36mBaseDecisionTree.fit\u001b[1;34m(self, X, y, sample_weight, check_input, X_idx_sorted)\u001b[0m\n\u001b[0;32m    325\u001b[0m         criterion \u001b[38;5;241m=\u001b[39m CRITERIA_CLF[\u001b[38;5;28mself\u001b[39m\u001b[38;5;241m.\u001b[39mcriterion](\u001b[38;5;28mself\u001b[39m\u001b[38;5;241m.\u001b[39mn_outputs_,\n\u001b[0;32m    326\u001b[0m                                                  \u001b[38;5;28mself\u001b[39m\u001b[38;5;241m.\u001b[39mn_classes_)\n\u001b[0;32m    327\u001b[0m     \u001b[38;5;28;01melse\u001b[39;00m:\n\u001b[1;32m--> 328\u001b[0m         criterion \u001b[38;5;241m=\u001b[39m \u001b[43mCRITERIA_REG\u001b[49m\u001b[43m[\u001b[49m\u001b[38;5;28;43mself\u001b[39;49m\u001b[38;5;241;43m.\u001b[39;49m\u001b[43mcriterion\u001b[49m\u001b[43m]\u001b[49m(\u001b[38;5;28mself\u001b[39m\u001b[38;5;241m.\u001b[39mn_outputs_,\n\u001b[0;32m    329\u001b[0m                                                  n_samples)\n\u001b[0;32m    331\u001b[0m SPLITTERS \u001b[38;5;241m=\u001b[39m SPARSE_SPLITTERS \u001b[38;5;28;01mif\u001b[39;00m issparse(X) \u001b[38;5;28;01melse\u001b[39;00m DENSE_SPLITTERS\n\u001b[0;32m    333\u001b[0m splitter \u001b[38;5;241m=\u001b[39m \u001b[38;5;28mself\u001b[39m\u001b[38;5;241m.\u001b[39msplitter\n",
      "\u001b[1;31mKeyError\u001b[0m: 'squared_error'"
     ]
    }
   ],
   "source": [
    "random_forest_tuning = RandomForestRegressor(random_state = 42)\n",
    "param_grid = {\n",
    "   'n_estimators': [100, 200, 500],\n",
    "   'max_features': ['auto', 'sqrt', 'log2'],\n",
    "   'max_depth' : [4,5,6],\n",
    "   'criterion' :['squared_error']\n",
    "}\n",
    "GSCV = GridSearchCV(estimator=random_forest_tuning, param_grid=param_grid, cv=5, verbose=2)\n",
    "GSCV.fit(X_train, y_train)\n",
    "GSCV.best_params_ "
   ]
  },
  {
   "cell_type": "code",
   "execution_count": 82,
   "metadata": {},
   "outputs": [
    {
     "data": {
      "text/plain": [
       "RandomForestRegressor(bootstrap=True, ccp_alpha=0.0, criterion='squared_error',\n",
       "                      max_depth=4, max_features='auto', max_leaf_nodes=None,\n",
       "                      max_samples=None, min_impurity_decrease=0.0,\n",
       "                      min_impurity_split=None, min_samples_leaf=1,\n",
       "                      min_samples_split=2, min_weight_fraction_leaf=0.0,\n",
       "                      n_estimators=100, n_jobs=None, oob_score=False,\n",
       "                      random_state=42, verbose=0, warm_start=False)"
      ]
     },
     "execution_count": 82,
     "metadata": {},
     "output_type": "execute_result"
    }
   ],
   "source": [
    "rf = GSCV.best_estimator_\n",
    "rf"
   ]
  },
  {
   "cell_type": "code",
   "execution_count": 83,
   "metadata": {},
   "outputs": [
    {
     "data": {
      "text/plain": [
       "RandomForestRegressor(bootstrap=True, ccp_alpha=0.0, criterion='mse',\n",
       "                      max_depth=None, max_features='auto', max_leaf_nodes=None,\n",
       "                      max_samples=None, min_impurity_decrease=0.0,\n",
       "                      min_impurity_split=None, min_samples_leaf=1,\n",
       "                      min_samples_split=2, min_weight_fraction_leaf=0.0,\n",
       "                      n_estimators={'criterion': 'squared_error',\n",
       "                                    'max_depth': 4, 'max_features': 'auto',\n",
       "                                    'n_estimators': 100},\n",
       "                      n_jobs=None, oob_score=False, random_state=None,\n",
       "                      verbose=0, warm_start=False)"
      ]
     },
     "execution_count": 83,
     "metadata": {},
     "output_type": "execute_result"
    }
   ],
   "source": [
    "rf = RandomForestRegressor(GSCV.best_params_)\n",
    "rf"
   ]
  },
  {
   "cell_type": "code",
   "execution_count": 84,
   "metadata": {},
   "outputs": [],
   "source": [
    "rf = RandomForestRegressor(criterion='squared_error', max_depth=6, \n",
    "                           max_features='auto', n_estimators=500)"
   ]
  },
  {
   "cell_type": "code",
   "execution_count": 85,
   "metadata": {},
   "outputs": [
    {
     "ename": "KeyError",
     "evalue": "'squared_error'",
     "output_type": "error",
     "traceback": [
      "\u001b[1;31m---------------------------------------------------------------------------\u001b[0m",
      "\u001b[1;31mKeyError\u001b[0m                                  Traceback (most recent call last)",
      "Input \u001b[1;32mIn [85]\u001b[0m, in \u001b[0;36m<cell line: 1>\u001b[1;34m()\u001b[0m\n\u001b[1;32m----> 1\u001b[0m \u001b[43mrf\u001b[49m\u001b[38;5;241;43m.\u001b[39;49m\u001b[43mfit\u001b[49m\u001b[43m(\u001b[49m\u001b[43mX_train\u001b[49m\u001b[43m,\u001b[49m\u001b[43m \u001b[49m\u001b[43my_train\u001b[49m\u001b[43m)\u001b[49m\n",
      "File \u001b[1;32m~\\anaconda3\\lib\\site-packages\\sklearn\\ensemble\\_forest.py:377\u001b[0m, in \u001b[0;36mBaseForest.fit\u001b[1;34m(self, X, y, sample_weight)\u001b[0m\n\u001b[0;32m    367\u001b[0m trees \u001b[38;5;241m=\u001b[39m [\u001b[38;5;28mself\u001b[39m\u001b[38;5;241m.\u001b[39m_make_estimator(append\u001b[38;5;241m=\u001b[39m\u001b[38;5;28;01mFalse\u001b[39;00m,\n\u001b[0;32m    368\u001b[0m                               random_state\u001b[38;5;241m=\u001b[39mrandom_state)\n\u001b[0;32m    369\u001b[0m          \u001b[38;5;28;01mfor\u001b[39;00m i \u001b[38;5;129;01min\u001b[39;00m \u001b[38;5;28mrange\u001b[39m(n_more_estimators)]\n\u001b[0;32m    371\u001b[0m \u001b[38;5;66;03m# Parallel loop: we prefer the threading backend as the Cython code\u001b[39;00m\n\u001b[0;32m    372\u001b[0m \u001b[38;5;66;03m# for fitting the trees is internally releasing the Python GIL\u001b[39;00m\n\u001b[0;32m    373\u001b[0m \u001b[38;5;66;03m# making threading more efficient than multiprocessing in\u001b[39;00m\n\u001b[0;32m    374\u001b[0m \u001b[38;5;66;03m# that case. However, for joblib 0.12+ we respect any\u001b[39;00m\n\u001b[0;32m    375\u001b[0m \u001b[38;5;66;03m# parallel_backend contexts set at a higher level,\u001b[39;00m\n\u001b[0;32m    376\u001b[0m \u001b[38;5;66;03m# since correctness does not rely on using threads.\u001b[39;00m\n\u001b[1;32m--> 377\u001b[0m trees \u001b[38;5;241m=\u001b[39m \u001b[43mParallel\u001b[49m\u001b[43m(\u001b[49m\u001b[43mn_jobs\u001b[49m\u001b[38;5;241;43m=\u001b[39;49m\u001b[38;5;28;43mself\u001b[39;49m\u001b[38;5;241;43m.\u001b[39;49m\u001b[43mn_jobs\u001b[49m\u001b[43m,\u001b[49m\u001b[43m \u001b[49m\u001b[43mverbose\u001b[49m\u001b[38;5;241;43m=\u001b[39;49m\u001b[38;5;28;43mself\u001b[39;49m\u001b[38;5;241;43m.\u001b[39;49m\u001b[43mverbose\u001b[49m\u001b[43m,\u001b[49m\n\u001b[0;32m    378\u001b[0m \u001b[43m                 \u001b[49m\u001b[38;5;241;43m*\u001b[39;49m\u001b[38;5;241;43m*\u001b[39;49m\u001b[43m_joblib_parallel_args\u001b[49m\u001b[43m(\u001b[49m\u001b[43mprefer\u001b[49m\u001b[38;5;241;43m=\u001b[39;49m\u001b[38;5;124;43m'\u001b[39;49m\u001b[38;5;124;43mthreads\u001b[39;49m\u001b[38;5;124;43m'\u001b[39;49m\u001b[43m)\u001b[49m\u001b[43m)\u001b[49m\u001b[43m(\u001b[49m\n\u001b[0;32m    379\u001b[0m \u001b[43m    \u001b[49m\u001b[43mdelayed\u001b[49m\u001b[43m(\u001b[49m\u001b[43m_parallel_build_trees\u001b[49m\u001b[43m)\u001b[49m\u001b[43m(\u001b[49m\n\u001b[0;32m    380\u001b[0m \u001b[43m        \u001b[49m\u001b[43mt\u001b[49m\u001b[43m,\u001b[49m\u001b[43m \u001b[49m\u001b[38;5;28;43mself\u001b[39;49m\u001b[43m,\u001b[49m\u001b[43m \u001b[49m\u001b[43mX\u001b[49m\u001b[43m,\u001b[49m\u001b[43m \u001b[49m\u001b[43my\u001b[49m\u001b[43m,\u001b[49m\u001b[43m \u001b[49m\u001b[43msample_weight\u001b[49m\u001b[43m,\u001b[49m\u001b[43m \u001b[49m\u001b[43mi\u001b[49m\u001b[43m,\u001b[49m\u001b[43m \u001b[49m\u001b[38;5;28;43mlen\u001b[39;49m\u001b[43m(\u001b[49m\u001b[43mtrees\u001b[49m\u001b[43m)\u001b[49m\u001b[43m,\u001b[49m\n\u001b[0;32m    381\u001b[0m \u001b[43m        \u001b[49m\u001b[43mverbose\u001b[49m\u001b[38;5;241;43m=\u001b[39;49m\u001b[38;5;28;43mself\u001b[39;49m\u001b[38;5;241;43m.\u001b[39;49m\u001b[43mverbose\u001b[49m\u001b[43m,\u001b[49m\u001b[43m \u001b[49m\u001b[43mclass_weight\u001b[49m\u001b[38;5;241;43m=\u001b[39;49m\u001b[38;5;28;43mself\u001b[39;49m\u001b[38;5;241;43m.\u001b[39;49m\u001b[43mclass_weight\u001b[49m\u001b[43m,\u001b[49m\n\u001b[0;32m    382\u001b[0m \u001b[43m        \u001b[49m\u001b[43mn_samples_bootstrap\u001b[49m\u001b[38;5;241;43m=\u001b[39;49m\u001b[43mn_samples_bootstrap\u001b[49m\u001b[43m)\u001b[49m\n\u001b[0;32m    383\u001b[0m \u001b[43m    \u001b[49m\u001b[38;5;28;43;01mfor\u001b[39;49;00m\u001b[43m \u001b[49m\u001b[43mi\u001b[49m\u001b[43m,\u001b[49m\u001b[43m \u001b[49m\u001b[43mt\u001b[49m\u001b[43m \u001b[49m\u001b[38;5;129;43;01min\u001b[39;49;00m\u001b[43m \u001b[49m\u001b[38;5;28;43menumerate\u001b[39;49m\u001b[43m(\u001b[49m\u001b[43mtrees\u001b[49m\u001b[43m)\u001b[49m\u001b[43m)\u001b[49m\n\u001b[0;32m    385\u001b[0m \u001b[38;5;66;03m# Collect newly grown trees\u001b[39;00m\n\u001b[0;32m    386\u001b[0m \u001b[38;5;28mself\u001b[39m\u001b[38;5;241m.\u001b[39mestimators_\u001b[38;5;241m.\u001b[39mextend(trees)\n",
      "File \u001b[1;32m~\\anaconda3\\lib\\site-packages\\joblib\\parallel.py:1048\u001b[0m, in \u001b[0;36mParallel.__call__\u001b[1;34m(self, iterable)\u001b[0m\n\u001b[0;32m   1039\u001b[0m \u001b[38;5;28;01mtry\u001b[39;00m:\n\u001b[0;32m   1040\u001b[0m     \u001b[38;5;66;03m# Only set self._iterating to True if at least a batch\u001b[39;00m\n\u001b[0;32m   1041\u001b[0m     \u001b[38;5;66;03m# was dispatched. In particular this covers the edge\u001b[39;00m\n\u001b[1;32m   (...)\u001b[0m\n\u001b[0;32m   1045\u001b[0m     \u001b[38;5;66;03m# was very quick and its callback already dispatched all the\u001b[39;00m\n\u001b[0;32m   1046\u001b[0m     \u001b[38;5;66;03m# remaining jobs.\u001b[39;00m\n\u001b[0;32m   1047\u001b[0m     \u001b[38;5;28mself\u001b[39m\u001b[38;5;241m.\u001b[39m_iterating \u001b[38;5;241m=\u001b[39m \u001b[38;5;28;01mFalse\u001b[39;00m\n\u001b[1;32m-> 1048\u001b[0m     \u001b[38;5;28;01mif\u001b[39;00m \u001b[38;5;28;43mself\u001b[39;49m\u001b[38;5;241;43m.\u001b[39;49m\u001b[43mdispatch_one_batch\u001b[49m\u001b[43m(\u001b[49m\u001b[43miterator\u001b[49m\u001b[43m)\u001b[49m:\n\u001b[0;32m   1049\u001b[0m         \u001b[38;5;28mself\u001b[39m\u001b[38;5;241m.\u001b[39m_iterating \u001b[38;5;241m=\u001b[39m \u001b[38;5;28mself\u001b[39m\u001b[38;5;241m.\u001b[39m_original_iterator \u001b[38;5;129;01mis\u001b[39;00m \u001b[38;5;129;01mnot\u001b[39;00m \u001b[38;5;28;01mNone\u001b[39;00m\n\u001b[0;32m   1051\u001b[0m     \u001b[38;5;28;01mwhile\u001b[39;00m \u001b[38;5;28mself\u001b[39m\u001b[38;5;241m.\u001b[39mdispatch_one_batch(iterator):\n",
      "File \u001b[1;32m~\\anaconda3\\lib\\site-packages\\joblib\\parallel.py:864\u001b[0m, in \u001b[0;36mParallel.dispatch_one_batch\u001b[1;34m(self, iterator)\u001b[0m\n\u001b[0;32m    862\u001b[0m     \u001b[38;5;28;01mreturn\u001b[39;00m \u001b[38;5;28;01mFalse\u001b[39;00m\n\u001b[0;32m    863\u001b[0m \u001b[38;5;28;01melse\u001b[39;00m:\n\u001b[1;32m--> 864\u001b[0m     \u001b[38;5;28;43mself\u001b[39;49m\u001b[38;5;241;43m.\u001b[39;49m\u001b[43m_dispatch\u001b[49m\u001b[43m(\u001b[49m\u001b[43mtasks\u001b[49m\u001b[43m)\u001b[49m\n\u001b[0;32m    865\u001b[0m     \u001b[38;5;28;01mreturn\u001b[39;00m \u001b[38;5;28;01mTrue\u001b[39;00m\n",
      "File \u001b[1;32m~\\anaconda3\\lib\\site-packages\\joblib\\parallel.py:782\u001b[0m, in \u001b[0;36mParallel._dispatch\u001b[1;34m(self, batch)\u001b[0m\n\u001b[0;32m    780\u001b[0m \u001b[38;5;28;01mwith\u001b[39;00m \u001b[38;5;28mself\u001b[39m\u001b[38;5;241m.\u001b[39m_lock:\n\u001b[0;32m    781\u001b[0m     job_idx \u001b[38;5;241m=\u001b[39m \u001b[38;5;28mlen\u001b[39m(\u001b[38;5;28mself\u001b[39m\u001b[38;5;241m.\u001b[39m_jobs)\n\u001b[1;32m--> 782\u001b[0m     job \u001b[38;5;241m=\u001b[39m \u001b[38;5;28;43mself\u001b[39;49m\u001b[38;5;241;43m.\u001b[39;49m\u001b[43m_backend\u001b[49m\u001b[38;5;241;43m.\u001b[39;49m\u001b[43mapply_async\u001b[49m\u001b[43m(\u001b[49m\u001b[43mbatch\u001b[49m\u001b[43m,\u001b[49m\u001b[43m \u001b[49m\u001b[43mcallback\u001b[49m\u001b[38;5;241;43m=\u001b[39;49m\u001b[43mcb\u001b[49m\u001b[43m)\u001b[49m\n\u001b[0;32m    783\u001b[0m     \u001b[38;5;66;03m# A job can complete so quickly than its callback is\u001b[39;00m\n\u001b[0;32m    784\u001b[0m     \u001b[38;5;66;03m# called before we get here, causing self._jobs to\u001b[39;00m\n\u001b[0;32m    785\u001b[0m     \u001b[38;5;66;03m# grow. To ensure correct results ordering, .insert is\u001b[39;00m\n\u001b[0;32m    786\u001b[0m     \u001b[38;5;66;03m# used (rather than .append) in the following line\u001b[39;00m\n\u001b[0;32m    787\u001b[0m     \u001b[38;5;28mself\u001b[39m\u001b[38;5;241m.\u001b[39m_jobs\u001b[38;5;241m.\u001b[39minsert(job_idx, job)\n",
      "File \u001b[1;32m~\\anaconda3\\lib\\site-packages\\joblib\\_parallel_backends.py:208\u001b[0m, in \u001b[0;36mSequentialBackend.apply_async\u001b[1;34m(self, func, callback)\u001b[0m\n\u001b[0;32m    206\u001b[0m \u001b[38;5;28;01mdef\u001b[39;00m \u001b[38;5;21mapply_async\u001b[39m(\u001b[38;5;28mself\u001b[39m, func, callback\u001b[38;5;241m=\u001b[39m\u001b[38;5;28;01mNone\u001b[39;00m):\n\u001b[0;32m    207\u001b[0m     \u001b[38;5;124;03m\"\"\"Schedule a func to be run\"\"\"\u001b[39;00m\n\u001b[1;32m--> 208\u001b[0m     result \u001b[38;5;241m=\u001b[39m \u001b[43mImmediateResult\u001b[49m\u001b[43m(\u001b[49m\u001b[43mfunc\u001b[49m\u001b[43m)\u001b[49m\n\u001b[0;32m    209\u001b[0m     \u001b[38;5;28;01mif\u001b[39;00m callback:\n\u001b[0;32m    210\u001b[0m         callback(result)\n",
      "File \u001b[1;32m~\\anaconda3\\lib\\site-packages\\joblib\\_parallel_backends.py:572\u001b[0m, in \u001b[0;36mImmediateResult.__init__\u001b[1;34m(self, batch)\u001b[0m\n\u001b[0;32m    569\u001b[0m \u001b[38;5;28;01mdef\u001b[39;00m \u001b[38;5;21m__init__\u001b[39m(\u001b[38;5;28mself\u001b[39m, batch):\n\u001b[0;32m    570\u001b[0m     \u001b[38;5;66;03m# Don't delay the application, to avoid keeping the input\u001b[39;00m\n\u001b[0;32m    571\u001b[0m     \u001b[38;5;66;03m# arguments in memory\u001b[39;00m\n\u001b[1;32m--> 572\u001b[0m     \u001b[38;5;28mself\u001b[39m\u001b[38;5;241m.\u001b[39mresults \u001b[38;5;241m=\u001b[39m \u001b[43mbatch\u001b[49m\u001b[43m(\u001b[49m\u001b[43m)\u001b[49m\n",
      "File \u001b[1;32m~\\anaconda3\\lib\\site-packages\\joblib\\parallel.py:263\u001b[0m, in \u001b[0;36mBatchedCalls.__call__\u001b[1;34m(self)\u001b[0m\n\u001b[0;32m    259\u001b[0m \u001b[38;5;28;01mdef\u001b[39;00m \u001b[38;5;21m__call__\u001b[39m(\u001b[38;5;28mself\u001b[39m):\n\u001b[0;32m    260\u001b[0m     \u001b[38;5;66;03m# Set the default nested backend to self._backend but do not set the\u001b[39;00m\n\u001b[0;32m    261\u001b[0m     \u001b[38;5;66;03m# change the default number of processes to -1\u001b[39;00m\n\u001b[0;32m    262\u001b[0m     \u001b[38;5;28;01mwith\u001b[39;00m parallel_backend(\u001b[38;5;28mself\u001b[39m\u001b[38;5;241m.\u001b[39m_backend, n_jobs\u001b[38;5;241m=\u001b[39m\u001b[38;5;28mself\u001b[39m\u001b[38;5;241m.\u001b[39m_n_jobs):\n\u001b[1;32m--> 263\u001b[0m         \u001b[38;5;28;01mreturn\u001b[39;00m [func(\u001b[38;5;241m*\u001b[39margs, \u001b[38;5;241m*\u001b[39m\u001b[38;5;241m*\u001b[39mkwargs)\n\u001b[0;32m    264\u001b[0m                 \u001b[38;5;28;01mfor\u001b[39;00m func, args, kwargs \u001b[38;5;129;01min\u001b[39;00m \u001b[38;5;28mself\u001b[39m\u001b[38;5;241m.\u001b[39mitems]\n",
      "File \u001b[1;32m~\\anaconda3\\lib\\site-packages\\joblib\\parallel.py:263\u001b[0m, in \u001b[0;36m<listcomp>\u001b[1;34m(.0)\u001b[0m\n\u001b[0;32m    259\u001b[0m \u001b[38;5;28;01mdef\u001b[39;00m \u001b[38;5;21m__call__\u001b[39m(\u001b[38;5;28mself\u001b[39m):\n\u001b[0;32m    260\u001b[0m     \u001b[38;5;66;03m# Set the default nested backend to self._backend but do not set the\u001b[39;00m\n\u001b[0;32m    261\u001b[0m     \u001b[38;5;66;03m# change the default number of processes to -1\u001b[39;00m\n\u001b[0;32m    262\u001b[0m     \u001b[38;5;28;01mwith\u001b[39;00m parallel_backend(\u001b[38;5;28mself\u001b[39m\u001b[38;5;241m.\u001b[39m_backend, n_jobs\u001b[38;5;241m=\u001b[39m\u001b[38;5;28mself\u001b[39m\u001b[38;5;241m.\u001b[39m_n_jobs):\n\u001b[1;32m--> 263\u001b[0m         \u001b[38;5;28;01mreturn\u001b[39;00m [func(\u001b[38;5;241m*\u001b[39margs, \u001b[38;5;241m*\u001b[39m\u001b[38;5;241m*\u001b[39mkwargs)\n\u001b[0;32m    264\u001b[0m                 \u001b[38;5;28;01mfor\u001b[39;00m func, args, kwargs \u001b[38;5;129;01min\u001b[39;00m \u001b[38;5;28mself\u001b[39m\u001b[38;5;241m.\u001b[39mitems]\n",
      "File \u001b[1;32m~\\anaconda3\\lib\\site-packages\\sklearn\\ensemble\\_forest.py:165\u001b[0m, in \u001b[0;36m_parallel_build_trees\u001b[1;34m(tree, forest, X, y, sample_weight, tree_idx, n_trees, verbose, class_weight, n_samples_bootstrap)\u001b[0m\n\u001b[0;32m    162\u001b[0m     \u001b[38;5;28;01melif\u001b[39;00m class_weight \u001b[38;5;241m==\u001b[39m \u001b[38;5;124m'\u001b[39m\u001b[38;5;124mbalanced_subsample\u001b[39m\u001b[38;5;124m'\u001b[39m:\n\u001b[0;32m    163\u001b[0m         curr_sample_weight \u001b[38;5;241m*\u001b[39m\u001b[38;5;241m=\u001b[39m compute_sample_weight(\u001b[38;5;124m'\u001b[39m\u001b[38;5;124mbalanced\u001b[39m\u001b[38;5;124m'\u001b[39m, y, indices)\n\u001b[1;32m--> 165\u001b[0m     \u001b[43mtree\u001b[49m\u001b[38;5;241;43m.\u001b[39;49m\u001b[43mfit\u001b[49m\u001b[43m(\u001b[49m\u001b[43mX\u001b[49m\u001b[43m,\u001b[49m\u001b[43m \u001b[49m\u001b[43my\u001b[49m\u001b[43m,\u001b[49m\u001b[43m \u001b[49m\u001b[43msample_weight\u001b[49m\u001b[38;5;241;43m=\u001b[39;49m\u001b[43mcurr_sample_weight\u001b[49m\u001b[43m,\u001b[49m\u001b[43m \u001b[49m\u001b[43mcheck_input\u001b[49m\u001b[38;5;241;43m=\u001b[39;49m\u001b[38;5;28;43;01mFalse\u001b[39;49;00m\u001b[43m)\u001b[49m\n\u001b[0;32m    166\u001b[0m \u001b[38;5;28;01melse\u001b[39;00m:\n\u001b[0;32m    167\u001b[0m     tree\u001b[38;5;241m.\u001b[39mfit(X, y, sample_weight\u001b[38;5;241m=\u001b[39msample_weight, check_input\u001b[38;5;241m=\u001b[39m\u001b[38;5;28;01mFalse\u001b[39;00m)\n",
      "File \u001b[1;32m~\\anaconda3\\lib\\site-packages\\sklearn\\tree\\_classes.py:1221\u001b[0m, in \u001b[0;36mDecisionTreeRegressor.fit\u001b[1;34m(self, X, y, sample_weight, check_input, X_idx_sorted)\u001b[0m\n\u001b[0;32m   1184\u001b[0m \u001b[38;5;28;01mdef\u001b[39;00m \u001b[38;5;21mfit\u001b[39m(\u001b[38;5;28mself\u001b[39m, X, y, sample_weight\u001b[38;5;241m=\u001b[39m\u001b[38;5;28;01mNone\u001b[39;00m, check_input\u001b[38;5;241m=\u001b[39m\u001b[38;5;28;01mTrue\u001b[39;00m,\n\u001b[0;32m   1185\u001b[0m         X_idx_sorted\u001b[38;5;241m=\u001b[39m\u001b[38;5;28;01mNone\u001b[39;00m):\n\u001b[0;32m   1186\u001b[0m     \u001b[38;5;124;03m\"\"\"Build a decision tree regressor from the training set (X, y).\u001b[39;00m\n\u001b[0;32m   1187\u001b[0m \n\u001b[0;32m   1188\u001b[0m \u001b[38;5;124;03m    Parameters\u001b[39;00m\n\u001b[1;32m   (...)\u001b[0m\n\u001b[0;32m   1218\u001b[0m \u001b[38;5;124;03m        Fitted estimator.\u001b[39;00m\n\u001b[0;32m   1219\u001b[0m \u001b[38;5;124;03m    \"\"\"\u001b[39;00m\n\u001b[1;32m-> 1221\u001b[0m     \u001b[38;5;28;43msuper\u001b[39;49m\u001b[43m(\u001b[49m\u001b[43m)\u001b[49m\u001b[38;5;241;43m.\u001b[39;49m\u001b[43mfit\u001b[49m\u001b[43m(\u001b[49m\n\u001b[0;32m   1222\u001b[0m \u001b[43m        \u001b[49m\u001b[43mX\u001b[49m\u001b[43m,\u001b[49m\u001b[43m \u001b[49m\u001b[43my\u001b[49m\u001b[43m,\u001b[49m\n\u001b[0;32m   1223\u001b[0m \u001b[43m        \u001b[49m\u001b[43msample_weight\u001b[49m\u001b[38;5;241;43m=\u001b[39;49m\u001b[43msample_weight\u001b[49m\u001b[43m,\u001b[49m\n\u001b[0;32m   1224\u001b[0m \u001b[43m        \u001b[49m\u001b[43mcheck_input\u001b[49m\u001b[38;5;241;43m=\u001b[39;49m\u001b[43mcheck_input\u001b[49m\u001b[43m,\u001b[49m\n\u001b[0;32m   1225\u001b[0m \u001b[43m        \u001b[49m\u001b[43mX_idx_sorted\u001b[49m\u001b[38;5;241;43m=\u001b[39;49m\u001b[43mX_idx_sorted\u001b[49m\u001b[43m)\u001b[49m\n\u001b[0;32m   1226\u001b[0m     \u001b[38;5;28;01mreturn\u001b[39;00m \u001b[38;5;28mself\u001b[39m\n",
      "File \u001b[1;32m~\\anaconda3\\lib\\site-packages\\sklearn\\tree\\_classes.py:328\u001b[0m, in \u001b[0;36mBaseDecisionTree.fit\u001b[1;34m(self, X, y, sample_weight, check_input, X_idx_sorted)\u001b[0m\n\u001b[0;32m    325\u001b[0m         criterion \u001b[38;5;241m=\u001b[39m CRITERIA_CLF[\u001b[38;5;28mself\u001b[39m\u001b[38;5;241m.\u001b[39mcriterion](\u001b[38;5;28mself\u001b[39m\u001b[38;5;241m.\u001b[39mn_outputs_,\n\u001b[0;32m    326\u001b[0m                                                  \u001b[38;5;28mself\u001b[39m\u001b[38;5;241m.\u001b[39mn_classes_)\n\u001b[0;32m    327\u001b[0m     \u001b[38;5;28;01melse\u001b[39;00m:\n\u001b[1;32m--> 328\u001b[0m         criterion \u001b[38;5;241m=\u001b[39m \u001b[43mCRITERIA_REG\u001b[49m\u001b[43m[\u001b[49m\u001b[38;5;28;43mself\u001b[39;49m\u001b[38;5;241;43m.\u001b[39;49m\u001b[43mcriterion\u001b[49m\u001b[43m]\u001b[49m(\u001b[38;5;28mself\u001b[39m\u001b[38;5;241m.\u001b[39mn_outputs_,\n\u001b[0;32m    329\u001b[0m                                                  n_samples)\n\u001b[0;32m    331\u001b[0m SPLITTERS \u001b[38;5;241m=\u001b[39m SPARSE_SPLITTERS \u001b[38;5;28;01mif\u001b[39;00m issparse(X) \u001b[38;5;28;01melse\u001b[39;00m DENSE_SPLITTERS\n\u001b[0;32m    333\u001b[0m splitter \u001b[38;5;241m=\u001b[39m \u001b[38;5;28mself\u001b[39m\u001b[38;5;241m.\u001b[39msplitter\n",
      "\u001b[1;31mKeyError\u001b[0m: 'squared_error'"
     ]
    }
   ],
   "source": [
    "rf.fit(X_train, y_train)"
   ]
  },
  {
   "cell_type": "code",
   "execution_count": null,
   "metadata": {},
   "outputs": [],
   "source": [
    "test_predictions = rf.predict(X_test)\n",
    "\n",
    "a = plt.axes(aspect='equal')\n",
    "plt.scatter(y_test, test_predictions)\n",
    "plt.xlabel('True Values [MPG]')\n",
    "plt.ylabel('Predictions [MPG]')\n",
    "lims = [0, 50]\n",
    "plt.xlim(lims)\n",
    "plt.ylim(lims)\n",
    "_ = plt.plot(lims, lims)"
   ]
  },
  {
   "cell_type": "code",
   "execution_count": null,
   "metadata": {},
   "outputs": [],
   "source": []
  },
  {
   "cell_type": "code",
   "execution_count": null,
   "metadata": {},
   "outputs": [],
   "source": [
    "rf.score(X_test, y_test)"
   ]
  },
  {
   "cell_type": "code",
   "execution_count": null,
   "metadata": {},
   "outputs": [],
   "source": [
    "rf.predict(X_test)"
   ]
  },
  {
   "cell_type": "code",
   "execution_count": null,
   "metadata": {},
   "outputs": [],
   "source": [
    "np.mean((y_test - np.mean(y_test))*(y_test - np.mean(y_test)))"
   ]
  },
  {
   "cell_type": "code",
   "execution_count": null,
   "metadata": {},
   "outputs": [],
   "source": [
    "prediction=rf.predict(X_test)"
   ]
  },
  {
   "cell_type": "code",
   "execution_count": null,
   "metadata": {},
   "outputs": [],
   "source": [
    "np.mean((y_test - prediction)*(y_test - prediction))"
   ]
  },
  {
   "cell_type": "code",
   "execution_count": null,
   "metadata": {},
   "outputs": [],
   "source": [
    "pd.DataFrame(GSCV.cv_results_)"
   ]
  },
  {
   "cell_type": "code",
   "execution_count": null,
   "metadata": {},
   "outputs": [],
   "source": [
    "plt.hist(pd.DataFrame(GSCV.cv_results_)['mean_test_score'])"
   ]
  },
  {
   "cell_type": "code",
   "execution_count": null,
   "metadata": {},
   "outputs": [],
   "source": []
  },
  {
   "cell_type": "markdown",
   "metadata": {},
   "source": [
    "### Лассо"
   ]
  },
  {
   "cell_type": "code",
   "execution_count": null,
   "metadata": {},
   "outputs": [],
   "source": [
    "lassso = Lasso(random_state = 42)\n",
    "param_grid = {\n",
    "   'alpha': np.linspace(0, 1, 100)\n",
    "}\n",
    "GSCV = GridSearchCV(estimator=lassso, param_grid=param_grid, cv=10, verbose=2)\n",
    "GSCV.fit(X_train, y_train)\n",
    "GSCV.best_params_ "
   ]
  },
  {
   "cell_type": "code",
   "execution_count": null,
   "metadata": {},
   "outputs": [],
   "source": [
    "model=GSCV.best_estimator_"
   ]
  },
  {
   "cell_type": "code",
   "execution_count": null,
   "metadata": {},
   "outputs": [],
   "source": [
    "model.fit(X_train, y_train)\n",
    "model.score(X_test, y_test)"
   ]
  },
  {
   "cell_type": "code",
   "execution_count": null,
   "metadata": {},
   "outputs": [],
   "source": [
    "prediction=model.predict(X_test)\n",
    "np.mean((y_test - prediction)*(y_test - prediction))"
   ]
  },
  {
   "cell_type": "markdown",
   "metadata": {},
   "source": [
    "### k ближайших соседей"
   ]
  },
  {
   "cell_type": "code",
   "execution_count": null,
   "metadata": {
    "scrolled": true
   },
   "outputs": [],
   "source": [
    "knn = KNeighborsRegressor()\n",
    "param_grid = {\n",
    "   'n_neighbors': [1, 2, 5, 10, 20]\n",
    "}\n",
    "GSCV = GridSearchCV(estimator=knn, param_grid=param_grid, cv=10, verbose=2)\n",
    "GSCV.fit(X_train, y_train)\n",
    "GSCV.best_params_ "
   ]
  },
  {
   "cell_type": "code",
   "execution_count": null,
   "metadata": {},
   "outputs": [],
   "source": [
    "knn.fit(X_train, y_train)\n",
    "prediction=knn.predict(X_test)\n",
    "np.mean((y_test - prediction)*(y_test - prediction))"
   ]
  },
  {
   "cell_type": "code",
   "execution_count": null,
   "metadata": {},
   "outputs": [],
   "source": []
  },
  {
   "cell_type": "code",
   "execution_count": null,
   "metadata": {},
   "outputs": [],
   "source": []
  },
  {
   "cell_type": "code",
   "execution_count": null,
   "metadata": {},
   "outputs": [],
   "source": []
  }
 ],
 "metadata": {
  "kernelspec": {
   "display_name": "Python 3 (ipykernel)",
   "language": "python",
   "name": "python3"
  },
  "language_info": {
   "codemirror_mode": {
    "name": "ipython",
    "version": 3
   },
   "file_extension": ".py",
   "mimetype": "text/x-python",
   "name": "python",
   "nbconvert_exporter": "python",
   "pygments_lexer": "ipython3",
   "version": "3.9.12"
  }
 },
 "nbformat": 4,
 "nbformat_minor": 4
}
