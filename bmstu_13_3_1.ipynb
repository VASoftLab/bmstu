{
 "cells": [
  {
   "cell_type": "markdown",
   "id": "1ab452f9",
   "metadata": {},
   "source": [
    "### Загрузка библиотек"
   ]
  },
  {
   "cell_type": "code",
   "execution_count": 1,
   "id": "3ca17f41",
   "metadata": {},
   "outputs": [],
   "source": [
    "import pandas as pd\n",
    "import numpy as np\n",
    "from sklearn.linear_model import LinearRegression\n",
    "from sklearn.model_selection import train_test_split\n",
    "import pickle # Библиотека для сохранения моделей"
   ]
  },
  {
   "cell_type": "markdown",
   "id": "1e814a6a",
   "metadata": {},
   "source": [
    "### Создание синтетических данных"
   ]
  },
  {
   "cell_type": "code",
   "execution_count": 2,
   "id": "7d9b02a6",
   "metadata": {},
   "outputs": [],
   "source": [
    "salary = [50,55,60,70,120,250,50,30,100,300,50,75]\n",
    "experience = [1,2,3,20,1,2,8,9,3,6,7,9]"
   ]
  },
  {
   "cell_type": "code",
   "execution_count": 3,
   "id": "ad9c9aae",
   "metadata": {},
   "outputs": [
    {
     "name": "stdout",
     "output_type": "stream",
     "text": [
      "salary: 12 experience: 12\n"
     ]
    }
   ],
   "source": [
    "print(f'salary: {len(salary)} experience: {len(experience)}')"
   ]
  },
  {
   "cell_type": "code",
   "execution_count": 4,
   "id": "f9971b14",
   "metadata": {},
   "outputs": [],
   "source": [
    "# Разделение выборки на обучающую и проверочную\n",
    "X = np.array(experience).reshape(-1, 1)\n",
    "y = np.array(salary)\n",
    "X_train, X_test, y_train, y_test = train_test_split(X, y,\n",
    "                                                    test_size = 0.2,\n",
    "                                                    shuffle = True,\n",
    "                                                    random_state = 42)"
   ]
  },
  {
   "cell_type": "markdown",
   "id": "5dc440a8",
   "metadata": {},
   "source": [
    "### Линейная регрессия"
   ]
  },
  {
   "cell_type": "code",
   "execution_count": 5,
   "id": "88b3af7f",
   "metadata": {},
   "outputs": [],
   "source": [
    "lr = LinearRegression()\n",
    "lr.fit(X_train, y_train)\n",
    "y_pred = lr.predict(X_test)"
   ]
  },
  {
   "cell_type": "code",
   "execution_count": 6,
   "id": "e954dd45",
   "metadata": {},
   "outputs": [
    {
     "name": "stdout",
     "output_type": "stream",
     "text": [
      "[ 87.3173516   91.3413242  111.46118721]\n"
     ]
    }
   ],
   "source": [
    "print(y_pred)"
   ]
  },
  {
   "cell_type": "code",
   "execution_count": 7,
   "id": "6ef14982",
   "metadata": {},
   "outputs": [
    {
     "name": "stdout",
     "output_type": "stream",
     "text": [
      "[ 50 300  50]\n"
     ]
    }
   ],
   "source": [
    "print(y_test)"
   ]
  },
  {
   "cell_type": "markdown",
   "id": "4c52027e",
   "metadata": {},
   "source": [
    "### Сохранение модели"
   ]
  },
  {
   "cell_type": "code",
   "execution_count": 8,
   "id": "ba1447b8",
   "metadata": {},
   "outputs": [],
   "source": [
    "pickle.dump(lr, open('lr_model.pkl', 'wb'))"
   ]
  },
  {
   "cell_type": "code",
   "execution_count": 9,
   "id": "02ec8b57",
   "metadata": {},
   "outputs": [
    {
     "data": {
      "text/plain": [
       "array([ 87.3173516 ,  91.3413242 , 111.46118721])"
      ]
     },
     "execution_count": 9,
     "metadata": {},
     "output_type": "execute_result"
    }
   ],
   "source": [
    "loaded_model = pickle.load(open('lr_model.pkl', 'rb'))\n",
    "loaded_model.predict(X_test)"
   ]
  },
  {
   "cell_type": "code",
   "execution_count": null,
   "id": "66973c36",
   "metadata": {},
   "outputs": [],
   "source": []
  }
 ],
 "metadata": {
  "kernelspec": {
   "display_name": "Python 3 (ipykernel)",
   "language": "python",
   "name": "python3"
  },
  "language_info": {
   "codemirror_mode": {
    "name": "ipython",
    "version": 3
   },
   "file_extension": ".py",
   "mimetype": "text/x-python",
   "name": "python",
   "nbconvert_exporter": "python",
   "pygments_lexer": "ipython3",
   "version": "3.9.12"
  }
 },
 "nbformat": 4,
 "nbformat_minor": 5
}
