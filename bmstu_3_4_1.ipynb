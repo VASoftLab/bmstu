{
 "cells": [
  {
   "cell_type": "markdown",
   "id": "aa600d04",
   "metadata": {},
   "source": [
    "### Использование библиоткеи NumPy - Часть I\n",
    "https://www.youtube.com/watch?v=iwKolVZLApI"
   ]
  },
  {
   "cell_type": "code",
   "execution_count": 1,
   "id": "12ba151e",
   "metadata": {},
   "outputs": [],
   "source": [
    "import numpy as np"
   ]
  },
  {
   "cell_type": "code",
   "execution_count": 2,
   "id": "b9c74b8b",
   "metadata": {},
   "outputs": [],
   "source": [
    "# Создание простого одномерного массива\n",
    "a=np.array([1,2,3,4], dtype=np.float32)"
   ]
  },
  {
   "cell_type": "code",
   "execution_count": 3,
   "id": "c2e2ca17",
   "metadata": {},
   "outputs": [
    {
     "data": {
      "text/plain": [
       "(array([1., 2., 3., 4.], dtype=float32), dtype('float32'))"
      ]
     },
     "execution_count": 3,
     "metadata": {},
     "output_type": "execute_result"
    }
   ],
   "source": [
    "a, a.dtype # Сам массив + тип элементов, которые хранятся в массиве"
   ]
  },
  {
   "cell_type": "markdown",
   "id": "2c1b6f28",
   "metadata": {},
   "source": [
    "#### Типы данных\n",
    "- np.int32\n",
    "- np.int64\n",
    "- np.float32\n",
    "- np.float64\n",
    "- np.complex\n",
    "- np.bool\n",
    "\n",
    "**Преобразование типов на лету:**  \n",
    "Старый формат\n",
    "```python\n",
    "a.astype(np.complex)\n",
    "```\n",
    "Новый формат  \n",
    "```python\n",
    "a.astype(complex)\n",
    "```"
   ]
  },
  {
   "cell_type": "code",
   "execution_count": 4,
   "id": "f4a2eb0a",
   "metadata": {},
   "outputs": [
    {
     "data": {
      "text/plain": [
       "(array([1.+0.j, 2.+0.j, 3.+0.j, 4.+0.j]), array([1., 2., 3., 4.]))"
      ]
     },
     "execution_count": 4,
     "metadata": {},
     "output_type": "execute_result"
    }
   ],
   "source": [
    "a.astype(complex), a.astype(np.double)"
   ]
  },
  {
   "cell_type": "code",
   "execution_count": 5,
   "id": "59802fcd",
   "metadata": {},
   "outputs": [
    {
     "data": {
      "text/plain": [
       "array([ 0,  1,  2,  3,  4,  5,  6,  7,  8,  9, 10, 11, 12, 13, 14])"
      ]
     },
     "execution_count": 5,
     "metadata": {},
     "output_type": "execute_result"
    }
   ],
   "source": [
    "# Индексация элементов массива\n",
    "b = np.arange(15)\n",
    "b"
   ]
  },
  {
   "cell_type": "code",
   "execution_count": 6,
   "id": "47688e81",
   "metadata": {},
   "outputs": [
    {
     "data": {
      "text/plain": [
       "(14, 14)"
      ]
     },
     "execution_count": 6,
     "metadata": {},
     "output_type": "execute_result"
    }
   ],
   "source": [
    "b[len(b)-1], b[-1] # Обращаемся к последнему элементу массива"
   ]
  },
  {
   "cell_type": "code",
   "execution_count": 7,
   "id": "1a951c66",
   "metadata": {},
   "outputs": [
    {
     "data": {
      "text/plain": [
       "(array([0, 1, 2, 3, 4]), array([0, 1, 2, 3, 4]), array([0, 1, 2, 3, 4]))"
      ]
     },
     "execution_count": 7,
     "metadata": {},
     "output_type": "execute_result"
    }
   ],
   "source": [
    "# Первые 5 элементов\n",
    "b[:5], b[0:5], b[0:5:1] # Для последнего примера: начало, конец, шаг"
   ]
  },
  {
   "cell_type": "code",
   "execution_count": 8,
   "id": "a885a97d",
   "metadata": {},
   "outputs": [
    {
     "data": {
      "text/plain": [
       "array([0, 1, 2, 3, 4])"
      ]
     },
     "execution_count": 8,
     "metadata": {},
     "output_type": "execute_result"
    }
   ],
   "source": [
    "b[slice(0,5,1)] # Срез с помощью slice"
   ]
  },
  {
   "cell_type": "code",
   "execution_count": 9,
   "id": "77b96b79",
   "metadata": {},
   "outputs": [
    {
     "data": {
      "text/plain": [
       "(array([ 0,  2,  4,  6,  8, 10, 12, 14]),\n",
       " array([ 0,  2,  4,  6,  8, 10, 12, 14]))"
      ]
     },
     "execution_count": 9,
     "metadata": {},
     "output_type": "execute_result"
    }
   ],
   "source": [
    "# Вывод элементов с шагом 2\n",
    "b[::2], b[0::2]"
   ]
  },
  {
   "cell_type": "markdown",
   "id": "aeedb6ac",
   "metadata": {},
   "source": [
    "В массиве случайных чисел найти все числа кратные 5"
   ]
  },
  {
   "cell_type": "code",
   "execution_count": 10,
   "id": "74b4cdc7",
   "metadata": {},
   "outputs": [],
   "source": [
    "c=np.random.randint(0,100,20)"
   ]
  },
  {
   "cell_type": "code",
   "execution_count": 11,
   "id": "0f42140a",
   "metadata": {},
   "outputs": [
    {
     "data": {
      "text/plain": [
       "array([77, 67, 94, 88,  3, 25, 87, 35, 94, 16, 45, 26, 24, 45, 84, 39, 29,\n",
       "       40, 83, 21])"
      ]
     },
     "execution_count": 11,
     "metadata": {},
     "output_type": "execute_result"
    }
   ],
   "source": [
    "c"
   ]
  },
  {
   "cell_type": "code",
   "execution_count": 12,
   "id": "f5926c57",
   "metadata": {},
   "outputs": [
    {
     "data": {
      "text/plain": [
       "array([25, 35, 45, 45, 40])"
      ]
     },
     "execution_count": 12,
     "metadata": {},
     "output_type": "execute_result"
    }
   ],
   "source": [
    "c[np.logical_not(c % 5)] # Использование фильтрации по булевской маске"
   ]
  },
  {
   "cell_type": "code",
   "execution_count": 13,
   "id": "10fdd805",
   "metadata": {},
   "outputs": [
    {
     "data": {
      "text/plain": [
       "(array([ 5,  7, 10, 13, 17], dtype=int64),)"
      ]
     },
     "execution_count": 13,
     "metadata": {},
     "output_type": "execute_result"
    }
   ],
   "source": [
    "np.where(np.logical_not(c % 5)) # Позиции элементов, для которых маска совпала"
   ]
  },
  {
   "cell_type": "code",
   "execution_count": null,
   "id": "d31b9882",
   "metadata": {},
   "outputs": [],
   "source": []
  }
 ],
 "metadata": {
  "kernelspec": {
   "display_name": "Python 3 (ipykernel)",
   "language": "python",
   "name": "python3"
  },
  "language_info": {
   "codemirror_mode": {
    "name": "ipython",
    "version": 3
   },
   "file_extension": ".py",
   "mimetype": "text/x-python",
   "name": "python",
   "nbconvert_exporter": "python",
   "pygments_lexer": "ipython3",
   "version": "3.9.12"
  }
 },
 "nbformat": 4,
 "nbformat_minor": 5
}
