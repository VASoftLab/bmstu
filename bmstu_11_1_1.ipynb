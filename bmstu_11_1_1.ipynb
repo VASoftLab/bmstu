{
 "cells": [
  {
   "cell_type": "markdown",
   "id": "50309430",
   "metadata": {},
   "source": [
    "### НС для задачи классификации"
   ]
  },
  {
   "cell_type": "code",
   "execution_count": 1,
   "id": "f26dc3d7",
   "metadata": {},
   "outputs": [],
   "source": [
    "# Tinker With a Neural Network Right Here in Your Browser.\n",
    "# Don’t Worry, You Can’t Break It. We Promise.\n",
    "# https://playground.tensorflow.org/#activation=tanh&batchSize=10&dataset=circle&regDataset=reg-plane&learningRate=0.03&regularizationRate=0&noise=0&networkShape=4,2&seed=0.20330&showTestData=false&discretize=false&percTrainData=50&x=true&y=true&xTimesY=false&xSquared=false&ySquared=false&cosX=false&sinX=false&cosY=false&sinY=false&collectStats=false&problem=classification&initZero=false&hideText=false\n",
    "# Тут можно поэкспериментировать с нейронными сетями и посмотреть визуализацию"
   ]
  },
  {
   "cell_type": "code",
   "execution_count": 2,
   "id": "2c2c663a",
   "metadata": {},
   "outputs": [
    {
     "name": "stdout",
     "output_type": "stream",
     "text": [
      "2.10.0\n"
     ]
    }
   ],
   "source": [
    "import tensorflow as tf\n",
    "import numpy as np\n",
    "import matplotlib.pyplot as plt\n",
    "\n",
    "print(tf.__version__)"
   ]
  },
  {
   "cell_type": "code",
   "execution_count": 3,
   "id": "9a521060",
   "metadata": {},
   "outputs": [],
   "source": [
    "# Загрузка тестового датасета\n",
    "(train_images, train_labels), (test_images, test_labels) = tf.keras.datasets.fashion_mnist.load_data()"
   ]
  },
  {
   "cell_type": "code",
   "execution_count": 4,
   "id": "0aefec78",
   "metadata": {},
   "outputs": [],
   "source": [
    "class_names = ['T-shirt/top', 'Trouser', 'Pullover', 'Dress', 'Coat', 'Sandal', 'Shirt', 'Sneaker', 'Bag', 'Ankle boot']"
   ]
  },
  {
   "cell_type": "code",
   "execution_count": 5,
   "id": "bd5c5449",
   "metadata": {},
   "outputs": [
    {
     "data": {
      "text/plain": [
       "array([[  0,   0,   0,   0,   0,   0,   0,   0,   0,   0,   0,   0,   0,\n",
       "          0,   0,   0,   0,   0,   0,   0,   0,   0,   0,   0,   0,   0,\n",
       "          0,   0],\n",
       "       [  0,   0,   0,   0,   0,   0,   0,   0,   0,   0,   0,   0,   0,\n",
       "          0,   0,   0,   0,   0,   0,   0,   0,   0,   0,   0,   0,   0,\n",
       "          0,   0],\n",
       "       [  0,   0,   0,   0,   0,   0,   0,   0,   0,   0,   0,   0,   0,\n",
       "          0,   0,   0,   0,   0,   0,   0,   0,   0,   0,   0,   0,   0,\n",
       "          0,   0],\n",
       "       [  0,   0,   0,   0,   0,   0,   0,   0,   0,   0,   0,   0,   1,\n",
       "          0,   0,  13,  73,   0,   0,   1,   4,   0,   0,   0,   0,   1,\n",
       "          1,   0],\n",
       "       [  0,   0,   0,   0,   0,   0,   0,   0,   0,   0,   0,   0,   3,\n",
       "          0,  36, 136, 127,  62,  54,   0,   0,   0,   1,   3,   4,   0,\n",
       "          0,   3],\n",
       "       [  0,   0,   0,   0,   0,   0,   0,   0,   0,   0,   0,   0,   6,\n",
       "          0, 102, 204, 176, 134, 144, 123,  23,   0,   0,   0,   0,  12,\n",
       "         10,   0],\n",
       "       [  0,   0,   0,   0,   0,   0,   0,   0,   0,   0,   0,   0,   0,\n",
       "          0, 155, 236, 207, 178, 107, 156, 161, 109,  64,  23,  77, 130,\n",
       "         72,  15],\n",
       "       [  0,   0,   0,   0,   0,   0,   0,   0,   0,   0,   0,   1,   0,\n",
       "         69, 207, 223, 218, 216, 216, 163, 127, 121, 122, 146, 141,  88,\n",
       "        172,  66],\n",
       "       [  0,   0,   0,   0,   0,   0,   0,   0,   0,   1,   1,   1,   0,\n",
       "        200, 232, 232, 233, 229, 223, 223, 215, 213, 164, 127, 123, 196,\n",
       "        229,   0],\n",
       "       [  0,   0,   0,   0,   0,   0,   0,   0,   0,   0,   0,   0,   0,\n",
       "        183, 225, 216, 223, 228, 235, 227, 224, 222, 224, 221, 223, 245,\n",
       "        173,   0],\n",
       "       [  0,   0,   0,   0,   0,   0,   0,   0,   0,   0,   0,   0,   0,\n",
       "        193, 228, 218, 213, 198, 180, 212, 210, 211, 213, 223, 220, 243,\n",
       "        202,   0],\n",
       "       [  0,   0,   0,   0,   0,   0,   0,   0,   0,   1,   3,   0,  12,\n",
       "        219, 220, 212, 218, 192, 169, 227, 208, 218, 224, 212, 226, 197,\n",
       "        209,  52],\n",
       "       [  0,   0,   0,   0,   0,   0,   0,   0,   0,   0,   6,   0,  99,\n",
       "        244, 222, 220, 218, 203, 198, 221, 215, 213, 222, 220, 245, 119,\n",
       "        167,  56],\n",
       "       [  0,   0,   0,   0,   0,   0,   0,   0,   0,   4,   0,   0,  55,\n",
       "        236, 228, 230, 228, 240, 232, 213, 218, 223, 234, 217, 217, 209,\n",
       "         92,   0],\n",
       "       [  0,   0,   1,   4,   6,   7,   2,   0,   0,   0,   0,   0, 237,\n",
       "        226, 217, 223, 222, 219, 222, 221, 216, 223, 229, 215, 218, 255,\n",
       "         77,   0],\n",
       "       [  0,   3,   0,   0,   0,   0,   0,   0,   0,  62, 145, 204, 228,\n",
       "        207, 213, 221, 218, 208, 211, 218, 224, 223, 219, 215, 224, 244,\n",
       "        159,   0],\n",
       "       [  0,   0,   0,   0,  18,  44,  82, 107, 189, 228, 220, 222, 217,\n",
       "        226, 200, 205, 211, 230, 224, 234, 176, 188, 250, 248, 233, 238,\n",
       "        215,   0],\n",
       "       [  0,  57, 187, 208, 224, 221, 224, 208, 204, 214, 208, 209, 200,\n",
       "        159, 245, 193, 206, 223, 255, 255, 221, 234, 221, 211, 220, 232,\n",
       "        246,   0],\n",
       "       [  3, 202, 228, 224, 221, 211, 211, 214, 205, 205, 205, 220, 240,\n",
       "         80, 150, 255, 229, 221, 188, 154, 191, 210, 204, 209, 222, 228,\n",
       "        225,   0],\n",
       "       [ 98, 233, 198, 210, 222, 229, 229, 234, 249, 220, 194, 215, 217,\n",
       "        241,  65,  73, 106, 117, 168, 219, 221, 215, 217, 223, 223, 224,\n",
       "        229,  29],\n",
       "       [ 75, 204, 212, 204, 193, 205, 211, 225, 216, 185, 197, 206, 198,\n",
       "        213, 240, 195, 227, 245, 239, 223, 218, 212, 209, 222, 220, 221,\n",
       "        230,  67],\n",
       "       [ 48, 203, 183, 194, 213, 197, 185, 190, 194, 192, 202, 214, 219,\n",
       "        221, 220, 236, 225, 216, 199, 206, 186, 181, 177, 172, 181, 205,\n",
       "        206, 115],\n",
       "       [  0, 122, 219, 193, 179, 171, 183, 196, 204, 210, 213, 207, 211,\n",
       "        210, 200, 196, 194, 191, 195, 191, 198, 192, 176, 156, 167, 177,\n",
       "        210,  92],\n",
       "       [  0,   0,  74, 189, 212, 191, 175, 172, 175, 181, 185, 188, 189,\n",
       "        188, 193, 198, 204, 209, 210, 210, 211, 188, 188, 194, 192, 216,\n",
       "        170,   0],\n",
       "       [  2,   0,   0,   0,  66, 200, 222, 237, 239, 242, 246, 243, 244,\n",
       "        221, 220, 193, 191, 179, 182, 182, 181, 176, 166, 168,  99,  58,\n",
       "          0,   0],\n",
       "       [  0,   0,   0,   0,   0,   0,   0,  40,  61,  44,  72,  41,  35,\n",
       "          0,   0,   0,   0,   0,   0,   0,   0,   0,   0,   0,   0,   0,\n",
       "          0,   0],\n",
       "       [  0,   0,   0,   0,   0,   0,   0,   0,   0,   0,   0,   0,   0,\n",
       "          0,   0,   0,   0,   0,   0,   0,   0,   0,   0,   0,   0,   0,\n",
       "          0,   0],\n",
       "       [  0,   0,   0,   0,   0,   0,   0,   0,   0,   0,   0,   0,   0,\n",
       "          0,   0,   0,   0,   0,   0,   0,   0,   0,   0,   0,   0,   0,\n",
       "          0,   0]], dtype=uint8)"
      ]
     },
     "execution_count": 5,
     "metadata": {},
     "output_type": "execute_result"
    }
   ],
   "source": [
    "train_images[0]"
   ]
  },
  {
   "cell_type": "code",
   "execution_count": 6,
   "id": "95be9777",
   "metadata": {},
   "outputs": [
    {
     "data": {
      "text/plain": [
       "(60000, 28, 28)"
      ]
     },
     "execution_count": 6,
     "metadata": {},
     "output_type": "execute_result"
    }
   ],
   "source": [
    "train_images.shape"
   ]
  },
  {
   "cell_type": "code",
   "execution_count": 7,
   "id": "bd320fa0",
   "metadata": {},
   "outputs": [
    {
     "data": {
      "text/plain": [
       "array([9, 0, 0, ..., 3, 0, 5], dtype=uint8)"
      ]
     },
     "execution_count": 7,
     "metadata": {},
     "output_type": "execute_result"
    }
   ],
   "source": [
    "# Метки классов\n",
    "train_labels"
   ]
  },
  {
   "cell_type": "code",
   "execution_count": 8,
   "id": "3d446b92",
   "metadata": {},
   "outputs": [
    {
     "data": {
      "image/png": "[encoded data removed]",
      "text/plain": [
       "<Figure size 432x288 with 2 Axes>"
      ]
     },
     "metadata": {
      "needs_background": "light"
     },
     "output_type": "display_data"
    }
   ],
   "source": [
    "# Отрисовка датасета\n",
    "plt.figure()\n",
    "plt.imshow(train_images[1])\n",
    "plt.colorbar()\n",
    "plt.grid(False)\n",
    "plt.show()"
   ]
  },
  {
   "cell_type": "code",
   "execution_count": 9,
   "id": "baa31a87",
   "metadata": {},
   "outputs": [],
   "source": [
    "# Нормализация значений изображений\n",
    "train_images = train_images / 255.0\n",
    "test_images = test_images / 255.0"
   ]
  },
  {
   "cell_type": "code",
   "execution_count": 10,
   "id": "8e9f08ec",
   "metadata": {},
   "outputs": [
    {
     "data": {
      "image/png": "[encoded data removed]",
      "text/plain": [
       "<Figure size 720x720 with 25 Axes>"
      ]
     },
     "metadata": {},
     "output_type": "display_data"
    }
   ],
   "source": [
    "# Визуализация данных\n",
    "plt.figure(figsize=(10, 10))\n",
    "for i in range(25):\n",
    "    plt.subplot(5,5,i+1)\n",
    "    plt.xticks([])\n",
    "    plt.yticks([])\n",
    "    plt.grid(False)\n",
    "    plt.imshow(train_images[i], cmap = plt.cm.binary)\n",
    "    plt.xlabel(class_names[train_labels[i]])\n",
    "plt.show()"
   ]
  },
  {
   "cell_type": "code",
   "execution_count": 11,
   "id": "b0c7a1b0",
   "metadata": {},
   "outputs": [],
   "source": [
    "# Создание нейронной сети\n",
    "# Передаем список слоев:\n",
    "# Flatten - преобразование квадратной матрицы в строку\n",
    "# Dense - слой с активационной функцией relu. На последнем слое - 10 классов\n",
    "# Каждое изображение 28х28 пикселей - преобразуем в строку\n",
    "# Слои 128 и 64 - постепенно снижают размерность\n",
    "model = tf.keras.Sequential([\n",
    "    tf.keras.layers.Flatten(input_shape = (28, 28)),\n",
    "    tf.keras.layers.Dense(128, activation = 'relu'),\n",
    "    tf.keras.layers.Dense(64, activation = 'relu'),\n",
    "    tf.keras.layers.Dense(10)\n",
    "])"
   ]
  },
  {
   "cell_type": "code",
   "execution_count": 12,
   "id": "0f4be661",
   "metadata": {},
   "outputs": [],
   "source": [
    "model.compile(optimizer = 'adam',\n",
    "             loss = tf.keras.losses.SparseCategoricalCrossentropy(from_logits = True),\n",
    "             metrics = ['accuracy'])"
   ]
  },
  {
   "cell_type": "code",
   "execution_count": 13,
   "id": "a1b04c36",
   "metadata": {},
   "outputs": [
    {
     "name": "stdout",
     "output_type": "stream",
     "text": [
      "Model: \"sequential\"\n",
      "_________________________________________________________________\n",
      " Layer (type)                Output Shape              Param #   \n",
      "=================================================================\n",
      " flatten (Flatten)           (None, 784)               0         \n",
      "                                                                 \n",
      " dense (Dense)               (None, 128)               100480    \n",
      "                                                                 \n",
      " dense_1 (Dense)             (None, 64)                8256      \n",
      "                                                                 \n",
      " dense_2 (Dense)             (None, 10)                650       \n",
      "                                                                 \n",
      "=================================================================\n",
      "Total params: 109,386\n",
      "Trainable params: 109,386\n",
      "Non-trainable params: 0\n",
      "_________________________________________________________________\n"
     ]
    }
   ],
   "source": [
    "# Архитектура модели - Позволяет посчитать кол-во параметров модели\n",
    "model.summary()"
   ]
  },
  {
   "cell_type": "code",
   "execution_count": 14,
   "id": "141cfce6",
   "metadata": {},
   "outputs": [
    {
     "name": "stdout",
     "output_type": "stream",
     "text": [
      "Epoch 1/10\n",
      "1313/1313 [==============================] - 3s 2ms/step - loss: 0.5220 - accuracy: 0.8153 - val_loss: 0.4374 - val_accuracy: 0.8461\n",
      "Epoch 2/10\n",
      "1313/1313 [==============================] - 2s 2ms/step - loss: 0.3875 - accuracy: 0.8611 - val_loss: 0.3864 - val_accuracy: 0.8612\n",
      "Epoch 3/10\n",
      "1313/1313 [==============================] - 2s 2ms/step - loss: 0.3491 - accuracy: 0.8720 - val_loss: 0.3876 - val_accuracy: 0.8632\n",
      "Epoch 4/10\n",
      "1313/1313 [==============================] - 2s 2ms/step - loss: 0.3251 - accuracy: 0.8788 - val_loss: 0.3471 - val_accuracy: 0.8762\n",
      "Epoch 5/10\n",
      "1313/1313 [==============================] - 2s 2ms/step - loss: 0.3048 - accuracy: 0.8864 - val_loss: 0.3699 - val_accuracy: 0.8662\n",
      "Epoch 6/10\n",
      "1313/1313 [==============================] - 2s 2ms/step - loss: 0.2906 - accuracy: 0.8913 - val_loss: 0.3271 - val_accuracy: 0.8834\n",
      "Epoch 7/10\n",
      "1313/1313 [==============================] - 2s 2ms/step - loss: 0.2753 - accuracy: 0.8973 - val_loss: 0.3358 - val_accuracy: 0.8844\n",
      "Epoch 8/10\n",
      "1313/1313 [==============================] - 2s 2ms/step - loss: 0.2624 - accuracy: 0.9023 - val_loss: 0.3242 - val_accuracy: 0.8842\n",
      "Epoch 9/10\n",
      "1313/1313 [==============================] - 2s 2ms/step - loss: 0.2523 - accuracy: 0.9043 - val_loss: 0.3320 - val_accuracy: 0.8837\n",
      "Epoch 10/10\n",
      "1313/1313 [==============================] - 2s 2ms/step - loss: 0.2417 - accuracy: 0.9088 - val_loss: 0.3201 - val_accuracy: 0.8896\n"
     ]
    },
    {
     "data": {
      "text/plain": [
       "<keras.callbacks.History at 0x201aedc8b50>"
      ]
     },
     "execution_count": 14,
     "metadata": {},
     "output_type": "execute_result"
    }
   ],
   "source": [
    "# Обучение модели\n",
    "model.fit(train_images, train_labels, epochs = 10, validation_split = 0.3)"
   ]
  },
  {
   "cell_type": "code",
   "execution_count": 19,
   "id": "dd4b0f17",
   "metadata": {},
   "outputs": [
    {
     "name": "stdout",
     "output_type": "stream",
     "text": [
      "Точность на тестовом множестве: 0.878\n"
     ]
    }
   ],
   "source": [
    "# Оценка точности на тестовой выборке\n",
    "test_loss, test_acc = model.evaluate(test_images, test_labels, verbose = 0)\n",
    "print(f'Точность на тестовом множестве: {test_acc:.3}')"
   ]
  },
  {
   "cell_type": "code",
   "execution_count": 20,
   "id": "ef0bd13c",
   "metadata": {},
   "outputs": [
    {
     "name": "stdout",
     "output_type": "stream",
     "text": [
      "313/313 [==============================] - 0s 984us/step - loss: 0.3467 - accuracy: 0.8785\n"
     ]
    }
   ],
   "source": [
    "test_loss, test_acc = model.evaluate(test_images, test_labels, verbose = 1)"
   ]
  },
  {
   "cell_type": "code",
   "execution_count": 21,
   "id": "0bbb8bd4",
   "metadata": {},
   "outputs": [
    {
     "name": "stdout",
     "output_type": "stream",
     "text": [
      "313/313 [==============================] - 0s 704us/step\n"
     ]
    },
    {
     "data": {
      "text/plain": [
       "(array([[0.000e+00, 0.000e+00, 1.000e+00, 9.300e+01, 5.147e+03, 4.181e+03,\n",
       "         5.640e+02, 1.400e+01, 0.000e+00, 0.000e+00],\n",
       "        [0.000e+00, 7.000e+00, 1.630e+02, 1.666e+03, 6.058e+03, 1.152e+03,\n",
       "         2.320e+02, 5.940e+02, 1.280e+02, 0.000e+00],\n",
       "        [0.000e+00, 0.000e+00, 3.800e+01, 5.130e+02, 4.834e+03, 4.381e+03,\n",
       "         2.340e+02, 0.000e+00, 0.000e+00, 0.000e+00],\n",
       "        [1.000e+01, 4.500e+01, 2.600e+02, 9.530e+02, 4.500e+03, 3.820e+03,\n",
       "         4.120e+02, 0.000e+00, 0.000e+00, 0.000e+00],\n",
       "        [0.000e+00, 0.000e+00, 9.000e+00, 2.880e+02, 5.204e+03, 4.121e+03,\n",
       "         3.780e+02, 0.000e+00, 0.000e+00, 0.000e+00],\n",
       "        [1.000e+00, 3.400e+01, 5.540e+02, 3.528e+03, 3.079e+03, 1.858e+03,\n",
       "         5.980e+02, 2.580e+02, 7.500e+01, 1.500e+01],\n",
       "        [0.000e+00, 0.000e+00, 1.600e+01, 2.040e+02, 3.979e+03, 5.510e+03,\n",
       "         2.910e+02, 0.000e+00, 0.000e+00, 0.000e+00],\n",
       "        [4.000e+00, 4.400e+01, 4.900e+02, 4.283e+03, 2.518e+03, 1.903e+03,\n",
       "         7.580e+02, 0.000e+00, 0.000e+00, 0.000e+00],\n",
       "        [0.000e+00, 0.000e+00, 1.700e+01, 7.960e+02, 7.431e+03, 9.720e+02,\n",
       "         5.710e+02, 1.950e+02, 1.800e+01, 0.000e+00],\n",
       "        [2.500e+01, 7.700e+01, 4.580e+02, 4.004e+03, 3.373e+03, 1.143e+03,\n",
       "         7.360e+02, 1.680e+02, 1.600e+01, 0.000e+00]]),\n",
       " array([-49.675232 , -40.256294 , -30.837357 , -21.41842  , -11.999483 ,\n",
       "         -2.5805454,   6.838392 ,  16.25733  ,  25.676266 ,  35.095203 ,\n",
       "         44.51414  ], dtype=float32),\n",
       " <a list of 10 BarContainer objects>)"
      ]
     },
     "execution_count": 21,
     "metadata": {},
     "output_type": "execute_result"
    },
    {
     "data": {
      "image/png": "[encoded data removed]",
      "text/plain": [
       "<Figure size 432x288 with 1 Axes>"
      ]
     },
     "metadata": {
      "needs_background": "light"
     },
     "output_type": "display_data"
    }
   ],
   "source": [
    "y_pred = model.predict(test_images)\n",
    "plt.hist(y_pred)"
   ]
  },
  {
   "cell_type": "code",
   "execution_count": 22,
   "id": "4c2220e3",
   "metadata": {},
   "outputs": [
    {
     "data": {
      "text/plain": [
       "(array([1., 2., 3., 1., 0., 1., 0., 1., 0., 1.]),\n",
       " array([-8.594622  , -7.033103  , -5.4715843 , -3.9100654 , -2.3485465 ,\n",
       "        -0.78702784,  0.77449095,  2.3360097 ,  3.8975284 ,  5.4590473 ,\n",
       "         7.020566  ], dtype=float32),\n",
       " <BarContainer object of 10 artists>)"
      ]
     },
     "execution_count": 22,
     "metadata": {},
     "output_type": "execute_result"
    },
    {
     "data": {
      "image/png": "[encoded data removed]",
      "text/plain": [
       "<Figure size 432x288 with 1 Axes>"
      ]
     },
     "metadata": {
      "needs_background": "light"
     },
     "output_type": "display_data"
    }
   ],
   "source": [
    "plt.hist(y_pred[0])"
   ]
  },
  {
   "cell_type": "code",
   "execution_count": 23,
   "id": "e17da20b",
   "metadata": {},
   "outputs": [],
   "source": [
    "# Добавляем еще один слой к модели, теперь на выходе - вероятности\n",
    "probability_model = tf.keras.Sequential([model, tf.keras.layers.Softmax()])"
   ]
  },
  {
   "cell_type": "code",
   "execution_count": 28,
   "id": "d76ceb3e",
   "metadata": {},
   "outputs": [
    {
     "name": "stdout",
     "output_type": "stream",
     "text": [
      "313/313 [==============================] - 0s 733us/step\n"
     ]
    }
   ],
   "source": [
    "predictions = probability_model.predict(test_images)"
   ]
  },
  {
   "cell_type": "code",
   "execution_count": 29,
   "id": "e55bd669",
   "metadata": {},
   "outputs": [
    {
     "data": {
      "text/plain": [
       "array([1.6952739e-05, 1.1792766e-06, 2.3500559e-06, 1.6241185e-07,\n",
       "       1.1229510e-05, 8.0467557e-04, 4.3505759e-05, 1.6892988e-02,\n",
       "       9.8536811e-06, 9.8221719e-01], dtype=float32)"
      ]
     },
     "execution_count": 29,
     "metadata": {},
     "output_type": "execute_result"
    }
   ],
   "source": [
    "predictions[0]"
   ]
  },
  {
   "cell_type": "code",
   "execution_count": 30,
   "id": "2da12276",
   "metadata": {},
   "outputs": [
    {
     "data": {
      "text/plain": [
       "array([0.  , 0.  , 0.  , 0.  , 0.  , 0.  , 0.  , 0.02, 0.  , 0.98],\n",
       "      dtype=float32)"
      ]
     },
     "execution_count": 30,
     "metadata": {},
     "output_type": "execute_result"
    }
   ],
   "source": [
    "np.round(predications[0], 2)"
   ]
  },
  {
   "cell_type": "code",
   "execution_count": 31,
   "id": "de4d0f7c",
   "metadata": {},
   "outputs": [
    {
     "data": {
      "text/plain": [
       "9"
      ]
     },
     "execution_count": 31,
     "metadata": {},
     "output_type": "execute_result"
    }
   ],
   "source": [
    "# Получаем индекс\n",
    "np.argmax(predications[0])"
   ]
  },
  {
   "cell_type": "code",
   "execution_count": 32,
   "id": "500f134a",
   "metadata": {},
   "outputs": [
    {
     "data": {
      "text/plain": [
       "'Ankle boot'"
      ]
     },
     "execution_count": 32,
     "metadata": {},
     "output_type": "execute_result"
    }
   ],
   "source": [
    "class_names[np.argmax(predications[0])]"
   ]
  },
  {
   "cell_type": "code",
   "execution_count": 33,
   "id": "b6ae8c1f",
   "metadata": {},
   "outputs": [
    {
     "data": {
      "text/plain": [
       "(array([[8.558e+03, 1.210e+02, 9.500e+01, 1.120e+02, 1.000e+02, 8.000e+01,\n",
       "         7.900e+01, 8.900e+01, 1.090e+02, 6.570e+02],\n",
       "        [8.944e+03, 3.500e+01, 9.000e+00, 1.200e+01, 9.000e+00, 6.000e+00,\n",
       "         4.000e+00, 5.000e+00, 1.300e+01, 9.630e+02],\n",
       "        [8.434e+03, 2.290e+02, 1.770e+02, 1.300e+02, 1.060e+02, 9.900e+01,\n",
       "         7.400e+01, 1.050e+02, 1.360e+02, 5.100e+02],\n",
       "        [8.613e+03, 1.450e+02, 8.000e+01, 6.300e+01, 7.400e+01, 6.200e+01,\n",
       "         5.600e+01, 6.700e+01, 8.800e+01, 7.520e+02],\n",
       "        [8.306e+03, 2.360e+02, 1.410e+02, 1.210e+02, 8.900e+01, 1.020e+02,\n",
       "         1.070e+02, 1.290e+02, 1.920e+02, 5.770e+02],\n",
       "        [8.951e+03, 2.100e+01, 2.100e+01, 1.500e+01, 8.000e+00, 6.000e+00,\n",
       "         9.000e+00, 6.000e+00, 2.000e+01, 9.430e+02],\n",
       "        [8.477e+03, 3.770e+02, 2.450e+02, 1.810e+02, 1.270e+02, 1.150e+02,\n",
       "         8.500e+01, 6.500e+01, 7.700e+01, 2.510e+02],\n",
       "        [8.878e+03, 4.500e+01, 9.000e+00, 1.500e+01, 1.300e+01, 2.300e+01,\n",
       "         2.300e+01, 4.000e+01, 5.000e+01, 9.040e+02],\n",
       "        [8.975e+03, 2.100e+01, 1.100e+01, 4.000e+00, 1.300e+01, 1.000e+01,\n",
       "         8.000e+00, 1.100e+01, 1.700e+01, 9.300e+02],\n",
       "        [8.926e+03, 4.100e+01, 2.300e+01, 1.600e+01, 1.800e+01, 1.300e+01,\n",
       "         9.000e+00, 8.000e+00, 3.000e+01, 9.160e+02]]),\n",
       " array([0. , 0.1, 0.2, 0.3, 0.4, 0.5, 0.6, 0.7, 0.8, 0.9, 1. ],\n",
       "       dtype=float32),\n",
       " <a list of 10 BarContainer objects>)"
      ]
     },
     "execution_count": 33,
     "metadata": {},
     "output_type": "execute_result"
    },
    {
     "data": {
      "image/png": "[encoded data removed]",
      "text/plain": [
       "<Figure size 432x288 with 1 Axes>"
      ]
     },
     "metadata": {
      "needs_background": "light"
     },
     "output_type": "display_data"
    }
   ],
   "source": [
    "plt.hist(predictions)"
   ]
  },
  {
   "cell_type": "code",
   "execution_count": 34,
   "id": "9ec75144",
   "metadata": {},
   "outputs": [
    {
     "name": "stdout",
     "output_type": "stream",
     "text": [
      "Сколько раз мы угадали: 8785\n"
     ]
    }
   ],
   "source": [
    "print(f'Сколько раз мы угадали: {np.sum(predictions.argmax(axis=1) == test_labels)}')"
   ]
  },
  {
   "cell_type": "code",
   "execution_count": 38,
   "id": "836cf308",
   "metadata": {},
   "outputs": [
    {
     "data": {
      "text/plain": [
       "0.8785"
      ]
     },
     "execution_count": 38,
     "metadata": {},
     "output_type": "execute_result"
    }
   ],
   "source": [
    "# Расчет точности в ручную\n",
    "np.sum(predictions.argmax(axis=1) == test_labels) / test_labels.shape[0]"
   ]
  },
  {
   "cell_type": "code",
   "execution_count": 40,
   "id": "cd44990c",
   "metadata": {},
   "outputs": [
    {
     "name": "stdout",
     "output_type": "stream",
     "text": [
      "(28, 28)\n"
     ]
    }
   ],
   "source": [
    "img = test_images[3000].copy()\n",
    "print(img.shape)"
   ]
  },
  {
   "cell_type": "code",
   "execution_count": 43,
   "id": "3d9d82e1",
   "metadata": {},
   "outputs": [
    {
     "name": "stdout",
     "output_type": "stream",
     "text": [
      "1/1 [==============================] - 0s 15ms/step\n"
     ]
    }
   ],
   "source": [
    "img_prediction = probability_model.predict(img)"
   ]
  },
  {
   "cell_type": "code",
   "execution_count": 44,
   "id": "955b86ad",
   "metadata": {},
   "outputs": [
    {
     "data": {
      "text/plain": [
       "array([[0., 1., 0., 0., 0., 0., 0., 0., 0., 0.]], dtype=float32)"
      ]
     },
     "execution_count": 44,
     "metadata": {},
     "output_type": "execute_result"
    }
   ],
   "source": [
    "np.round(img_prediction, 2)"
   ]
  },
  {
   "cell_type": "code",
   "execution_count": null,
   "id": "e8117776",
   "metadata": {},
   "outputs": [],
   "source": []
  }
 ],
 "metadata": {
  "kernelspec": {
   "display_name": "Python 3 (ipykernel)",
   "language": "python",
   "name": "python3"
  },
  "language_info": {
   "codemirror_mode": {
    "name": "ipython",
    "version": 3
   },
   "file_extension": ".py",
   "mimetype": "text/x-python",
   "name": "python",
   "nbconvert_exporter": "python",
   "pygments_lexer": "ipython3",
   "version": "3.9.12"
  }
 },
 "nbformat": 4,
 "nbformat_minor": 5
}
