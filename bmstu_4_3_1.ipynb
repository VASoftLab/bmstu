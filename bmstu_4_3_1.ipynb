{
 "cells": [
  {
   "cell_type": "markdown",
   "id": "288e1b56",
   "metadata": {},
   "source": [
    "### Ленивые вычисления"
   ]
  },
  {
   "cell_type": "code",
   "execution_count": 1,
   "id": "d101b900",
   "metadata": {},
   "outputs": [],
   "source": [
    "def func1(x, y):\n",
    "    return x**2 + y**2"
   ]
  },
  {
   "cell_type": "code",
   "execution_count": 2,
   "id": "c93921d5",
   "metadata": {},
   "outputs": [],
   "source": [
    "func2 = lambda x, y: x**2 + y**2"
   ]
  },
  {
   "cell_type": "code",
   "execution_count": 3,
   "id": "1cdf1609",
   "metadata": {},
   "outputs": [
    {
     "name": "stdout",
     "output_type": "stream",
     "text": [
      "352 ns ± 23.3 ns per loop (mean ± std. dev. of 7 runs, 1,000,000 loops each)\n"
     ]
    }
   ],
   "source": [
    "%%timeit\n",
    "func1(1e12, 2e12)"
   ]
  },
  {
   "cell_type": "code",
   "execution_count": 4,
   "id": "79613e0c",
   "metadata": {},
   "outputs": [
    {
     "name": "stdout",
     "output_type": "stream",
     "text": [
      "320 ns ± 0.816 ns per loop (mean ± std. dev. of 7 runs, 1,000,000 loops each)\n"
     ]
    }
   ],
   "source": [
    "%%timeit\n",
    "func2(1e12, 2e12)"
   ]
  },
  {
   "cell_type": "code",
   "execution_count": 5,
   "id": "fdd0a9a7",
   "metadata": {},
   "outputs": [
    {
     "name": "stdout",
     "output_type": "stream",
     "text": [
      "[2, 4, 8, 16]\n"
     ]
    }
   ],
   "source": [
    "# Генерация списка - степени двойки\n",
    "l = [2**x for x in range(1,5)]\n",
    "print(l)"
   ]
  },
  {
   "cell_type": "code",
   "execution_count": 6,
   "id": "b7efdbc9",
   "metadata": {},
   "outputs": [
    {
     "name": "stdout",
     "output_type": "stream",
     "text": [
      "g=<generator object <genexpr> at 0x000001D10D647740>\n",
      "type(g)=<class 'generator'>\n"
     ]
    }
   ],
   "source": [
    "# Работа с генераторными списками\n",
    "g = (i for i in range(5)) # g - это генератор\n",
    "print(f'{g=}')\n",
    "print(f'{type(g)=}')"
   ]
  },
  {
   "cell_type": "code",
   "execution_count": 7,
   "id": "975ce628",
   "metadata": {},
   "outputs": [
    {
     "name": "stdout",
     "output_type": "stream",
     "text": [
      "hasattr(g, \"__iter__\") = True\n",
      "hasattr(g, \"__next__\") = True\n"
     ]
    }
   ],
   "source": [
    "print(f'{hasattr(g, \"__iter__\") = }')\n",
    "print(f'{hasattr(g, \"__next__\") = }')"
   ]
  },
  {
   "cell_type": "code",
   "execution_count": 8,
   "id": "defea304",
   "metadata": {},
   "outputs": [
    {
     "name": "stdout",
     "output_type": "stream",
     "text": [
      "g = <generator object count at 0x000001D10D647B30>\n",
      "type(g) = <class 'generator'>\n"
     ]
    }
   ],
   "source": [
    "def count(n):\n",
    "    for i in range(n):\n",
    "        yield i\n",
    "    \n",
    "g = count(5)\n",
    "print(f'{g = }')\n",
    "print(f'{type(g) = }')"
   ]
  },
  {
   "cell_type": "code",
   "execution_count": 9,
   "id": "4cc56d32",
   "metadata": {},
   "outputs": [
    {
     "name": "stdout",
     "output_type": "stream",
     "text": [
      "0\n",
      "1\n",
      "2\n",
      "3\n",
      "4\n"
     ]
    }
   ],
   "source": [
    "# Generators do not store all the values in memory,\n",
    "# they generate the values on the fly:\n",
    "for i in g:\n",
    "    print (i)"
   ]
  },
  {
   "cell_type": "code",
   "execution_count": 10,
   "id": "f007c24b",
   "metadata": {},
   "outputs": [
    {
     "name": "stdout",
     "output_type": "stream",
     "text": [
      "<map object at 0x000001D10D670B50>\n"
     ]
    }
   ],
   "source": [
    "# Функции высших порядков map, filter, apply\n",
    "import math\n",
    "li = [2**x for x in range(1, 5)]\n",
    "# Применить одно правило, ко всем элементам последовательности\n",
    "result = map(lambda x: math.log2(x), li)\n",
    "print(result)"
   ]
  },
  {
   "cell_type": "code",
   "execution_count": 11,
   "id": "a7d60a44",
   "metadata": {},
   "outputs": [
    {
     "name": "stdout",
     "output_type": "stream",
     "text": [
      "[1.0, 2.0, 3.0, 4.0]\n"
     ]
    }
   ],
   "source": [
    "print(list(result))"
   ]
  },
  {
   "cell_type": "code",
   "execution_count": 12,
   "id": "fc7e9b42",
   "metadata": {},
   "outputs": [],
   "source": [
    "# Ленивые встроенные функции\n",
    "# zip, range, open, map\n",
    "\n",
    "# yield приостанавливает вычисление функции, в следующий раз вычисление будет вызвано с места, где была остановка"
   ]
  },
  {
   "cell_type": "code",
   "execution_count": null,
   "id": "3f41d1bc",
   "metadata": {},
   "outputs": [],
   "source": []
  }
 ],
 "metadata": {
  "kernelspec": {
   "display_name": "Python 3 (ipykernel)",
   "language": "python",
   "name": "python3"
  },
  "language_info": {
   "codemirror_mode": {
    "name": "ipython",
    "version": 3
   },
   "file_extension": ".py",
   "mimetype": "text/x-python",
   "name": "python",
   "nbconvert_exporter": "python",
   "pygments_lexer": "ipython3",
   "version": "3.9.12"
  }
 },
 "nbformat": 4,
 "nbformat_minor": 5
}
