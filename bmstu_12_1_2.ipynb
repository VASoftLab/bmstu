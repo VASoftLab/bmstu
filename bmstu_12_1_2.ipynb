{
 "cells": [
  {
   "cell_type": "markdown",
   "id": "032846c1",
   "metadata": {},
   "source": [
    "### Построение архитектуры нейронной сети для задач множественной классификации"
   ]
  },
  {
   "cell_type": "code",
   "execution_count": 1,
   "id": "aa9786ff",
   "metadata": {},
   "outputs": [],
   "source": [
    "import pandas as pd\n",
    "import numpy as np\n",
    "import scipy\n",
    "\n",
    "from sklearn.model_selection import train_test_split\n",
    "from sklearn.preprocessing import LabelEncoder\n",
    "from sklearn.metrics import accuracy_score\n",
    "\n",
    "from tensorflow.keras import Sequential\n",
    "from tensorflow.keras.layers import Dense, Dropout\n",
    "from tensorflow.keras.datasets import mnist\n",
    "from tensorflow.keras import utils\n",
    "from tensorflow.keras.preprocessing import image\n",
    "# from tensorflow.python.keras.optimizers import Adam, RMSprop\n",
    "\n",
    "from PIL import Image\n",
    "\n",
    "import matplotlib.pyplot as plt\n",
    "%matplotlib inline\n",
    "\n",
    "from sklearn.model_selection import StratifiedKFold"
   ]
  },
  {
   "cell_type": "code",
   "execution_count": 2,
   "id": "a31fe4fa",
   "metadata": {},
   "outputs": [],
   "source": [
    "# Загрузка данных для обучения сети\n",
    "(X_train_org, y_train_org), (X_test_org, y_test_org) = mnist.load_data()"
   ]
  },
  {
   "cell_type": "code",
   "execution_count": 3,
   "id": "c0917aba",
   "metadata": {},
   "outputs": [
    {
     "data": {
      "text/plain": [
       "<matplotlib.image.AxesImage at 0x202dd0302e0>"
      ]
     },
     "execution_count": 3,
     "metadata": {},
     "output_type": "execute_result"
    },
    {
     "data": {
      "image/png": "[encoded data removed]",
      "text/plain": [
       "<Figure size 432x288 with 1 Axes>"
      ]
     },
     "metadata": {
      "needs_background": "light"
     },
     "output_type": "display_data"
    }
   ],
   "source": [
    "# Визуализация случайного изображения\n",
    "plt.imshow(Image.fromarray(X_test_org[500]).convert('RGBA'))"
   ]
  },
  {
   "cell_type": "code",
   "execution_count": 4,
   "id": "f9abd566",
   "metadata": {},
   "outputs": [],
   "source": [
    "# Корректировка размерности для подачи в сеть\n",
    "X_train = X_train_org.reshape(X_train_org.shape[0], 28*28)\n",
    "X_test = X_test_org.reshape(X_test_org.shape[0], 28*28)"
   ]
  },
  {
   "cell_type": "code",
   "execution_count": 5,
   "id": "8a7c2514",
   "metadata": {},
   "outputs": [],
   "source": [
    "# Нормализация данных\n",
    "X_train = X_train.astype('float32')\n",
    "X_test = X_test.astype('float32')\n",
    "# 255 - глубина изображения\n",
    "X_train = X_train / 255\n",
    "X_test = X_test / 255"
   ]
  },
  {
   "cell_type": "code",
   "execution_count": 6,
   "id": "c363e0eb",
   "metadata": {},
   "outputs": [
    {
     "data": {
      "text/plain": [
       "3"
      ]
     },
     "execution_count": 6,
     "metadata": {},
     "output_type": "execute_result"
    }
   ],
   "source": [
    "# Кодируем целевой выход\n",
    "y_train = utils.to_categorical(y_train_org, 10)\n",
    "y_test = utils.to_categorical(y_test_org, 10)\n",
    "# Совпдадает с тройкой на изображении\n",
    "np.argmax(y_test[500])"
   ]
  },
  {
   "cell_type": "code",
   "execution_count": 7,
   "id": "cd64b753",
   "metadata": {},
   "outputs": [
    {
     "name": "stdout",
     "output_type": "stream",
     "text": [
      "Epoch 1/30\n",
      "120/120 [==============================] - 1s 7ms/step - loss: 0.4836 - accuracy: 0.8560 - val_loss: 0.2135 - val_accuracy: 0.9366\n",
      "Epoch 2/30\n",
      "120/120 [==============================] - 1s 6ms/step - loss: 0.1833 - accuracy: 0.9454 - val_loss: 0.1450 - val_accuracy: 0.9557\n",
      "Epoch 3/30\n",
      "120/120 [==============================] - 1s 6ms/step - loss: 0.1294 - accuracy: 0.9607 - val_loss: 0.1188 - val_accuracy: 0.9655\n",
      "Epoch 4/30\n",
      "120/120 [==============================] - 1s 6ms/step - loss: 0.0966 - accuracy: 0.9706 - val_loss: 0.1091 - val_accuracy: 0.9672\n",
      "Epoch 5/30\n",
      "120/120 [==============================] - 1s 5ms/step - loss: 0.0739 - accuracy: 0.9777 - val_loss: 0.1021 - val_accuracy: 0.9694\n",
      "Epoch 6/30\n",
      "120/120 [==============================] - 1s 5ms/step - loss: 0.0638 - accuracy: 0.9807 - val_loss: 0.1002 - val_accuracy: 0.9706\n",
      "Epoch 7/30\n",
      "120/120 [==============================] - 1s 5ms/step - loss: 0.0506 - accuracy: 0.9845 - val_loss: 0.0974 - val_accuracy: 0.9705\n",
      "Epoch 8/30\n",
      "120/120 [==============================] - 1s 5ms/step - loss: 0.0410 - accuracy: 0.9867 - val_loss: 0.0947 - val_accuracy: 0.9728\n",
      "Epoch 9/30\n",
      "120/120 [==============================] - 1s 6ms/step - loss: 0.0344 - accuracy: 0.9887 - val_loss: 0.0950 - val_accuracy: 0.9728\n",
      "Epoch 10/30\n",
      "120/120 [==============================] - 1s 6ms/step - loss: 0.0293 - accuracy: 0.9912 - val_loss: 0.0984 - val_accuracy: 0.9729\n",
      "Epoch 11/30\n",
      "120/120 [==============================] - 1s 6ms/step - loss: 0.0262 - accuracy: 0.9920 - val_loss: 0.0995 - val_accuracy: 0.9741\n",
      "Epoch 12/30\n",
      "120/120 [==============================] - 1s 6ms/step - loss: 0.0220 - accuracy: 0.9930 - val_loss: 0.0954 - val_accuracy: 0.9749\n",
      "Epoch 13/30\n",
      "120/120 [==============================] - 1s 5ms/step - loss: 0.0179 - accuracy: 0.9947 - val_loss: 0.1021 - val_accuracy: 0.9739\n",
      "Epoch 14/30\n",
      "120/120 [==============================] - 1s 6ms/step - loss: 0.0190 - accuracy: 0.9940 - val_loss: 0.1053 - val_accuracy: 0.9740\n",
      "Epoch 15/30\n",
      "120/120 [==============================] - 1s 6ms/step - loss: 0.0180 - accuracy: 0.9942 - val_loss: 0.1064 - val_accuracy: 0.9741\n",
      "Epoch 16/30\n",
      "120/120 [==============================] - 1s 5ms/step - loss: 0.0156 - accuracy: 0.9951 - val_loss: 0.1023 - val_accuracy: 0.9755\n",
      "Epoch 17/30\n",
      "120/120 [==============================] - 1s 6ms/step - loss: 0.0137 - accuracy: 0.9956 - val_loss: 0.1047 - val_accuracy: 0.9753\n",
      "Epoch 18/30\n",
      "120/120 [==============================] - 1s 6ms/step - loss: 0.0161 - accuracy: 0.9945 - val_loss: 0.1093 - val_accuracy: 0.9747\n",
      "Epoch 19/30\n",
      "120/120 [==============================] - 1s 6ms/step - loss: 0.0126 - accuracy: 0.9959 - val_loss: 0.1060 - val_accuracy: 0.9760\n",
      "Epoch 20/30\n",
      "120/120 [==============================] - 1s 6ms/step - loss: 0.0123 - accuracy: 0.9960 - val_loss: 0.1069 - val_accuracy: 0.9756\n",
      "Epoch 21/30\n",
      "120/120 [==============================] - 1s 6ms/step - loss: 0.0132 - accuracy: 0.9956 - val_loss: 0.1219 - val_accuracy: 0.9730\n",
      "Epoch 22/30\n",
      "120/120 [==============================] - 1s 6ms/step - loss: 0.0116 - accuracy: 0.9964 - val_loss: 0.1130 - val_accuracy: 0.9753\n",
      "Epoch 23/30\n",
      "120/120 [==============================] - 1s 6ms/step - loss: 0.0119 - accuracy: 0.9958 - val_loss: 0.1174 - val_accuracy: 0.9754\n",
      "Epoch 24/30\n",
      "120/120 [==============================] - 1s 6ms/step - loss: 0.0130 - accuracy: 0.9960 - val_loss: 0.1139 - val_accuracy: 0.9750\n",
      "Epoch 25/30\n",
      "120/120 [==============================] - 1s 5ms/step - loss: 0.0116 - accuracy: 0.9964 - val_loss: 0.1148 - val_accuracy: 0.9745\n",
      "Epoch 26/30\n",
      "120/120 [==============================] - 1s 5ms/step - loss: 0.0108 - accuracy: 0.9965 - val_loss: 0.1318 - val_accuracy: 0.9736\n",
      "Epoch 27/30\n",
      "120/120 [==============================] - 1s 6ms/step - loss: 0.0115 - accuracy: 0.9957 - val_loss: 0.1154 - val_accuracy: 0.9760\n",
      "Epoch 28/30\n",
      "120/120 [==============================] - 1s 6ms/step - loss: 0.0088 - accuracy: 0.9969 - val_loss: 0.1215 - val_accuracy: 0.9753\n",
      "Epoch 29/30\n",
      "120/120 [==============================] - 1s 6ms/step - loss: 0.0087 - accuracy: 0.9973 - val_loss: 0.1307 - val_accuracy: 0.9744\n",
      "Epoch 30/30\n",
      "120/120 [==============================] - 1s 5ms/step - loss: 0.0086 - accuracy: 0.9972 - val_loss: 0.1166 - val_accuracy: 0.9760\n"
     ]
    },
    {
     "data": {
      "image/png": "[encoded data removed]",
      "text/plain": [
       "<Figure size 432x288 with 1 Axes>"
      ]
     },
     "metadata": {
      "needs_background": "light"
     },
     "output_type": "display_data"
    }
   ],
   "source": [
    "# Создаем нейронную сеть\n",
    "model = Sequential()\n",
    "# Входной слой\n",
    "model.add(Dense(400, input_dim = 28*28, activation = 'relu'))\n",
    "# Добавляем слой Droput он поможет избежать переобучения?\n",
    "# также нейронной сети будет проще обучаться\n",
    "model.add(Dropout(0.2)) # Параметр - %\n",
    "# Еще один скрытый слой\n",
    "model.add(Dense(200, activation = 'relu'))\n",
    "model.add(Dropout(0.2))\n",
    "# При множественной классификации активационная функция должна быть softmax\n",
    "model.add(Dense(10, activation = 'softmax'))\n",
    "\n",
    "# Собираем модель:\n",
    "# Задаем метрику потерь loss\n",
    "model.compile(loss = 'categorical_crossentropy', optimizer = 'adam', metrics = ['accuracy'])\n",
    "n = 30000 # размер выборки, которая будет подана для обучения\n",
    "history = model.fit(X_train[:n],\n",
    "                    y_train[:n],\n",
    "                    batch_size = 250,\n",
    "                    epochs = 30,\n",
    "                    validation_data = (X_train[n:], y_train[n:]),\n",
    "                    verbose = 1)\n",
    "\n",
    "plt.plot(history.history['accuracy'], label = 'Точность train (обучающая)')\n",
    "plt.plot(history.history['val_accuracy'], label = 'Точность test (проверочная)')\n",
    "plt.xlabel('epoch')\n",
    "plt.ylabel('accuracy')\n",
    "plt.legend()\n",
    "plt.show()"
   ]
  },
  {
   "cell_type": "markdown",
   "id": "ad4aa7d7",
   "metadata": {},
   "source": [
    "### Использование сверточной нейронной сети"
   ]
  },
  {
   "cell_type": "code",
   "execution_count": 8,
   "id": "2eb1ce74",
   "metadata": {},
   "outputs": [],
   "source": [
    "# Conv2D - для сверточной нейронной сети\n",
    "from tensorflow.keras.layers import Conv2D, MaxPooling2D, Flatten, BatchNormalization, GlobalAveragePooling2D\n",
    "(X_train_org, y_train_org), (X_test_org, y_test_org) = mnist.load_data()"
   ]
  },
  {
   "cell_type": "code",
   "execution_count": 11,
   "id": "31c9e0dd",
   "metadata": {},
   "outputs": [],
   "source": [
    "X_train = X_train.reshape(X_train_org.shape[0], 28, 28, 1)\n",
    "X_test = X_test.reshape(X_test_org.shape[0], 28, 28, 1)\n",
    "y_train = utils.to_categorical(y_train_org, 10)\n",
    "y_test = utils.to_categorical(y_test_org, 10)"
   ]
  },
  {
   "cell_type": "code",
   "execution_count": 15,
   "id": "29add6fd",
   "metadata": {},
   "outputs": [
    {
     "name": "stdout",
     "output_type": "stream",
     "text": [
      "Epoch 1/30\n",
      "120/120 [==============================] - 5s 40ms/step - loss: 0.5003 - accuracy: 0.8569 - val_loss: 0.2096 - val_accuracy: 0.9392\n",
      "Epoch 2/30\n",
      "120/120 [==============================] - 5s 38ms/step - loss: 0.1821 - accuracy: 0.9462 - val_loss: 0.1301 - val_accuracy: 0.9614\n",
      "Epoch 3/30\n",
      "120/120 [==============================] - 5s 39ms/step - loss: 0.1175 - accuracy: 0.9656 - val_loss: 0.0986 - val_accuracy: 0.9707\n",
      "Epoch 4/30\n",
      "120/120 [==============================] - 5s 41ms/step - loss: 0.0843 - accuracy: 0.9763 - val_loss: 0.0866 - val_accuracy: 0.9745\n",
      "Epoch 5/30\n",
      "120/120 [==============================] - 5s 40ms/step - loss: 0.0709 - accuracy: 0.9795 - val_loss: 0.0750 - val_accuracy: 0.9777\n",
      "Epoch 6/30\n",
      "120/120 [==============================] - 5s 39ms/step - loss: 0.0560 - accuracy: 0.9843 - val_loss: 0.0727 - val_accuracy: 0.9778\n",
      "Epoch 7/30\n",
      "120/120 [==============================] - 5s 39ms/step - loss: 0.0494 - accuracy: 0.9857 - val_loss: 0.0666 - val_accuracy: 0.9803\n",
      "Epoch 8/30\n",
      "120/120 [==============================] - 5s 38ms/step - loss: 0.0401 - accuracy: 0.9887 - val_loss: 0.0646 - val_accuracy: 0.9805\n",
      "Epoch 9/30\n",
      "120/120 [==============================] - 5s 40ms/step - loss: 0.0363 - accuracy: 0.9894 - val_loss: 0.0638 - val_accuracy: 0.9806\n",
      "Epoch 10/30\n",
      "120/120 [==============================] - 5s 45ms/step - loss: 0.0302 - accuracy: 0.9915 - val_loss: 0.0612 - val_accuracy: 0.9814\n",
      "Epoch 11/30\n",
      "120/120 [==============================] - 5s 42ms/step - loss: 0.0276 - accuracy: 0.9922 - val_loss: 0.0603 - val_accuracy: 0.9819\n",
      "Epoch 12/30\n",
      "120/120 [==============================] - 5s 45ms/step - loss: 0.0249 - accuracy: 0.9931 - val_loss: 0.0626 - val_accuracy: 0.9822\n",
      "Epoch 13/30\n",
      "120/120 [==============================] - 5s 44ms/step - loss: 0.0215 - accuracy: 0.9934 - val_loss: 0.0646 - val_accuracy: 0.9814\n",
      "Epoch 14/30\n",
      "120/120 [==============================] - 5s 38ms/step - loss: 0.0180 - accuracy: 0.9949 - val_loss: 0.0597 - val_accuracy: 0.9824\n",
      "Epoch 15/30\n",
      "120/120 [==============================] - 5s 43ms/step - loss: 0.0167 - accuracy: 0.9951 - val_loss: 0.0608 - val_accuracy: 0.9823\n",
      "Epoch 16/30\n",
      "120/120 [==============================] - 5s 43ms/step - loss: 0.0153 - accuracy: 0.9954 - val_loss: 0.0619 - val_accuracy: 0.9826\n",
      "Epoch 17/30\n",
      "120/120 [==============================] - 6s 47ms/step - loss: 0.0137 - accuracy: 0.9965 - val_loss: 0.0615 - val_accuracy: 0.9830\n",
      "Epoch 18/30\n",
      "120/120 [==============================] - 5s 45ms/step - loss: 0.0122 - accuracy: 0.9968 - val_loss: 0.0640 - val_accuracy: 0.9823\n",
      "Epoch 19/30\n",
      "120/120 [==============================] - 5s 43ms/step - loss: 0.0111 - accuracy: 0.9966 - val_loss: 0.0663 - val_accuracy: 0.9820\n",
      "Epoch 20/30\n",
      "120/120 [==============================] - 5s 39ms/step - loss: 0.0106 - accuracy: 0.9969 - val_loss: 0.0634 - val_accuracy: 0.9831\n",
      "Epoch 21/30\n",
      "120/120 [==============================] - 5s 40ms/step - loss: 0.0089 - accuracy: 0.9977 - val_loss: 0.0645 - val_accuracy: 0.9834\n",
      "Epoch 22/30\n",
      "120/120 [==============================] - 5s 38ms/step - loss: 0.0091 - accuracy: 0.9973 - val_loss: 0.0699 - val_accuracy: 0.9825\n",
      "Epoch 23/30\n",
      "120/120 [==============================] - 4s 37ms/step - loss: 0.0084 - accuracy: 0.9977 - val_loss: 0.0641 - val_accuracy: 0.9831\n",
      "Epoch 24/30\n",
      "120/120 [==============================] - 5s 38ms/step - loss: 0.0076 - accuracy: 0.9977 - val_loss: 0.0651 - val_accuracy: 0.9839\n",
      "Epoch 25/30\n",
      "120/120 [==============================] - 5s 38ms/step - loss: 0.0083 - accuracy: 0.9975 - val_loss: 0.0713 - val_accuracy: 0.9832\n",
      "Epoch 26/30\n",
      "120/120 [==============================] - 4s 37ms/step - loss: 0.0069 - accuracy: 0.9982 - val_loss: 0.0672 - val_accuracy: 0.9838\n",
      "Epoch 27/30\n",
      "120/120 [==============================] - 5s 38ms/step - loss: 0.0064 - accuracy: 0.9982 - val_loss: 0.0663 - val_accuracy: 0.9838\n",
      "Epoch 28/30\n",
      "120/120 [==============================] - 5s 41ms/step - loss: 0.0055 - accuracy: 0.9986 - val_loss: 0.0672 - val_accuracy: 0.9840\n",
      "Epoch 29/30\n",
      "120/120 [==============================] - 5s 39ms/step - loss: 0.0066 - accuracy: 0.9981 - val_loss: 0.0683 - val_accuracy: 0.9839\n",
      "Epoch 30/30\n",
      "120/120 [==============================] - 5s 39ms/step - loss: 0.0061 - accuracy: 0.9978 - val_loss: 0.0660 - val_accuracy: 0.9838\n"
     ]
    },
    {
     "data": {
      "image/png": "[encoded data removed]",
      "text/plain": [
       "<Figure size 432x288 with 1 Axes>"
      ]
     },
     "metadata": {
      "needs_background": "light"
     },
     "output_type": "display_data"
    }
   ],
   "source": [
    "# Создаем нейронную сеть\n",
    "model = Sequential()\n",
    "# Входной слой\n",
    "model.add(Conv2D(32, (3, 3), padding = 'same', activation = 'relu',\n",
    "                 input_shape = (28, 28, 1)))\n",
    "model.add(MaxPooling2D(pool_size = (2, 2)))\n",
    "model.add(Flatten())\n",
    "# Полносвязные слои\n",
    "model.add(Dense(100, activation = 'relu'))\n",
    "model.add(Dropout(0.2))\n",
    "model.add(Dense(10, activation = 'softmax'))\n",
    "\n",
    "model.compile(loss = 'categorical_crossentropy', optimizer = 'adam', metrics = ['accuracy'])\n",
    "n = 30000 # размер выборки, которая будет подана для обучения\n",
    "history = model.fit(X_train[:n],\n",
    "                    y_train[:n],\n",
    "                    batch_size = 250,\n",
    "                    epochs = 30,\n",
    "                    validation_data = (X_train[n:], y_train[n:]),\n",
    "                    verbose = 1)\n",
    "\n",
    "plt.plot(history.history['accuracy'], label = 'Точность train (обучающая)')\n",
    "plt.plot(history.history['val_accuracy'], label = 'Точность test (проверочная)')\n",
    "plt.xlabel('epoch')\n",
    "plt.ylabel('accuracy')\n",
    "plt.legend()\n",
    "plt.show()"
   ]
  },
  {
   "cell_type": "code",
   "execution_count": null,
   "id": "322ef5b0",
   "metadata": {},
   "outputs": [],
   "source": []
  }
 ],
 "metadata": {
  "kernelspec": {
   "display_name": "Python 3 (ipykernel)",
   "language": "python",
   "name": "python3"
  },
  "language_info": {
   "codemirror_mode": {
    "name": "ipython",
    "version": 3
   },
   "file_extension": ".py",
   "mimetype": "text/x-python",
   "name": "python",
   "nbconvert_exporter": "python",
   "pygments_lexer": "ipython3",
   "version": "3.9.12"
  }
 },
 "nbformat": 4,
 "nbformat_minor": 5
}
